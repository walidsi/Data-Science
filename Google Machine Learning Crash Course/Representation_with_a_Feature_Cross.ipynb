{
  "nbformat": 4,
  "nbformat_minor": 0,
  "metadata": {
    "colab": {
      "name": "Copy of Representation with a Feature Cross.ipynb",
      "provenance": [],
      "collapsed_sections": []
    },
    "kernelspec": {
      "name": "python3",
      "display_name": "Python 3"
    }
  },
  "cells": [
    {
      "cell_type": "markdown",
      "metadata": {
        "id": "x45u8yb-6B7v",
        "colab_type": "text"
      },
      "source": [
        "<a href=\"https://colab.research.google.com/github/walidsi/Data-Science/blob/master/Google%20Machine%20Learning%20Crash%20Course/Representation_with_a_Feature_Cross.ipynb\" target=\"_parent\"><img src=\"https://colab.research.google.com/assets/colab-badge.svg\" alt=\"Open In Colab\"/></a>"
      ]
    },
    {
      "cell_type": "code",
      "metadata": {
        "id": "wDlWLbfkJtvu",
        "colab_type": "code",
        "cellView": "form",
        "colab": {}
      },
      "source": [
        "#@title Copyright 2020 Google LLC. Double-click for license information.\n",
        "# Licensed under the Apache License, Version 2.0 (the \"License\");\n",
        "# you may not use this file except in compliance with the License.\n",
        "# You may obtain a copy of the License at\n",
        "#\n",
        "# https://www.apache.org/licenses/LICENSE-2.0\n",
        "#\n",
        "# Unless required by applicable law or agreed to in writing, software\n",
        "# distributed under the License is distributed on an \"AS IS\" BASIS,\n",
        "# WITHOUT WARRANTIES OR CONDITIONS OF ANY KIND, either express or implied.\n",
        "# See the License for the specific language governing permissions and\n",
        "# limitations under the License."
      ],
      "execution_count": 18,
      "outputs": []
    },
    {
      "cell_type": "markdown",
      "metadata": {
        "id": "TL5y5fY9Jy_x",
        "colab_type": "text"
      },
      "source": [
        "# Representation with a Feature Cross\n",
        "\n",
        "In this exercise, you'll experiment with different ways to represent features."
      ]
    },
    {
      "cell_type": "markdown",
      "metadata": {
        "id": "RXWoPIezkzgI",
        "colab_type": "text"
      },
      "source": [
        "## Learning Objectives:\n",
        "\n",
        "After doing this Colab, you'll know how to:\n",
        "\n",
        "  * Use [`tf.feature_column`](https://www.tensorflow.org/api_docs/python/tf/feature_column) methods to represent features in different ways.\n",
        "  * Represent features as [bins](https://developers.google.com/machine-learning/glossary/#bucketing). \n",
        "  * Cross bins to create a [feature cross](https://developers.google.com/machine-learning/glossary/#feature_cross). "
      ]
    },
    {
      "cell_type": "markdown",
      "metadata": {
        "id": "lH_g3Hsfkzzb",
        "colab_type": "text"
      },
      "source": [
        "## The Dataset\n",
        "  \n",
        "Like several of the previous Colabs, this exercise uses the [California Housing Dataset](https://developers.google.com/machine-learning/crash-course/california-housing-data-description)."
      ]
    },
    {
      "cell_type": "markdown",
      "metadata": {
        "id": "xchnxAsaKKqO",
        "colab_type": "text"
      },
      "source": [
        "## Use the right version of TensorFlow\n",
        "\n"
      ]
    },
    {
      "cell_type": "code",
      "metadata": {
        "id": "qBpGi_GD14-p",
        "colab_type": "code",
        "colab": {}
      },
      "source": [
        "%tensorflow_version 2.x"
      ],
      "execution_count": 19,
      "outputs": []
    },
    {
      "cell_type": "markdown",
      "metadata": {
        "id": "5iuw6-JOGf7I",
        "colab_type": "text"
      },
      "source": [
        "## Call the import statements\n",
        "\n",
        "The following code imports the necessary code to run the code in the rest of this Colaboratory."
      ]
    },
    {
      "cell_type": "code",
      "metadata": {
        "id": "9n9_cTveKmse",
        "colab_type": "code",
        "cellView": "both",
        "colab": {
          "base_uri": "https://localhost:8080/",
          "height": 34
        },
        "outputId": "6b5a9be5-8037-492b-ea4d-aa21303c0950"
      },
      "source": [
        "#@title Load the imports\n",
        "\n",
        "# from __future__ import absolute_import, division, print_function, unicode_literals\n",
        "\n",
        "import numpy as np\n",
        "import pandas as pd\n",
        "import tensorflow as tf\n",
        "from tensorflow import feature_column\n",
        "from tensorflow.keras import layers\n",
        "\n",
        "from matplotlib import pyplot as plt\n",
        "\n",
        "# The following lines adjust the granularity of reporting.\n",
        "pd.options.display.max_rows = 10\n",
        "pd.options.display.float_format = \"{:.2f}\".format\n",
        "\n",
        "tf.keras.backend.set_floatx('float32')\n",
        "\n",
        "print(\"Imported the modules.\")"
      ],
      "execution_count": 20,
      "outputs": [
        {
          "output_type": "stream",
          "text": [
            "Imported the modules.\n"
          ],
          "name": "stdout"
        }
      ]
    },
    {
      "cell_type": "markdown",
      "metadata": {
        "id": "X_TaJhU4KcuY",
        "colab_type": "text"
      },
      "source": [
        "## Load, scale, and shuffle the examples\n",
        "\n",
        "The following code cell loads the separate .csv files and creates the following two pandas DataFrames:\n",
        "\n",
        "* `train_df`, which contains the training set\n",
        "* `test_df`, which contains the test set\n",
        "\n",
        "The code cell then scales the `median_house_value` to a more human-friendly range and then suffles the examples."
      ]
    },
    {
      "cell_type": "code",
      "metadata": {
        "id": "JZlvdpyYKx7V",
        "colab_type": "code",
        "colab": {
          "base_uri": "https://localhost:8080/",
          "height": 195
        },
        "outputId": "4c1ed362-201b-4715-9942-32dbb279af35"
      },
      "source": [
        "# Load the dataset\n",
        "train_df = pd.read_csv(\"https://download.mlcc.google.com/mledu-datasets/california_housing_train.csv\")\n",
        "test_df = pd.read_csv(\"https://download.mlcc.google.com/mledu-datasets/california_housing_test.csv\")\n",
        "\n",
        "# Scale the labels\n",
        "scale_factor = 1000.0\n",
        "# Scale the training set's label.\n",
        "train_df[\"median_house_value\"] /= scale_factor \n",
        "\n",
        "# Scale the test set's label\n",
        "test_df[\"median_house_value\"] /= scale_factor\n",
        "\n",
        "# Shuffle the examples\n",
        "train_df = train_df.reindex(np.random.permutation(train_df.index))\n",
        "\n",
        "train_df.head()"
      ],
      "execution_count": 21,
      "outputs": [
        {
          "output_type": "execute_result",
          "data": {
            "text/html": [
              "<div>\n",
              "<style scoped>\n",
              "    .dataframe tbody tr th:only-of-type {\n",
              "        vertical-align: middle;\n",
              "    }\n",
              "\n",
              "    .dataframe tbody tr th {\n",
              "        vertical-align: top;\n",
              "    }\n",
              "\n",
              "    .dataframe thead th {\n",
              "        text-align: right;\n",
              "    }\n",
              "</style>\n",
              "<table border=\"1\" class=\"dataframe\">\n",
              "  <thead>\n",
              "    <tr style=\"text-align: right;\">\n",
              "      <th></th>\n",
              "      <th>longitude</th>\n",
              "      <th>latitude</th>\n",
              "      <th>housing_median_age</th>\n",
              "      <th>total_rooms</th>\n",
              "      <th>total_bedrooms</th>\n",
              "      <th>population</th>\n",
              "      <th>households</th>\n",
              "      <th>median_income</th>\n",
              "      <th>median_house_value</th>\n",
              "    </tr>\n",
              "  </thead>\n",
              "  <tbody>\n",
              "    <tr>\n",
              "      <th>752</th>\n",
              "      <td>-117.06</td>\n",
              "      <td>33.02</td>\n",
              "      <td>24.00</td>\n",
              "      <td>830.00</td>\n",
              "      <td>190.00</td>\n",
              "      <td>279.00</td>\n",
              "      <td>196.00</td>\n",
              "      <td>1.92</td>\n",
              "      <td>121.10</td>\n",
              "    </tr>\n",
              "    <tr>\n",
              "      <th>8514</th>\n",
              "      <td>-118.49</td>\n",
              "      <td>34.04</td>\n",
              "      <td>48.00</td>\n",
              "      <td>2381.00</td>\n",
              "      <td>345.00</td>\n",
              "      <td>859.00</td>\n",
              "      <td>306.00</td>\n",
              "      <td>8.03</td>\n",
              "      <td>500.00</td>\n",
              "    </tr>\n",
              "    <tr>\n",
              "      <th>16054</th>\n",
              "      <td>-122.45</td>\n",
              "      <td>37.79</td>\n",
              "      <td>46.00</td>\n",
              "      <td>2009.00</td>\n",
              "      <td>464.00</td>\n",
              "      <td>761.00</td>\n",
              "      <td>453.00</td>\n",
              "      <td>3.72</td>\n",
              "      <td>500.00</td>\n",
              "    </tr>\n",
              "    <tr>\n",
              "      <th>1478</th>\n",
              "      <td>-117.20</td>\n",
              "      <td>34.14</td>\n",
              "      <td>18.00</td>\n",
              "      <td>1920.00</td>\n",
              "      <td>333.00</td>\n",
              "      <td>890.00</td>\n",
              "      <td>323.00</td>\n",
              "      <td>5.16</td>\n",
              "      <td>144.80</td>\n",
              "    </tr>\n",
              "    <tr>\n",
              "      <th>640</th>\n",
              "      <td>-117.04</td>\n",
              "      <td>34.02</td>\n",
              "      <td>24.00</td>\n",
              "      <td>4663.00</td>\n",
              "      <td>1213.00</td>\n",
              "      <td>1851.00</td>\n",
              "      <td>1116.00</td>\n",
              "      <td>1.44</td>\n",
              "      <td>103.50</td>\n",
              "    </tr>\n",
              "  </tbody>\n",
              "</table>\n",
              "</div>"
            ],
            "text/plain": [
              "       longitude  latitude  ...  median_income  median_house_value\n",
              "752      -117.06     33.02  ...           1.92              121.10\n",
              "8514     -118.49     34.04  ...           8.03              500.00\n",
              "16054    -122.45     37.79  ...           3.72              500.00\n",
              "1478     -117.20     34.14  ...           5.16              144.80\n",
              "640      -117.04     34.02  ...           1.44              103.50\n",
              "\n",
              "[5 rows x 9 columns]"
            ]
          },
          "metadata": {
            "tags": []
          },
          "execution_count": 21
        }
      ]
    },
    {
      "cell_type": "markdown",
      "metadata": {
        "id": "8kir8UTUXSV8",
        "colab_type": "text"
      },
      "source": [
        "## Represent latitude and longitude as floating-point values\n",
        "\n",
        "Previous Colabs trained on only a single feature or a single synthetic feature. By contrast, this exercise trains on two features. Furthermore, this Colab introduces **feature columns**, which provide a sophisticated way to represent features.  \n",
        "\n",
        "You create feature columns as possible:\n",
        "\n",
        "  * Call a [`tf.feature_column`](https://www.tensorflow.org/api_docs/python/tf/feature_column) method to represent a single feature, single feature cross, or single synthetic feature in the desired way.  For example, to represent a certain feature as floating-point values, call [`tf.feature_column.numeric_column`](https://www.tensorflow.org/api_docs/python/tf/feature_column/numeric_column). To represent a certain feature as a series of buckets or bins, call [`tf.feature_column.bucketized_column`](https://www.tensorflow.org/api_docs/python/tf/feature_column/bucketized_column).\n",
        "  * Assemble the created representations into a Python list. \n",
        "\n",
        "A neighborhood's location is typically the most important feature in determining a house's value. The California Housing dataset provides two features, `latitude` and `longitude` that identify each neighborhood's location. \n",
        "\n",
        "The following code cell calls [`tf.feature_column.numeric_column`](https://www.tensorflow.org/api_docs/python/tf/feature_column/numeric_column) twice, first to represent `latitude` as floating-point value and a second time to represent `longitude` as floating-point values. \n",
        "\n",
        "This code cell specifies the features that you'll ultimately train the model on and how each of those features will be represented. The transformations (collected in `fp_feature_layer`) don't actually get applied until you pass a DataFrame to it, which will happen when we train the model. \n"
      ]
    },
    {
      "cell_type": "code",
      "metadata": {
        "id": "3tmmZIDw4JEC",
        "colab_type": "code",
        "colab": {}
      },
      "source": [
        "# Create an empty list that will eventually hold all feature columns.\n",
        "feature_columns = []\n",
        "\n",
        "# Create a numerical feature column to represent latitude.\n",
        "latitude = tf.feature_column.numeric_column(\"latitude\")\n",
        "feature_columns.append(latitude)\n",
        "\n",
        "# Create a numerical feature column to represent longitude.\n",
        "longitude = tf.feature_column.numeric_column(\"longitude\")\n",
        "feature_columns.append(longitude)\n",
        "\n",
        "# Convert the list of feature columns into a layer that will ultimately become\n",
        "# part of the model. Understanding layers is not important right now.\n",
        "fp_feature_layer = layers.DenseFeatures(feature_columns)"
      ],
      "execution_count": 22,
      "outputs": []
    },
    {
      "cell_type": "markdown",
      "metadata": {
        "id": "Q2x8sHKnAy3Q",
        "colab_type": "text"
      },
      "source": [
        "When used, the layer processes the raw inputs, according to the transformations described by the feature columns, and packs the result into a numeric array.  (The model will train on this numeric array.) "
      ]
    },
    {
      "cell_type": "markdown",
      "metadata": {
        "id": "3014ezH3C7jT",
        "colab_type": "text"
      },
      "source": [
        "## Define functions that create and train a model, and a plotting function\n",
        "\n",
        "The following code defines three functions:\n",
        "\n",
        "  * `create_model`, which tells TensorFlow to build a linear regression model and to use the `feature_layer_as_fp` as the representation of the model's features.\n",
        "  * `train_model`, which will ultimately train the model from training set examples.\n",
        "  * `plot_the_loss_curve`, which generates a loss curve."
      ]
    },
    {
      "cell_type": "code",
      "metadata": {
        "id": "pedD5GhlDC-y",
        "colab_type": "code",
        "cellView": "both",
        "colab": {
          "base_uri": "https://localhost:8080/",
          "height": 34
        },
        "outputId": "91e28979-fa4b-4b88-aa95-2bb82d3cb94b"
      },
      "source": [
        "#@title Define functions to create and train a model, and a plotting function\n",
        "def create_model(my_learning_rate, feature_layer):\n",
        "  \"\"\"Create and compile a simple linear regression model.\"\"\"\n",
        "  # Most simple tf.keras models are sequential.\n",
        "  model = tf.keras.models.Sequential()\n",
        "\n",
        "  # Add the layer containing the feature columns to the model.\n",
        "  model.add(feature_layer)\n",
        "\n",
        "  # Add one linear layer to the model to yield a simple linear regressor.\n",
        "  model.add(tf.keras.layers.Dense(units=1, input_shape=(1,)))\n",
        "\n",
        "  # Construct the layers into a model that TensorFlow can execute.\n",
        "  model.compile(optimizer=tf.keras.optimizers.RMSprop(lr=my_learning_rate),\n",
        "                loss=\"mean_squared_error\",\n",
        "                metrics=[tf.keras.metrics.RootMeanSquaredError()])\n",
        "\n",
        "  return model           \n",
        "\n",
        "\n",
        "def train_model(model, dataset, epochs, batch_size, label_name):\n",
        "  \"\"\"Feed a dataset into the model in order to train it.\"\"\"\n",
        "\n",
        "  features = {name:np.array(value) for name, value in dataset.items()}\n",
        "  label = np.array(features.pop(label_name))\n",
        "  history = model.fit(x=features, y=label, batch_size=batch_size,\n",
        "                      epochs=epochs, shuffle=True)\n",
        "\n",
        "  # The list of epochs is stored separately from the rest of history.\n",
        "  epochs = history.epoch\n",
        "\n",
        "  # Isolate the mean absolute error for each epoch.\n",
        "  hist = pd.DataFrame(history.history)\n",
        "  rmse = hist[\"root_mean_squared_error\"]\n",
        "\n",
        "  print(model.trainable_variables) \n",
        "\n",
        "  return epochs, rmse   \n",
        "\n",
        "\n",
        "def plot_the_loss_curve(epochs, rmse):\n",
        "  \"\"\"Plot a curve of loss vs. epoch.\"\"\"\n",
        "\n",
        "  plt.figure()\n",
        "  plt.xlabel(\"Epoch\")\n",
        "  plt.ylabel(\"Root Mean Squared Error\")\n",
        "\n",
        "  plt.plot(epochs, rmse, label=\"Loss\")\n",
        "  plt.legend()\n",
        "  plt.ylim([rmse.min()*0.94, rmse.max()* 1.05])\n",
        "  plt.show()  \n",
        "\n",
        "print(\"Defined the create_model, train_model, and plot_the_loss_curve functions.\")"
      ],
      "execution_count": 23,
      "outputs": [
        {
          "output_type": "stream",
          "text": [
            "Defined the create_model, train_model, and plot_the_loss_curve functions.\n"
          ],
          "name": "stdout"
        }
      ]
    },
    {
      "cell_type": "markdown",
      "metadata": {
        "id": "D-IXYVfvM4gD",
        "colab_type": "text"
      },
      "source": [
        "## Train the model with floating-point representations\n",
        "\n",
        "The following code cell calls the functions you just created to train, plot, and evaluate a model."
      ]
    },
    {
      "cell_type": "code",
      "metadata": {
        "id": "nj3v5EKQFY8s",
        "colab_type": "code",
        "cellView": "both",
        "colab": {
          "base_uri": "https://localhost:8080/",
          "height": 1000
        },
        "outputId": "78fc74df-4f6d-4442-abc5-34fb3246b53d"
      },
      "source": [
        "# The following variables are the hyperparameters.\n",
        "learning_rate = 0.05\n",
        "epochs = 30\n",
        "batch_size = 100\n",
        "label_name = 'median_house_value'\n",
        "\n",
        "# Create and compile the model's topography.\n",
        "my_model = create_model(learning_rate, fp_feature_layer)\n",
        "\n",
        "# Train the model on the training set.\n",
        "epochs, rmse = train_model(my_model, train_df, epochs, batch_size, label_name)\n",
        "\n",
        "plot_the_loss_curve(epochs, rmse)\n",
        "\n",
        "print(\"\\n: Evaluate the new model against the test set:\")\n",
        "test_features = {name:np.array(value) for name, value in test_df.items()}\n",
        "test_label = np.array(test_features.pop(label_name))\n",
        "my_model.evaluate(x=test_features, y=test_label, batch_size=batch_size)"
      ],
      "execution_count": 24,
      "outputs": [
        {
          "output_type": "stream",
          "text": [
            "Epoch 1/30\n",
            "WARNING:tensorflow:Layers in a Sequential model should only have a single input tensor, but we receive a <class 'dict'> input: {'longitude': <tf.Tensor 'ExpandDims_3:0' shape=(100, 1) dtype=float32>, 'latitude': <tf.Tensor 'ExpandDims_2:0' shape=(100, 1) dtype=float32>, 'housing_median_age': <tf.Tensor 'ExpandDims_1:0' shape=(100, 1) dtype=float32>, 'total_rooms': <tf.Tensor 'ExpandDims_7:0' shape=(100, 1) dtype=float32>, 'total_bedrooms': <tf.Tensor 'ExpandDims_6:0' shape=(100, 1) dtype=float32>, 'population': <tf.Tensor 'ExpandDims_5:0' shape=(100, 1) dtype=float32>, 'households': <tf.Tensor 'ExpandDims:0' shape=(100, 1) dtype=float32>, 'median_income': <tf.Tensor 'ExpandDims_4:0' shape=(100, 1) dtype=float32>}\n",
            "Consider rewriting this model with the Functional API.\n",
            "WARNING:tensorflow:Layers in a Sequential model should only have a single input tensor, but we receive a <class 'dict'> input: {'longitude': <tf.Tensor 'ExpandDims_3:0' shape=(100, 1) dtype=float32>, 'latitude': <tf.Tensor 'ExpandDims_2:0' shape=(100, 1) dtype=float32>, 'housing_median_age': <tf.Tensor 'ExpandDims_1:0' shape=(100, 1) dtype=float32>, 'total_rooms': <tf.Tensor 'ExpandDims_7:0' shape=(100, 1) dtype=float32>, 'total_bedrooms': <tf.Tensor 'ExpandDims_6:0' shape=(100, 1) dtype=float32>, 'population': <tf.Tensor 'ExpandDims_5:0' shape=(100, 1) dtype=float32>, 'households': <tf.Tensor 'ExpandDims:0' shape=(100, 1) dtype=float32>, 'median_income': <tf.Tensor 'ExpandDims_4:0' shape=(100, 1) dtype=float32>}\n",
            "Consider rewriting this model with the Functional API.\n",
            "170/170 [==============================] - 0s 1ms/step - loss: 13762.8848 - root_mean_squared_error: 117.3153\n",
            "Epoch 2/30\n",
            "170/170 [==============================] - 0s 1ms/step - loss: 13450.8311 - root_mean_squared_error: 115.9777\n",
            "Epoch 3/30\n",
            "170/170 [==============================] - 0s 1ms/step - loss: 13400.7598 - root_mean_squared_error: 115.7617\n",
            "Epoch 4/30\n",
            "170/170 [==============================] - 0s 1ms/step - loss: 13345.5762 - root_mean_squared_error: 115.5231\n",
            "Epoch 5/30\n",
            "170/170 [==============================] - 0s 1ms/step - loss: 13308.1211 - root_mean_squared_error: 115.3608\n",
            "Epoch 6/30\n",
            "170/170 [==============================] - 0s 1ms/step - loss: 13256.9707 - root_mean_squared_error: 115.1389\n",
            "Epoch 7/30\n",
            "170/170 [==============================] - 0s 1ms/step - loss: 13239.6064 - root_mean_squared_error: 115.0635\n",
            "Epoch 8/30\n",
            "170/170 [==============================] - 0s 1ms/step - loss: 13199.3711 - root_mean_squared_error: 114.8885\n",
            "Epoch 9/30\n",
            "170/170 [==============================] - 0s 1ms/step - loss: 13178.8721 - root_mean_squared_error: 114.7993\n",
            "Epoch 10/30\n",
            "170/170 [==============================] - 0s 1ms/step - loss: 13139.2412 - root_mean_squared_error: 114.6265\n",
            "Epoch 11/30\n",
            "170/170 [==============================] - 0s 1ms/step - loss: 13102.3457 - root_mean_squared_error: 114.4655\n",
            "Epoch 12/30\n",
            "170/170 [==============================] - 0s 1ms/step - loss: 13080.4180 - root_mean_squared_error: 114.3697\n",
            "Epoch 13/30\n",
            "170/170 [==============================] - 0s 1ms/step - loss: 13054.9141 - root_mean_squared_error: 114.2581\n",
            "Epoch 14/30\n",
            "170/170 [==============================] - 0s 1ms/step - loss: 13049.9072 - root_mean_squared_error: 114.2362\n",
            "Epoch 15/30\n",
            "170/170 [==============================] - 0s 1ms/step - loss: 13007.8008 - root_mean_squared_error: 114.0517\n",
            "Epoch 16/30\n",
            "170/170 [==============================] - 0s 1ms/step - loss: 12997.0850 - root_mean_squared_error: 114.0048\n",
            "Epoch 17/30\n",
            "170/170 [==============================] - 0s 1ms/step - loss: 12987.1367 - root_mean_squared_error: 113.9611\n",
            "Epoch 18/30\n",
            "170/170 [==============================] - 0s 1ms/step - loss: 12969.1230 - root_mean_squared_error: 113.8821\n",
            "Epoch 19/30\n",
            "170/170 [==============================] - 0s 1ms/step - loss: 12943.7148 - root_mean_squared_error: 113.7704\n",
            "Epoch 20/30\n",
            "170/170 [==============================] - 0s 1ms/step - loss: 12932.3682 - root_mean_squared_error: 113.7206\n",
            "Epoch 21/30\n",
            "170/170 [==============================] - 0s 1ms/step - loss: 12920.3721 - root_mean_squared_error: 113.6678\n",
            "Epoch 22/30\n",
            "170/170 [==============================] - 0s 1ms/step - loss: 12907.2441 - root_mean_squared_error: 113.6101\n",
            "Epoch 23/30\n",
            "170/170 [==============================] - 0s 1ms/step - loss: 12895.6572 - root_mean_squared_error: 113.5590\n",
            "Epoch 24/30\n",
            "170/170 [==============================] - 0s 1ms/step - loss: 12879.8564 - root_mean_squared_error: 113.4895\n",
            "Epoch 25/30\n",
            "170/170 [==============================] - 0s 1ms/step - loss: 12868.2422 - root_mean_squared_error: 113.4383\n",
            "Epoch 26/30\n",
            "170/170 [==============================] - 0s 1ms/step - loss: 12865.0342 - root_mean_squared_error: 113.4241\n",
            "Epoch 27/30\n",
            "170/170 [==============================] - 0s 1ms/step - loss: 12851.4287 - root_mean_squared_error: 113.3641\n",
            "Epoch 28/30\n",
            "170/170 [==============================] - 0s 1ms/step - loss: 12834.8525 - root_mean_squared_error: 113.2910\n",
            "Epoch 29/30\n",
            "170/170 [==============================] - 0s 1ms/step - loss: 12845.0762 - root_mean_squared_error: 113.3361\n",
            "Epoch 30/30\n",
            "170/170 [==============================] - 0s 1ms/step - loss: 12827.8008 - root_mean_squared_error: 113.2599\n",
            "[<tf.Variable 'sequential_3/dense_3/kernel:0' shape=(2, 1) dtype=float32, numpy=\n",
            "array([[-10.957936 ],\n",
            "       [ -4.9407816]], dtype=float32)>, <tf.Variable 'sequential_3/dense_3/bias:0' shape=(1,) dtype=float32, numpy=array([0.82572705], dtype=float32)>]\n"
          ],
          "name": "stdout"
        },
        {
          "output_type": "display_data",
          "data": {
            "image/png": "[encoded data removed]",
            "text/plain": [
              "<Figure size 432x288 with 1 Axes>"
            ]
          },
          "metadata": {
            "tags": [],
            "needs_background": "light"
          }
        },
        {
          "output_type": "stream",
          "text": [
            "\n",
            ": Evaluate the new model against the test set:\n",
            "WARNING:tensorflow:Layers in a Sequential model should only have a single input tensor, but we receive a <class 'dict'> input: {'longitude': <tf.Tensor 'ExpandDims_3:0' shape=(100, 1) dtype=float32>, 'latitude': <tf.Tensor 'ExpandDims_2:0' shape=(100, 1) dtype=float32>, 'housing_median_age': <tf.Tensor 'ExpandDims_1:0' shape=(100, 1) dtype=float32>, 'total_rooms': <tf.Tensor 'ExpandDims_7:0' shape=(100, 1) dtype=float32>, 'total_bedrooms': <tf.Tensor 'ExpandDims_6:0' shape=(100, 1) dtype=float32>, 'population': <tf.Tensor 'ExpandDims_5:0' shape=(100, 1) dtype=float32>, 'households': <tf.Tensor 'ExpandDims:0' shape=(100, 1) dtype=float32>, 'median_income': <tf.Tensor 'ExpandDims_4:0' shape=(100, 1) dtype=float32>}\n",
            "Consider rewriting this model with the Functional API.\n",
            "30/30 [==============================] - 0s 1ms/step - loss: 12185.9805 - root_mean_squared_error: 110.3901\n"
          ],
          "name": "stdout"
        },
        {
          "output_type": "execute_result",
          "data": {
            "text/plain": [
              "[12185.98046875, 110.39012908935547]"
            ]
          },
          "metadata": {
            "tags": []
          },
          "execution_count": 24
        }
      ]
    },
    {
      "cell_type": "markdown",
      "metadata": {
        "id": "dbyWNS6T2fIT",
        "colab_type": "text"
      },
      "source": [
        "## Task 1: Why aren't floating-point values a good way to represent latitude and longitude?\n",
        "\n",
        "Are floating-point values a good way to represent `latitude` and `longitude`? "
      ]
    },
    {
      "cell_type": "code",
      "metadata": {
        "id": "VJLDCu5M2hXX",
        "colab_type": "code",
        "cellView": "both",
        "colab": {}
      },
      "source": [
        "#@title Double-click to view an answer to Task 1.\n",
        "\n",
        "# No. Representing latitude and longitude as \n",
        "# floating-point values does not have much \n",
        "# predictive power. For example, neighborhoods at \n",
        "# latitude 35 are not 36/35 more valuable \n",
        "# (or 35/36 less valuable) than houses at \n",
        "# latitude 36.\n",
        "\n",
        "# Representing `latitude` and `longitude` as \n",
        "# floating-point values provides almost no \n",
        "# predictive power. We're only using the raw values \n",
        "# to establish a baseline for future experiments \n",
        "# with better representations."
      ],
      "execution_count": 25,
      "outputs": []
    },
    {
      "cell_type": "markdown",
      "metadata": {
        "id": "Na8TPoPYx-0k",
        "colab_type": "text"
      },
      "source": [
        "## Represent latitude and longitude in buckets\n",
        "\n",
        "The following code cell represents latitude and longitude in buckets (bins). Each bin represents all the neighborhoods within a single degree. For example,\n",
        "neighborhoods at latitude 35.4 and 35.8 are in the same bucket, but neighborhoods in latitude 35.4 and 36.2 are in different buckets. \n",
        "\n",
        "The model will learn a separate weight for each bucket. For example, the model will learn one weight for all the neighborhoods in the \"35\" bin\", a different weight for neighborhoods in the \"36\" bin, and so on. This representation will create approximately 20 buckets:\n",
        " \n",
        "  * 10 buckets for `latitude`. \n",
        "  * 10 buckets for `longitude`. "
      ]
    },
    {
      "cell_type": "code",
      "metadata": {
        "id": "WLTUFiaUyIpx",
        "colab_type": "code",
        "colab": {}
      },
      "source": [
        "resolution_in_degrees = 1.0 \n",
        "\n",
        "# Create a new empty list that will eventually hold the generated feature column.\n",
        "feature_columns = []\n",
        "\n",
        "# Create a bucket feature column for latitude.\n",
        "latitude_as_a_numeric_column = tf.feature_column.numeric_column(\"latitude\")\n",
        "latitude_boundaries = list(np.arange(int(min(train_df['latitude'])), \n",
        "                                     int(max(train_df['latitude'])), \n",
        "                                     resolution_in_degrees))\n",
        "latitude = tf.feature_column.bucketized_column(latitude_as_a_numeric_column, \n",
        "                                               latitude_boundaries)\n",
        "feature_columns.append(latitude)\n",
        "\n",
        "# Create a bucket feature column for longitude.\n",
        "longitude_as_a_numeric_column = tf.feature_column.numeric_column(\"longitude\")\n",
        "longitude_boundaries = list(np.arange(int(min(train_df['longitude'])), \n",
        "                                      int(max(train_df['longitude'])), \n",
        "                                      resolution_in_degrees))\n",
        "longitude = tf.feature_column.bucketized_column(longitude_as_a_numeric_column, \n",
        "                                                longitude_boundaries)\n",
        "feature_columns.append(longitude)\n",
        "\n",
        "# Convert the list of feature columns into a layer that will ultimately become\n",
        "# part of the model. Understanding layers is not important right now.\n",
        "buckets_feature_layer = layers.DenseFeatures(feature_columns)"
      ],
      "execution_count": 26,
      "outputs": []
    },
    {
      "cell_type": "markdown",
      "metadata": {
        "id": "aZsFzoPQ4pFm",
        "colab_type": "text"
      },
      "source": [
        "## Train the model with bucket representations\n",
        "\n",
        "Run the following code cell to train the model with bucket representations rather than floating-point representations:"
      ]
    },
    {
      "cell_type": "code",
      "metadata": {
        "id": "UnDrghxBzLvD",
        "colab_type": "code",
        "colab": {
          "base_uri": "https://localhost:8080/",
          "height": 1000
        },
        "outputId": "ac91f7da-0bbc-49ee-ff3e-7509c9a7eef7"
      },
      "source": [
        "# The following variables are the hyperparameters.\n",
        "learning_rate = 0.04\n",
        "epochs = 35\n",
        "\n",
        "# Build the model, this time passing in the buckets_feature_layer.\n",
        "my_model = create_model(learning_rate, buckets_feature_layer)\n",
        "\n",
        "# Train the model on the training set.\n",
        "epochs, rmse = train_model(my_model, train_df, epochs, batch_size, label_name)\n",
        "\n",
        "plot_the_loss_curve(epochs, rmse)\n",
        "\n",
        "print(\"\\n: Evaluate the new model against the test set:\")\n",
        "my_model.evaluate(x=test_features, y=test_label, batch_size=batch_size)"
      ],
      "execution_count": 27,
      "outputs": [
        {
          "output_type": "stream",
          "text": [
            "Epoch 1/35\n",
            "WARNING:tensorflow:Layers in a Sequential model should only have a single input tensor, but we receive a <class 'dict'> input: {'longitude': <tf.Tensor 'ExpandDims_3:0' shape=(100, 1) dtype=float32>, 'latitude': <tf.Tensor 'ExpandDims_2:0' shape=(100, 1) dtype=float32>, 'housing_median_age': <tf.Tensor 'ExpandDims_1:0' shape=(100, 1) dtype=float32>, 'total_rooms': <tf.Tensor 'ExpandDims_7:0' shape=(100, 1) dtype=float32>, 'total_bedrooms': <tf.Tensor 'ExpandDims_6:0' shape=(100, 1) dtype=float32>, 'population': <tf.Tensor 'ExpandDims_5:0' shape=(100, 1) dtype=float32>, 'households': <tf.Tensor 'ExpandDims:0' shape=(100, 1) dtype=float32>, 'median_income': <tf.Tensor 'ExpandDims_4:0' shape=(100, 1) dtype=float32>}\n",
            "Consider rewriting this model with the Functional API.\n",
            "WARNING:tensorflow:Layers in a Sequential model should only have a single input tensor, but we receive a <class 'dict'> input: {'longitude': <tf.Tensor 'ExpandDims_3:0' shape=(100, 1) dtype=float32>, 'latitude': <tf.Tensor 'ExpandDims_2:0' shape=(100, 1) dtype=float32>, 'housing_median_age': <tf.Tensor 'ExpandDims_1:0' shape=(100, 1) dtype=float32>, 'total_rooms': <tf.Tensor 'ExpandDims_7:0' shape=(100, 1) dtype=float32>, 'total_bedrooms': <tf.Tensor 'ExpandDims_6:0' shape=(100, 1) dtype=float32>, 'population': <tf.Tensor 'ExpandDims_5:0' shape=(100, 1) dtype=float32>, 'households': <tf.Tensor 'ExpandDims:0' shape=(100, 1) dtype=float32>, 'median_income': <tf.Tensor 'ExpandDims_4:0' shape=(100, 1) dtype=float32>}\n",
            "Consider rewriting this model with the Functional API.\n",
            "170/170 [==============================] - 0s 1ms/step - loss: 52128.8398 - root_mean_squared_error: 228.3174\n",
            "Epoch 2/35\n",
            "170/170 [==============================] - 0s 1ms/step - loss: 44724.4141 - root_mean_squared_error: 211.4815\n",
            "Epoch 3/35\n",
            "170/170 [==============================] - 0s 1ms/step - loss: 38154.3555 - root_mean_squared_error: 195.3314\n",
            "Epoch 4/35\n",
            "170/170 [==============================] - 0s 1ms/step - loss: 32340.5898 - root_mean_squared_error: 179.8349\n",
            "Epoch 5/35\n",
            "170/170 [==============================] - 0s 1ms/step - loss: 27297.5820 - root_mean_squared_error: 165.2198\n",
            "Epoch 6/35\n",
            "170/170 [==============================] - 0s 1ms/step - loss: 23027.8008 - root_mean_squared_error: 151.7491\n",
            "Epoch 7/35\n",
            "170/170 [==============================] - 0s 1ms/step - loss: 19515.9941 - root_mean_squared_error: 139.6997\n",
            "Epoch 8/35\n",
            "170/170 [==============================] - 0s 1ms/step - loss: 16700.8691 - root_mean_squared_error: 129.2319\n",
            "Epoch 9/35\n",
            "170/170 [==============================] - 0s 1ms/step - loss: 14548.1270 - root_mean_squared_error: 120.6156\n",
            "Epoch 10/35\n",
            "170/170 [==============================] - 0s 1ms/step - loss: 12983.8975 - root_mean_squared_error: 113.9469\n",
            "Epoch 11/35\n",
            "170/170 [==============================] - 0s 1ms/step - loss: 11944.1709 - root_mean_squared_error: 109.2894\n",
            "Epoch 12/35\n",
            "170/170 [==============================] - 0s 1ms/step - loss: 11333.0781 - root_mean_squared_error: 106.4569\n",
            "Epoch 13/35\n",
            "170/170 [==============================] - 0s 1ms/step - loss: 10985.8613 - root_mean_squared_error: 104.8135\n",
            "Epoch 14/35\n",
            "170/170 [==============================] - 0s 1ms/step - loss: 10794.0479 - root_mean_squared_error: 103.8944\n",
            "Epoch 15/35\n",
            "170/170 [==============================] - 0s 1ms/step - loss: 10674.9541 - root_mean_squared_error: 103.3197\n",
            "Epoch 16/35\n",
            "170/170 [==============================] - 0s 1ms/step - loss: 10599.4346 - root_mean_squared_error: 102.9536\n",
            "Epoch 17/35\n",
            "170/170 [==============================] - 0s 1ms/step - loss: 10551.1016 - root_mean_squared_error: 102.7186\n",
            "Epoch 18/35\n",
            "170/170 [==============================] - 0s 1ms/step - loss: 10517.6699 - root_mean_squared_error: 102.5557\n",
            "Epoch 19/35\n",
            "170/170 [==============================] - 0s 1ms/step - loss: 10493.7812 - root_mean_squared_error: 102.4392\n",
            "Epoch 20/35\n",
            "170/170 [==============================] - 0s 1ms/step - loss: 10475.6953 - root_mean_squared_error: 102.3508\n",
            "Epoch 21/35\n",
            "170/170 [==============================] - 0s 1ms/step - loss: 10461.2207 - root_mean_squared_error: 102.2801\n",
            "Epoch 22/35\n",
            "170/170 [==============================] - 0s 1ms/step - loss: 10448.4512 - root_mean_squared_error: 102.2177\n",
            "Epoch 23/35\n",
            "170/170 [==============================] - 0s 1ms/step - loss: 10437.0352 - root_mean_squared_error: 102.1618\n",
            "Epoch 24/35\n",
            "170/170 [==============================] - 0s 1ms/step - loss: 10426.4268 - root_mean_squared_error: 102.1099\n",
            "Epoch 25/35\n",
            "170/170 [==============================] - 0s 1ms/step - loss: 10416.9355 - root_mean_squared_error: 102.0634\n",
            "Epoch 26/35\n",
            "170/170 [==============================] - 0s 1ms/step - loss: 10408.1719 - root_mean_squared_error: 102.0204\n",
            "Epoch 27/35\n",
            "170/170 [==============================] - 0s 1ms/step - loss: 10399.5439 - root_mean_squared_error: 101.9782\n",
            "Epoch 28/35\n",
            "170/170 [==============================] - 0s 1ms/step - loss: 10390.9365 - root_mean_squared_error: 101.9359\n",
            "Epoch 29/35\n",
            "170/170 [==============================] - 0s 1ms/step - loss: 10382.6875 - root_mean_squared_error: 101.8955\n",
            "Epoch 30/35\n",
            "170/170 [==============================] - 0s 1ms/step - loss: 10375.2422 - root_mean_squared_error: 101.8589\n",
            "Epoch 31/35\n",
            "170/170 [==============================] - 0s 1ms/step - loss: 10367.6250 - root_mean_squared_error: 101.8215\n",
            "Epoch 32/35\n",
            "170/170 [==============================] - 0s 1ms/step - loss: 10360.3135 - root_mean_squared_error: 101.7856\n",
            "Epoch 33/35\n",
            "170/170 [==============================] - 0s 1ms/step - loss: 10353.8730 - root_mean_squared_error: 101.7540\n",
            "Epoch 34/35\n",
            "170/170 [==============================] - 0s 1ms/step - loss: 10347.0664 - root_mean_squared_error: 101.7205\n",
            "Epoch 35/35\n",
            "170/170 [==============================] - 0s 1ms/step - loss: 10340.8281 - root_mean_squared_error: 101.6899\n",
            "[<tf.Variable 'sequential_4/dense_4/kernel:0' shape=(21, 1) dtype=float32, numpy=\n",
            "array([[ -0.50108254],\n",
            "       [ 71.261     ],\n",
            "       [ 84.97927   ],\n",
            "       [ 87.03071   ],\n",
            "       [ -5.796077  ],\n",
            "       [  6.395371  ],\n",
            "       [ 85.82455   ],\n",
            "       [ -1.0975945 ],\n",
            "       [-27.758978  ],\n",
            "       [-71.10048   ],\n",
            "       [ 66.84033   ],\n",
            "       [ 55.892     ],\n",
            "       [113.17514   ],\n",
            "       [ 62.53086   ],\n",
            "       [ 13.676305  ],\n",
            "       [ 24.91077   ],\n",
            "       [ 77.01689   ],\n",
            "       [ 39.749557  ],\n",
            "       [-11.9667015 ],\n",
            "       [-72.03494   ],\n",
            "       [-51.128433  ]], dtype=float32)>, <tf.Variable 'sequential_4/dense_4/bias:0' shape=(1,) dtype=float32, numpy=array([81.40074], dtype=float32)>]\n"
          ],
          "name": "stdout"
        },
        {
          "output_type": "display_data",
          "data": {
            "image/png": "[encoded data removed]",
            "text/plain": [
              "<Figure size 432x288 with 1 Axes>"
            ]
          },
          "metadata": {
            "tags": [],
            "needs_background": "light"
          }
        },
        {
          "output_type": "stream",
          "text": [
            "\n",
            ": Evaluate the new model against the test set:\n",
            "WARNING:tensorflow:Layers in a Sequential model should only have a single input tensor, but we receive a <class 'dict'> input: {'longitude': <tf.Tensor 'ExpandDims_3:0' shape=(100, 1) dtype=float32>, 'latitude': <tf.Tensor 'ExpandDims_2:0' shape=(100, 1) dtype=float32>, 'housing_median_age': <tf.Tensor 'ExpandDims_1:0' shape=(100, 1) dtype=float32>, 'total_rooms': <tf.Tensor 'ExpandDims_7:0' shape=(100, 1) dtype=float32>, 'total_bedrooms': <tf.Tensor 'ExpandDims_6:0' shape=(100, 1) dtype=float32>, 'population': <tf.Tensor 'ExpandDims_5:0' shape=(100, 1) dtype=float32>, 'households': <tf.Tensor 'ExpandDims:0' shape=(100, 1) dtype=float32>, 'median_income': <tf.Tensor 'ExpandDims_4:0' shape=(100, 1) dtype=float32>}\n",
            "Consider rewriting this model with the Functional API.\n",
            "30/30 [==============================] - 0s 1ms/step - loss: 10199.2998 - root_mean_squared_error: 100.9916\n"
          ],
          "name": "stdout"
        },
        {
          "output_type": "execute_result",
          "data": {
            "text/plain": [
              "[10199.2998046875, 100.99158477783203]"
            ]
          },
          "metadata": {
            "tags": []
          },
          "execution_count": 27
        }
      ]
    },
    {
      "cell_type": "markdown",
      "metadata": {
        "id": "Wb-bIKsN5M48",
        "colab_type": "text"
      },
      "source": [
        "## Task 2: Did buckets outperform floating-point representations?\n",
        "\n",
        "Compare the model's `root_mean_squared_error` values for the two representations (floating-point vs. buckets)?  Which model produced lower losses? "
      ]
    },
    {
      "cell_type": "code",
      "metadata": {
        "id": "6sUlX1335UCb",
        "colab_type": "code",
        "cellView": "both",
        "colab": {}
      },
      "source": [
        "#@title Double-click for an answer to Task 2.\n",
        "\n",
        "# Bucket representation outperformed \n",
        "# floating-point representations.  \n",
        "# However, you can still do far better."
      ],
      "execution_count": 28,
      "outputs": []
    },
    {
      "cell_type": "markdown",
      "metadata": {
        "id": "ab6-bhUvxbTL",
        "colab_type": "text"
      },
      "source": [
        "## Task 3: What is a better way to represent location?\n",
        "\n",
        "Buckets are a big improvement over floating-point values. Can you identify an even better way to identify location with `latitude` and `longitude`?"
      ]
    },
    {
      "cell_type": "code",
      "metadata": {
        "id": "5no5X0OFCwf7",
        "colab_type": "code",
        "cellView": "both",
        "colab": {}
      },
      "source": [
        "#@title Double-click to view an answer to Task 3.\n",
        "\n",
        "# Representing location as a feature cross should \n",
        "# produce better results.\n",
        "\n",
        "# In Task 2, you represented latitude in \n",
        "# one-dimensional buckets and longitude in \n",
        "# another series of one-dimensional buckets. \n",
        "# Real-world locations, however, exist in \n",
        "# two dimension. Therefore, you should\n",
        "# represent location as a two-dimensional feature\n",
        "# cross. That is, you'll cross the 10 or so latitude \n",
        "# buckets with the 10 or so longitude buckets to \n",
        "# create a grid of 100 cells. \n",
        "\n",
        "# The model will learn separate weights for each \n",
        "# of the cells."
      ],
      "execution_count": 29,
      "outputs": []
    },
    {
      "cell_type": "markdown",
      "metadata": {
        "id": "T1ulCDiyGB6g",
        "colab_type": "text"
      },
      "source": [
        "## Represent location as a feature cross\n",
        "\n",
        "The following code cell represents location as a feature cross. That is, the following code cell first creates buckets and then calls `tf.feature_column.crossed_column` to cross the buckets.\n",
        "\n"
      ]
    },
    {
      "cell_type": "code",
      "metadata": {
        "id": "HunsuEzqn21s",
        "colab_type": "code",
        "cellView": "both",
        "colab": {}
      },
      "source": [
        "resolution_in_degrees = 0.4\n",
        "\n",
        "# Create a new empty list that will eventually hold the generated feature column.\n",
        "feature_columns = []\n",
        "\n",
        "# Create a bucket feature column for latitude.\n",
        "latitude_as_a_numeric_column = tf.feature_column.numeric_column(\"latitude\")\n",
        "latitude_boundaries = list(np.arange(int(min(train_df['latitude'])), int(max(train_df['latitude'])), resolution_in_degrees))\n",
        "latitude = tf.feature_column.bucketized_column(latitude_as_a_numeric_column, latitude_boundaries)\n",
        "\n",
        "# Create a bucket feature column for longitude.\n",
        "longitude_as_a_numeric_column = tf.feature_column.numeric_column(\"longitude\")\n",
        "longitude_boundaries = list(np.arange(int(min(train_df['longitude'])), int(max(train_df['longitude'])), resolution_in_degrees))\n",
        "longitude = tf.feature_column.bucketized_column(longitude_as_a_numeric_column, longitude_boundaries)\n",
        "\n",
        "# Create a feature cross of latitude and longitude.\n",
        "latitude_x_longitude = tf.feature_column.crossed_column([latitude, longitude], hash_bucket_size=100)\n",
        "crossed_feature = tf.feature_column.indicator_column(latitude_x_longitude)\n",
        "feature_columns.append(crossed_feature)\n",
        "\n",
        "# Convert the list of feature columns into a layer that will later be fed into\n",
        "# the model. \n",
        "feature_cross_feature_layer = layers.DenseFeatures(feature_columns)"
      ],
      "execution_count": 30,
      "outputs": []
    },
    {
      "cell_type": "markdown",
      "metadata": {
        "id": "akRgNnnH3VXJ",
        "colab_type": "text"
      },
      "source": [
        "Invoke the following code cell to test your solution for Task 3. Please ignore the warning messages."
      ]
    },
    {
      "cell_type": "code",
      "metadata": {
        "id": "qn2PRDBEr5ni",
        "colab_type": "code",
        "colab": {
          "base_uri": "https://localhost:8080/",
          "height": 1000
        },
        "outputId": "294f7ecf-8be4-420e-ac39-8c0454c9603d"
      },
      "source": [
        "# The following variables are the hyperparameters.\n",
        "learning_rate = 0.04\n",
        "epochs = 35\n",
        "\n",
        "# Build the model, this time passing in the feature_cross_feature_layer: \n",
        "my_model = create_model(learning_rate, feature_cross_feature_layer)\n",
        "\n",
        "# Train the model on the training set.\n",
        "epochs, rmse = train_model(my_model, train_df, epochs, batch_size, label_name)\n",
        "\n",
        "plot_the_loss_curve(epochs, rmse)\n",
        "\n",
        "print(\"\\n: Evaluate the new model against the test set:\")\n",
        "my_model.evaluate(x=test_features, y=test_label, batch_size=batch_size)"
      ],
      "execution_count": 31,
      "outputs": [
        {
          "output_type": "stream",
          "text": [
            "Epoch 1/35\n",
            "WARNING:tensorflow:Layers in a Sequential model should only have a single input tensor, but we receive a <class 'dict'> input: {'longitude': <tf.Tensor 'ExpandDims_3:0' shape=(100, 1) dtype=float32>, 'latitude': <tf.Tensor 'ExpandDims_2:0' shape=(100, 1) dtype=float32>, 'housing_median_age': <tf.Tensor 'ExpandDims_1:0' shape=(100, 1) dtype=float32>, 'total_rooms': <tf.Tensor 'ExpandDims_7:0' shape=(100, 1) dtype=float32>, 'total_bedrooms': <tf.Tensor 'ExpandDims_6:0' shape=(100, 1) dtype=float32>, 'population': <tf.Tensor 'ExpandDims_5:0' shape=(100, 1) dtype=float32>, 'households': <tf.Tensor 'ExpandDims:0' shape=(100, 1) dtype=float32>, 'median_income': <tf.Tensor 'ExpandDims_4:0' shape=(100, 1) dtype=float32>}\n",
            "Consider rewriting this model with the Functional API.\n",
            "WARNING:tensorflow:Layers in a Sequential model should only have a single input tensor, but we receive a <class 'dict'> input: {'longitude': <tf.Tensor 'ExpandDims_3:0' shape=(100, 1) dtype=float32>, 'latitude': <tf.Tensor 'ExpandDims_2:0' shape=(100, 1) dtype=float32>, 'housing_median_age': <tf.Tensor 'ExpandDims_1:0' shape=(100, 1) dtype=float32>, 'total_rooms': <tf.Tensor 'ExpandDims_7:0' shape=(100, 1) dtype=float32>, 'total_bedrooms': <tf.Tensor 'ExpandDims_6:0' shape=(100, 1) dtype=float32>, 'population': <tf.Tensor 'ExpandDims_5:0' shape=(100, 1) dtype=float32>, 'households': <tf.Tensor 'ExpandDims:0' shape=(100, 1) dtype=float32>, 'median_income': <tf.Tensor 'ExpandDims_4:0' shape=(100, 1) dtype=float32>}\n",
            "Consider rewriting this model with the Functional API.\n",
            "170/170 [==============================] - 0s 1ms/step - loss: 53642.1719 - root_mean_squared_error: 231.6078\n",
            "Epoch 2/35\n",
            "170/170 [==============================] - 0s 1ms/step - loss: 48796.3984 - root_mean_squared_error: 220.8991\n",
            "Epoch 3/35\n",
            "170/170 [==============================] - 0s 2ms/step - loss: 44297.5352 - root_mean_squared_error: 210.4698\n",
            "Epoch 4/35\n",
            "170/170 [==============================] - 0s 1ms/step - loss: 40079.2969 - root_mean_squared_error: 200.1982\n",
            "Epoch 5/35\n",
            "170/170 [==============================] - 0s 1ms/step - loss: 36176.6758 - root_mean_squared_error: 190.2017\n",
            "Epoch 6/35\n",
            "170/170 [==============================] - 0s 1ms/step - loss: 32591.5938 - root_mean_squared_error: 180.5314\n",
            "Epoch 7/35\n",
            "170/170 [==============================] - 0s 2ms/step - loss: 29304.3867 - root_mean_squared_error: 171.1852\n",
            "Epoch 8/35\n",
            "170/170 [==============================] - 0s 1ms/step - loss: 26314.0117 - root_mean_squared_error: 162.2159\n",
            "Epoch 9/35\n",
            "170/170 [==============================] - 0s 1ms/step - loss: 23641.4473 - root_mean_squared_error: 153.7578\n",
            "Epoch 10/35\n",
            "170/170 [==============================] - 0s 1ms/step - loss: 21236.7051 - root_mean_squared_error: 145.7282\n",
            "Epoch 11/35\n",
            "170/170 [==============================] - 0s 2ms/step - loss: 19121.6855 - root_mean_squared_error: 138.2812\n",
            "Epoch 12/35\n",
            "170/170 [==============================] - 0s 1ms/step - loss: 17254.4688 - root_mean_squared_error: 131.3563\n",
            "Epoch 13/35\n",
            "170/170 [==============================] - 0s 1ms/step - loss: 15661.8896 - root_mean_squared_error: 125.1475\n",
            "Epoch 14/35\n",
            "170/170 [==============================] - 0s 1ms/step - loss: 14303.5068 - root_mean_squared_error: 119.5973\n",
            "Epoch 15/35\n",
            "170/170 [==============================] - 0s 2ms/step - loss: 13173.9023 - root_mean_squared_error: 114.7776\n",
            "Epoch 16/35\n",
            "170/170 [==============================] - 0s 1ms/step - loss: 12237.7793 - root_mean_squared_error: 110.6245\n",
            "Epoch 17/35\n",
            "170/170 [==============================] - 0s 1ms/step - loss: 11517.8574 - root_mean_squared_error: 107.3213\n",
            "Epoch 18/35\n",
            "170/170 [==============================] - 0s 1ms/step - loss: 10952.0898 - root_mean_squared_error: 104.6522\n",
            "Epoch 19/35\n",
            "170/170 [==============================] - 0s 2ms/step - loss: 10527.6143 - root_mean_squared_error: 102.6042\n",
            "Epoch 20/35\n",
            "170/170 [==============================] - 0s 1ms/step - loss: 10221.7031 - root_mean_squared_error: 101.1024\n",
            "Epoch 21/35\n",
            "170/170 [==============================] - 0s 1ms/step - loss: 9983.8174 - root_mean_squared_error: 99.9191\n",
            "Epoch 22/35\n",
            "170/170 [==============================] - 0s 2ms/step - loss: 9792.4111 - root_mean_squared_error: 98.9566\n",
            "Epoch 23/35\n",
            "170/170 [==============================] - 0s 2ms/step - loss: 9632.5293 - root_mean_squared_error: 98.1454\n",
            "Epoch 24/35\n",
            "170/170 [==============================] - 0s 2ms/step - loss: 9491.9775 - root_mean_squared_error: 97.4268\n",
            "Epoch 25/35\n",
            "170/170 [==============================] - 0s 1ms/step - loss: 9369.4111 - root_mean_squared_error: 96.7957\n",
            "Epoch 26/35\n",
            "170/170 [==============================] - 0s 2ms/step - loss: 9264.4434 - root_mean_squared_error: 96.2520\n",
            "Epoch 27/35\n",
            "170/170 [==============================] - 0s 2ms/step - loss: 9171.8564 - root_mean_squared_error: 95.7698\n",
            "Epoch 28/35\n",
            "170/170 [==============================] - 0s 2ms/step - loss: 9092.5020 - root_mean_squared_error: 95.3546\n",
            "Epoch 29/35\n",
            "170/170 [==============================] - 0s 2ms/step - loss: 9023.2715 - root_mean_squared_error: 94.9909\n",
            "Epoch 30/35\n",
            "170/170 [==============================] - 0s 2ms/step - loss: 8964.0615 - root_mean_squared_error: 94.6787\n",
            "Epoch 31/35\n",
            "170/170 [==============================] - 0s 1ms/step - loss: 8913.3037 - root_mean_squared_error: 94.4103\n",
            "Epoch 32/35\n",
            "170/170 [==============================] - 0s 1ms/step - loss: 8871.1445 - root_mean_squared_error: 94.1868\n",
            "Epoch 33/35\n",
            "170/170 [==============================] - 0s 1ms/step - loss: 8834.1621 - root_mean_squared_error: 93.9902\n",
            "Epoch 34/35\n",
            "170/170 [==============================] - 0s 1ms/step - loss: 8802.7432 - root_mean_squared_error: 93.8229\n",
            "Epoch 35/35\n",
            "170/170 [==============================] - 0s 1ms/step - loss: 8776.1777 - root_mean_squared_error: 93.6813\n",
            "[<tf.Variable 'sequential_5/dense_5/kernel:0' shape=(100, 1) dtype=float32, numpy=\n",
            "array([[ 5.08087196e+01],\n",
            "       [-1.03491230e+01],\n",
            "       [-1.49464458e-02],\n",
            "       [ 1.58528595e+01],\n",
            "       [-2.27484837e+01],\n",
            "       [-2.85474815e+01],\n",
            "       [ 5.21379662e+01],\n",
            "       [-1.40690508e+01],\n",
            "       [-3.20697165e+00],\n",
            "       [-2.16889400e+01],\n",
            "       [-4.65457649e+01],\n",
            "       [-1.46514301e+01],\n",
            "       [ 1.50006018e+01],\n",
            "       [ 3.32910919e+01],\n",
            "       [-5.56878662e+00],\n",
            "       [-2.73640656e+00],\n",
            "       [ 1.23959572e+02],\n",
            "       [-2.18966579e+01],\n",
            "       [-7.26372337e+00],\n",
            "       [ 8.89152679e+01],\n",
            "       [ 5.20742536e-02],\n",
            "       [ 5.91665497e+01],\n",
            "       [-2.79634609e+01],\n",
            "       [-3.90239143e+01],\n",
            "       [-2.77151470e+01],\n",
            "       [ 3.66865616e+01],\n",
            "       [ 1.04437492e+02],\n",
            "       [ 6.64777994e+00],\n",
            "       [-5.46866837e+01],\n",
            "       [ 7.31510468e+01],\n",
            "       [ 1.29793539e+01],\n",
            "       [ 4.44214153e+00],\n",
            "       [ 8.93809967e+01],\n",
            "       [-2.28877487e+01],\n",
            "       [ 3.29178467e+01],\n",
            "       [ 1.05965523e+02],\n",
            "       [ 5.96323967e+01],\n",
            "       [-5.46694803e+00],\n",
            "       [ 5.33200455e+00],\n",
            "       [ 3.56269913e+01],\n",
            "       [ 6.99910402e+00],\n",
            "       [-8.08166122e+00],\n",
            "       [-7.03888226e+00],\n",
            "       [-1.74333906e+00],\n",
            "       [ 9.48148270e+01],\n",
            "       [-1.98126674e-01],\n",
            "       [ 1.60373077e+01],\n",
            "       [-1.02491035e+01],\n",
            "       [-1.69943690e-01],\n",
            "       [ 9.46619339e+01],\n",
            "       [-5.09624176e+01],\n",
            "       [ 1.93153322e-01],\n",
            "       [ 1.31960344e+01],\n",
            "       [-2.23359604e+01],\n",
            "       [-4.60413933e+01],\n",
            "       [-3.52280998e+00],\n",
            "       [-5.08586597e+00],\n",
            "       [ 5.43918371e-01],\n",
            "       [ 3.60589325e-02],\n",
            "       [-1.17485037e+01],\n",
            "       [-3.94593501e+00],\n",
            "       [-3.74036813e+00],\n",
            "       [ 1.76328262e+02],\n",
            "       [-8.96903038e+00],\n",
            "       [-2.17984276e+01],\n",
            "       [-2.25959358e+01],\n",
            "       [-1.66021004e+01],\n",
            "       [-6.19880104e+00],\n",
            "       [-1.06672230e+01],\n",
            "       [ 1.75022339e+02],\n",
            "       [ 7.30136566e+01],\n",
            "       [ 2.36629456e-01],\n",
            "       [-3.61255646e+01],\n",
            "       [ 1.43165253e+02],\n",
            "       [ 4.40215111e+00],\n",
            "       [ 2.10152531e+01],\n",
            "       [-4.86534004e+01],\n",
            "       [ 6.03183212e+01],\n",
            "       [-1.72795734e+01],\n",
            "       [ 8.72444534e+01],\n",
            "       [ 1.07687980e-01],\n",
            "       [ 2.17808819e+01],\n",
            "       [ 1.11246353e+02],\n",
            "       [ 2.81916332e+00],\n",
            "       [ 5.15331001e+01],\n",
            "       [-3.42080975e+00],\n",
            "       [ 2.62075882e+01],\n",
            "       [-2.85332146e+01],\n",
            "       [ 7.29810715e+01],\n",
            "       [ 1.16576912e+02],\n",
            "       [ 2.28206978e+01],\n",
            "       [-4.24906082e+01],\n",
            "       [-7.48599577e+00],\n",
            "       [ 3.86483269e+01],\n",
            "       [ 5.29411554e+00],\n",
            "       [-2.89476013e+00],\n",
            "       [-5.02134705e+01],\n",
            "       [-2.47417145e+01],\n",
            "       [ 1.61621437e+01],\n",
            "       [ 1.16359459e+02]], dtype=float32)>, <tf.Variable 'sequential_5/dense_5/bias:0' shape=(1,) dtype=float32, numpy=array([141.04396], dtype=float32)>]\n"
          ],
          "name": "stdout"
        },
        {
          "output_type": "display_data",
          "data": {
            "image/png": "[encoded data removed]",
            "text/plain": [
              "<Figure size 432x288 with 1 Axes>"
            ]
          },
          "metadata": {
            "tags": [],
            "needs_background": "light"
          }
        },
        {
          "output_type": "stream",
          "text": [
            "\n",
            ": Evaluate the new model against the test set:\n",
            "WARNING:tensorflow:Layers in a Sequential model should only have a single input tensor, but we receive a <class 'dict'> input: {'longitude': <tf.Tensor 'ExpandDims_3:0' shape=(100, 1) dtype=float32>, 'latitude': <tf.Tensor 'ExpandDims_2:0' shape=(100, 1) dtype=float32>, 'housing_median_age': <tf.Tensor 'ExpandDims_1:0' shape=(100, 1) dtype=float32>, 'total_rooms': <tf.Tensor 'ExpandDims_7:0' shape=(100, 1) dtype=float32>, 'total_bedrooms': <tf.Tensor 'ExpandDims_6:0' shape=(100, 1) dtype=float32>, 'population': <tf.Tensor 'ExpandDims_5:0' shape=(100, 1) dtype=float32>, 'households': <tf.Tensor 'ExpandDims:0' shape=(100, 1) dtype=float32>, 'median_income': <tf.Tensor 'ExpandDims_4:0' shape=(100, 1) dtype=float32>}\n",
            "Consider rewriting this model with the Functional API.\n",
            "30/30 [==============================] - 0s 1ms/step - loss: 8645.6143 - root_mean_squared_error: 92.9818\n"
          ],
          "name": "stdout"
        },
        {
          "output_type": "execute_result",
          "data": {
            "text/plain": [
              "[8645.6142578125, 92.98179626464844]"
            ]
          },
          "metadata": {
            "tags": []
          },
          "execution_count": 31
        }
      ]
    },
    {
      "cell_type": "markdown",
      "metadata": {
        "id": "bCT-l1GaWNQE",
        "colab_type": "text"
      },
      "source": [
        "## Task 4: Did the feature cross outperform buckets?\n",
        "\n",
        "Compare the model's `root_mean_squared_error` values for the two representations (buckets vs. feature cross)?  Which model produced\n",
        "lower losses? "
      ]
    },
    {
      "cell_type": "code",
      "metadata": {
        "id": "HUzdWDcs5rCi",
        "colab_type": "code",
        "cellView": "both",
        "colab": {}
      },
      "source": [
        "#@title Double-click for an answer to this question.\n",
        "\n",
        "# Yes, representing these features as a feature \n",
        "# cross produced much lower loss values than \n",
        "# representing these features as buckets"
      ],
      "execution_count": 32,
      "outputs": []
    },
    {
      "cell_type": "markdown",
      "metadata": {
        "id": "J9Iw3ljfXqSQ",
        "colab_type": "text"
      },
      "source": [
        "## Task 5: Adjust the resolution of the feature cross\n",
        "\n",
        "Return to the code cell in the \"Represent location as a feature cross\" section. Notice that `resolution_in_degrees` is set to 1.0. Therefore, each cell represents an area of 1.0 degree of latitude by 1.0 degree of longitude, which corresponds to a cell of 110 km by 90 km.  This resolution defines a rather large neighborhood. \n",
        "\n",
        "Experiment with `resolution_in_degrees` to answer the following questions:\n",
        "\n",
        "  1. What value of `resolution_in_degrees` produces the best results (lowest loss value)?\n",
        "  2. Why does loss increase when the value of `resolution_in_degrees` drops below a certain value?\n",
        "\n",
        "Finally, answer the following question:\n",
        "\n",
        "  3. What feature (that does not exist in the California Housing Dataset) would\n",
        "     be a better proxy for location than latitude X longitude."
      ]
    },
    {
      "cell_type": "code",
      "metadata": {
        "id": "71WWwlhx4h0X",
        "colab_type": "code",
        "cellView": "both",
        "colab": {}
      },
      "source": [
        "#@title Double-click for possible answers to Task 5.\n",
        "\n",
        "#1. A resolution of ~0.4 degree provides the best \n",
        "#   results.\n",
        "\n",
        "#2. Below ~0.4 degree, loss increases because the \n",
        "#   dataset does not contain enough examples in \n",
        "#   each cell to accurately predict prices for \n",
        "#   those cells.\n",
        "\n",
        "#3. Postal code would be a far better feature \n",
        "#   than latitude X longitude, assuming that \n",
        "#   the dataset contained sufficient examples \n",
        "#   in each postal code."
      ],
      "execution_count": 33,
      "outputs": []
    },
    {
      "cell_type": "code",
      "metadata": {
        "id": "MTezOZzclS_k",
        "colab_type": "code",
        "colab": {
          "base_uri": "https://localhost:8080/",
          "height": 571
        },
        "outputId": "5204f084-abdb-4472-f07d-0645ebaf09da"
      },
      "source": [
        "resolution_in_degrees = 1\n",
        "\n",
        "\n",
        "latitude_boundaries = list(np.arange(int(min(train_df['latitude'])), int(max(train_df['latitude'])), resolution_in_degrees))\n",
        "\n",
        "longitude_boundaries = list(np.arange(int(min(train_df['longitude'])), int(max(train_df['longitude'])), resolution_in_degrees))\n",
        "\n",
        "print(max(train_df['latitude']))\n",
        "print(latitude_boundaries)\n",
        "\n",
        "print(longitude_boundaries)\n",
        "\n",
        "labels_latitude = pd.cut(train_df['latitude'], latitude_boundaries)\n",
        "print(labels_latitude.value_counts())\n",
        "\n",
        "labels_longitude = pd.cut(train_df['longitude'], longitude_boundaries)\n",
        "print(labels_longitude.value_counts())\n",
        "\n",
        "\n",
        "train_df['labels_latitude'] = labels_latitude\n",
        "\n",
        "train_df.loc[train_df['latitude'].idxmax()]"
      ],
      "execution_count": 34,
      "outputs": [
        {
          "output_type": "stream",
          "text": [
            "41.95\n",
            "[32, 33, 34, 35, 36, 37, 38, 39, 40]\n",
            "[-124, -123, -122, -121, -120, -119, -118, -117, -116, -115]\n",
            "(34, 35]    4128\n",
            "(33, 34]    4120\n",
            "(37, 38]    3729\n",
            "(38, 39]    1665\n",
            "(32, 33]    1091\n",
            "(36, 37]    1027\n",
            "(39, 40]     484\n",
            "(35, 36]     418\n",
            "Name: latitude, dtype: int64\n",
            "(-119, -118]    4872\n",
            "(-118, -117]    3699\n",
            "(-123, -122]    3076\n",
            "(-122, -121]    2603\n",
            "(-120, -119]    1172\n",
            "(-121, -120]     835\n",
            "(-117, -116]     393\n",
            "(-124, -123]     118\n",
            "(-116, -115]     101\n",
            "Name: longitude, dtype: int64\n"
          ],
          "name": "stdout"
        },
        {
          "output_type": "execute_result",
          "data": {
            "text/plain": [
              "longitude            -124.14\n",
              "latitude               41.95\n",
              "housing_median_age     21.00\n",
              "total_rooms          2696.00\n",
              "total_bedrooms        578.00\n",
              "population           1208.00\n",
              "households            494.00\n",
              "median_income           2.27\n",
              "median_house_value    122.40\n",
              "labels_latitude          NaN\n",
              "Name: 16939, dtype: object"
            ]
          },
          "metadata": {
            "tags": []
          },
          "execution_count": 34
        }
      ]
    }
  ]
}
