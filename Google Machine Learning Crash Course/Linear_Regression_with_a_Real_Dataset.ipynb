{
  "nbformat": 4,
  "nbformat_minor": 0,
  "metadata": {
    "colab": {
      "name": "Linear Regression with a Real Dataset.ipynb",
      "provenance": [],
      "collapsed_sections": [],
      "include_colab_link": true
    },
    "kernelspec": {
      "name": "python3",
      "display_name": "Python 3"
    },
    "accelerator": "TPU"
  },
  "cells": [
    {
      "cell_type": "markdown",
      "metadata": {
        "id": "view-in-github",
        "colab_type": "text"
      },
      "source": [
        "<a href=\"https://colab.research.google.com/github/walidsi/Data-Science/blob/master/Google%20Machine%20Learning%20Crash%20Course/Linear_Regression_with_a_Real_Dataset.ipynb\" target=\"_parent\"><img src=\"https://colab.research.google.com/assets/colab-badge.svg\" alt=\"Open In Colab\"/></a>"
      ]
    },
    {
      "cell_type": "code",
      "metadata": {
        "id": "wDlWLbfkJtvu",
        "colab_type": "code",
        "cellView": "both",
        "colab": {}
      },
      "source": [
        "#@title Copyright 2020 Google LLC. Double-click here for license information.\n",
        "# Licensed under the Apache License, Version 2.0 (the \"License\");\n",
        "# you may not use this file except in compliance with the License.\n",
        "# You may obtain a copy of the License at\n",
        "#\n",
        "# https://www.apache.org/licenses/LICENSE-2.0\n",
        "#\n",
        "# Unless required by applicable law or agreed to in writing, software\n",
        "# distributed under the License is distributed on an \"AS IS\" BASIS,\n",
        "# WITHOUT WARRANTIES OR CONDITIONS OF ANY KIND, either express or implied.\n",
        "# See the License for the specific language governing permissions and\n",
        "# limitations under the License."
      ],
      "execution_count": 1,
      "outputs": []
    },
    {
      "cell_type": "markdown",
      "metadata": {
        "id": "TL5y5fY9Jy_x",
        "colab_type": "text"
      },
      "source": [
        "# Linear Regression with a Real Dataset\n",
        "\n",
        "This Colab uses a real dataset to predict the prices of houses in California.   \n",
        "\n",
        "\n",
        "\n",
        "\n"
      ]
    },
    {
      "cell_type": "markdown",
      "metadata": {
        "id": "h8wtceyJj2uX",
        "colab_type": "text"
      },
      "source": [
        "## Learning Objectives:\n",
        "\n",
        "After doing this Colab, you'll know how to do the following:\n",
        "\n",
        "  * Read a .csv file into a [pandas](https://developers.google.com/machine-learning/glossary/#pandas) DataFrame.\n",
        "  * Examine a [dataset](https://developers.google.com/machine-learning/glossary/#data_set). \n",
        "  * Experiment with different [features](https://developers.google.com/machine-learning/glossary/#feature) in building a model.\n",
        "  * Tune the model's [hyperparameters](https://developers.google.com/machine-learning/glossary/#hyperparameter)."
      ]
    },
    {
      "cell_type": "markdown",
      "metadata": {
        "id": "JJZEgJQSjyK4",
        "colab_type": "text"
      },
      "source": [
        "## The Dataset\n",
        "  \n",
        "The [dataset for this exercise](https://developers.google.com/machine-learning/crash-course/california-housing-data-description) is based on 1990 census data from California. The dataset is old but still provides a great opportunity to learn about machine learning programming."
      ]
    },
    {
      "cell_type": "markdown",
      "metadata": {
        "id": "tX_umRMMsa3z",
        "colab_type": "text"
      },
      "source": [
        "## Use the right version of TensorFlow\n",
        "\n",
        "The following hidden code cell ensures that the Colab will run on TensorFlow 2.X."
      ]
    },
    {
      "cell_type": "code",
      "metadata": {
        "id": "lM75uNH-sTv2",
        "colab_type": "code",
        "cellView": "form",
        "colab": {}
      },
      "source": [
        "#@title Run on TensorFlow 2.x\n",
        "%tensorflow_version 2.x"
      ],
      "execution_count": 2,
      "outputs": []
    },
    {
      "cell_type": "markdown",
      "metadata": {
        "id": "xchnxAsaKKqO",
        "colab_type": "text"
      },
      "source": [
        "## Import relevant modules\n",
        "\n",
        "The following hidden code cell imports the necessary code to run the code in the rest of this Colaboratory."
      ]
    },
    {
      "cell_type": "code",
      "metadata": {
        "id": "9n9_cTveKmse",
        "colab_type": "code",
        "cellView": "both",
        "colab": {}
      },
      "source": [
        "#@title Import relevant modules\n",
        "import pandas as pd\n",
        "import tensorflow as tf\n",
        "from matplotlib import pyplot as plt\n",
        "\n",
        "# The following lines adjust the granularity of reporting. \n",
        "pd.options.display.max_rows = 10\n",
        "pd.options.display.float_format = \"{:.1f}\".format"
      ],
      "execution_count": 3,
      "outputs": []
    },
    {
      "cell_type": "markdown",
      "metadata": {
        "id": "X_TaJhU4KcuY",
        "colab_type": "text"
      },
      "source": [
        "## The dataset\n",
        "\n",
        "Datasets are often stored on disk or at a URL in [.csv format](https://wikipedia.org/wiki/Comma-separated_values). \n",
        "\n",
        "A well-formed .csv file contains column names in the first row, followed by many rows of data.  A comma divides each value in each row. For example, here are the first five rows of the .csv file file holding the California Housing Dataset:\n",
        "\n",
        "```\n",
        "\"longitude\",\"latitude\",\"housing_median_age\",\"total_rooms\",\"total_bedrooms\",\"population\",\"households\",\"median_income\",\"median_house_value\"\n",
        "-114.310000,34.190000,15.000000,5612.000000,1283.000000,1015.000000,472.000000,1.493600,66900.000000\n",
        "-114.470000,34.400000,19.000000,7650.000000,1901.000000,1129.000000,463.000000,1.820000,80100.000000\n",
        "-114.560000,33.690000,17.000000,720.000000,174.000000,333.000000,117.000000,1.650900,85700.000000\n",
        "-114.570000,33.640000,14.000000,1501.000000,337.000000,515.000000,226.000000,3.191700,73400.000000\n",
        "```\n",
        "\n"
      ]
    },
    {
      "cell_type": "markdown",
      "metadata": {
        "id": "sSFQkzNlj-l6",
        "colab_type": "text"
      },
      "source": [
        "### Load the .csv file into a pandas DataFrame\n",
        "\n",
        "This Colab, like many machine learning programs, gathers the .csv file and stores the data in memory as a pandas Dataframe.  pandas is an open source Python library.  The primary datatype in pandas is a DataFrame.  You can imagine a pandas DataFrame as a spreadsheet in which each row is identified by a number and each column by a name. pandas is itself built on another open source Python library called NumPy. If you aren't familiar with these technologies, please view these two quick tutorials:\n",
        "\n",
        "*   [NumPy](https://colab.research.google.com/github/google/eng-edu/blob/master/ml/cc/exercises/numpy_ultraquick_tutorial.ipynb?utm_source=linearregressionreal-colab&utm_medium=colab&utm_campaign=colab-external&utm_content=numpy_tf2-colab&hl=en)\n",
        "*   [Pandas DataFrames](https://colab.research.google.com/github/google/eng-edu/blob/master/ml/cc/exercises/pandas_dataframe_ultraquick_tutorial.ipynb?utm_source=linearregressionreal-colab&utm_medium=colab&utm_campaign=colab-external&utm_content=pandas_tf2-colab&hl=en)\n",
        "\n",
        "The following code cell imports the .csv file into a pandas DataFrame and scales the values in the label (`median_house_value`):"
      ]
    },
    {
      "cell_type": "code",
      "metadata": {
        "id": "JZlvdpyYKx7V",
        "colab_type": "code",
        "colab": {
          "base_uri": "https://localhost:8080/",
          "height": 195
        },
        "outputId": "10846916-e9e9-447c-8497-d24b1396c6b4"
      },
      "source": [
        "# Import the dataset.\n",
        "training_df = pd.read_csv(filepath_or_buffer=\"https://download.mlcc.google.com/mledu-datasets/california_housing_train.csv\")\n",
        "\n",
        "# Scale the label.\n",
        "training_df[\"median_house_value\"] /= 1000.0\n",
        "\n",
        "# Print the first rows of the pandas DataFrame.\n",
        "training_df.head()"
      ],
      "execution_count": 4,
      "outputs": [
        {
          "output_type": "execute_result",
          "data": {
            "text/html": [
              "<div>\n",
              "<style scoped>\n",
              "    .dataframe tbody tr th:only-of-type {\n",
              "        vertical-align: middle;\n",
              "    }\n",
              "\n",
              "    .dataframe tbody tr th {\n",
              "        vertical-align: top;\n",
              "    }\n",
              "\n",
              "    .dataframe thead th {\n",
              "        text-align: right;\n",
              "    }\n",
              "</style>\n",
              "<table border=\"1\" class=\"dataframe\">\n",
              "  <thead>\n",
              "    <tr style=\"text-align: right;\">\n",
              "      <th></th>\n",
              "      <th>longitude</th>\n",
              "      <th>latitude</th>\n",
              "      <th>housing_median_age</th>\n",
              "      <th>total_rooms</th>\n",
              "      <th>total_bedrooms</th>\n",
              "      <th>population</th>\n",
              "      <th>households</th>\n",
              "      <th>median_income</th>\n",
              "      <th>median_house_value</th>\n",
              "    </tr>\n",
              "  </thead>\n",
              "  <tbody>\n",
              "    <tr>\n",
              "      <th>0</th>\n",
              "      <td>-114.3</td>\n",
              "      <td>34.2</td>\n",
              "      <td>15.0</td>\n",
              "      <td>5612.0</td>\n",
              "      <td>1283.0</td>\n",
              "      <td>1015.0</td>\n",
              "      <td>472.0</td>\n",
              "      <td>1.5</td>\n",
              "      <td>66.9</td>\n",
              "    </tr>\n",
              "    <tr>\n",
              "      <th>1</th>\n",
              "      <td>-114.5</td>\n",
              "      <td>34.4</td>\n",
              "      <td>19.0</td>\n",
              "      <td>7650.0</td>\n",
              "      <td>1901.0</td>\n",
              "      <td>1129.0</td>\n",
              "      <td>463.0</td>\n",
              "      <td>1.8</td>\n",
              "      <td>80.1</td>\n",
              "    </tr>\n",
              "    <tr>\n",
              "      <th>2</th>\n",
              "      <td>-114.6</td>\n",
              "      <td>33.7</td>\n",
              "      <td>17.0</td>\n",
              "      <td>720.0</td>\n",
              "      <td>174.0</td>\n",
              "      <td>333.0</td>\n",
              "      <td>117.0</td>\n",
              "      <td>1.7</td>\n",
              "      <td>85.7</td>\n",
              "    </tr>\n",
              "    <tr>\n",
              "      <th>3</th>\n",
              "      <td>-114.6</td>\n",
              "      <td>33.6</td>\n",
              "      <td>14.0</td>\n",
              "      <td>1501.0</td>\n",
              "      <td>337.0</td>\n",
              "      <td>515.0</td>\n",
              "      <td>226.0</td>\n",
              "      <td>3.2</td>\n",
              "      <td>73.4</td>\n",
              "    </tr>\n",
              "    <tr>\n",
              "      <th>4</th>\n",
              "      <td>-114.6</td>\n",
              "      <td>33.6</td>\n",
              "      <td>20.0</td>\n",
              "      <td>1454.0</td>\n",
              "      <td>326.0</td>\n",
              "      <td>624.0</td>\n",
              "      <td>262.0</td>\n",
              "      <td>1.9</td>\n",
              "      <td>65.5</td>\n",
              "    </tr>\n",
              "  </tbody>\n",
              "</table>\n",
              "</div>"
            ],
            "text/plain": [
              "   longitude  latitude  ...  median_income  median_house_value\n",
              "0     -114.3      34.2  ...            1.5                66.9\n",
              "1     -114.5      34.4  ...            1.8                80.1\n",
              "2     -114.6      33.7  ...            1.7                85.7\n",
              "3     -114.6      33.6  ...            3.2                73.4\n",
              "4     -114.6      33.6  ...            1.9                65.5\n",
              "\n",
              "[5 rows x 9 columns]"
            ]
          },
          "metadata": {
            "tags": []
          },
          "execution_count": 4
        }
      ]
    },
    {
      "cell_type": "markdown",
      "metadata": {
        "id": "5inxx49n4U9u",
        "colab_type": "text"
      },
      "source": [
        "Scaling `median_house_value` puts the value of each house in units of thousands. Scaling will keep loss values and learning rates in a friendlier range.  \n",
        "\n",
        "Although scaling a label is usually *not* essential, scaling features in a multi-feature model usually *is* essential."
      ]
    },
    {
      "cell_type": "markdown",
      "metadata": {
        "id": "yMysi6-3IAbu",
        "colab_type": "text"
      },
      "source": [
        "## Examine the dataset\n",
        "\n",
        "A large part of most machine learning projects is getting to know your data. The pandas API provides a `describe` function that outputs the following statistics about every column in the DataFrame:\n",
        "\n",
        "* `count`, which is the number of rows in that column. Ideally, `count` contains the same value for every column. \n",
        "\n",
        "* `mean` and `std`, which contain the mean and standard deviation of the values in each column. \n",
        "\n",
        "* `min` and `max`, which contain the lowest and highest values in each column.\n",
        "\n",
        "* `25%`, `50%`, `75%`, which contain various [quantiles](https://developers.google.com/machine-learning/glossary/#quantile)."
      ]
    },
    {
      "cell_type": "code",
      "metadata": {
        "id": "rnUSYKw4LUuh",
        "colab_type": "code",
        "colab": {
          "base_uri": "https://localhost:8080/",
          "height": 284
        },
        "outputId": "749805f3-faa6-4f8e-f5a4-47798de0c132"
      },
      "source": [
        "# Get statistics on the dataset.\n",
        "training_df.describe()\n"
      ],
      "execution_count": 5,
      "outputs": [
        {
          "output_type": "execute_result",
          "data": {
            "text/html": [
              "<div>\n",
              "<style scoped>\n",
              "    .dataframe tbody tr th:only-of-type {\n",
              "        vertical-align: middle;\n",
              "    }\n",
              "\n",
              "    .dataframe tbody tr th {\n",
              "        vertical-align: top;\n",
              "    }\n",
              "\n",
              "    .dataframe thead th {\n",
              "        text-align: right;\n",
              "    }\n",
              "</style>\n",
              "<table border=\"1\" class=\"dataframe\">\n",
              "  <thead>\n",
              "    <tr style=\"text-align: right;\">\n",
              "      <th></th>\n",
              "      <th>longitude</th>\n",
              "      <th>latitude</th>\n",
              "      <th>housing_median_age</th>\n",
              "      <th>total_rooms</th>\n",
              "      <th>total_bedrooms</th>\n",
              "      <th>population</th>\n",
              "      <th>households</th>\n",
              "      <th>median_income</th>\n",
              "      <th>median_house_value</th>\n",
              "    </tr>\n",
              "  </thead>\n",
              "  <tbody>\n",
              "    <tr>\n",
              "      <th>count</th>\n",
              "      <td>17000.0</td>\n",
              "      <td>17000.0</td>\n",
              "      <td>17000.0</td>\n",
              "      <td>17000.0</td>\n",
              "      <td>17000.0</td>\n",
              "      <td>17000.0</td>\n",
              "      <td>17000.0</td>\n",
              "      <td>17000.0</td>\n",
              "      <td>17000.0</td>\n",
              "    </tr>\n",
              "    <tr>\n",
              "      <th>mean</th>\n",
              "      <td>-119.6</td>\n",
              "      <td>35.6</td>\n",
              "      <td>28.6</td>\n",
              "      <td>2643.7</td>\n",
              "      <td>539.4</td>\n",
              "      <td>1429.6</td>\n",
              "      <td>501.2</td>\n",
              "      <td>3.9</td>\n",
              "      <td>207.3</td>\n",
              "    </tr>\n",
              "    <tr>\n",
              "      <th>std</th>\n",
              "      <td>2.0</td>\n",
              "      <td>2.1</td>\n",
              "      <td>12.6</td>\n",
              "      <td>2179.9</td>\n",
              "      <td>421.5</td>\n",
              "      <td>1147.9</td>\n",
              "      <td>384.5</td>\n",
              "      <td>1.9</td>\n",
              "      <td>116.0</td>\n",
              "    </tr>\n",
              "    <tr>\n",
              "      <th>min</th>\n",
              "      <td>-124.3</td>\n",
              "      <td>32.5</td>\n",
              "      <td>1.0</td>\n",
              "      <td>2.0</td>\n",
              "      <td>1.0</td>\n",
              "      <td>3.0</td>\n",
              "      <td>1.0</td>\n",
              "      <td>0.5</td>\n",
              "      <td>15.0</td>\n",
              "    </tr>\n",
              "    <tr>\n",
              "      <th>25%</th>\n",
              "      <td>-121.8</td>\n",
              "      <td>33.9</td>\n",
              "      <td>18.0</td>\n",
              "      <td>1462.0</td>\n",
              "      <td>297.0</td>\n",
              "      <td>790.0</td>\n",
              "      <td>282.0</td>\n",
              "      <td>2.6</td>\n",
              "      <td>119.4</td>\n",
              "    </tr>\n",
              "    <tr>\n",
              "      <th>50%</th>\n",
              "      <td>-118.5</td>\n",
              "      <td>34.2</td>\n",
              "      <td>29.0</td>\n",
              "      <td>2127.0</td>\n",
              "      <td>434.0</td>\n",
              "      <td>1167.0</td>\n",
              "      <td>409.0</td>\n",
              "      <td>3.5</td>\n",
              "      <td>180.4</td>\n",
              "    </tr>\n",
              "    <tr>\n",
              "      <th>75%</th>\n",
              "      <td>-118.0</td>\n",
              "      <td>37.7</td>\n",
              "      <td>37.0</td>\n",
              "      <td>3151.2</td>\n",
              "      <td>648.2</td>\n",
              "      <td>1721.0</td>\n",
              "      <td>605.2</td>\n",
              "      <td>4.8</td>\n",
              "      <td>265.0</td>\n",
              "    </tr>\n",
              "    <tr>\n",
              "      <th>max</th>\n",
              "      <td>-114.3</td>\n",
              "      <td>42.0</td>\n",
              "      <td>52.0</td>\n",
              "      <td>37937.0</td>\n",
              "      <td>6445.0</td>\n",
              "      <td>35682.0</td>\n",
              "      <td>6082.0</td>\n",
              "      <td>15.0</td>\n",
              "      <td>500.0</td>\n",
              "    </tr>\n",
              "  </tbody>\n",
              "</table>\n",
              "</div>"
            ],
            "text/plain": [
              "       longitude  latitude  ...  median_income  median_house_value\n",
              "count    17000.0   17000.0  ...        17000.0             17000.0\n",
              "mean      -119.6      35.6  ...            3.9               207.3\n",
              "std          2.0       2.1  ...            1.9               116.0\n",
              "min       -124.3      32.5  ...            0.5                15.0\n",
              "25%       -121.8      33.9  ...            2.6               119.4\n",
              "50%       -118.5      34.2  ...            3.5               180.4\n",
              "75%       -118.0      37.7  ...            4.8               265.0\n",
              "max       -114.3      42.0  ...           15.0               500.0\n",
              "\n",
              "[8 rows x 9 columns]"
            ]
          },
          "metadata": {
            "tags": []
          },
          "execution_count": 5
        }
      ]
    },
    {
      "cell_type": "markdown",
      "metadata": {
        "id": "f9pcW_Yjtoo8",
        "colab_type": "text"
      },
      "source": [
        "### Task 1: Identify anomalies in the dataset\n",
        "\n",
        "Do you see any anomalies (strange values) in the data? "
      ]
    },
    {
      "cell_type": "code",
      "metadata": {
        "id": "UoS7NWRXEs1H",
        "colab_type": "code",
        "cellView": "both",
        "colab": {}
      },
      "source": [
        "#@title Double-click to view a possible answer.\n",
        "\n",
        "# The maximum value (max) of several columns seems very\n",
        "# high compared to the other quantiles. For example,\n",
        "# example the total_rooms column. Given the quantile\n",
        "# values (25%, 50%, and 75%), you might expect the \n",
        "# max value of total_rooms to be approximately \n",
        "# 5,000 or possibly 10,000. However, the max value \n",
        "# is actually 37,937.\n",
        "\n",
        "# When you see anomalies in a column, become more careful\n",
        "# about using that column as a feature. That said,\n",
        "# anomalies in potential features sometimes mirror \n",
        "# anomalies in the label, which could make the column \n",
        "# be (or seem to be) a powerful feature.\n",
        "# Also, as you will see later in the course, you \n",
        "# might be able to represent (pre-process) raw data \n",
        "# in order to make columns into useful features."
      ],
      "execution_count": 6,
      "outputs": []
    },
    {
      "cell_type": "markdown",
      "metadata": {
        "id": "3014ezH3C7jT",
        "colab_type": "text"
      },
      "source": [
        "## Define functions that build and train a model\n",
        "\n",
        "The following code defines two functions:\n",
        "\n",
        "  * `build_model(my_learning_rate)`, which builds a randomly-initialized model.\n",
        "  * `train_model(model, feature, label, epochs)`, which trains the model from the examples (feature and label) you pass. \n",
        "\n",
        "Since you don't need to understand model building code right now, we've hidden this code cell.  You may optionally double-click the following headline to see the code that builds and trains a model."
      ]
    },
    {
      "cell_type": "code",
      "metadata": {
        "id": "pedD5GhlDC-y",
        "colab_type": "code",
        "cellView": "form",
        "colab": {
          "base_uri": "https://localhost:8080/",
          "height": 34
        },
        "outputId": "db197c59-5492-4754-aa36-e6fabd0ad8f6"
      },
      "source": [
        "#@title Define the functions that build and train a model\n",
        "def build_model(my_learning_rate):\n",
        "  \"\"\"Create and compile a simple linear regression model.\"\"\"\n",
        "  # Most simple tf.keras models are sequential.\n",
        "  model = tf.keras.models.Sequential()\n",
        "\n",
        "  # Describe the topography of the model.\n",
        "  # The topography of a simple linear regression model\n",
        "  # is a single node in a single layer.\n",
        "  model.add(tf.keras.layers.Dense(units=1, \n",
        "                                  input_shape=(1,)))\n",
        "\n",
        "  # Compile the model topography into code that TensorFlow can efficiently\n",
        "  # execute. Configure training to minimize the model's mean squared error. \n",
        "  model.compile(optimizer=tf.keras.optimizers.RMSprop(lr=my_learning_rate),\n",
        "                loss=\"mean_squared_error\",\n",
        "                metrics=[tf.keras.metrics.RootMeanSquaredError()])\n",
        "\n",
        "  return model        \n",
        "\n",
        "\n",
        "def train_model(model, df, feature, label, epochs, batch_size):\n",
        "  \"\"\"Train the model by feeding it data.\"\"\"\n",
        "\n",
        "  # Feed the model the feature and the label.\n",
        "  # The model will train for the specified number of epochs. \n",
        "  history = model.fit(x=df[feature],\n",
        "                      y=df[label],\n",
        "                      batch_size=batch_size,\n",
        "                      epochs=epochs)\n",
        "\n",
        "  # Gather the trained model's weight and bias.\n",
        "  trained_weight = model.get_weights()[0]\n",
        "  trained_bias = model.get_weights()[1]\n",
        "\n",
        "  # The list of epochs is stored separately from the rest of history.\n",
        "  epochs = history.epoch\n",
        "  \n",
        "  # Isolate the error for each epoch.\n",
        "  hist = pd.DataFrame(history.history)\n",
        "\n",
        "  # To track the progression of training, we're going to take a snapshot\n",
        "  # of the model's root mean squared error at each epoch. \n",
        "  rmse = hist[\"root_mean_squared_error\"]\n",
        "\n",
        "  return trained_weight, trained_bias, epochs, rmse\n",
        "\n",
        "print(\"Defined the create_model and traing_model functions.\")"
      ],
      "execution_count": 7,
      "outputs": [
        {
          "output_type": "stream",
          "text": [
            "Defined the create_model and traing_model functions.\n"
          ],
          "name": "stdout"
        }
      ]
    },
    {
      "cell_type": "markdown",
      "metadata": {
        "id": "Ak_TMAzGOIFq",
        "colab_type": "text"
      },
      "source": [
        "## Define plotting functions\n",
        "\n",
        "The following [matplotlib](https://developers.google.com/machine-learning/glossary/#matplotlib) functions create the following plots:\n",
        "\n",
        "*  a scatter plot of the feature vs. the label, and a line showing the output of the trained model\n",
        "*  a loss curve\n",
        "\n",
        "You may optionally double-click the headline to see the matplotlib code, but note that writing matplotlib code is not an important part of learning ML programming."
      ]
    },
    {
      "cell_type": "code",
      "metadata": {
        "id": "QF0BFRXTOeR3",
        "colab_type": "code",
        "cellView": "both",
        "colab": {
          "base_uri": "https://localhost:8080/",
          "height": 34
        },
        "outputId": "9bd134f6-9b23-4e50-8f02-dc00984b5abf"
      },
      "source": [
        "#@title Define the plotting functions\n",
        "def plot_the_model(trained_weight, trained_bias, feature, label):\n",
        "  \"\"\"Plot the trained model against 200 random training examples.\"\"\"\n",
        "\n",
        "  # Label the axes.\n",
        "  plt.xlabel(feature)\n",
        "  plt.ylabel(label)\n",
        "\n",
        "  # Create a scatter plot from 200 random points of the dataset.\n",
        "  random_examples = training_df.sample(n=200)\n",
        "  plt.scatter(random_examples[feature], random_examples[label])\n",
        "\n",
        "  # Create a red line representing the model. The red line starts\n",
        "  # at coordinates (x0, y0) and ends at coordinates (x1, y1).\n",
        "  x0 = 0\n",
        "  y0 = trained_bias\n",
        "  x1 = max(training_df[feature])\n",
        "  y1 = trained_bias + (trained_weight * x1)\n",
        "  plt.plot([x0, x1], [y0, y1], c='r')\n",
        "\n",
        "  # Render the scatter plot and the red line.\n",
        "  plt.show()\n",
        "\n",
        "\n",
        "def plot_the_loss_curve(epochs, rmse):\n",
        "  \"\"\"Plot a curve of loss vs. epoch.\"\"\"\n",
        "\n",
        "  plt.figure()\n",
        "  plt.xlabel(\"Epoch\")\n",
        "  plt.ylabel(\"Root Mean Squared Error\")\n",
        "\n",
        "  plt.plot(epochs, rmse, label=\"Loss\")\n",
        "  plt.legend()\n",
        "  plt.ylim([rmse.min()*0.97, rmse.max()])\n",
        "  plt.show()  \n",
        "\n",
        "print(\"Defined the plot_the_model and plot_the_loss_curve functions.\")"
      ],
      "execution_count": 8,
      "outputs": [
        {
          "output_type": "stream",
          "text": [
            "Defined the plot_the_model and plot_the_loss_curve functions.\n"
          ],
          "name": "stdout"
        }
      ]
    },
    {
      "cell_type": "markdown",
      "metadata": {
        "id": "D-IXYVfvM4gD",
        "colab_type": "text"
      },
      "source": [
        "## Call the model functions\n",
        "\n",
        "An important part of machine learning is determining which [features](https://developers.google.com/machine-learning/glossary/#feature) correlate with the [label](https://developers.google.com/machine-learning/glossary/#label). For example, real-life home-value prediction models typically rely on hundreds of features and synthetic features. However, this model relies on only one feature. For now, you'll arbitrarily use `total_rooms` as that feature. \n"
      ]
    },
    {
      "cell_type": "code",
      "metadata": {
        "id": "nj3v5EKQFY8s",
        "colab_type": "code",
        "cellView": "both",
        "colab": {
          "base_uri": "https://localhost:8080/",
          "height": 1000
        },
        "outputId": "62cc1f00-027b-4d25-d867-5afece9923d8"
      },
      "source": [
        "# The following variables are the hyperparameters.\n",
        "learning_rate = 0.01\n",
        "epochs = 30\n",
        "batch_size = 30\n",
        "\n",
        "# Specify the feature and the label.\n",
        "my_feature = \"total_rooms\"  # the total number of rooms on a specific city block.\n",
        "my_label=\"median_house_value\" # the median value of a house on a specific city block.\n",
        "# That is, you're going to create a model that predicts house value based \n",
        "# solely on total_rooms.  \n",
        "\n",
        "# Discard any pre-existing version of the model.\n",
        "my_model = None\n",
        "\n",
        "# Invoke the functions.\n",
        "my_model = build_model(learning_rate)\n",
        "weight, bias, epochs, rmse = train_model(my_model, training_df, \n",
        "                                         my_feature, my_label,\n",
        "                                         epochs, batch_size)\n",
        "\n",
        "print(\"\\nThe learned weight for your model is %.4f\" % weight)\n",
        "print(\"The learned bias for your model is %.4f\\n\" % bias )\n",
        "\n",
        "plot_the_model(weight, bias, my_feature, my_label)\n",
        "plot_the_loss_curve(epochs, rmse)"
      ],
      "execution_count": 9,
      "outputs": [
        {
          "output_type": "stream",
          "text": [
            "Epoch 1/30\n",
            "567/567 [==============================] - 1s 1ms/step - loss: 2386583.2500 - root_mean_squared_error: 1544.8571\n",
            "Epoch 2/30\n",
            "567/567 [==============================] - 1s 988us/step - loss: 27790.3359 - root_mean_squared_error: 166.7043\n",
            "Epoch 3/30\n",
            "567/567 [==============================] - 1s 1ms/step - loss: 27090.0332 - root_mean_squared_error: 164.5905\n",
            "Epoch 4/30\n",
            "567/567 [==============================] - 1s 978us/step - loss: 26402.4434 - root_mean_squared_error: 162.4883\n",
            "Epoch 5/30\n",
            "567/567 [==============================] - 1s 1ms/step - loss: 25434.3750 - root_mean_squared_error: 159.4816\n",
            "Epoch 6/30\n",
            "567/567 [==============================] - 1s 1ms/step - loss: 24849.9062 - root_mean_squared_error: 157.6385\n",
            "Epoch 7/30\n",
            "567/567 [==============================] - 1s 1ms/step - loss: 24140.9004 - root_mean_squared_error: 155.3734\n",
            "Epoch 8/30\n",
            "567/567 [==============================] - 1s 988us/step - loss: 23609.8809 - root_mean_squared_error: 153.6551\n",
            "Epoch 9/30\n",
            "567/567 [==============================] - 1s 1ms/step - loss: 23083.0215 - root_mean_squared_error: 151.9310\n",
            "Epoch 10/30\n",
            "567/567 [==============================] - 1s 1ms/step - loss: 22574.1328 - root_mean_squared_error: 150.2469\n",
            "Epoch 11/30\n",
            "567/567 [==============================] - 1s 1ms/step - loss: 22032.7305 - root_mean_squared_error: 148.4343\n",
            "Epoch 12/30\n",
            "567/567 [==============================] - 1s 1ms/step - loss: 21267.9062 - root_mean_squared_error: 145.8352\n",
            "Epoch 13/30\n",
            "567/567 [==============================] - 1s 1ms/step - loss: 20805.1016 - root_mean_squared_error: 144.2397\n",
            "Epoch 14/30\n",
            "567/567 [==============================] - 1s 991us/step - loss: 20378.8477 - root_mean_squared_error: 142.7545\n",
            "Epoch 15/30\n",
            "567/567 [==============================] - 1s 1ms/step - loss: 19872.2500 - root_mean_squared_error: 140.9690\n",
            "Epoch 16/30\n",
            "567/567 [==============================] - 1s 1ms/step - loss: 19401.0566 - root_mean_squared_error: 139.2877\n",
            "Epoch 17/30\n",
            "567/567 [==============================] - 1s 1ms/step - loss: 19075.7930 - root_mean_squared_error: 138.1151\n",
            "Epoch 18/30\n",
            "567/567 [==============================] - 1s 1ms/step - loss: 18679.1738 - root_mean_squared_error: 136.6718\n",
            "Epoch 19/30\n",
            "567/567 [==============================] - 1s 1ms/step - loss: 18223.7598 - root_mean_squared_error: 134.9954\n",
            "Epoch 20/30\n",
            "567/567 [==============================] - 1s 1ms/step - loss: 17963.7578 - root_mean_squared_error: 134.0289\n",
            "Epoch 21/30\n",
            "567/567 [==============================] - 1s 1ms/step - loss: 17502.0508 - root_mean_squared_error: 132.2953\n",
            "Epoch 22/30\n",
            "567/567 [==============================] - 1s 1ms/step - loss: 17182.7812 - root_mean_squared_error: 131.0831\n",
            "Epoch 23/30\n",
            "567/567 [==============================] - 1s 1ms/step - loss: 16905.6895 - root_mean_squared_error: 130.0219\n",
            "Epoch 24/30\n",
            "567/567 [==============================] - 1s 1ms/step - loss: 16556.0527 - root_mean_squared_error: 128.6703\n",
            "Epoch 25/30\n",
            "567/567 [==============================] - 1s 1ms/step - loss: 16319.3301 - root_mean_squared_error: 127.7471\n",
            "Epoch 26/30\n",
            "567/567 [==============================] - 1s 1ms/step - loss: 15998.0703 - root_mean_squared_error: 126.4835\n",
            "Epoch 27/30\n",
            "567/567 [==============================] - 1s 1ms/step - loss: 15907.3623 - root_mean_squared_error: 126.1244\n",
            "Epoch 28/30\n",
            "567/567 [==============================] - 1s 1ms/step - loss: 15650.1318 - root_mean_squared_error: 125.1005\n",
            "Epoch 29/30\n",
            "567/567 [==============================] - 1s 1ms/step - loss: 15507.6650 - root_mean_squared_error: 124.5298\n",
            "Epoch 30/30\n",
            "567/567 [==============================] - 1s 1ms/step - loss: 15241.9336 - root_mean_squared_error: 123.4582\n",
            "\n",
            "The learned weight for your model is -0.0002\n",
            "The learned bias for your model is 132.3413\n",
            "\n"
          ],
          "name": "stdout"
        },
        {
          "output_type": "display_data",
          "data": {
            "image/png": "[encoded data removed]",
            "text/plain": [
              "<Figure size 432x288 with 1 Axes>"
            ]
          },
          "metadata": {
            "tags": [],
            "needs_background": "light"
          }
        },
        {
          "output_type": "display_data",
          "data": {
            "image/png": "[encoded data removed]",
            "text/plain": [
              "<Figure size 432x288 with 1 Axes>"
            ]
          },
          "metadata": {
            "tags": [],
            "needs_background": "light"
          }
        }
      ]
    },
    {
      "cell_type": "markdown",
      "metadata": {
        "id": "Btp8zUNbYOcd",
        "colab_type": "text"
      },
      "source": [
        "A certain amount of randomness plays into training a model. Consequently, you'll get different results each time you train the model. That said, given the dataset and the hyperparameters, the trained model will generally do a poor job describing the feature's relation to the label."
      ]
    },
    {
      "cell_type": "markdown",
      "metadata": {
        "id": "1xNqWWos_zyk",
        "colab_type": "text"
      },
      "source": [
        "## Use the model to make predictions\n",
        "\n",
        "You can use the trained model to make predictions. In practice, [you should make predictions on examples that are not used in training](https://developers.google.com/machine-learning/crash-course/training-and-test-sets/splitting-data). However, for this exercise, you'll just work with a subset of the same training dataset. A later Colab exercise will explore ways to make predictions on examples not used in training.\n",
        "\n",
        "First, run the following code to define the house prediction function:"
      ]
    },
    {
      "cell_type": "code",
      "metadata": {
        "id": "nH63BmncAcab",
        "colab_type": "code",
        "colab": {}
      },
      "source": [
        "def predict_house_values(n, feature, label):\n",
        "  \"\"\"Predict house values based on a feature.\"\"\"\n",
        "\n",
        "  batch = training_df[feature][10000:10000 + n]\n",
        "  predicted_values = my_model.predict_on_batch(x=batch)\n",
        "\n",
        "  print(\"feature   label          predicted\")\n",
        "  print(\"  value   value          value\")\n",
        "  print(\"          in thousand$   in thousand$\")\n",
        "  print(\"--------------------------------------\")\n",
        "  for i in range(n):\n",
        "    print (\"%5.0f %6.0f %15.0f\" % (training_df[feature][10000 + i],\n",
        "                                   training_df[label][10000 + i],\n",
        "                                   predicted_values[i][0] ))"
      ],
      "execution_count": 10,
      "outputs": []
    },
    {
      "cell_type": "markdown",
      "metadata": {
        "id": "NbBNQujU5WjK",
        "colab_type": "text"
      },
      "source": [
        "Now, invoke the house prediction function on 10 examples:"
      ]
    },
    {
      "cell_type": "code",
      "metadata": {
        "id": "Y_0DGBt0Kz_N",
        "colab_type": "code",
        "colab": {
          "base_uri": "https://localhost:8080/",
          "height": 252
        },
        "outputId": "a8f8e341-092c-48e3-c7f0-b210b5e0317c"
      },
      "source": [
        "predict_house_values(10, my_feature, my_label)"
      ],
      "execution_count": 11,
      "outputs": [
        {
          "output_type": "stream",
          "text": [
            "feature   label          predicted\n",
            "  value   value          value\n",
            "          in thousand$   in thousand$\n",
            "--------------------------------------\n",
            " 1960     53             132\n",
            " 3400     92             132\n",
            " 3677     69             132\n",
            " 2202     62             132\n",
            " 2403     80             132\n",
            " 5652    295             131\n",
            " 3318    500             132\n",
            " 2552    342             132\n",
            " 1364    118             132\n",
            " 3468    128             132\n"
          ],
          "name": "stdout"
        }
      ]
    },
    {
      "cell_type": "markdown",
      "metadata": {
        "id": "-gGaqArcpqY3",
        "colab_type": "text"
      },
      "source": [
        "### Task 2: Judge the predictive power of the model\n",
        "\n",
        "Look at the preceding table. How close is the predicted value to the label value?  In other words, does your model accurately predict house values?  "
      ]
    },
    {
      "cell_type": "code",
      "metadata": {
        "id": "yVpjhUFm9uID",
        "colab_type": "code",
        "cellView": "both",
        "colab": {}
      },
      "source": [
        "#@title Double-click to view the answer.\n",
        "\n",
        "# Most of the predicted values differ significantly\n",
        "# from the label value, so the trained model probably \n",
        "# doesn't have much predictive power. However, the\n",
        "# first 10 examples might not be representative of \n",
        "# the rest of the examples.  "
      ],
      "execution_count": 12,
      "outputs": []
    },
    {
      "cell_type": "markdown",
      "metadata": {
        "id": "wLoqis3IUPSd",
        "colab_type": "text"
      },
      "source": [
        "## Task 3: Try a different feature\n",
        "\n",
        "The `total_rooms` feature had only a little predictive power. Would a different feature have greater predictive power?  Try using `population` as the feature instead of `total_rooms`. \n",
        "\n",
        "Note: When you change features, you might also need to change the hyperparameters."
      ]
    },
    {
      "cell_type": "code",
      "metadata": {
        "id": "H0ab6HD4ZO75",
        "colab_type": "code",
        "colab": {
          "base_uri": "https://localhost:8080/",
          "height": 1000
        },
        "outputId": "69e7af2d-a91e-4352-81a1-ccb6bd6b57b1"
      },
      "source": [
        "my_feature = \"population\"   # Replace the ? with population or possibly\n",
        "                   # a different column name.\n",
        "\n",
        "# Experiment with the hyperparameters.\n",
        "learning_rate = 0.1\n",
        "epochs = 30\n",
        "batch_size = 12\n",
        "\n",
        "# Don't change anything below this line.\n",
        "my_model = build_model(learning_rate)\n",
        "weight, bias, epochs, rmse = train_model(my_model, training_df, \n",
        "                                         my_feature, my_label,\n",
        "                                         epochs, batch_size)\n",
        "plot_the_model(weight, bias, my_feature, my_label)\n",
        "plot_the_loss_curve(epochs, rmse)\n",
        "\n",
        "predict_house_values(15, my_feature, my_label)"
      ],
      "execution_count": 13,
      "outputs": [
        {
          "output_type": "stream",
          "text": [
            "Epoch 1/30\n",
            "1417/1417 [==============================] - 1s 1ms/step - loss: 46465.5352 - root_mean_squared_error: 215.5587\n",
            "Epoch 2/30\n",
            "1417/1417 [==============================] - 1s 1ms/step - loss: 30169.0527 - root_mean_squared_error: 173.6924\n",
            "Epoch 3/30\n",
            "1417/1417 [==============================] - 1s 996us/step - loss: 25682.9258 - root_mean_squared_error: 160.2589\n",
            "Epoch 4/30\n",
            "1417/1417 [==============================] - 1s 1ms/step - loss: 23727.4492 - root_mean_squared_error: 154.0372\n",
            "Epoch 5/30\n",
            "1417/1417 [==============================] - 1s 1ms/step - loss: 22763.2988 - root_mean_squared_error: 150.8751\n",
            "Epoch 6/30\n",
            "1417/1417 [==============================] - 2s 1ms/step - loss: 22823.9082 - root_mean_squared_error: 151.0758\n",
            "Epoch 7/30\n",
            "1417/1417 [==============================] - 1s 1ms/step - loss: 22564.3906 - root_mean_squared_error: 150.2145\n",
            "Epoch 8/30\n",
            "1417/1417 [==============================] - 1s 1ms/step - loss: 22970.6484 - root_mean_squared_error: 151.5607\n",
            "Epoch 9/30\n",
            "1417/1417 [==============================] - 1s 1ms/step - loss: 24083.9199 - root_mean_squared_error: 155.1899\n",
            "Epoch 10/30\n",
            "1417/1417 [==============================] - 2s 1ms/step - loss: 23237.8594 - root_mean_squared_error: 152.4397\n",
            "Epoch 11/30\n",
            "1417/1417 [==============================] - 1s 1ms/step - loss: 24504.9980 - root_mean_squared_error: 156.5407\n",
            "Epoch 12/30\n",
            "1417/1417 [==============================] - 1s 989us/step - loss: 23116.4375 - root_mean_squared_error: 152.0409\n",
            "Epoch 13/30\n",
            "1417/1417 [==============================] - 1s 1ms/step - loss: 22995.9277 - root_mean_squared_error: 151.6441\n",
            "Epoch 14/30\n",
            "1417/1417 [==============================] - 2s 1ms/step - loss: 23099.0391 - root_mean_squared_error: 151.9837\n",
            "Epoch 15/30\n",
            "1417/1417 [==============================] - 1s 1ms/step - loss: 23727.1230 - root_mean_squared_error: 154.0361\n",
            "Epoch 16/30\n",
            "1417/1417 [==============================] - 1s 1ms/step - loss: 23327.7461 - root_mean_squared_error: 152.7342\n",
            "Epoch 17/30\n",
            "1417/1417 [==============================] - 1s 1ms/step - loss: 22977.9238 - root_mean_squared_error: 151.5847\n",
            "Epoch 18/30\n",
            "1417/1417 [==============================] - 1s 978us/step - loss: 24891.5176 - root_mean_squared_error: 157.7705\n",
            "Epoch 19/30\n",
            "1417/1417 [==============================] - 2s 1ms/step - loss: 22519.3184 - root_mean_squared_error: 150.0644\n",
            "Epoch 20/30\n",
            "1417/1417 [==============================] - 1s 1ms/step - loss: 23243.7461 - root_mean_squared_error: 152.4590\n",
            "Epoch 21/30\n",
            "1417/1417 [==============================] - 1s 1ms/step - loss: 23678.1504 - root_mean_squared_error: 153.8771\n",
            "Epoch 22/30\n",
            "1417/1417 [==============================] - 1s 998us/step - loss: 22698.9023 - root_mean_squared_error: 150.6615\n",
            "Epoch 23/30\n",
            "1417/1417 [==============================] - 1s 1ms/step - loss: 23905.5371 - root_mean_squared_error: 154.6142\n",
            "Epoch 24/30\n",
            "1417/1417 [==============================] - 1s 1ms/step - loss: 23666.1016 - root_mean_squared_error: 153.8379\n",
            "Epoch 25/30\n",
            "1417/1417 [==============================] - 1s 1ms/step - loss: 23323.4004 - root_mean_squared_error: 152.7200\n",
            "Epoch 26/30\n",
            "1417/1417 [==============================] - 2s 1ms/step - loss: 23000.3750 - root_mean_squared_error: 151.6588\n",
            "Epoch 27/30\n",
            "1417/1417 [==============================] - 1s 1ms/step - loss: 22914.4844 - root_mean_squared_error: 151.3753\n",
            "Epoch 28/30\n",
            "1417/1417 [==============================] - 1s 1ms/step - loss: 22898.3516 - root_mean_squared_error: 151.3220\n",
            "Epoch 29/30\n",
            "1417/1417 [==============================] - 1s 978us/step - loss: 24166.8301 - root_mean_squared_error: 155.4568\n",
            "Epoch 30/30\n",
            "1417/1417 [==============================] - 1s 1ms/step - loss: 23633.9004 - root_mean_squared_error: 153.7332\n"
          ],
          "name": "stdout"
        },
        {
          "output_type": "display_data",
          "data": {
            "image/png": "[encoded data removed]",
            "text/plain": [
              "<Figure size 432x288 with 1 Axes>"
            ]
          },
          "metadata": {
            "tags": [],
            "needs_background": "light"
          }
        },
        {
          "output_type": "display_data",
          "data": {
            "image/png": "[encoded data removed]",
            "text/plain": [
              "<Figure size 432x288 with 1 Axes>"
            ]
          },
          "metadata": {
            "tags": [],
            "needs_background": "light"
          }
        },
        {
          "output_type": "stream",
          "text": [
            "feature   label          predicted\n",
            "  value   value          value\n",
            "          in thousand$   in thousand$\n",
            "--------------------------------------\n",
            " 1286     53             334\n",
            " 1867     92             389\n",
            " 2191     69             419\n",
            " 1052     62             312\n",
            " 1647     80             368\n",
            " 2312    295             431\n",
            " 1604    500             364\n",
            " 1066    342             313\n",
            "  338    118             245\n",
            " 1604    128             364\n",
            " 1200    187             326\n",
            "  292     80             241\n",
            " 2014    112             403\n",
            " 1817     95             384\n",
            " 1328     69             338\n"
          ],
          "name": "stdout"
        }
      ]
    },
    {
      "cell_type": "code",
      "metadata": {
        "id": "107mDkW7U6mg",
        "colab_type": "code",
        "cellView": "both",
        "colab": {
          "base_uri": "https://localhost:8080/",
          "height": 1000
        },
        "outputId": "f1383793-902e-4975-898d-9ad7a4ca46e5"
      },
      "source": [
        "#@title Double-click to view a possible solution.\n",
        "\n",
        "my_feature = \"population\" # Pick a feature other than \"total_rooms\"\n",
        "\n",
        "# Possibly, experiment with the hyperparameters.\n",
        "learning_rate = 0.05\n",
        "epochs = 18\n",
        "batch_size = 3\n",
        "\n",
        "# Don't change anything below.\n",
        "my_model = build_model(learning_rate)\n",
        "weight, bias, epochs, rmse = train_model(my_model, training_df, \n",
        "                                         my_feature, my_label,\n",
        "                                         epochs, batch_size)\n",
        "\n",
        "plot_the_model(weight, bias, my_feature, my_label)\n",
        "plot_the_loss_curve(epochs, rmse)\n",
        "\n",
        "predict_house_values(10, my_feature, my_label)"
      ],
      "execution_count": 14,
      "outputs": [
        {
          "output_type": "stream",
          "text": [
            "Epoch 1/18\n",
            "5667/5667 [==============================] - 6s 1ms/step - loss: 34671.3164 - root_mean_squared_error: 186.2023\n",
            "Epoch 2/18\n",
            "5667/5667 [==============================] - 6s 1ms/step - loss: 19943.0449 - root_mean_squared_error: 141.2198\n",
            "Epoch 3/18\n",
            "5667/5667 [==============================] - 6s 1ms/step - loss: 18188.8652 - root_mean_squared_error: 134.8661\n",
            "Epoch 4/18\n",
            "5667/5667 [==============================] - 6s 1ms/step - loss: 18338.3613 - root_mean_squared_error: 135.4192\n",
            "Epoch 5/18\n",
            "5667/5667 [==============================] - 6s 975us/step - loss: 18395.9414 - root_mean_squared_error: 135.6316\n",
            "Epoch 6/18\n",
            "5667/5667 [==============================] - 5s 907us/step - loss: 17970.7402 - root_mean_squared_error: 134.0550\n",
            "Epoch 7/18\n",
            "5667/5667 [==============================] - 5s 893us/step - loss: 18276.1055 - root_mean_squared_error: 135.1891\n",
            "Epoch 8/18\n",
            "5667/5667 [==============================] - 5s 911us/step - loss: 17845.5742 - root_mean_squared_error: 133.5873\n",
            "Epoch 9/18\n",
            "5667/5667 [==============================] - 5s 869us/step - loss: 17816.8438 - root_mean_squared_error: 133.4798\n",
            "Epoch 10/18\n",
            "5667/5667 [==============================] - 5s 892us/step - loss: 17979.1504 - root_mean_squared_error: 134.0863\n",
            "Epoch 11/18\n",
            "5667/5667 [==============================] - 5s 911us/step - loss: 18145.6250 - root_mean_squared_error: 134.7057\n",
            "Epoch 12/18\n",
            "5667/5667 [==============================] - 5s 936us/step - loss: 18269.8164 - root_mean_squared_error: 135.1659\n",
            "Epoch 13/18\n",
            "5667/5667 [==============================] - 5s 906us/step - loss: 18013.1172 - root_mean_squared_error: 134.2130\n",
            "Epoch 14/18\n",
            "5667/5667 [==============================] - 5s 903us/step - loss: 18390.2578 - root_mean_squared_error: 135.6107\n",
            "Epoch 15/18\n",
            "5667/5667 [==============================] - 5s 877us/step - loss: 18508.8066 - root_mean_squared_error: 136.0471\n",
            "Epoch 16/18\n",
            "5667/5667 [==============================] - 5s 899us/step - loss: 18057.9570 - root_mean_squared_error: 134.3799\n",
            "Epoch 17/18\n",
            "5667/5667 [==============================] - 5s 918us/step - loss: 17942.2988 - root_mean_squared_error: 133.9489\n",
            "Epoch 18/18\n",
            "5667/5667 [==============================] - 5s 900us/step - loss: 17964.0918 - root_mean_squared_error: 134.0302\n"
          ],
          "name": "stdout"
        },
        {
          "output_type": "display_data",
          "data": {
            "image/png": "[encoded data removed]",
            "text/plain": [
              "<Figure size 432x288 with 1 Axes>"
            ]
          },
          "metadata": {
            "tags": [],
            "needs_background": "light"
          }
        },
        {
          "output_type": "display_data",
          "data": {
            "image/png": "[encoded data removed]",
            "text/plain": [
              "<Figure size 432x288 with 1 Axes>"
            ]
          },
          "metadata": {
            "tags": [],
            "needs_background": "light"
          }
        },
        {
          "output_type": "stream",
          "text": [
            "feature   label          predicted\n",
            "  value   value          value\n",
            "          in thousand$   in thousand$\n",
            "--------------------------------------\n",
            " 1286     53             299\n",
            " 1867     92             340\n",
            " 2191     69             363\n",
            " 1052     62             282\n",
            " 1647     80             324\n",
            " 2312    295             371\n",
            " 1604    500             321\n",
            " 1066    342             283\n",
            "  338    118             231\n",
            " 1604    128             321\n"
          ],
          "name": "stdout"
        }
      ]
    },
    {
      "cell_type": "markdown",
      "metadata": {
        "id": "Nd_rHJ59AUtk",
        "colab_type": "text"
      },
      "source": [
        "Did `population` produce better predictions than `total_rooms`?"
      ]
    },
    {
      "cell_type": "code",
      "metadata": {
        "id": "F0tPEtzcC-vK",
        "colab_type": "code",
        "cellView": "both",
        "colab": {}
      },
      "source": [
        "#@title Double-click to view the answer.\n",
        "\n",
        "# Training is not entirely deterministic, but population \n",
        "# typically converges at a slightly higher RMSE than \n",
        "# total_rooms.  So, population appears to be about \n",
        "# the same or slightly worse at making predictions \n",
        "# than total_rooms."
      ],
      "execution_count": 15,
      "outputs": []
    },
    {
      "cell_type": "markdown",
      "metadata": {
        "id": "C8uYpyGacsIg",
        "colab_type": "text"
      },
      "source": [
        "## Task 4: Define a synthetic feature\n",
        "\n",
        "You have determined that `total_rooms` and `population` were not useful features.  That is, neither the total number of rooms in a neighborhood nor the neighborhood's population successfully predicted the median house price of that neighborhood. Perhaps though, the *ratio* of `total_rooms` to `population` might have some predictive power. That is, perhaps block density relates to median house value.\n",
        "\n",
        "To explore this hypothesis, do the following: \n",
        "\n",
        "1. Create a [synthetic feature](https://developers.google.com/machine-learning/glossary/#synthetic_feature) that's a ratio of `total_rooms` to `population`. (If you are new to pandas DataFrames, please study the [Pandas DataFrame Ultraquick Tutorial](https://colab.research.google.com/github/google/eng-edu/blob/master/ml/cc/exercises/pandas_dataframe_ultraquick_tutorial.ipynb?utm_source=linearregressionreal-colab&utm_medium=colab&utm_campaign=colab-external&utm_content=pandas_tf2-colab&hl=en).)\n",
        "2. Tune the three hyperparameters.\n",
        "3. Determine whether this synthetic feature produces \n",
        "   a lower loss value than any of the single features you \n",
        "   tried earlier in this exercise."
      ]
    },
    {
      "cell_type": "code",
      "metadata": {
        "id": "4Kx2xHSgdcpg",
        "colab_type": "code",
        "colab": {
          "base_uri": "https://localhost:8080/",
          "height": 1000
        },
        "outputId": "3742a70f-40ec-4f96-9261-5bf6b873e7c9"
      },
      "source": [
        "# Define a synthetic feature named rooms_per_person\n",
        "training_df[\"rooms_per_person\"] =  training_df[\"total_rooms\"] / training_df[\"population\"]# write your code here.\n",
        "\n",
        "# Don't change the next line.\n",
        "my_feature = \"rooms_per_person\"\n",
        "\n",
        "# Assign values to these three hyperparameters.\n",
        "learning_rate = 0.05\n",
        "epochs = 50\n",
        "batch_size = 30\n",
        "\n",
        "# Don't change anything below this line.\n",
        "my_model = build_model(learning_rate)\n",
        "weight, bias, epochs, rmse = train_model(my_model, training_df,\n",
        "                                         my_feature, my_label,\n",
        "                                         epochs, batch_size)\n",
        "\n",
        "plot_the_loss_curve(epochs, rmse)\n",
        "predict_house_values(15, my_feature, my_label)\n"
      ],
      "execution_count": 16,
      "outputs": [
        {
          "output_type": "stream",
          "text": [
            "Epoch 1/50\n",
            "567/567 [==============================] - 1s 902us/step - loss: 40485.3516 - root_mean_squared_error: 201.2097\n",
            "Epoch 2/50\n",
            "567/567 [==============================] - 0s 865us/step - loss: 21658.6309 - root_mean_squared_error: 147.1687\n",
            "Epoch 3/50\n",
            "567/567 [==============================] - 1s 1ms/step - loss: 15688.5791 - root_mean_squared_error: 125.2541\n",
            "Epoch 4/50\n",
            "567/567 [==============================] - 1s 907us/step - loss: 14990.7549 - root_mean_squared_error: 122.4367\n",
            "Epoch 5/50\n",
            "567/567 [==============================] - 1s 1ms/step - loss: 14808.8496 - root_mean_squared_error: 121.6916\n",
            "Epoch 6/50\n",
            "567/567 [==============================] - 1s 997us/step - loss: 14660.5010 - root_mean_squared_error: 121.0806\n",
            "Epoch 7/50\n",
            "567/567 [==============================] - 1s 976us/step - loss: 14520.7959 - root_mean_squared_error: 120.5023\n",
            "Epoch 8/50\n",
            "567/567 [==============================] - 1s 942us/step - loss: 14373.7520 - root_mean_squared_error: 119.8906\n",
            "Epoch 9/50\n",
            "567/567 [==============================] - 1s 926us/step - loss: 14267.8555 - root_mean_squared_error: 119.4481\n",
            "Epoch 10/50\n",
            "567/567 [==============================] - 1s 886us/step - loss: 14103.9102 - root_mean_squared_error: 118.7599\n",
            "Epoch 11/50\n",
            "567/567 [==============================] - 1s 887us/step - loss: 14011.4805 - root_mean_squared_error: 118.3701\n",
            "Epoch 12/50\n",
            "567/567 [==============================] - 1s 909us/step - loss: 13951.8838 - root_mean_squared_error: 118.1181\n",
            "Epoch 13/50\n",
            "567/567 [==============================] - 1s 916us/step - loss: 13866.5166 - root_mean_squared_error: 117.7562\n",
            "Epoch 14/50\n",
            "567/567 [==============================] - 1s 1ms/step - loss: 13814.1816 - root_mean_squared_error: 117.5337\n",
            "Epoch 15/50\n",
            "567/567 [==============================] - 1s 955us/step - loss: 13736.0361 - root_mean_squared_error: 117.2008\n",
            "Epoch 16/50\n",
            "567/567 [==============================] - 1s 1ms/step - loss: 13675.2178 - root_mean_squared_error: 116.9411\n",
            "Epoch 17/50\n",
            "567/567 [==============================] - 1s 942us/step - loss: 13638.2432 - root_mean_squared_error: 116.7829\n",
            "Epoch 18/50\n",
            "567/567 [==============================] - 1s 955us/step - loss: 13607.9404 - root_mean_squared_error: 116.6531\n",
            "Epoch 19/50\n",
            "567/567 [==============================] - 1s 963us/step - loss: 13582.6465 - root_mean_squared_error: 116.5446\n",
            "Epoch 20/50\n",
            "567/567 [==============================] - 1s 1ms/step - loss: 13577.4004 - root_mean_squared_error: 116.5221\n",
            "Epoch 21/50\n",
            "567/567 [==============================] - 1s 975us/step - loss: 13512.4688 - root_mean_squared_error: 116.2431\n",
            "Epoch 22/50\n",
            "567/567 [==============================] - 1s 981us/step - loss: 13470.7314 - root_mean_squared_error: 116.0635\n",
            "Epoch 23/50\n",
            "567/567 [==============================] - 1s 883us/step - loss: 13473.7373 - root_mean_squared_error: 116.0764\n",
            "Epoch 24/50\n",
            "567/567 [==============================] - 1s 1ms/step - loss: 13423.9053 - root_mean_squared_error: 115.8616\n",
            "Epoch 25/50\n",
            "567/567 [==============================] - 1s 889us/step - loss: 13417.0010 - root_mean_squared_error: 115.8318\n",
            "Epoch 26/50\n",
            "567/567 [==============================] - 1s 910us/step - loss: 13365.2617 - root_mean_squared_error: 115.6082\n",
            "Epoch 27/50\n",
            "567/567 [==============================] - 1s 946us/step - loss: 13367.8809 - root_mean_squared_error: 115.6196\n",
            "Epoch 28/50\n",
            "567/567 [==============================] - 1s 994us/step - loss: 13367.5645 - root_mean_squared_error: 115.6182\n",
            "Epoch 29/50\n",
            "567/567 [==============================] - 1s 1ms/step - loss: 13374.7900 - root_mean_squared_error: 115.6494\n",
            "Epoch 30/50\n",
            "567/567 [==============================] - 1s 976us/step - loss: 13374.6406 - root_mean_squared_error: 115.6488\n",
            "Epoch 31/50\n",
            "567/567 [==============================] - 1s 931us/step - loss: 13359.6582 - root_mean_squared_error: 115.5840\n",
            "Epoch 32/50\n",
            "567/567 [==============================] - 1s 909us/step - loss: 13323.8584 - root_mean_squared_error: 115.4290\n",
            "Epoch 33/50\n",
            "567/567 [==============================] - 1s 890us/step - loss: 13329.3398 - root_mean_squared_error: 115.4528\n",
            "Epoch 34/50\n",
            "567/567 [==============================] - 1s 935us/step - loss: 13323.2012 - root_mean_squared_error: 115.4262\n",
            "Epoch 35/50\n",
            "567/567 [==============================] - 1s 918us/step - loss: 13297.5371 - root_mean_squared_error: 115.3149\n",
            "Epoch 36/50\n",
            "567/567 [==============================] - 1s 1ms/step - loss: 13297.2314 - root_mean_squared_error: 115.3136\n",
            "Epoch 37/50\n",
            "567/567 [==============================] - 1s 928us/step - loss: 13276.3584 - root_mean_squared_error: 115.2231\n",
            "Epoch 38/50\n",
            "567/567 [==============================] - 1s 984us/step - loss: 13269.5596 - root_mean_squared_error: 115.1936\n",
            "Epoch 39/50\n",
            "567/567 [==============================] - 1s 904us/step - loss: 13273.2227 - root_mean_squared_error: 115.2095\n",
            "Epoch 40/50\n",
            "567/567 [==============================] - 1s 938us/step - loss: 13284.2793 - root_mean_squared_error: 115.2574\n",
            "Epoch 41/50\n",
            "567/567 [==============================] - 1s 955us/step - loss: 13289.5908 - root_mean_squared_error: 115.2805\n",
            "Epoch 42/50\n",
            "567/567 [==============================] - 1s 885us/step - loss: 13258.3428 - root_mean_squared_error: 115.1449\n",
            "Epoch 43/50\n",
            "567/567 [==============================] - 0s 880us/step - loss: 13266.7383 - root_mean_squared_error: 115.1813\n",
            "Epoch 44/50\n",
            "567/567 [==============================] - 1s 958us/step - loss: 13278.7373 - root_mean_squared_error: 115.2334\n",
            "Epoch 45/50\n",
            "567/567 [==============================] - 1s 903us/step - loss: 13260.9248 - root_mean_squared_error: 115.1561\n",
            "Epoch 46/50\n",
            "567/567 [==============================] - 1s 891us/step - loss: 13266.0908 - root_mean_squared_error: 115.1785\n",
            "Epoch 47/50\n",
            "567/567 [==============================] - 1s 904us/step - loss: 13274.9609 - root_mean_squared_error: 115.2170\n",
            "Epoch 48/50\n",
            "567/567 [==============================] - 1s 882us/step - loss: 13261.9219 - root_mean_squared_error: 115.1604\n",
            "Epoch 49/50\n",
            "567/567 [==============================] - 1s 934us/step - loss: 13276.5068 - root_mean_squared_error: 115.2237\n",
            "Epoch 50/50\n",
            "567/567 [==============================] - 1s 949us/step - loss: 13257.4307 - root_mean_squared_error: 115.1409\n"
          ],
          "name": "stdout"
        },
        {
          "output_type": "display_data",
          "data": {
            "image/png": "[encoded data removed]",
            "text/plain": [
              "<Figure size 432x288 with 1 Axes>"
            ]
          },
          "metadata": {
            "tags": [],
            "needs_background": "light"
          }
        },
        {
          "output_type": "stream",
          "text": [
            "feature   label          predicted\n",
            "  value   value          value\n",
            "          in thousand$   in thousand$\n",
            "--------------------------------------\n",
            "    2     53             190\n",
            "    2     92             201\n",
            "    2     69             196\n",
            "    2     62             211\n",
            "    1     80             188\n",
            "    2    295             224\n",
            "    2    500             210\n",
            "    2    342             222\n",
            "    4    118             283\n",
            "    2    128             214\n",
            "    2    187             223\n",
            "    3     80             233\n",
            "    2    112             224\n",
            "    2     95             218\n",
            "    2     69             210\n"
          ],
          "name": "stdout"
        }
      ]
    },
    {
      "cell_type": "code",
      "metadata": {
        "id": "xRfxp_3yofe3",
        "colab_type": "code",
        "cellView": "form",
        "colab": {
          "base_uri": "https://localhost:8080/",
          "height": 1000
        },
        "outputId": "dc641f42-2aec-4c06-a3bd-acbb8dfcc8d0"
      },
      "source": [
        "#@title Double-click to view a possible solution to Task 4.\n",
        "\n",
        "# Define a synthetic feature\n",
        "training_df[\"rooms_per_person\"] = training_df[\"total_rooms\"] / training_df[\"population\"]\n",
        "my_feature = \"rooms_per_person\"\n",
        "\n",
        "# Tune the hyperparameters.\n",
        "learning_rate = 0.06\n",
        "epochs = 24\n",
        "batch_size = 30\n",
        "\n",
        "# Don't change anything below this line.\n",
        "my_model = build_model(learning_rate)\n",
        "weight, bias, epochs, mae = train_model(my_model, training_df,\n",
        "                                        my_feature, my_label,\n",
        "                                        epochs, batch_size)\n",
        "\n",
        "plot_the_loss_curve(epochs, mae)\n",
        "predict_house_values(15, my_feature, my_label)\n"
      ],
      "execution_count": 17,
      "outputs": [
        {
          "output_type": "stream",
          "text": [
            "Epoch 1/24\n",
            "567/567 [==============================] - 1s 910us/step - loss: 37477.8945 - root_mean_squared_error: 193.5921\n",
            "Epoch 2/24\n",
            "567/567 [==============================] - 0s 850us/step - loss: 18867.0430 - root_mean_squared_error: 137.3574\n",
            "Epoch 3/24\n",
            "567/567 [==============================] - 0s 857us/step - loss: 15220.8213 - root_mean_squared_error: 123.3727\n",
            "Epoch 4/24\n",
            "567/567 [==============================] - 1s 890us/step - loss: 14890.1553 - root_mean_squared_error: 122.0252\n",
            "Epoch 5/24\n",
            "567/567 [==============================] - 0s 860us/step - loss: 14692.9512 - root_mean_squared_error: 121.2145\n",
            "Epoch 6/24\n",
            "567/567 [==============================] - 1s 896us/step - loss: 14468.0762 - root_mean_squared_error: 120.2833\n",
            "Epoch 7/24\n",
            "567/567 [==============================] - 1s 887us/step - loss: 14342.8301 - root_mean_squared_error: 119.7616\n",
            "Epoch 8/24\n",
            "567/567 [==============================] - 1s 890us/step - loss: 14221.8164 - root_mean_squared_error: 119.2553\n",
            "Epoch 9/24\n",
            "567/567 [==============================] - 1s 899us/step - loss: 14108.9102 - root_mean_squared_error: 118.7809\n",
            "Epoch 10/24\n",
            "567/567 [==============================] - 1s 904us/step - loss: 14012.5215 - root_mean_squared_error: 118.3745\n",
            "Epoch 11/24\n",
            "567/567 [==============================] - 1s 886us/step - loss: 13867.5469 - root_mean_squared_error: 117.7606\n",
            "Epoch 12/24\n",
            "567/567 [==============================] - 1s 903us/step - loss: 13745.7412 - root_mean_squared_error: 117.2422\n",
            "Epoch 13/24\n",
            "567/567 [==============================] - 1s 934us/step - loss: 13736.7256 - root_mean_squared_error: 117.2038\n",
            "Epoch 14/24\n",
            "567/567 [==============================] - 0s 879us/step - loss: 13692.2861 - root_mean_squared_error: 117.0140\n",
            "Epoch 15/24\n",
            "567/567 [==============================] - 1s 898us/step - loss: 13654.3896 - root_mean_squared_error: 116.8520\n",
            "Epoch 16/24\n",
            "567/567 [==============================] - 0s 876us/step - loss: 13604.1543 - root_mean_squared_error: 116.6368\n",
            "Epoch 17/24\n",
            "567/567 [==============================] - 1s 892us/step - loss: 13560.8008 - root_mean_squared_error: 116.4509\n",
            "Epoch 18/24\n",
            "567/567 [==============================] - 1s 900us/step - loss: 13491.1865 - root_mean_squared_error: 116.1516\n",
            "Epoch 19/24\n",
            "567/567 [==============================] - 1s 882us/step - loss: 13463.6494 - root_mean_squared_error: 116.0330\n",
            "Epoch 20/24\n",
            "567/567 [==============================] - 1s 925us/step - loss: 13444.6660 - root_mean_squared_error: 115.9511\n",
            "Epoch 21/24\n",
            "567/567 [==============================] - 0s 858us/step - loss: 13416.7021 - root_mean_squared_error: 115.8305\n",
            "Epoch 22/24\n",
            "567/567 [==============================] - 1s 913us/step - loss: 13396.6631 - root_mean_squared_error: 115.7440\n",
            "Epoch 23/24\n",
            "567/567 [==============================] - 1s 886us/step - loss: 13371.1123 - root_mean_squared_error: 115.6335\n",
            "Epoch 24/24\n",
            "567/567 [==============================] - 1s 982us/step - loss: 13369.0693 - root_mean_squared_error: 115.6247\n"
          ],
          "name": "stdout"
        },
        {
          "output_type": "display_data",
          "data": {
            "image/png": "[encoded data removed]",
            "text/plain": [
              "<Figure size 432x288 with 1 Axes>"
            ]
          },
          "metadata": {
            "tags": [],
            "needs_background": "light"
          }
        },
        {
          "output_type": "stream",
          "text": [
            "feature   label          predicted\n",
            "  value   value          value\n",
            "          in thousand$   in thousand$\n",
            "--------------------------------------\n",
            "    2     53             191\n",
            "    2     92             203\n",
            "    2     69             197\n",
            "    2     62             213\n",
            "    1     80             188\n",
            "    2    295             227\n",
            "    2    500             213\n",
            "    2    342             225\n",
            "    4    118             291\n",
            "    2    128             216\n",
            "    2    187             226\n",
            "    3     80             237\n",
            "    2    112             227\n",
            "    2     95             221\n",
            "    2     69             213\n"
          ],
          "name": "stdout"
        }
      ]
    },
    {
      "cell_type": "markdown",
      "metadata": {
        "id": "HBiDWursB1Wi",
        "colab_type": "text"
      },
      "source": [
        "Based on the loss values, this synthetic feature produces a better model than the individual features you tried in Task 2 and Task 3. However, the model still isn't creating great predictions.\n"
      ]
    },
    {
      "cell_type": "markdown",
      "metadata": {
        "id": "XEG_9oU9O54u",
        "colab_type": "text"
      },
      "source": [
        "## Task 5. Find feature(s) whose raw values correlate with the label\n",
        "\n",
        "So far, we've relied on trial-and-error to identify possible features for the model.  Let's rely on statistics instead.\n",
        "\n",
        "A **correlation matrix** indicates how each attribute's raw values relate to the other attributes' raw values. Correlation values have the following meanings:\n",
        "\n",
        "  * `1.0`: perfect positive correlation; that is, when one attribute rises, the other attribute rises.\n",
        "  * `-1.0`: perfect negative correlation; that is, when one attribute rises, the other attribute falls. \n",
        "  * `0.0`: no correlation; the two column's [are not linearly related](https://en.wikipedia.org/wiki/Correlation_and_dependence#/media/File:Correlation_examples2.svg).\n",
        "\n",
        "In general, the higher the absolute value of a correlation value, the greater its predictive power. For example, a correlation value of -0.8 implies far more predictive power than a correlation of -0.2.\n",
        "\n",
        "The following code cell generates the correlation matrix for attributes of the California Housing Dataset:"
      ]
    },
    {
      "cell_type": "code",
      "metadata": {
        "id": "zFGKL45LO8Tt",
        "colab_type": "code",
        "colab": {
          "base_uri": "https://localhost:8080/",
          "height": 343
        },
        "outputId": "00002722-8d72-47e8-ae44-e7352d5821de"
      },
      "source": [
        "# Generate a correlation matrix.\n",
        "training_df.corr()"
      ],
      "execution_count": 18,
      "outputs": [
        {
          "output_type": "execute_result",
          "data": {
            "text/html": [
              "<div>\n",
              "<style scoped>\n",
              "    .dataframe tbody tr th:only-of-type {\n",
              "        vertical-align: middle;\n",
              "    }\n",
              "\n",
              "    .dataframe tbody tr th {\n",
              "        vertical-align: top;\n",
              "    }\n",
              "\n",
              "    .dataframe thead th {\n",
              "        text-align: right;\n",
              "    }\n",
              "</style>\n",
              "<table border=\"1\" class=\"dataframe\">\n",
              "  <thead>\n",
              "    <tr style=\"text-align: right;\">\n",
              "      <th></th>\n",
              "      <th>longitude</th>\n",
              "      <th>latitude</th>\n",
              "      <th>housing_median_age</th>\n",
              "      <th>total_rooms</th>\n",
              "      <th>total_bedrooms</th>\n",
              "      <th>population</th>\n",
              "      <th>households</th>\n",
              "      <th>median_income</th>\n",
              "      <th>median_house_value</th>\n",
              "      <th>rooms_per_person</th>\n",
              "    </tr>\n",
              "  </thead>\n",
              "  <tbody>\n",
              "    <tr>\n",
              "      <th>longitude</th>\n",
              "      <td>1.0</td>\n",
              "      <td>-0.9</td>\n",
              "      <td>-0.1</td>\n",
              "      <td>0.0</td>\n",
              "      <td>0.1</td>\n",
              "      <td>0.1</td>\n",
              "      <td>0.1</td>\n",
              "      <td>-0.0</td>\n",
              "      <td>-0.0</td>\n",
              "      <td>-0.1</td>\n",
              "    </tr>\n",
              "    <tr>\n",
              "      <th>latitude</th>\n",
              "      <td>-0.9</td>\n",
              "      <td>1.0</td>\n",
              "      <td>0.0</td>\n",
              "      <td>-0.0</td>\n",
              "      <td>-0.1</td>\n",
              "      <td>-0.1</td>\n",
              "      <td>-0.1</td>\n",
              "      <td>-0.1</td>\n",
              "      <td>-0.1</td>\n",
              "      <td>0.1</td>\n",
              "    </tr>\n",
              "    <tr>\n",
              "      <th>housing_median_age</th>\n",
              "      <td>-0.1</td>\n",
              "      <td>0.0</td>\n",
              "      <td>1.0</td>\n",
              "      <td>-0.4</td>\n",
              "      <td>-0.3</td>\n",
              "      <td>-0.3</td>\n",
              "      <td>-0.3</td>\n",
              "      <td>-0.1</td>\n",
              "      <td>0.1</td>\n",
              "      <td>-0.1</td>\n",
              "    </tr>\n",
              "    <tr>\n",
              "      <th>total_rooms</th>\n",
              "      <td>0.0</td>\n",
              "      <td>-0.0</td>\n",
              "      <td>-0.4</td>\n",
              "      <td>1.0</td>\n",
              "      <td>0.9</td>\n",
              "      <td>0.9</td>\n",
              "      <td>0.9</td>\n",
              "      <td>0.2</td>\n",
              "      <td>0.1</td>\n",
              "      <td>0.1</td>\n",
              "    </tr>\n",
              "    <tr>\n",
              "      <th>total_bedrooms</th>\n",
              "      <td>0.1</td>\n",
              "      <td>-0.1</td>\n",
              "      <td>-0.3</td>\n",
              "      <td>0.9</td>\n",
              "      <td>1.0</td>\n",
              "      <td>0.9</td>\n",
              "      <td>1.0</td>\n",
              "      <td>-0.0</td>\n",
              "      <td>0.0</td>\n",
              "      <td>0.0</td>\n",
              "    </tr>\n",
              "    <tr>\n",
              "      <th>population</th>\n",
              "      <td>0.1</td>\n",
              "      <td>-0.1</td>\n",
              "      <td>-0.3</td>\n",
              "      <td>0.9</td>\n",
              "      <td>0.9</td>\n",
              "      <td>1.0</td>\n",
              "      <td>0.9</td>\n",
              "      <td>-0.0</td>\n",
              "      <td>-0.0</td>\n",
              "      <td>-0.1</td>\n",
              "    </tr>\n",
              "    <tr>\n",
              "      <th>households</th>\n",
              "      <td>0.1</td>\n",
              "      <td>-0.1</td>\n",
              "      <td>-0.3</td>\n",
              "      <td>0.9</td>\n",
              "      <td>1.0</td>\n",
              "      <td>0.9</td>\n",
              "      <td>1.0</td>\n",
              "      <td>0.0</td>\n",
              "      <td>0.1</td>\n",
              "      <td>-0.0</td>\n",
              "    </tr>\n",
              "    <tr>\n",
              "      <th>median_income</th>\n",
              "      <td>-0.0</td>\n",
              "      <td>-0.1</td>\n",
              "      <td>-0.1</td>\n",
              "      <td>0.2</td>\n",
              "      <td>-0.0</td>\n",
              "      <td>-0.0</td>\n",
              "      <td>0.0</td>\n",
              "      <td>1.0</td>\n",
              "      <td>0.7</td>\n",
              "      <td>0.2</td>\n",
              "    </tr>\n",
              "    <tr>\n",
              "      <th>median_house_value</th>\n",
              "      <td>-0.0</td>\n",
              "      <td>-0.1</td>\n",
              "      <td>0.1</td>\n",
              "      <td>0.1</td>\n",
              "      <td>0.0</td>\n",
              "      <td>-0.0</td>\n",
              "      <td>0.1</td>\n",
              "      <td>0.7</td>\n",
              "      <td>1.0</td>\n",
              "      <td>0.2</td>\n",
              "    </tr>\n",
              "    <tr>\n",
              "      <th>rooms_per_person</th>\n",
              "      <td>-0.1</td>\n",
              "      <td>0.1</td>\n",
              "      <td>-0.1</td>\n",
              "      <td>0.1</td>\n",
              "      <td>0.0</td>\n",
              "      <td>-0.1</td>\n",
              "      <td>-0.0</td>\n",
              "      <td>0.2</td>\n",
              "      <td>0.2</td>\n",
              "      <td>1.0</td>\n",
              "    </tr>\n",
              "  </tbody>\n",
              "</table>\n",
              "</div>"
            ],
            "text/plain": [
              "                    longitude  latitude  ...  median_house_value  rooms_per_person\n",
              "longitude                 1.0      -0.9  ...                -0.0              -0.1\n",
              "latitude                 -0.9       1.0  ...                -0.1               0.1\n",
              "housing_median_age       -0.1       0.0  ...                 0.1              -0.1\n",
              "total_rooms               0.0      -0.0  ...                 0.1               0.1\n",
              "total_bedrooms            0.1      -0.1  ...                 0.0               0.0\n",
              "population                0.1      -0.1  ...                -0.0              -0.1\n",
              "households                0.1      -0.1  ...                 0.1              -0.0\n",
              "median_income            -0.0      -0.1  ...                 0.7               0.2\n",
              "median_house_value       -0.0      -0.1  ...                 1.0               0.2\n",
              "rooms_per_person         -0.1       0.1  ...                 0.2               1.0\n",
              "\n",
              "[10 rows x 10 columns]"
            ]
          },
          "metadata": {
            "tags": []
          },
          "execution_count": 18
        }
      ]
    },
    {
      "cell_type": "markdown",
      "metadata": {
        "id": "hp0r3NAVPEdt",
        "colab_type": "text"
      },
      "source": [
        "The correlation matrix shows nine potential features (including a synthetic\n",
        "feature) and one label (`median_house_value`).  A strong negative correlation or strong positive correlation with the label suggests a potentially good feature.  \n",
        "\n",
        "**Your Task:** Determine which of the nine potential features appears to be the best candidate for a feature?"
      ]
    },
    {
      "cell_type": "code",
      "metadata": {
        "id": "RomQTd1OPVd0",
        "colab_type": "code",
        "cellView": "both",
        "colab": {}
      },
      "source": [
        "#@title Double-click here for the solution to Task 5\n",
        "\n",
        "# The `median_income` correlates 0.7 with the label \n",
        "# (median_house_value), so median_income` might be a \n",
        "# good feature. The other seven potential features\n",
        "# all have a correlation relatively close to 0. \n",
        "\n",
        "# If time permits, try median_income as the feature\n",
        "# and see whether the model improves."
      ],
      "execution_count": 19,
      "outputs": []
    },
    {
      "cell_type": "markdown",
      "metadata": {
        "id": "8RqvEbaVSlRt",
        "colab_type": "text"
      },
      "source": [
        "Correlation matrices don't tell the entire story. In later exercises, you'll find additional ways to unlock predictive power from potential features.\n",
        "\n",
        "**Note:** Using `median_income` as a feature may raise some ethical and fairness\n",
        "issues. Towards the end of the course, we'll explore ethical and fairness issues."
      ]
    },
    {
      "cell_type": "code",
      "metadata": {
        "colab_type": "code",
        "id": "lj8UIzRt8rZ6",
        "colab": {
          "base_uri": "https://localhost:8080/",
          "height": 1000
        },
        "outputId": "298b4580-7824-48e7-97dc-9f2ef0cd4952"
      },
      "source": [
        "# Test median_income as a possible prediction feature.\n",
        "my_feature = \"median_income\"\n",
        "\n",
        "# Assign values to these three hyperparameters.\n",
        "learning_rate = 0.05\n",
        "epochs = 50\n",
        "batch_size = 30\n",
        "\n",
        "# Don't change anything below this line.\n",
        "my_model = build_model(learning_rate)\n",
        "weight, bias, epochs, rmse = train_model(my_model, training_df,\n",
        "                                         my_feature, my_label,\n",
        "                                         epochs, batch_size)\n",
        "\n",
        "plot_the_model(weight, bias, my_feature, my_label)\n",
        "plot_the_loss_curve(epochs, rmse)\n",
        "predict_house_values(15, my_feature, my_label)\n"
      ],
      "execution_count": 20,
      "outputs": [
        {
          "output_type": "stream",
          "text": [
            "Epoch 1/50\n",
            "567/567 [==============================] - 1s 934us/step - loss: 31150.4434 - root_mean_squared_error: 176.4949\n",
            "Epoch 2/50\n",
            "567/567 [==============================] - 1s 940us/step - loss: 8165.3994 - root_mean_squared_error: 90.3626\n",
            "Epoch 3/50\n",
            "567/567 [==============================] - 1s 902us/step - loss: 7015.6650 - root_mean_squared_error: 83.7596\n",
            "Epoch 4/50\n",
            "567/567 [==============================] - 1s 904us/step - loss: 7014.6216 - root_mean_squared_error: 83.7533\n",
            "Epoch 5/50\n",
            "567/567 [==============================] - 0s 880us/step - loss: 7016.0825 - root_mean_squared_error: 83.7621\n",
            "Epoch 6/50\n",
            "567/567 [==============================] - 1s 921us/step - loss: 7015.2451 - root_mean_squared_error: 83.7571\n",
            "Epoch 7/50\n",
            "567/567 [==============================] - 1s 904us/step - loss: 7013.6621 - root_mean_squared_error: 83.7476\n",
            "Epoch 8/50\n",
            "567/567 [==============================] - 1s 936us/step - loss: 7015.1265 - root_mean_squared_error: 83.7564\n",
            "Epoch 9/50\n",
            "567/567 [==============================] - 1s 1ms/step - loss: 7015.6509 - root_mean_squared_error: 83.7595\n",
            "Epoch 10/50\n",
            "567/567 [==============================] - 1s 1ms/step - loss: 7015.4595 - root_mean_squared_error: 83.7583\n",
            "Epoch 11/50\n",
            "567/567 [==============================] - 1s 933us/step - loss: 7013.7910 - root_mean_squared_error: 83.7484\n",
            "Epoch 12/50\n",
            "567/567 [==============================] - 1s 953us/step - loss: 7015.6431 - root_mean_squared_error: 83.7594\n",
            "Epoch 13/50\n",
            "567/567 [==============================] - 1s 915us/step - loss: 7015.1445 - root_mean_squared_error: 83.7565\n",
            "Epoch 14/50\n",
            "567/567 [==============================] - 1s 940us/step - loss: 7016.3301 - root_mean_squared_error: 83.7635\n",
            "Epoch 15/50\n",
            "567/567 [==============================] - 1s 999us/step - loss: 7015.4355 - root_mean_squared_error: 83.7582\n",
            "Epoch 16/50\n",
            "567/567 [==============================] - 1s 910us/step - loss: 7016.5083 - root_mean_squared_error: 83.7646\n",
            "Epoch 17/50\n",
            "567/567 [==============================] - 1s 920us/step - loss: 7016.0234 - root_mean_squared_error: 83.7617\n",
            "Epoch 18/50\n",
            "567/567 [==============================] - 1s 935us/step - loss: 7014.6304 - root_mean_squared_error: 83.7534\n",
            "Epoch 19/50\n",
            "567/567 [==============================] - 1s 991us/step - loss: 7014.8745 - root_mean_squared_error: 83.7548\n",
            "Epoch 20/50\n",
            "567/567 [==============================] - 1s 933us/step - loss: 7016.3887 - root_mean_squared_error: 83.7639\n",
            "Epoch 21/50\n",
            "567/567 [==============================] - 1s 901us/step - loss: 7014.1372 - root_mean_squared_error: 83.7504\n",
            "Epoch 22/50\n",
            "567/567 [==============================] - 1s 901us/step - loss: 7014.9922 - root_mean_squared_error: 83.7555\n",
            "Epoch 23/50\n",
            "567/567 [==============================] - 1s 986us/step - loss: 7013.5654 - root_mean_squared_error: 83.7470\n",
            "Epoch 24/50\n",
            "567/567 [==============================] - 1s 956us/step - loss: 7016.1836 - root_mean_squared_error: 83.7627\n",
            "Epoch 25/50\n",
            "567/567 [==============================] - 1s 933us/step - loss: 7014.4561 - root_mean_squared_error: 83.7523\n",
            "Epoch 26/50\n",
            "567/567 [==============================] - 1s 913us/step - loss: 7014.8232 - root_mean_squared_error: 83.7545\n",
            "Epoch 27/50\n",
            "567/567 [==============================] - 1s 904us/step - loss: 7014.6079 - root_mean_squared_error: 83.7533\n",
            "Epoch 28/50\n",
            "567/567 [==============================] - 1s 890us/step - loss: 7014.9512 - root_mean_squared_error: 83.7553\n",
            "Epoch 29/50\n",
            "567/567 [==============================] - 1s 919us/step - loss: 7014.5142 - root_mean_squared_error: 83.7527\n",
            "Epoch 30/50\n",
            "567/567 [==============================] - 1s 910us/step - loss: 7013.6777 - root_mean_squared_error: 83.7477\n",
            "Epoch 31/50\n",
            "567/567 [==============================] - 1s 935us/step - loss: 7015.5054 - root_mean_squared_error: 83.7586\n",
            "Epoch 32/50\n",
            "567/567 [==============================] - 1s 917us/step - loss: 7014.7358 - root_mean_squared_error: 83.7540\n",
            "Epoch 33/50\n",
            "567/567 [==============================] - 1s 1ms/step - loss: 7015.3711 - root_mean_squared_error: 83.7578\n",
            "Epoch 34/50\n",
            "567/567 [==============================] - 1s 971us/step - loss: 7014.2451 - root_mean_squared_error: 83.7511\n",
            "Epoch 35/50\n",
            "567/567 [==============================] - 1s 938us/step - loss: 7015.7935 - root_mean_squared_error: 83.7603\n",
            "Epoch 36/50\n",
            "567/567 [==============================] - 1s 1ms/step - loss: 7015.8164 - root_mean_squared_error: 83.7605\n",
            "Epoch 37/50\n",
            "567/567 [==============================] - 1s 930us/step - loss: 7014.9038 - root_mean_squared_error: 83.7550\n",
            "Epoch 38/50\n",
            "567/567 [==============================] - 1s 950us/step - loss: 7014.9004 - root_mean_squared_error: 83.7550\n",
            "Epoch 39/50\n",
            "567/567 [==============================] - 1s 906us/step - loss: 7014.9629 - root_mean_squared_error: 83.7554\n",
            "Epoch 40/50\n",
            "567/567 [==============================] - 1s 933us/step - loss: 7014.8379 - root_mean_squared_error: 83.7546\n",
            "Epoch 41/50\n",
            "567/567 [==============================] - 1s 886us/step - loss: 7015.8608 - root_mean_squared_error: 83.7607\n",
            "Epoch 42/50\n",
            "567/567 [==============================] - 1s 956us/step - loss: 7015.0786 - root_mean_squared_error: 83.7561\n",
            "Epoch 43/50\n",
            "567/567 [==============================] - 1s 939us/step - loss: 7015.9282 - root_mean_squared_error: 83.7611\n",
            "Epoch 44/50\n",
            "567/567 [==============================] - 1s 977us/step - loss: 7014.7222 - root_mean_squared_error: 83.7539\n",
            "Epoch 45/50\n",
            "567/567 [==============================] - 1s 899us/step - loss: 7015.6167 - root_mean_squared_error: 83.7593\n",
            "Epoch 46/50\n",
            "567/567 [==============================] - 1s 907us/step - loss: 7014.4155 - root_mean_squared_error: 83.7521\n",
            "Epoch 47/50\n",
            "567/567 [==============================] - 1s 899us/step - loss: 7015.4497 - root_mean_squared_error: 83.7583\n",
            "Epoch 48/50\n",
            "567/567 [==============================] - 1s 885us/step - loss: 7015.6113 - root_mean_squared_error: 83.7592\n",
            "Epoch 49/50\n",
            "567/567 [==============================] - 1s 1ms/step - loss: 7015.6860 - root_mean_squared_error: 83.7597\n",
            "Epoch 50/50\n",
            "567/567 [==============================] - 1s 930us/step - loss: 7015.2476 - root_mean_squared_error: 83.7571\n"
          ],
          "name": "stdout"
        },
        {
          "output_type": "display_data",
          "data": {
            "image/png": "[encoded data removed]",
            "text/plain": [
              "<Figure size 432x288 with 1 Axes>"
            ]
          },
          "metadata": {
            "tags": [],
            "needs_background": "light"
          }
        },
        {
          "output_type": "display_data",
          "data": {
            "image/png": "[encoded data removed]",
            "text/plain": [
              "<Figure size 432x288 with 1 Axes>"
            ]
          },
          "metadata": {
            "tags": [],
            "needs_background": "light"
          }
        },
        {
          "output_type": "stream",
          "text": [
            "feature   label          predicted\n",
            "  value   value          value\n",
            "          in thousand$   in thousand$\n",
            "--------------------------------------\n",
            "    2     53             134\n",
            "    4     92             212\n",
            "    3     69             154\n",
            "    2     62             132\n",
            "    3     80             153\n",
            "    2    295             148\n",
            "   10    500             457\n",
            "    5    342             260\n",
            "    2    118             147\n",
            "    4    128             221\n",
            "    8    187             397\n",
            "    3     80             163\n",
            "    3    112             179\n",
            "    4     95             222\n",
            "    2     69             143\n"
          ],
          "name": "stdout"
        }
      ]
    }
  ]
}