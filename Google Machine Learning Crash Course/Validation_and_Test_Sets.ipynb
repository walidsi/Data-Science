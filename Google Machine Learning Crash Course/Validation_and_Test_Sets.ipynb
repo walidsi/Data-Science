{
  "nbformat": 4,
  "nbformat_minor": 0,
  "metadata": {
    "colab": {
      "name": "Validation_and_Test_Sets.ipynb",
      "provenance": [],
      "collapsed_sections": [],
      "include_colab_link": true
    },
    "kernelspec": {
      "name": "python3",
      "display_name": "Python 3"
    }
  },
  "cells": [
    {
      "cell_type": "markdown",
      "metadata": {
        "id": "view-in-github",
        "colab_type": "text"
      },
      "source": [
        "<a href=\"https://colab.research.google.com/github/walidsi/Data-Science/blob/master/Google%20Machine%20Learning%20Crash%20Course/Validation_and_Test_Sets.ipynb\" target=\"_parent\"><img src=\"https://colab.research.google.com/assets/colab-badge.svg\" alt=\"Open In Colab\"/></a>"
      ]
    },
    {
      "cell_type": "code",
      "metadata": {
        "id": "hMqWDc_m6rUC",
        "colab_type": "code",
        "cellView": "form",
        "colab": {}
      },
      "source": [
        "#@title Copyright 2020 Google LLC. Double-click here for license information.\n",
        "# Licensed under the Apache License, Version 2.0 (the \"License\");\n",
        "# you may not use this file except in compliance with the License.\n",
        "# You may obtain a copy of the License at\n",
        "#\n",
        "# https://www.apache.org/licenses/LICENSE-2.0\n",
        "#\n",
        "# Unless required by applicable law or agreed to in writing, software\n",
        "# distributed under the License is distributed on an \"AS IS\" BASIS,\n",
        "# WITHOUT WARRANTIES OR CONDITIONS OF ANY KIND, either express or implied.\n",
        "# See the License for the specific language governing permissions and\n",
        "# limitations under the License."
      ],
      "execution_count": null,
      "outputs": []
    },
    {
      "cell_type": "markdown",
      "metadata": {
        "id": "4f3CKqFUqL2-",
        "colab_type": "text"
      },
      "source": [
        "# Validation Sets and Test Sets\n",
        "\n",
        "The previous Colab exercises evaluated the trained model against the training set, which does not provide a strong signal about the quality of your model. In this Colab, you'll experiment with validation sets and test sets.\n",
        "\n",
        "\n",
        "\n",
        "\n"
      ]
    },
    {
      "cell_type": "markdown",
      "metadata": {
        "id": "3spZH_kNkWWX",
        "colab_type": "text"
      },
      "source": [
        "## Learning objectives\n",
        "\n",
        "After doing this Colab, you'll know how to do the following:\n",
        "\n",
        "  * Split a [training set](https://developers.google.com/machine-learning/glossary/#training_set) into a smaller training set and a [validation set](https://developers.google.com/machine-learning/glossary/#validation_set).\n",
        "  * Analyze deltas between training set and validation set results.\n",
        "  * Test the trained model with a [test set](https://developers.google.com/machine-learning/glossary/#test_set) to determine whether your trained model is [overfitting](https://developers.google.com/machine-learning/glossary/#overfitting).\n",
        "  * Detect and fix a common training problem."
      ]
    },
    {
      "cell_type": "markdown",
      "metadata": {
        "id": "gV82DJO3kWpk",
        "colab_type": "text"
      },
      "source": [
        "## The dataset\n",
        "\n",
        "As in the previous exercise, this exercise uses the [California Housing dataset](https://developers.google.com/machine-learning/crash-course/california-housing-data-description) to predict the `median_house_value` at the city block level.  Like many \"famous\" datasets, the California Housing Dataset actually consists of two separate datasets, each living in separate .csv files:\n",
        "\n",
        "* The training set is in `california_housing_train.csv`.\n",
        "* The test set is in `california_housing_test.csv`.\n",
        "\n",
        "You'll create the validation set by dividing the downloaded training set into two parts:\n",
        "\n",
        "* a smaller training set  \n",
        "* a validation set"
      ]
    },
    {
      "cell_type": "markdown",
      "metadata": {
        "id": "u84mXopntPFZ",
        "colab_type": "text"
      },
      "source": [
        "## Use the right version of TensorFlow\n",
        "\n",
        "The following hidden code cell ensures that the Colab will run on TensorFlow 2.X."
      ]
    },
    {
      "cell_type": "code",
      "metadata": {
        "id": "FBhNIdUatOU6",
        "colab_type": "code",
        "cellView": "form",
        "colab": {}
      },
      "source": [
        "#@title Run on TensorFlow 2.x\n",
        "%tensorflow_version 2.x"
      ],
      "execution_count": 1,
      "outputs": []
    },
    {
      "cell_type": "markdown",
      "metadata": {
        "id": "S8gm6BpqRRuh",
        "colab_type": "text"
      },
      "source": [
        "## Import relevant modules\n",
        "\n",
        "As before, this first code cell imports the necessary modules and sets a few display options."
      ]
    },
    {
      "cell_type": "code",
      "metadata": {
        "id": "9D8GgUovHbG0",
        "colab_type": "code",
        "cellView": "both",
        "colab": {}
      },
      "source": [
        "#@title Import modules\n",
        "import numpy as np\n",
        "import pandas as pd\n",
        "import tensorflow as tf\n",
        "from matplotlib import pyplot as plt\n",
        "\n",
        "pd.options.display.max_rows = 10\n",
        "pd.options.display.float_format = \"{:.1f}\".format"
      ],
      "execution_count": 2,
      "outputs": []
    },
    {
      "cell_type": "markdown",
      "metadata": {
        "id": "xjvrrClQeAJu",
        "colab_type": "text"
      },
      "source": [
        "## Load the datasets from the internet\n",
        "\n",
        "The following code cell loads the separate .csv files and creates the following two pandas DataFrames:\n",
        "\n",
        "* `train_df`, which contains the training set.\n",
        "* `test_df`, which contains the test set.\n",
        "\n"
      ]
    },
    {
      "cell_type": "code",
      "metadata": {
        "id": "zUnTc_wfd_o3",
        "colab_type": "code",
        "colab": {}
      },
      "source": [
        "train_df = pd.read_csv(\"https://download.mlcc.google.com/mledu-datasets/california_housing_train.csv\")\n",
        "test_df = pd.read_csv(\"https://download.mlcc.google.com/mledu-datasets/california_housing_test.csv\")"
      ],
      "execution_count": 3,
      "outputs": []
    },
    {
      "cell_type": "markdown",
      "metadata": {
        "id": "P_KBdj2M_yjM",
        "colab_type": "text"
      },
      "source": [
        "## Scale the label values\n",
        "\n",
        "The following code cell scales the `median_house_value`. \n",
        "See the previous Colab exercise for details."
      ]
    },
    {
      "cell_type": "code",
      "metadata": {
        "id": "3hc7QQhaAFXD",
        "colab_type": "code",
        "colab": {}
      },
      "source": [
        "scale_factor = 1000.0\n",
        "\n",
        "# Scale the training set's label.\n",
        "train_df[\"median_house_value\"] /= scale_factor \n",
        "\n",
        "# Scale the test set's label\n",
        "test_df[\"median_house_value\"] /= scale_factor"
      ],
      "execution_count": 4,
      "outputs": []
    },
    {
      "cell_type": "markdown",
      "metadata": {
        "id": "FhessIIV8VPc",
        "colab_type": "text"
      },
      "source": [
        "## Load the functions that build and train a model\n",
        "\n",
        "The following code cell defines two functions:\n",
        "\n",
        "  * `build_model`, which defines the model's topography.\n",
        "  * `train_model`, which will ultimately train the model, outputting not only the loss value for the training set but also the loss value for the validation set. \n",
        "\n",
        "Since you don't need to understand model building code right now, we've hidden this code cell. As always, you must run hidden code cells."
      ]
    },
    {
      "cell_type": "code",
      "metadata": {
        "id": "bvonhK857msj",
        "colab_type": "code",
        "cellView": "both",
        "colab": {
          "base_uri": "https://localhost:8080/",
          "height": 34
        },
        "outputId": "168be788-3b9e-4f90-d56a-9df8527f0ffe"
      },
      "source": [
        "#@title Define the functions that build and train a model\n",
        "def build_model(my_learning_rate):\n",
        "  \"\"\"Create and compile a simple linear regression model.\"\"\"\n",
        "  # Most simple tf.keras models are sequential.\n",
        "  model = tf.keras.models.Sequential()\n",
        "\n",
        "  # Add one linear layer to the model to yield a simple linear regressor.\n",
        "  model.add(tf.keras.layers.Dense(units=1, input_shape=(1,)))\n",
        "\n",
        "  # Compile the model topography into code that TensorFlow can efficiently\n",
        "  # execute. Configure training to minimize the model's mean squared error. \n",
        "  model.compile(optimizer=tf.keras.optimizers.RMSprop(lr=my_learning_rate),\n",
        "                loss=\"mean_squared_error\",\n",
        "                metrics=[tf.keras.metrics.RootMeanSquaredError()])\n",
        "\n",
        "  return model               \n",
        "\n",
        "\n",
        "def train_model(model, df, feature, label, my_epochs, \n",
        "                my_batch_size=None, my_validation_split=0.1):\n",
        "  \"\"\"Feed a dataset into the model in order to train it.\"\"\"\n",
        "\n",
        "  history = model.fit(x=df[feature],\n",
        "                      y=df[label],\n",
        "                      batch_size=my_batch_size,\n",
        "                      epochs=my_epochs,\n",
        "                      validation_split=my_validation_split)\n",
        "\n",
        "  # Gather the model's trained weight and bias.\n",
        "  trained_weight = model.get_weights()[0]\n",
        "  trained_bias = model.get_weights()[1]\n",
        "\n",
        "  # The list of epochs is stored separately from the \n",
        "  # rest of history.\n",
        "  epochs = history.epoch\n",
        "  \n",
        "  # Isolate the root mean squared error for each epoch.\n",
        "  hist = pd.DataFrame(history.history)\n",
        "  rmse = hist[\"root_mean_squared_error\"]\n",
        "\n",
        "  return epochs, rmse, history.history   \n",
        "\n",
        "print(\"Defined the build_model and train_model functions.\")"
      ],
      "execution_count": 5,
      "outputs": [
        {
          "output_type": "stream",
          "text": [
            "Defined the build_model and train_model functions.\n"
          ],
          "name": "stdout"
        }
      ]
    },
    {
      "cell_type": "markdown",
      "metadata": {
        "id": "8gRu4Ri0D8tH",
        "colab_type": "text"
      },
      "source": [
        "## Define plotting functions\n",
        "\n",
        "The `plot_the_loss_curve` function plots loss vs. epochs for both the training set and the validation set."
      ]
    },
    {
      "cell_type": "code",
      "metadata": {
        "id": "QA7hsqPZDvVM",
        "colab_type": "code",
        "cellView": "both",
        "colab": {
          "base_uri": "https://localhost:8080/",
          "height": 34
        },
        "outputId": "c307e1e4-190c-464c-90d4-df678657d1c7"
      },
      "source": [
        "#@title Define the plotting function\n",
        "\n",
        "def plot_the_loss_curve(epochs, mae_training, mae_validation):\n",
        "  \"\"\"Plot a curve of loss vs. epoch.\"\"\"\n",
        "\n",
        "  plt.figure()\n",
        "  plt.xlabel(\"Epoch\")\n",
        "  plt.ylabel(\"Root Mean Squared Error\")\n",
        "\n",
        "  plt.plot(epochs[1:], mae_training[1:], label=\"Training Loss\")\n",
        "  plt.plot(epochs[1:], mae_validation[1:], label=\"Validation Loss\")\n",
        "  plt.legend()\n",
        "  \n",
        "  # We're not going to plot the first epoch, since the loss on the first epoch\n",
        "  # is often substantially greater than the loss for other epochs.\n",
        "  merged_mae_lists = mae_training[1:] + mae_validation[1:]\n",
        "  highest_loss = max(merged_mae_lists)\n",
        "  lowest_loss = min(merged_mae_lists)\n",
        "  delta = highest_loss - lowest_loss\n",
        "  print(delta)\n",
        "\n",
        "  top_of_y_axis = highest_loss + (delta * 0.05)\n",
        "  bottom_of_y_axis = lowest_loss - (delta * 0.05)\n",
        "   \n",
        "  plt.ylim([bottom_of_y_axis, top_of_y_axis])\n",
        "  plt.show()  \n",
        "\n",
        "print(\"Defined the plot_the_loss_curve function.\")"
      ],
      "execution_count": 6,
      "outputs": [
        {
          "output_type": "stream",
          "text": [
            "Defined the plot_the_loss_curve function.\n"
          ],
          "name": "stdout"
        }
      ]
    },
    {
      "cell_type": "markdown",
      "metadata": {
        "id": "jipBqEQXlsN8",
        "colab_type": "text"
      },
      "source": [
        "## Task 1: Experiment with the validation split\n",
        "\n",
        "In the following code cell, you'll see a variable named `validation_split`, which we've initialized at 0.2.  The `validation_split` variable specifies the proportion of the original training set that will serve as the validation set. The original training set contains 17,000 examples. Therefore, a `validation_split` of 0.2 means that:\n",
        "\n",
        "* 17,000 * 0.2 ~= 3,400 examples will become the validation set.\n",
        "* 17,000 * 0.8 ~= 13,600 examples will become the new training set.\n",
        "\n",
        "The following code builds a model, trains it on the training set, and evaluates the built model on both:\n",
        "\n",
        "* The training set.\n",
        "* And the validation set.\n",
        "\n",
        "If the data in the training set is similar to the data in the validation set, then the two loss curves and the final loss values should be almost identical. However, the loss curves and final loss values are **not** almost identical. Hmm, that's odd.  \n",
        "\n",
        "Experiment with two or three different values of `validation_split`.  Do different values of `validation_split` fix the problem? \n"
      ]
    },
    {
      "cell_type": "code",
      "metadata": {
        "id": "knP23Taoa00a",
        "colab_type": "code",
        "colab": {
          "base_uri": "https://localhost:8080/",
          "height": 1000
        },
        "outputId": "bc94b5bb-1271-4325-fa63-d3b5a3de4687"
      },
      "source": [
        "# The following variables are the hyperparameters.\n",
        "learning_rate = 0.08\n",
        "epochs = 30\n",
        "batch_size = 100\n",
        "\n",
        "# Split the original training set into a reduced training set and a\n",
        "# validation set. \n",
        "validation_split=0.6\n",
        "\n",
        "# Identify the feature and the label.\n",
        "my_feature=\"median_income\"  # the median income on a specific city block.\n",
        "my_label=\"median_house_value\" # the median value of a house on a specific city block.\n",
        "# That is, you're going to create a model that predicts house value based \n",
        "# solely on the neighborhood's median income.  \n",
        "\n",
        "# Discard any pre-existing version of the model.\n",
        "my_model = None\n",
        "\n",
        "# Invoke the functions to build and train the model.\n",
        "my_model = build_model(learning_rate)\n",
        "epochs, rmse, history = train_model(my_model, train_df, my_feature, \n",
        "                                    my_label, epochs, batch_size, \n",
        "                                    validation_split)\n",
        "\n",
        "plot_the_loss_curve(epochs, history[\"root_mean_squared_error\"], \n",
        "                    history[\"val_root_mean_squared_error\"])"
      ],
      "execution_count": 12,
      "outputs": [
        {
          "output_type": "stream",
          "text": [
            "Epoch 1/30\n",
            "68/68 [==============================] - 0s 3ms/step - loss: 39813.8711 - root_mean_squared_error: 199.5341 - val_loss: 46599.4375 - val_root_mean_squared_error: 215.8690\n",
            "Epoch 2/30\n",
            "68/68 [==============================] - 0s 2ms/step - loss: 30253.9180 - root_mean_squared_error: 173.9365 - val_loss: 36457.3242 - val_root_mean_squared_error: 190.9380\n",
            "Epoch 3/30\n",
            "68/68 [==============================] - 0s 3ms/step - loss: 22350.3301 - root_mean_squared_error: 149.5003 - val_loss: 27862.6230 - val_root_mean_squared_error: 166.9210\n",
            "Epoch 4/30\n",
            "68/68 [==============================] - 0s 2ms/step - loss: 15917.0391 - root_mean_squared_error: 126.1628 - val_loss: 20867.3301 - val_root_mean_squared_error: 144.4553\n",
            "Epoch 5/30\n",
            "68/68 [==============================] - 0s 3ms/step - loss: 11048.5186 - root_mean_squared_error: 105.1119 - val_loss: 15516.4160 - val_root_mean_squared_error: 124.5649\n",
            "Epoch 6/30\n",
            "68/68 [==============================] - 0s 3ms/step - loss: 7604.5396 - root_mean_squared_error: 87.2040 - val_loss: 11705.3086 - val_root_mean_squared_error: 108.1911\n",
            "Epoch 7/30\n",
            "68/68 [==============================] - 0s 2ms/step - loss: 5651.0024 - root_mean_squared_error: 75.1731 - val_loss: 9472.6318 - val_root_mean_squared_error: 97.3274\n",
            "Epoch 8/30\n",
            "68/68 [==============================] - 0s 2ms/step - loss: 4933.2344 - root_mean_squared_error: 70.2370 - val_loss: 8711.5010 - val_root_mean_squared_error: 93.3354\n",
            "Epoch 9/30\n",
            "68/68 [==============================] - 0s 3ms/step - loss: 4871.5381 - root_mean_squared_error: 69.7964 - val_loss: 8646.0215 - val_root_mean_squared_error: 92.9840\n",
            "Epoch 10/30\n",
            "68/68 [==============================] - 0s 2ms/step - loss: 4866.4707 - root_mean_squared_error: 69.7601 - val_loss: 8704.4287 - val_root_mean_squared_error: 93.2975\n",
            "Epoch 11/30\n",
            "68/68 [==============================] - 0s 3ms/step - loss: 4866.5044 - root_mean_squared_error: 69.7603 - val_loss: 8670.3838 - val_root_mean_squared_error: 93.1149\n",
            "Epoch 12/30\n",
            "68/68 [==============================] - 0s 3ms/step - loss: 4864.2607 - root_mean_squared_error: 69.7443 - val_loss: 8648.7256 - val_root_mean_squared_error: 92.9985\n",
            "Epoch 13/30\n",
            "68/68 [==============================] - 0s 2ms/step - loss: 4862.5845 - root_mean_squared_error: 69.7322 - val_loss: 8641.7783 - val_root_mean_squared_error: 92.9612\n",
            "Epoch 14/30\n",
            "68/68 [==============================] - 0s 2ms/step - loss: 4860.0850 - root_mean_squared_error: 69.7143 - val_loss: 8687.5420 - val_root_mean_squared_error: 93.2070\n",
            "Epoch 15/30\n",
            "68/68 [==============================] - 0s 3ms/step - loss: 4858.3467 - root_mean_squared_error: 69.7018 - val_loss: 8623.6953 - val_root_mean_squared_error: 92.8639\n",
            "Epoch 16/30\n",
            "68/68 [==============================] - 0s 3ms/step - loss: 4859.3276 - root_mean_squared_error: 69.7089 - val_loss: 8648.8652 - val_root_mean_squared_error: 92.9993\n",
            "Epoch 17/30\n",
            "68/68 [==============================] - 0s 3ms/step - loss: 4858.7749 - root_mean_squared_error: 69.7049 - val_loss: 8669.7119 - val_root_mean_squared_error: 93.1113\n",
            "Epoch 18/30\n",
            "68/68 [==============================] - 0s 2ms/step - loss: 4857.7529 - root_mean_squared_error: 69.6976 - val_loss: 8646.5039 - val_root_mean_squared_error: 92.9866\n",
            "Epoch 19/30\n",
            "68/68 [==============================] - 0s 3ms/step - loss: 4858.1543 - root_mean_squared_error: 69.7005 - val_loss: 8663.1982 - val_root_mean_squared_error: 93.0763\n",
            "Epoch 20/30\n",
            "68/68 [==============================] - 0s 3ms/step - loss: 4857.2080 - root_mean_squared_error: 69.6937 - val_loss: 8711.7588 - val_root_mean_squared_error: 93.3368\n",
            "Epoch 21/30\n",
            "68/68 [==============================] - 0s 2ms/step - loss: 4856.9648 - root_mean_squared_error: 69.6919 - val_loss: 8708.4209 - val_root_mean_squared_error: 93.3189\n",
            "Epoch 22/30\n",
            "68/68 [==============================] - 0s 3ms/step - loss: 4857.5254 - root_mean_squared_error: 69.6960 - val_loss: 8683.1768 - val_root_mean_squared_error: 93.1836\n",
            "Epoch 23/30\n",
            "68/68 [==============================] - 0s 5ms/step - loss: 4856.7407 - root_mean_squared_error: 69.6903 - val_loss: 8703.8018 - val_root_mean_squared_error: 93.2942\n",
            "Epoch 24/30\n",
            "68/68 [==============================] - 0s 3ms/step - loss: 4856.8398 - root_mean_squared_error: 69.6910 - val_loss: 8720.8936 - val_root_mean_squared_error: 93.3857\n",
            "Epoch 25/30\n",
            "68/68 [==============================] - 0s 2ms/step - loss: 4856.6504 - root_mean_squared_error: 69.6897 - val_loss: 8681.7461 - val_root_mean_squared_error: 93.1759\n",
            "Epoch 26/30\n",
            "68/68 [==============================] - 0s 3ms/step - loss: 4856.7798 - root_mean_squared_error: 69.6906 - val_loss: 8687.6787 - val_root_mean_squared_error: 93.2077\n",
            "Epoch 27/30\n",
            "68/68 [==============================] - 0s 3ms/step - loss: 4856.5542 - root_mean_squared_error: 69.6890 - val_loss: 8650.3965 - val_root_mean_squared_error: 93.0075\n",
            "Epoch 28/30\n",
            "68/68 [==============================] - 0s 2ms/step - loss: 4855.7422 - root_mean_squared_error: 69.6832 - val_loss: 8625.9248 - val_root_mean_squared_error: 92.8759\n",
            "Epoch 29/30\n",
            "68/68 [==============================] - 0s 3ms/step - loss: 4856.6289 - root_mean_squared_error: 69.6895 - val_loss: 8658.7109 - val_root_mean_squared_error: 93.0522\n",
            "Epoch 30/30\n",
            "68/68 [==============================] - 0s 3ms/step - loss: 4856.4292 - root_mean_squared_error: 69.6881 - val_loss: 8648.1709 - val_root_mean_squared_error: 92.9955\n",
            "121.2548599243164\n"
          ],
          "name": "stdout"
        },
        {
          "output_type": "display_data",
          "data": {
            "image/png": "[encoded data removed]",
            "text/plain": [
              "<Figure size 432x288 with 1 Axes>"
            ]
          },
          "metadata": {
            "tags": [],
            "needs_background": "light"
          }
        }
      ]
    },
    {
      "cell_type": "markdown",
      "metadata": {
        "id": "TKa11JK4Pm3f",
        "colab_type": "text"
      },
      "source": [
        "## Task 2: Determine **why** the loss curves differ\n",
        "\n",
        "No matter how you split the training set and the validation set, the loss curves differ significantly. Evidently, the data in the training set isn't similar enough to the data in the validation set. Counterintuitive? Yes, but this problem is actually pretty common in machine learning. \n",
        "\n",
        "Your task is to determine **why** the loss curves aren't highly similar. As with most issues in machine learning, the problem is rooted in the data itself. To solve this mystery of why the training set and validation set aren't almost identical, write a line or two of [pandas code](https://colab.research.google.com/github/google/eng-edu/blob/master/ml/cc/exercises/pandas_dataframe_ultraquick_tutorial.ipynb?utm_source=validation-colab&utm_medium=colab&utm_campaign=colab-external&utm_content=pandas_tf2-colab&hl=en) in the following code cell.  Here are a couple of hints:\n",
        "\n",
        "  * The previous code cell split the original training set into:\n",
        "    * a reduced training set (the original training set - the validation set)\n",
        "    * the validation set \n",
        "  * By default, the pandas [`head`](https://pandas.pydata.org/pandas-docs/stable/reference/api/pandas.DataFrame.head.html) method outputs the *first* 5 rows of the DataFrame. To see more of the training set, specify the `n` argument to `head` and assign a large positive integer to `n`."
      ]
    },
    {
      "cell_type": "code",
      "metadata": {
        "id": "VJQcAZkwJt_p",
        "colab_type": "code",
        "colab": {
          "base_uri": "https://localhost:8080/",
          "height": 402
        },
        "outputId": "c22a8ea7-9651-4728-96b6-460945b3e3e0"
      },
      "source": [
        "# Write some code in this code cell.\n",
        "train_df.head(30)"
      ],
      "execution_count": null,
      "outputs": [
        {
          "output_type": "execute_result",
          "data": {
            "text/html": [
              "<div>\n",
              "<style scoped>\n",
              "    .dataframe tbody tr th:only-of-type {\n",
              "        vertical-align: middle;\n",
              "    }\n",
              "\n",
              "    .dataframe tbody tr th {\n",
              "        vertical-align: top;\n",
              "    }\n",
              "\n",
              "    .dataframe thead th {\n",
              "        text-align: right;\n",
              "    }\n",
              "</style>\n",
              "<table border=\"1\" class=\"dataframe\">\n",
              "  <thead>\n",
              "    <tr style=\"text-align: right;\">\n",
              "      <th></th>\n",
              "      <th>longitude</th>\n",
              "      <th>latitude</th>\n",
              "      <th>housing_median_age</th>\n",
              "      <th>total_rooms</th>\n",
              "      <th>total_bedrooms</th>\n",
              "      <th>population</th>\n",
              "      <th>households</th>\n",
              "      <th>median_income</th>\n",
              "      <th>median_house_value</th>\n",
              "    </tr>\n",
              "  </thead>\n",
              "  <tbody>\n",
              "    <tr>\n",
              "      <th>0</th>\n",
              "      <td>-114.3</td>\n",
              "      <td>34.2</td>\n",
              "      <td>15.0</td>\n",
              "      <td>5612.0</td>\n",
              "      <td>1283.0</td>\n",
              "      <td>1015.0</td>\n",
              "      <td>472.0</td>\n",
              "      <td>1.5</td>\n",
              "      <td>66.9</td>\n",
              "    </tr>\n",
              "    <tr>\n",
              "      <th>1</th>\n",
              "      <td>-114.5</td>\n",
              "      <td>34.4</td>\n",
              "      <td>19.0</td>\n",
              "      <td>7650.0</td>\n",
              "      <td>1901.0</td>\n",
              "      <td>1129.0</td>\n",
              "      <td>463.0</td>\n",
              "      <td>1.8</td>\n",
              "      <td>80.1</td>\n",
              "    </tr>\n",
              "    <tr>\n",
              "      <th>2</th>\n",
              "      <td>-114.6</td>\n",
              "      <td>33.7</td>\n",
              "      <td>17.0</td>\n",
              "      <td>720.0</td>\n",
              "      <td>174.0</td>\n",
              "      <td>333.0</td>\n",
              "      <td>117.0</td>\n",
              "      <td>1.7</td>\n",
              "      <td>85.7</td>\n",
              "    </tr>\n",
              "    <tr>\n",
              "      <th>3</th>\n",
              "      <td>-114.6</td>\n",
              "      <td>33.6</td>\n",
              "      <td>14.0</td>\n",
              "      <td>1501.0</td>\n",
              "      <td>337.0</td>\n",
              "      <td>515.0</td>\n",
              "      <td>226.0</td>\n",
              "      <td>3.2</td>\n",
              "      <td>73.4</td>\n",
              "    </tr>\n",
              "    <tr>\n",
              "      <th>4</th>\n",
              "      <td>-114.6</td>\n",
              "      <td>33.6</td>\n",
              "      <td>20.0</td>\n",
              "      <td>1454.0</td>\n",
              "      <td>326.0</td>\n",
              "      <td>624.0</td>\n",
              "      <td>262.0</td>\n",
              "      <td>1.9</td>\n",
              "      <td>65.5</td>\n",
              "    </tr>\n",
              "    <tr>\n",
              "      <th>...</th>\n",
              "      <td>...</td>\n",
              "      <td>...</td>\n",
              "      <td>...</td>\n",
              "      <td>...</td>\n",
              "      <td>...</td>\n",
              "      <td>...</td>\n",
              "      <td>...</td>\n",
              "      <td>...</td>\n",
              "      <td>...</td>\n",
              "    </tr>\n",
              "    <tr>\n",
              "      <th>25</th>\n",
              "      <td>-115.3</td>\n",
              "      <td>32.8</td>\n",
              "      <td>34.0</td>\n",
              "      <td>591.0</td>\n",
              "      <td>139.0</td>\n",
              "      <td>327.0</td>\n",
              "      <td>89.0</td>\n",
              "      <td>3.7</td>\n",
              "      <td>100.0</td>\n",
              "    </tr>\n",
              "    <tr>\n",
              "      <th>26</th>\n",
              "      <td>-115.4</td>\n",
              "      <td>32.8</td>\n",
              "      <td>30.0</td>\n",
              "      <td>1602.0</td>\n",
              "      <td>322.0</td>\n",
              "      <td>1130.0</td>\n",
              "      <td>335.0</td>\n",
              "      <td>3.6</td>\n",
              "      <td>71.1</td>\n",
              "    </tr>\n",
              "    <tr>\n",
              "      <th>27</th>\n",
              "      <td>-115.4</td>\n",
              "      <td>32.8</td>\n",
              "      <td>14.0</td>\n",
              "      <td>1276.0</td>\n",
              "      <td>270.0</td>\n",
              "      <td>867.0</td>\n",
              "      <td>261.0</td>\n",
              "      <td>1.9</td>\n",
              "      <td>80.9</td>\n",
              "    </tr>\n",
              "    <tr>\n",
              "      <th>28</th>\n",
              "      <td>-115.4</td>\n",
              "      <td>32.8</td>\n",
              "      <td>32.0</td>\n",
              "      <td>741.0</td>\n",
              "      <td>191.0</td>\n",
              "      <td>623.0</td>\n",
              "      <td>169.0</td>\n",
              "      <td>1.8</td>\n",
              "      <td>68.6</td>\n",
              "    </tr>\n",
              "    <tr>\n",
              "      <th>29</th>\n",
              "      <td>-115.4</td>\n",
              "      <td>32.8</td>\n",
              "      <td>23.0</td>\n",
              "      <td>1458.0</td>\n",
              "      <td>294.0</td>\n",
              "      <td>866.0</td>\n",
              "      <td>275.0</td>\n",
              "      <td>2.4</td>\n",
              "      <td>74.3</td>\n",
              "    </tr>\n",
              "  </tbody>\n",
              "</table>\n",
              "<p>30 rows × 9 columns</p>\n",
              "</div>"
            ],
            "text/plain": [
              "    longitude  latitude  ...  median_income  median_house_value\n",
              "0      -114.3      34.2  ...            1.5                66.9\n",
              "1      -114.5      34.4  ...            1.8                80.1\n",
              "2      -114.6      33.7  ...            1.7                85.7\n",
              "3      -114.6      33.6  ...            3.2                73.4\n",
              "4      -114.6      33.6  ...            1.9                65.5\n",
              "..        ...       ...  ...            ...                 ...\n",
              "25     -115.3      32.8  ...            3.7               100.0\n",
              "26     -115.4      32.8  ...            3.6                71.1\n",
              "27     -115.4      32.8  ...            1.9                80.9\n",
              "28     -115.4      32.8  ...            1.8                68.6\n",
              "29     -115.4      32.8  ...            2.4                74.3\n",
              "\n",
              "[30 rows x 9 columns]"
            ]
          },
          "metadata": {
            "tags": []
          },
          "execution_count": 9
        }
      ]
    },
    {
      "cell_type": "code",
      "metadata": {
        "id": "EnNvkFwwK8WY",
        "colab_type": "code",
        "cellView": "both",
        "colab": {
          "base_uri": "https://localhost:8080/",
          "height": 402
        },
        "outputId": "301f0da8-9b3c-4ff9-e2c7-e89b5ec4c919"
      },
      "source": [
        "#@title Double-click for a possible solution to Task 2.\n",
        "\n",
        "# Examine examples 0 through 4 and examples 25 through 29\n",
        "# of the training set\n",
        "train_df.head(n=1000)\n",
        "\n",
        "# The original training set is sorted by longitude. \n",
        "# Apparently, longitude influences the relationship of\n",
        "# total_rooms to median_house_value."
      ],
      "execution_count": null,
      "outputs": [
        {
          "output_type": "execute_result",
          "data": {
            "text/html": [
              "<div>\n",
              "<style scoped>\n",
              "    .dataframe tbody tr th:only-of-type {\n",
              "        vertical-align: middle;\n",
              "    }\n",
              "\n",
              "    .dataframe tbody tr th {\n",
              "        vertical-align: top;\n",
              "    }\n",
              "\n",
              "    .dataframe thead th {\n",
              "        text-align: right;\n",
              "    }\n",
              "</style>\n",
              "<table border=\"1\" class=\"dataframe\">\n",
              "  <thead>\n",
              "    <tr style=\"text-align: right;\">\n",
              "      <th></th>\n",
              "      <th>longitude</th>\n",
              "      <th>latitude</th>\n",
              "      <th>housing_median_age</th>\n",
              "      <th>total_rooms</th>\n",
              "      <th>total_bedrooms</th>\n",
              "      <th>population</th>\n",
              "      <th>households</th>\n",
              "      <th>median_income</th>\n",
              "      <th>median_house_value</th>\n",
              "    </tr>\n",
              "  </thead>\n",
              "  <tbody>\n",
              "    <tr>\n",
              "      <th>0</th>\n",
              "      <td>-114.3</td>\n",
              "      <td>34.2</td>\n",
              "      <td>15.0</td>\n",
              "      <td>5612.0</td>\n",
              "      <td>1283.0</td>\n",
              "      <td>1015.0</td>\n",
              "      <td>472.0</td>\n",
              "      <td>1.5</td>\n",
              "      <td>66.9</td>\n",
              "    </tr>\n",
              "    <tr>\n",
              "      <th>1</th>\n",
              "      <td>-114.5</td>\n",
              "      <td>34.4</td>\n",
              "      <td>19.0</td>\n",
              "      <td>7650.0</td>\n",
              "      <td>1901.0</td>\n",
              "      <td>1129.0</td>\n",
              "      <td>463.0</td>\n",
              "      <td>1.8</td>\n",
              "      <td>80.1</td>\n",
              "    </tr>\n",
              "    <tr>\n",
              "      <th>2</th>\n",
              "      <td>-114.6</td>\n",
              "      <td>33.7</td>\n",
              "      <td>17.0</td>\n",
              "      <td>720.0</td>\n",
              "      <td>174.0</td>\n",
              "      <td>333.0</td>\n",
              "      <td>117.0</td>\n",
              "      <td>1.7</td>\n",
              "      <td>85.7</td>\n",
              "    </tr>\n",
              "    <tr>\n",
              "      <th>3</th>\n",
              "      <td>-114.6</td>\n",
              "      <td>33.6</td>\n",
              "      <td>14.0</td>\n",
              "      <td>1501.0</td>\n",
              "      <td>337.0</td>\n",
              "      <td>515.0</td>\n",
              "      <td>226.0</td>\n",
              "      <td>3.2</td>\n",
              "      <td>73.4</td>\n",
              "    </tr>\n",
              "    <tr>\n",
              "      <th>4</th>\n",
              "      <td>-114.6</td>\n",
              "      <td>33.6</td>\n",
              "      <td>20.0</td>\n",
              "      <td>1454.0</td>\n",
              "      <td>326.0</td>\n",
              "      <td>624.0</td>\n",
              "      <td>262.0</td>\n",
              "      <td>1.9</td>\n",
              "      <td>65.5</td>\n",
              "    </tr>\n",
              "    <tr>\n",
              "      <th>...</th>\n",
              "      <td>...</td>\n",
              "      <td>...</td>\n",
              "      <td>...</td>\n",
              "      <td>...</td>\n",
              "      <td>...</td>\n",
              "      <td>...</td>\n",
              "      <td>...</td>\n",
              "      <td>...</td>\n",
              "      <td>...</td>\n",
              "    </tr>\n",
              "    <tr>\n",
              "      <th>995</th>\n",
              "      <td>-117.1</td>\n",
              "      <td>32.5</td>\n",
              "      <td>8.0</td>\n",
              "      <td>6533.0</td>\n",
              "      <td>1217.0</td>\n",
              "      <td>4797.0</td>\n",
              "      <td>1177.0</td>\n",
              "      <td>4.0</td>\n",
              "      <td>144.4</td>\n",
              "    </tr>\n",
              "    <tr>\n",
              "      <th>996</th>\n",
              "      <td>-117.1</td>\n",
              "      <td>34.6</td>\n",
              "      <td>6.0</td>\n",
              "      <td>5110.0</td>\n",
              "      <td>1044.0</td>\n",
              "      <td>1938.0</td>\n",
              "      <td>724.0</td>\n",
              "      <td>3.2</td>\n",
              "      <td>112.8</td>\n",
              "    </tr>\n",
              "    <tr>\n",
              "      <th>997</th>\n",
              "      <td>-117.1</td>\n",
              "      <td>34.2</td>\n",
              "      <td>22.0</td>\n",
              "      <td>4397.0</td>\n",
              "      <td>931.0</td>\n",
              "      <td>1145.0</td>\n",
              "      <td>445.0</td>\n",
              "      <td>4.5</td>\n",
              "      <td>108.4</td>\n",
              "    </tr>\n",
              "    <tr>\n",
              "      <th>998</th>\n",
              "      <td>-117.1</td>\n",
              "      <td>34.0</td>\n",
              "      <td>24.0</td>\n",
              "      <td>4144.0</td>\n",
              "      <td>826.0</td>\n",
              "      <td>2127.0</td>\n",
              "      <td>772.0</td>\n",
              "      <td>2.5</td>\n",
              "      <td>96.0</td>\n",
              "    </tr>\n",
              "    <tr>\n",
              "      <th>999</th>\n",
              "      <td>-117.1</td>\n",
              "      <td>33.6</td>\n",
              "      <td>6.0</td>\n",
              "      <td>1868.0</td>\n",
              "      <td>289.0</td>\n",
              "      <td>750.0</td>\n",
              "      <td>247.0</td>\n",
              "      <td>4.4</td>\n",
              "      <td>307.6</td>\n",
              "    </tr>\n",
              "  </tbody>\n",
              "</table>\n",
              "<p>1000 rows × 9 columns</p>\n",
              "</div>"
            ],
            "text/plain": [
              "     longitude  latitude  ...  median_income  median_house_value\n",
              "0       -114.3      34.2  ...            1.5                66.9\n",
              "1       -114.5      34.4  ...            1.8                80.1\n",
              "2       -114.6      33.7  ...            1.7                85.7\n",
              "3       -114.6      33.6  ...            3.2                73.4\n",
              "4       -114.6      33.6  ...            1.9                65.5\n",
              "..         ...       ...  ...            ...                 ...\n",
              "995     -117.1      32.5  ...            4.0               144.4\n",
              "996     -117.1      34.6  ...            3.2               112.8\n",
              "997     -117.1      34.2  ...            4.5               108.4\n",
              "998     -117.1      34.0  ...            2.5                96.0\n",
              "999     -117.1      33.6  ...            4.4               307.6\n",
              "\n",
              "[1000 rows x 9 columns]"
            ]
          },
          "metadata": {
            "tags": []
          },
          "execution_count": 10
        }
      ]
    },
    {
      "cell_type": "markdown",
      "metadata": {
        "id": "rw4xI1ZEckI8",
        "colab_type": "text"
      },
      "source": [
        "## Task 3. Fix the problem\n",
        "\n",
        "To fix the problem, shuffle the examples in the training set before splitting the examples into a training set and validation set. To do so, take the following steps:\n",
        "\n",
        "1. Shuffle the data in the training set by adding the following line anywhere before you call `train_model` (in the code cell associated with Task 1):\n",
        "\n",
        "```\n",
        "  shuffled_train_df = train_df.reindex(np.random.permutation(train_df.index))\n",
        "```                                    \n",
        "\n",
        "2. Pass `shuffled_train_df` (instead of `train_df`) as the second argument to `train_model` (in the code call associated with Task 1) so that the call becomes as follows:\n",
        "\n",
        "```\n",
        "  epochs, rmse, history = train_model(my_model, shuffled_train_df, my_feature, \n",
        "                                      my_label, epochs, batch_size, \n",
        "                                      validation_split)\n",
        "```"
      ]
    },
    {
      "cell_type": "code",
      "metadata": {
        "id": "ncODhpv0h-LG",
        "colab_type": "code",
        "cellView": "both",
        "colab": {
          "base_uri": "https://localhost:8080/",
          "height": 1000
        },
        "outputId": "21a05e98-3181-4b14-e632-d1d44984c618"
      },
      "source": [
        "#@title Double-click to view the complete implementation.\n",
        "\n",
        "# The following variables are the hyperparameters.\n",
        "learning_rate = 0.08\n",
        "epochs = 70\n",
        "batch_size = 100\n",
        "\n",
        "# Split the original training set into a reduced training set and a\n",
        "# validation set. \n",
        "validation_split=0.5\n",
        "\n",
        "# Identify the feature and the label.\n",
        "my_feature=\"median_income\"  # the median income on a specific city block.\n",
        "my_label=\"median_house_value\" # the median value of a house on a specific city block.\n",
        "# That is, you're going to create a model that predicts house value based \n",
        "# solely on the neighborhood's median income.  \n",
        "\n",
        "# Discard any pre-existing version of the model.\n",
        "my_model = None\n",
        "\n",
        "# Shuffle the examples.\n",
        "shuffled_train_df = train_df.reindex(np.random.permutation(train_df.index)) \n",
        "\n",
        "# Invoke the functions to build and train the model. Train on the shuffled\n",
        "# training set.\n",
        "my_model = build_model(learning_rate)\n",
        "epochs, rmse, history = train_model(my_model, shuffled_train_df, my_feature, \n",
        "                                    my_label, epochs, batch_size, \n",
        "                                    validation_split)\n",
        "\n",
        "plot_the_loss_curve(epochs, history[\"root_mean_squared_error\"], \n",
        "                    history[\"val_root_mean_squared_error\"])"
      ],
      "execution_count": 21,
      "outputs": [
        {
          "output_type": "stream",
          "text": [
            "Epoch 1/70\n",
            "85/85 [==============================] - 0s 3ms/step - loss: 49341.9531 - root_mean_squared_error: 222.1305 - val_loss: 40541.4648 - val_root_mean_squared_error: 201.3491\n",
            "Epoch 2/70\n",
            "85/85 [==============================] - 0s 2ms/step - loss: 36077.2461 - root_mean_squared_error: 189.9401 - val_loss: 29085.4961 - val_root_mean_squared_error: 170.5447\n",
            "Epoch 3/70\n",
            "85/85 [==============================] - 0s 2ms/step - loss: 25502.1973 - root_mean_squared_error: 159.6941 - val_loss: 20049.5234 - val_root_mean_squared_error: 141.5963\n",
            "Epoch 4/70\n",
            "85/85 [==============================] - 0s 2ms/step - loss: 17338.3457 - root_mean_squared_error: 131.6752 - val_loss: 13394.9746 - val_root_mean_squared_error: 115.7367\n",
            "Epoch 5/70\n",
            "85/85 [==============================] - 0s 2ms/step - loss: 11609.7266 - root_mean_squared_error: 107.7484 - val_loss: 9174.0527 - val_root_mean_squared_error: 95.7813\n",
            "Epoch 6/70\n",
            "85/85 [==============================] - 0s 2ms/step - loss: 8304.0273 - root_mean_squared_error: 91.1264 - val_loss: 7237.8887 - val_root_mean_squared_error: 85.0758\n",
            "Epoch 7/70\n",
            "85/85 [==============================] - 0s 2ms/step - loss: 7118.2090 - root_mean_squared_error: 84.3695 - val_loss: 6990.6519 - val_root_mean_squared_error: 83.6101\n",
            "Epoch 8/70\n",
            "85/85 [==============================] - 0s 2ms/step - loss: 7039.4629 - root_mean_squared_error: 83.9015 - val_loss: 6991.8726 - val_root_mean_squared_error: 83.6174\n",
            "Epoch 9/70\n",
            "85/85 [==============================] - 0s 2ms/step - loss: 7038.5820 - root_mean_squared_error: 83.8963 - val_loss: 6994.5264 - val_root_mean_squared_error: 83.6333\n",
            "Epoch 10/70\n",
            "85/85 [==============================] - 0s 2ms/step - loss: 7038.4736 - root_mean_squared_error: 83.8956 - val_loss: 6992.9805 - val_root_mean_squared_error: 83.6240\n",
            "Epoch 11/70\n",
            "85/85 [==============================] - 0s 2ms/step - loss: 7039.0786 - root_mean_squared_error: 83.8992 - val_loss: 6990.5342 - val_root_mean_squared_error: 83.6094\n",
            "Epoch 12/70\n",
            "85/85 [==============================] - 0s 2ms/step - loss: 7037.9429 - root_mean_squared_error: 83.8924 - val_loss: 6991.7236 - val_root_mean_squared_error: 83.6165\n",
            "Epoch 13/70\n",
            "85/85 [==============================] - 0s 2ms/step - loss: 7038.1030 - root_mean_squared_error: 83.8934 - val_loss: 7004.4512 - val_root_mean_squared_error: 83.6926\n",
            "Epoch 14/70\n",
            "85/85 [==============================] - 0s 2ms/step - loss: 7038.0508 - root_mean_squared_error: 83.8931 - val_loss: 6990.7295 - val_root_mean_squared_error: 83.6106\n",
            "Epoch 15/70\n",
            "85/85 [==============================] - 0s 2ms/step - loss: 7038.5649 - root_mean_squared_error: 83.8962 - val_loss: 6993.4351 - val_root_mean_squared_error: 83.6268\n",
            "Epoch 16/70\n",
            "85/85 [==============================] - 0s 2ms/step - loss: 7038.6104 - root_mean_squared_error: 83.8964 - val_loss: 6988.9155 - val_root_mean_squared_error: 83.5997\n",
            "Epoch 17/70\n",
            "85/85 [==============================] - 0s 2ms/step - loss: 7038.7275 - root_mean_squared_error: 83.8971 - val_loss: 6989.4731 - val_root_mean_squared_error: 83.6031\n",
            "Epoch 18/70\n",
            "85/85 [==============================] - 0s 2ms/step - loss: 7038.9546 - root_mean_squared_error: 83.8985 - val_loss: 6992.8179 - val_root_mean_squared_error: 83.6231\n",
            "Epoch 19/70\n",
            "85/85 [==============================] - 0s 2ms/step - loss: 7038.4053 - root_mean_squared_error: 83.8952 - val_loss: 7000.4175 - val_root_mean_squared_error: 83.6685\n",
            "Epoch 20/70\n",
            "85/85 [==============================] - 0s 2ms/step - loss: 7039.1396 - root_mean_squared_error: 83.8996 - val_loss: 6998.6694 - val_root_mean_squared_error: 83.6581\n",
            "Epoch 21/70\n",
            "85/85 [==============================] - 0s 2ms/step - loss: 7038.2490 - root_mean_squared_error: 83.8943 - val_loss: 6994.2510 - val_root_mean_squared_error: 83.6316\n",
            "Epoch 22/70\n",
            "85/85 [==============================] - 0s 3ms/step - loss: 7039.2339 - root_mean_squared_error: 83.9001 - val_loss: 6991.3843 - val_root_mean_squared_error: 83.6145\n",
            "Epoch 23/70\n",
            "85/85 [==============================] - 0s 3ms/step - loss: 7038.0649 - root_mean_squared_error: 83.8932 - val_loss: 6996.3862 - val_root_mean_squared_error: 83.6444\n",
            "Epoch 24/70\n",
            "85/85 [==============================] - 0s 2ms/step - loss: 7038.0146 - root_mean_squared_error: 83.8929 - val_loss: 7000.0869 - val_root_mean_squared_error: 83.6665\n",
            "Epoch 25/70\n",
            "85/85 [==============================] - 0s 2ms/step - loss: 7038.5283 - root_mean_squared_error: 83.8959 - val_loss: 6996.5659 - val_root_mean_squared_error: 83.6455\n",
            "Epoch 26/70\n",
            "85/85 [==============================] - 0s 2ms/step - loss: 7039.3882 - root_mean_squared_error: 83.9011 - val_loss: 6992.2979 - val_root_mean_squared_error: 83.6200\n",
            "Epoch 27/70\n",
            "85/85 [==============================] - 0s 2ms/step - loss: 7038.7710 - root_mean_squared_error: 83.8974 - val_loss: 6995.6689 - val_root_mean_squared_error: 83.6401\n",
            "Epoch 28/70\n",
            "85/85 [==============================] - 0s 2ms/step - loss: 7038.4932 - root_mean_squared_error: 83.8957 - val_loss: 6990.3599 - val_root_mean_squared_error: 83.6084\n",
            "Epoch 29/70\n",
            "85/85 [==============================] - 0s 2ms/step - loss: 7038.7383 - root_mean_squared_error: 83.8972 - val_loss: 6987.7925 - val_root_mean_squared_error: 83.5930\n",
            "Epoch 30/70\n",
            "85/85 [==============================] - 0s 2ms/step - loss: 7039.3608 - root_mean_squared_error: 83.9009 - val_loss: 6991.8408 - val_root_mean_squared_error: 83.6172\n",
            "Epoch 31/70\n",
            "85/85 [==============================] - 0s 2ms/step - loss: 7038.3242 - root_mean_squared_error: 83.8947 - val_loss: 6998.8657 - val_root_mean_squared_error: 83.6592\n",
            "Epoch 32/70\n",
            "85/85 [==============================] - 0s 2ms/step - loss: 7038.2378 - root_mean_squared_error: 83.8942 - val_loss: 7001.2480 - val_root_mean_squared_error: 83.6735\n",
            "Epoch 33/70\n",
            "85/85 [==============================] - 0s 2ms/step - loss: 7037.9424 - root_mean_squared_error: 83.8924 - val_loss: 6993.4429 - val_root_mean_squared_error: 83.6268\n",
            "Epoch 34/70\n",
            "85/85 [==============================] - 0s 2ms/step - loss: 7037.5562 - root_mean_squared_error: 83.8901 - val_loss: 7005.0854 - val_root_mean_squared_error: 83.6964\n",
            "Epoch 35/70\n",
            "85/85 [==============================] - 0s 2ms/step - loss: 7038.4219 - root_mean_squared_error: 83.8953 - val_loss: 6989.6558 - val_root_mean_squared_error: 83.6042\n",
            "Epoch 36/70\n",
            "85/85 [==============================] - 0s 3ms/step - loss: 7038.4458 - root_mean_squared_error: 83.8954 - val_loss: 6988.5415 - val_root_mean_squared_error: 83.5975\n",
            "Epoch 37/70\n",
            "85/85 [==============================] - 0s 2ms/step - loss: 7038.4688 - root_mean_squared_error: 83.8956 - val_loss: 6994.4702 - val_root_mean_squared_error: 83.6329\n",
            "Epoch 38/70\n",
            "85/85 [==============================] - 0s 2ms/step - loss: 7038.2070 - root_mean_squared_error: 83.8940 - val_loss: 6998.6782 - val_root_mean_squared_error: 83.6581\n",
            "Epoch 39/70\n",
            "85/85 [==============================] - 0s 2ms/step - loss: 7037.5781 - root_mean_squared_error: 83.8903 - val_loss: 6992.2188 - val_root_mean_squared_error: 83.6195\n",
            "Epoch 40/70\n",
            "85/85 [==============================] - 0s 2ms/step - loss: 7038.7817 - root_mean_squared_error: 83.8974 - val_loss: 6994.8027 - val_root_mean_squared_error: 83.6349\n",
            "Epoch 41/70\n",
            "85/85 [==============================] - 0s 2ms/step - loss: 7038.3105 - root_mean_squared_error: 83.8946 - val_loss: 7001.3652 - val_root_mean_squared_error: 83.6742\n",
            "Epoch 42/70\n",
            "85/85 [==============================] - 0s 2ms/step - loss: 7039.1689 - root_mean_squared_error: 83.8997 - val_loss: 6997.4121 - val_root_mean_squared_error: 83.6505\n",
            "Epoch 43/70\n",
            "85/85 [==============================] - 0s 2ms/step - loss: 7036.9517 - root_mean_squared_error: 83.8865 - val_loss: 6999.8164 - val_root_mean_squared_error: 83.6649\n",
            "Epoch 44/70\n",
            "85/85 [==============================] - 0s 2ms/step - loss: 7037.6782 - root_mean_squared_error: 83.8909 - val_loss: 6987.7363 - val_root_mean_squared_error: 83.5927\n",
            "Epoch 45/70\n",
            "85/85 [==============================] - 0s 2ms/step - loss: 7038.0601 - root_mean_squared_error: 83.8932 - val_loss: 7004.4780 - val_root_mean_squared_error: 83.6928\n",
            "Epoch 46/70\n",
            "85/85 [==============================] - 0s 2ms/step - loss: 7039.0107 - root_mean_squared_error: 83.8988 - val_loss: 6988.8818 - val_root_mean_squared_error: 83.5995\n",
            "Epoch 47/70\n",
            "85/85 [==============================] - 0s 2ms/step - loss: 7038.5176 - root_mean_squared_error: 83.8959 - val_loss: 6989.2754 - val_root_mean_squared_error: 83.6019\n",
            "Epoch 48/70\n",
            "85/85 [==============================] - 0s 2ms/step - loss: 7039.5898 - root_mean_squared_error: 83.9023 - val_loss: 6987.8306 - val_root_mean_squared_error: 83.5932\n",
            "Epoch 49/70\n",
            "85/85 [==============================] - 0s 2ms/step - loss: 7039.4023 - root_mean_squared_error: 83.9011 - val_loss: 6990.9175 - val_root_mean_squared_error: 83.6117\n",
            "Epoch 50/70\n",
            "85/85 [==============================] - 0s 2ms/step - loss: 7038.5503 - root_mean_squared_error: 83.8961 - val_loss: 6990.3496 - val_root_mean_squared_error: 83.6083\n",
            "Epoch 51/70\n",
            "85/85 [==============================] - 0s 2ms/step - loss: 7038.2002 - root_mean_squared_error: 83.8940 - val_loss: 6996.0591 - val_root_mean_squared_error: 83.6424\n",
            "Epoch 52/70\n",
            "85/85 [==============================] - 0s 2ms/step - loss: 7036.9399 - root_mean_squared_error: 83.8865 - val_loss: 6989.2197 - val_root_mean_squared_error: 83.6016\n",
            "Epoch 53/70\n",
            "85/85 [==============================] - 0s 2ms/step - loss: 7038.8096 - root_mean_squared_error: 83.8976 - val_loss: 6990.0107 - val_root_mean_squared_error: 83.6063\n",
            "Epoch 54/70\n",
            "85/85 [==============================] - 0s 2ms/step - loss: 7038.0107 - root_mean_squared_error: 83.8929 - val_loss: 7000.9604 - val_root_mean_squared_error: 83.6717\n",
            "Epoch 55/70\n",
            "85/85 [==============================] - 0s 2ms/step - loss: 7038.3867 - root_mean_squared_error: 83.8951 - val_loss: 6997.1265 - val_root_mean_squared_error: 83.6488\n",
            "Epoch 56/70\n",
            "85/85 [==============================] - 0s 2ms/step - loss: 7038.0410 - root_mean_squared_error: 83.8930 - val_loss: 7000.5771 - val_root_mean_squared_error: 83.6694\n",
            "Epoch 57/70\n",
            "85/85 [==============================] - 0s 2ms/step - loss: 7039.2158 - root_mean_squared_error: 83.9000 - val_loss: 6996.1382 - val_root_mean_squared_error: 83.6429\n",
            "Epoch 58/70\n",
            "85/85 [==============================] - 0s 2ms/step - loss: 7038.0132 - root_mean_squared_error: 83.8929 - val_loss: 6989.2646 - val_root_mean_squared_error: 83.6018\n",
            "Epoch 59/70\n",
            "85/85 [==============================] - 0s 2ms/step - loss: 7038.2241 - root_mean_squared_error: 83.8941 - val_loss: 6997.9888 - val_root_mean_squared_error: 83.6540\n",
            "Epoch 60/70\n",
            "85/85 [==============================] - 0s 2ms/step - loss: 7037.9043 - root_mean_squared_error: 83.8922 - val_loss: 6990.3540 - val_root_mean_squared_error: 83.6083\n",
            "Epoch 61/70\n",
            "85/85 [==============================] - 0s 2ms/step - loss: 7036.8125 - root_mean_squared_error: 83.8857 - val_loss: 6985.3823 - val_root_mean_squared_error: 83.5786\n",
            "Epoch 62/70\n",
            "85/85 [==============================] - 0s 2ms/step - loss: 7039.6523 - root_mean_squared_error: 83.9026 - val_loss: 6991.0327 - val_root_mean_squared_error: 83.6124\n",
            "Epoch 63/70\n",
            "85/85 [==============================] - 0s 2ms/step - loss: 7038.1968 - root_mean_squared_error: 83.8940 - val_loss: 6990.9941 - val_root_mean_squared_error: 83.6122\n",
            "Epoch 64/70\n",
            "85/85 [==============================] - 0s 2ms/step - loss: 7038.1313 - root_mean_squared_error: 83.8936 - val_loss: 6987.8975 - val_root_mean_squared_error: 83.5937\n",
            "Epoch 65/70\n",
            "85/85 [==============================] - 0s 2ms/step - loss: 7039.9644 - root_mean_squared_error: 83.9045 - val_loss: 6990.2153 - val_root_mean_squared_error: 83.6075\n",
            "Epoch 66/70\n",
            "85/85 [==============================] - 0s 2ms/step - loss: 7038.0840 - root_mean_squared_error: 83.8933 - val_loss: 6997.4326 - val_root_mean_squared_error: 83.6507\n",
            "Epoch 67/70\n",
            "85/85 [==============================] - 0s 2ms/step - loss: 7036.3442 - root_mean_squared_error: 83.8829 - val_loss: 7016.3218 - val_root_mean_squared_error: 83.7635\n",
            "Epoch 68/70\n",
            "85/85 [==============================] - 0s 2ms/step - loss: 7038.3052 - root_mean_squared_error: 83.8946 - val_loss: 6993.9404 - val_root_mean_squared_error: 83.6298\n",
            "Epoch 69/70\n",
            "85/85 [==============================] - 0s 2ms/step - loss: 7039.4146 - root_mean_squared_error: 83.9012 - val_loss: 6998.6719 - val_root_mean_squared_error: 83.6581\n",
            "Epoch 70/70\n",
            "85/85 [==============================] - 0s 2ms/step - loss: 7039.1030 - root_mean_squared_error: 83.8994 - val_loss: 6991.2705 - val_root_mean_squared_error: 83.6138\n",
            "106.36151123046875\n"
          ],
          "name": "stdout"
        },
        {
          "output_type": "display_data",
          "data": {
            "image/png": "[encoded data removed]",
            "text/plain": [
              "<Figure size 432x288 with 1 Axes>"
            ]
          },
          "metadata": {
            "tags": [],
            "needs_background": "light"
          }
        }
      ]
    },
    {
      "cell_type": "markdown",
      "metadata": {
        "id": "tKN239_miW8C",
        "colab_type": "text"
      },
      "source": [
        "Experiment with `validation_split` to answer the following questions:\n",
        "\n",
        "* With the training set shuffled, is the final loss for the training set closer to the final loss for the validation set?  \n",
        "* At what range of values of `validation_split` do the final loss values for the training set and validation set diverge meaningfully?  Why?"
      ]
    },
    {
      "cell_type": "code",
      "metadata": {
        "id": "-UAJ3Q86iz31",
        "colab_type": "code",
        "cellView": "both",
        "colab": {}
      },
      "source": [
        "#@title Double-click for the answers to the questions\n",
        "\n",
        "# Yes, after shuffling the original training set, \n",
        "# the final loss for the training set and the \n",
        "# validation set become much closer.\n",
        "\n",
        "# If validation_split < 0.15,\n",
        "# the final loss values for the training set and\n",
        "# validation set diverge meaningfully.  Apparently,\n",
        "# the validation set no longer contains enough examples. "
      ],
      "execution_count": null,
      "outputs": []
    },
    {
      "cell_type": "markdown",
      "metadata": {
        "id": "1PP-O8TOZOeo",
        "colab_type": "text"
      },
      "source": [
        "## Task 4: Use the Test Dataset to Evaluate Your Model's Performance\n",
        "\n",
        "The test set usually acts as the ultimate judge of a model's quality. The test set can serve as an impartial judge because its examples haven't been used in training the model. Run the following code cell to evaluate the model with the test set:"
      ]
    },
    {
      "cell_type": "code",
      "metadata": {
        "id": "nd_Sw2cygOip",
        "colab_type": "code",
        "colab": {
          "base_uri": "https://localhost:8080/",
          "height": 34
        },
        "outputId": "efcae454-6e67-480e-9a98-fdb2d35c13e4"
      },
      "source": [
        "x_test = test_df[my_feature]\n",
        "y_test = test_df[my_label]\n",
        "\n",
        "results = my_model.evaluate(x_test, y_test, batch_size=batch_size)"
      ],
      "execution_count": 22,
      "outputs": [
        {
          "output_type": "stream",
          "text": [
            "30/30 [==============================] - 0s 917us/step - loss: 7008.4658 - root_mean_squared_error: 83.7166\n"
          ],
          "name": "stdout"
        }
      ]
    },
    {
      "cell_type": "markdown",
      "metadata": {
        "id": "qoyQKvsjmV_A",
        "colab_type": "text"
      },
      "source": [
        "Compare the root mean squared error of the model when evaluated on each of the three datasets:\n",
        "\n",
        "* training set: look for `root_mean_squared_error` in the final training epoch.\n",
        "* validation set: look for `val_root_mean_squared_error` in the final training epoch.\n",
        "* test set: run the preceding code cell and examine the `root_mean_squred_error`.\n",
        "\n",
        "Ideally, the root mean squared error of all three sets should be similar. Are they?"
      ]
    },
    {
      "cell_type": "code",
      "metadata": {
        "id": "FxXtp-aVdIgJ",
        "colab_type": "code",
        "cellView": "both",
        "colab": {}
      },
      "source": [
        "#@title Double-click for an answer\n",
        "\n",
        "# In our experiments, yes, the rmse values \n",
        "# were similar enough. "
      ],
      "execution_count": null,
      "outputs": []
    }
  ]
}