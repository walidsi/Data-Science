{
  "nbformat": 4,
  "nbformat_minor": 0,
  "metadata": {
    "colab": {
      "name": "Validation_and_Test_Sets.ipynb",
      "provenance": [],
      "collapsed_sections": [],
      "include_colab_link": true
    },
    "kernelspec": {
      "name": "python3",
      "display_name": "Python 3"
    }
  },
  "cells": [
    {
      "cell_type": "markdown",
      "metadata": {
        "id": "view-in-github",
        "colab_type": "text"
      },
      "source": [
        "<a href=\"https://colab.research.google.com/github/walidsi/Data-Science/blob/master/Google%20Machine%20Learning%20Crash%20Course/Validation_and_Test_Sets.ipynb\" target=\"_parent\"><img src=\"https://colab.research.google.com/assets/colab-badge.svg\" alt=\"Open In Colab\"/></a>"
      ]
    },
    {
      "cell_type": "code",
      "metadata": {
        "id": "hMqWDc_m6rUC",
        "colab_type": "code",
        "cellView": "form",
        "colab": {}
      },
      "source": [
        "#@title Copyright 2020 Google LLC. Double-click here for license information.\n",
        "# Licensed under the Apache License, Version 2.0 (the \"License\");\n",
        "# you may not use this file except in compliance with the License.\n",
        "# You may obtain a copy of the License at\n",
        "#\n",
        "# https://www.apache.org/licenses/LICENSE-2.0\n",
        "#\n",
        "# Unless required by applicable law or agreed to in writing, software\n",
        "# distributed under the License is distributed on an \"AS IS\" BASIS,\n",
        "# WITHOUT WARRANTIES OR CONDITIONS OF ANY KIND, either express or implied.\n",
        "# See the License for the specific language governing permissions and\n",
        "# limitations under the License."
      ],
      "execution_count": 1,
      "outputs": []
    },
    {
      "cell_type": "markdown",
      "metadata": {
        "id": "4f3CKqFUqL2-",
        "colab_type": "text"
      },
      "source": [
        "# Validation Sets and Test Sets\n",
        "\n",
        "The previous Colab exercises evaluated the trained model against the training set, which does not provide a strong signal about the quality of your model. In this Colab, you'll experiment with validation sets and test sets.\n",
        "\n",
        "\n",
        "\n",
        "\n"
      ]
    },
    {
      "cell_type": "markdown",
      "metadata": {
        "id": "3spZH_kNkWWX",
        "colab_type": "text"
      },
      "source": [
        "## Learning objectives\n",
        "\n",
        "After doing this Colab, you'll know how to do the following:\n",
        "\n",
        "  * Split a [training set](https://developers.google.com/machine-learning/glossary/#training_set) into a smaller training set and a [validation set](https://developers.google.com/machine-learning/glossary/#validation_set).\n",
        "  * Analyze deltas between training set and validation set results.\n",
        "  * Test the trained model with a [test set](https://developers.google.com/machine-learning/glossary/#test_set) to determine whether your trained model is [overfitting](https://developers.google.com/machine-learning/glossary/#overfitting).\n",
        "  * Detect and fix a common training problem."
      ]
    },
    {
      "cell_type": "markdown",
      "metadata": {
        "id": "gV82DJO3kWpk",
        "colab_type": "text"
      },
      "source": [
        "## The dataset\n",
        "\n",
        "As in the previous exercise, this exercise uses the [California Housing dataset](https://developers.google.com/machine-learning/crash-course/california-housing-data-description) to predict the `median_house_value` at the city block level.  Like many \"famous\" datasets, the California Housing Dataset actually consists of two separate datasets, each living in separate .csv files:\n",
        "\n",
        "* The training set is in `california_housing_train.csv`.\n",
        "* The test set is in `california_housing_test.csv`.\n",
        "\n",
        "You'll create the validation set by dividing the downloaded training set into two parts:\n",
        "\n",
        "* a smaller training set  \n",
        "* a validation set"
      ]
    },
    {
      "cell_type": "markdown",
      "metadata": {
        "id": "u84mXopntPFZ",
        "colab_type": "text"
      },
      "source": [
        "## Use the right version of TensorFlow\n",
        "\n",
        "The following hidden code cell ensures that the Colab will run on TensorFlow 2.X."
      ]
    },
    {
      "cell_type": "code",
      "metadata": {
        "id": "FBhNIdUatOU6",
        "colab_type": "code",
        "cellView": "form",
        "colab": {}
      },
      "source": [
        "#@title Run on TensorFlow 2.x\n",
        "%tensorflow_version 2.x"
      ],
      "execution_count": 2,
      "outputs": []
    },
    {
      "cell_type": "markdown",
      "metadata": {
        "id": "S8gm6BpqRRuh",
        "colab_type": "text"
      },
      "source": [
        "## Import relevant modules\n",
        "\n",
        "As before, this first code cell imports the necessary modules and sets a few display options."
      ]
    },
    {
      "cell_type": "code",
      "metadata": {
        "id": "9D8GgUovHbG0",
        "colab_type": "code",
        "cellView": "both",
        "colab": {}
      },
      "source": [
        "#@title Import modules\n",
        "import numpy as np\n",
        "import pandas as pd\n",
        "import tensorflow as tf\n",
        "from matplotlib import pyplot as plt\n",
        "\n",
        "pd.options.display.max_rows = 10\n",
        "pd.options.display.float_format = \"{:.1f}\".format"
      ],
      "execution_count": 3,
      "outputs": []
    },
    {
      "cell_type": "markdown",
      "metadata": {
        "id": "xjvrrClQeAJu",
        "colab_type": "text"
      },
      "source": [
        "## Load the datasets from the internet\n",
        "\n",
        "The following code cell loads the separate .csv files and creates the following two pandas DataFrames:\n",
        "\n",
        "* `train_df`, which contains the training set.\n",
        "* `test_df`, which contains the test set.\n",
        "\n"
      ]
    },
    {
      "cell_type": "code",
      "metadata": {
        "id": "zUnTc_wfd_o3",
        "colab_type": "code",
        "colab": {}
      },
      "source": [
        "train_df = pd.read_csv(\"https://download.mlcc.google.com/mledu-datasets/california_housing_train.csv\")\n",
        "test_df = pd.read_csv(\"https://download.mlcc.google.com/mledu-datasets/california_housing_test.csv\")"
      ],
      "execution_count": 4,
      "outputs": []
    },
    {
      "cell_type": "markdown",
      "metadata": {
        "id": "P_KBdj2M_yjM",
        "colab_type": "text"
      },
      "source": [
        "## Scale the label values\n",
        "\n",
        "The following code cell scales the `median_house_value`. \n",
        "See the previous Colab exercise for details."
      ]
    },
    {
      "cell_type": "code",
      "metadata": {
        "id": "3hc7QQhaAFXD",
        "colab_type": "code",
        "colab": {}
      },
      "source": [
        "scale_factor = 1000.0\n",
        "\n",
        "# Scale the training set's label.\n",
        "train_df[\"median_house_value\"] /= scale_factor \n",
        "\n",
        "# Scale the test set's label\n",
        "test_df[\"median_house_value\"] /= scale_factor"
      ],
      "execution_count": 5,
      "outputs": []
    },
    {
      "cell_type": "markdown",
      "metadata": {
        "id": "FhessIIV8VPc",
        "colab_type": "text"
      },
      "source": [
        "## Load the functions that build and train a model\n",
        "\n",
        "The following code cell defines two functions:\n",
        "\n",
        "  * `build_model`, which defines the model's topography.\n",
        "  * `train_model`, which will ultimately train the model, outputting not only the loss value for the training set but also the loss value for the validation set. \n",
        "\n",
        "Since you don't need to understand model building code right now, we've hidden this code cell. As always, you must run hidden code cells."
      ]
    },
    {
      "cell_type": "code",
      "metadata": {
        "id": "bvonhK857msj",
        "colab_type": "code",
        "cellView": "both",
        "colab": {
          "base_uri": "https://localhost:8080/",
          "height": 34
        },
        "outputId": "8a9979ee-cd88-4427-b554-63d0cc53ef33"
      },
      "source": [
        "#@title Define the functions that build and train a model\n",
        "def build_model(my_learning_rate):\n",
        "  \"\"\"Create and compile a simple linear regression model.\"\"\"\n",
        "  # Most simple tf.keras models are sequential.\n",
        "  model = tf.keras.models.Sequential()\n",
        "\n",
        "  # Add one linear layer to the model to yield a simple linear regressor.\n",
        "  model.add(tf.keras.layers.Dense(units=1, input_shape=(1,)))\n",
        "\n",
        "  # Compile the model topography into code that TensorFlow can efficiently\n",
        "  # execute. Configure training to minimize the model's mean squared error. \n",
        "  model.compile(optimizer=tf.keras.optimizers.RMSprop(lr=my_learning_rate),\n",
        "                loss=\"mean_squared_error\",\n",
        "                metrics=[tf.keras.metrics.RootMeanSquaredError()])\n",
        "\n",
        "  return model               \n",
        "\n",
        "\n",
        "def train_model(model, df, feature, label, my_epochs, \n",
        "                my_batch_size=None, my_validation_split=0.1):\n",
        "  \"\"\"Feed a dataset into the model in order to train it.\"\"\"\n",
        "\n",
        "  history = model.fit(x=df[feature],\n",
        "                      y=df[label],\n",
        "                      batch_size=my_batch_size,\n",
        "                      epochs=my_epochs,\n",
        "                      validation_split=my_validation_split)\n",
        "\n",
        "  # Gather the model's trained weight and bias.\n",
        "  trained_weight = model.get_weights()[0]\n",
        "  trained_bias = model.get_weights()[1]\n",
        "\n",
        "  # The list of epochs is stored separately from the \n",
        "  # rest of history.\n",
        "  epochs = history.epoch\n",
        "  \n",
        "  # Isolate the root mean squared error for each epoch.\n",
        "  hist = pd.DataFrame(history.history)\n",
        "  rmse = hist[\"root_mean_squared_error\"]\n",
        "\n",
        "  return epochs, rmse, history.history   \n",
        "\n",
        "print(\"Defined the build_model and train_model functions.\")"
      ],
      "execution_count": 6,
      "outputs": [
        {
          "output_type": "stream",
          "text": [
            "Defined the build_model and train_model functions.\n"
          ],
          "name": "stdout"
        }
      ]
    },
    {
      "cell_type": "markdown",
      "metadata": {
        "id": "8gRu4Ri0D8tH",
        "colab_type": "text"
      },
      "source": [
        "## Define plotting functions\n",
        "\n",
        "The `plot_the_loss_curve` function plots loss vs. epochs for both the training set and the validation set."
      ]
    },
    {
      "cell_type": "code",
      "metadata": {
        "id": "QA7hsqPZDvVM",
        "colab_type": "code",
        "cellView": "both",
        "colab": {
          "base_uri": "https://localhost:8080/",
          "height": 34
        },
        "outputId": "209d1e96-d03c-42a9-b9e5-2ec27fe9b090"
      },
      "source": [
        "#@title Define the plotting function\n",
        "\n",
        "def plot_the_loss_curve(epochs, mae_training, mae_validation):\n",
        "  \"\"\"Plot a curve of loss vs. epoch.\"\"\"\n",
        "\n",
        "  plt.figure()\n",
        "  plt.xlabel(\"Epoch\")\n",
        "  plt.ylabel(\"Root Mean Squared Error\")\n",
        "\n",
        "  plt.plot(epochs[1:], mae_training[1:], label=\"Training Loss\")\n",
        "  plt.plot(epochs[1:], mae_validation[1:], label=\"Validation Loss\")\n",
        "  plt.legend()\n",
        "  \n",
        "  # We're not going to plot the first epoch, since the loss on the first epoch\n",
        "  # is often substantially greater than the loss for other epochs.\n",
        "  merged_mae_lists = mae_training[1:] + mae_validation[1:]\n",
        "  highest_loss = max(merged_mae_lists)\n",
        "  lowest_loss = min(merged_mae_lists)\n",
        "  delta = highest_loss - lowest_loss\n",
        "  print(delta)\n",
        "\n",
        "  top_of_y_axis = highest_loss + (delta * 0.05)\n",
        "  bottom_of_y_axis = lowest_loss - (delta * 0.05)\n",
        "   \n",
        "  plt.ylim([bottom_of_y_axis, top_of_y_axis])\n",
        "  plt.show()  \n",
        "\n",
        "print(\"Defined the plot_the_loss_curve function.\")"
      ],
      "execution_count": 7,
      "outputs": [
        {
          "output_type": "stream",
          "text": [
            "Defined the plot_the_loss_curve function.\n"
          ],
          "name": "stdout"
        }
      ]
    },
    {
      "cell_type": "markdown",
      "metadata": {
        "id": "jipBqEQXlsN8",
        "colab_type": "text"
      },
      "source": [
        "## Task 1: Experiment with the validation split\n",
        "\n",
        "In the following code cell, you'll see a variable named `validation_split`, which we've initialized at 0.2.  The `validation_split` variable specifies the proportion of the original training set that will serve as the validation set. The original training set contains 17,000 examples. Therefore, a `validation_split` of 0.2 means that:\n",
        "\n",
        "* 17,000 * 0.2 ~= 3,400 examples will become the validation set.\n",
        "* 17,000 * 0.8 ~= 13,600 examples will become the new training set.\n",
        "\n",
        "The following code builds a model, trains it on the training set, and evaluates the built model on both:\n",
        "\n",
        "* The training set.\n",
        "* And the validation set.\n",
        "\n",
        "If the data in the training set is similar to the data in the validation set, then the two loss curves and the final loss values should be almost identical. However, the loss curves and final loss values are **not** almost identical. Hmm, that's odd.  \n",
        "\n",
        "Experiment with two or three different values of `validation_split`.  Do different values of `validation_split` fix the problem? \n"
      ]
    },
    {
      "cell_type": "code",
      "metadata": {
        "id": "knP23Taoa00a",
        "colab_type": "code",
        "colab": {
          "base_uri": "https://localhost:8080/",
          "height": 1000
        },
        "outputId": "91feb2c8-b0d0-48a5-da68-4df13f7642c9"
      },
      "source": [
        "# The following variables are the hyperparameters.\n",
        "learning_rate = 0.08\n",
        "epochs = 30\n",
        "batch_size = 100\n",
        "\n",
        "# Split the original training set into a reduced training set and a\n",
        "# validation set. \n",
        "validation_split=0.5\n",
        "\n",
        "# Identify the feature and the label.\n",
        "my_feature=\"median_income\"  # the median income on a specific city block.\n",
        "my_label=\"median_house_value\" # the median value of a house on a specific city block.\n",
        "# That is, you're going to create a model that predicts house value based \n",
        "# solely on the neighborhood's median income.  \n",
        "\n",
        "# Discard any pre-existing version of the model.\n",
        "my_model = None\n",
        "\n",
        "# Invoke the functions to build and train the model.\n",
        "my_model = build_model(learning_rate)\n",
        "epochs, rmse, history = train_model(my_model, train_df, my_feature, \n",
        "                                    my_label, epochs, batch_size, \n",
        "                                    validation_split)\n",
        "\n",
        "plot_the_loss_curve(epochs, history[\"root_mean_squared_error\"], \n",
        "                    history[\"val_root_mean_squared_error\"])"
      ],
      "execution_count": 8,
      "outputs": [
        {
          "output_type": "stream",
          "text": [
            "Epoch 1/30\n",
            "85/85 [==============================] - 0s 5ms/step - loss: 50963.2305 - root_mean_squared_error: 225.7504 - val_loss: 40769.2422 - val_root_mean_squared_error: 201.9139\n",
            "Epoch 2/30\n",
            "85/85 [==============================] - 0s 2ms/step - loss: 37502.7539 - root_mean_squared_error: 193.6563 - val_loss: 29309.1426 - val_root_mean_squared_error: 171.1991\n",
            "Epoch 3/30\n",
            "85/85 [==============================] - 0s 2ms/step - loss: 26586.5195 - root_mean_squared_error: 163.0537 - val_loss: 20192.1289 - val_root_mean_squared_error: 142.0990\n",
            "Epoch 4/30\n",
            "85/85 [==============================] - 0s 2ms/step - loss: 18106.6035 - root_mean_squared_error: 134.5608 - val_loss: 13539.1289 - val_root_mean_squared_error: 116.3578\n",
            "Epoch 5/30\n",
            "85/85 [==============================] - 0s 2ms/step - loss: 12095.8262 - root_mean_squared_error: 109.9810 - val_loss: 9303.9092 - val_root_mean_squared_error: 96.4568\n",
            "Epoch 6/30\n",
            "85/85 [==============================] - 0s 2ms/step - loss: 8414.0615 - root_mean_squared_error: 91.7282 - val_loss: 7348.3008 - val_root_mean_squared_error: 85.7222\n",
            "Epoch 7/30\n",
            "85/85 [==============================] - 0s 2ms/step - loss: 7021.0698 - root_mean_squared_error: 83.7918 - val_loss: 7163.8193 - val_root_mean_squared_error: 84.6394\n",
            "Epoch 8/30\n",
            "85/85 [==============================] - 0s 2ms/step - loss: 6847.3872 - root_mean_squared_error: 82.7489 - val_loss: 7237.1479 - val_root_mean_squared_error: 85.0714\n",
            "Epoch 9/30\n",
            "85/85 [==============================] - 0s 2ms/step - loss: 6837.4106 - root_mean_squared_error: 82.6886 - val_loss: 7224.4111 - val_root_mean_squared_error: 84.9965\n",
            "Epoch 10/30\n",
            "85/85 [==============================] - 0s 2ms/step - loss: 6827.6934 - root_mean_squared_error: 82.6299 - val_loss: 7271.6436 - val_root_mean_squared_error: 85.2739\n",
            "Epoch 11/30\n",
            "85/85 [==============================] - 0s 2ms/step - loss: 6822.9985 - root_mean_squared_error: 82.6014 - val_loss: 7270.5298 - val_root_mean_squared_error: 85.2674\n",
            "Epoch 12/30\n",
            "85/85 [==============================] - 0s 2ms/step - loss: 6816.4561 - root_mean_squared_error: 82.5618 - val_loss: 7273.5098 - val_root_mean_squared_error: 85.2849\n",
            "Epoch 13/30\n",
            "85/85 [==============================] - 0s 2ms/step - loss: 6812.1211 - root_mean_squared_error: 82.5356 - val_loss: 7282.6147 - val_root_mean_squared_error: 85.3382\n",
            "Epoch 14/30\n",
            "85/85 [==============================] - 0s 2ms/step - loss: 6807.3857 - root_mean_squared_error: 82.5069 - val_loss: 7273.7637 - val_root_mean_squared_error: 85.2864\n",
            "Epoch 15/30\n",
            "85/85 [==============================] - 0s 2ms/step - loss: 6805.5400 - root_mean_squared_error: 82.4957 - val_loss: 7314.5474 - val_root_mean_squared_error: 85.5251\n",
            "Epoch 16/30\n",
            "85/85 [==============================] - 0s 2ms/step - loss: 6802.9380 - root_mean_squared_error: 82.4799 - val_loss: 7317.7974 - val_root_mean_squared_error: 85.5441\n",
            "Epoch 17/30\n",
            "85/85 [==============================] - 0s 2ms/step - loss: 6800.9922 - root_mean_squared_error: 82.4681 - val_loss: 7316.1914 - val_root_mean_squared_error: 85.5347\n",
            "Epoch 18/30\n",
            "85/85 [==============================] - 0s 2ms/step - loss: 6801.0796 - root_mean_squared_error: 82.4687 - val_loss: 7327.9414 - val_root_mean_squared_error: 85.6034\n",
            "Epoch 19/30\n",
            "85/85 [==============================] - 0s 2ms/step - loss: 6799.3496 - root_mean_squared_error: 82.4582 - val_loss: 7324.5615 - val_root_mean_squared_error: 85.5836\n",
            "Epoch 20/30\n",
            "85/85 [==============================] - 0s 2ms/step - loss: 6798.9106 - root_mean_squared_error: 82.4555 - val_loss: 7330.5396 - val_root_mean_squared_error: 85.6186\n",
            "Epoch 21/30\n",
            "85/85 [==============================] - 0s 2ms/step - loss: 6798.8862 - root_mean_squared_error: 82.4554 - val_loss: 7336.3682 - val_root_mean_squared_error: 85.6526\n",
            "Epoch 22/30\n",
            "85/85 [==============================] - 0s 2ms/step - loss: 6797.2554 - root_mean_squared_error: 82.4455 - val_loss: 7336.8589 - val_root_mean_squared_error: 85.6555\n",
            "Epoch 23/30\n",
            "85/85 [==============================] - 0s 2ms/step - loss: 6797.6079 - root_mean_squared_error: 82.4476 - val_loss: 7351.6729 - val_root_mean_squared_error: 85.7419\n",
            "Epoch 24/30\n",
            "85/85 [==============================] - 0s 2ms/step - loss: 6796.7251 - root_mean_squared_error: 82.4423 - val_loss: 7364.5728 - val_root_mean_squared_error: 85.8171\n",
            "Epoch 25/30\n",
            "85/85 [==============================] - 0s 2ms/step - loss: 6795.4824 - root_mean_squared_error: 82.4347 - val_loss: 7362.8062 - val_root_mean_squared_error: 85.8068\n",
            "Epoch 26/30\n",
            "85/85 [==============================] - 0s 2ms/step - loss: 6795.4648 - root_mean_squared_error: 82.4346 - val_loss: 7369.5342 - val_root_mean_squared_error: 85.8460\n",
            "Epoch 27/30\n",
            "85/85 [==============================] - 0s 2ms/step - loss: 6796.0674 - root_mean_squared_error: 82.4383 - val_loss: 7365.0674 - val_root_mean_squared_error: 85.8200\n",
            "Epoch 28/30\n",
            "85/85 [==============================] - 0s 2ms/step - loss: 6795.1895 - root_mean_squared_error: 82.4329 - val_loss: 7376.3101 - val_root_mean_squared_error: 85.8854\n",
            "Epoch 29/30\n",
            "85/85 [==============================] - 0s 2ms/step - loss: 6795.1377 - root_mean_squared_error: 82.4326 - val_loss: 7355.4937 - val_root_mean_squared_error: 85.7642\n",
            "Epoch 30/30\n",
            "85/85 [==============================] - 0s 2ms/step - loss: 6795.6377 - root_mean_squared_error: 82.4357 - val_loss: 7386.0713 - val_root_mean_squared_error: 85.9423\n",
            "111.2236557006836\n"
          ],
          "name": "stdout"
        },
        {
          "output_type": "display_data",
          "data": {
            "image/png": "[encoded data removed]",
            "text/plain": [
              "<Figure size 432x288 with 1 Axes>"
            ]
          },
          "metadata": {
            "tags": [],
            "needs_background": "light"
          }
        }
      ]
    },
    {
      "cell_type": "markdown",
      "metadata": {
        "id": "TKa11JK4Pm3f",
        "colab_type": "text"
      },
      "source": [
        "## Task 2: Determine **why** the loss curves differ\n",
        "\n",
        "No matter how you split the training set and the validation set, the loss curves differ significantly. Evidently, the data in the training set isn't similar enough to the data in the validation set. Counterintuitive? Yes, but this problem is actually pretty common in machine learning. \n",
        "\n",
        "Your task is to determine **why** the loss curves aren't highly similar. As with most issues in machine learning, the problem is rooted in the data itself. To solve this mystery of why the training set and validation set aren't almost identical, write a line or two of [pandas code](https://colab.research.google.com/github/google/eng-edu/blob/master/ml/cc/exercises/pandas_dataframe_ultraquick_tutorial.ipynb?utm_source=validation-colab&utm_medium=colab&utm_campaign=colab-external&utm_content=pandas_tf2-colab&hl=en) in the following code cell.  Here are a couple of hints:\n",
        "\n",
        "  * The previous code cell split the original training set into:\n",
        "    * a reduced training set (the original training set - the validation set)\n",
        "    * the validation set \n",
        "  * By default, the pandas [`head`](https://pandas.pydata.org/pandas-docs/stable/reference/api/pandas.DataFrame.head.html) method outputs the *first* 5 rows of the DataFrame. To see more of the training set, specify the `n` argument to `head` and assign a large positive integer to `n`."
      ]
    },
    {
      "cell_type": "code",
      "metadata": {
        "id": "VJQcAZkwJt_p",
        "colab_type": "code",
        "colab": {
          "base_uri": "https://localhost:8080/",
          "height": 402
        },
        "outputId": "c22a8ea7-9651-4728-96b6-460945b3e3e0"
      },
      "source": [
        "# Write some code in this code cell.\n",
        "train_df.head(30)"
      ],
      "execution_count": 9,
      "outputs": [
        {
          "output_type": "execute_result",
          "data": {
            "text/html": [
              "<div>\n",
              "<style scoped>\n",
              "    .dataframe tbody tr th:only-of-type {\n",
              "        vertical-align: middle;\n",
              "    }\n",
              "\n",
              "    .dataframe tbody tr th {\n",
              "        vertical-align: top;\n",
              "    }\n",
              "\n",
              "    .dataframe thead th {\n",
              "        text-align: right;\n",
              "    }\n",
              "</style>\n",
              "<table border=\"1\" class=\"dataframe\">\n",
              "  <thead>\n",
              "    <tr style=\"text-align: right;\">\n",
              "      <th></th>\n",
              "      <th>longitude</th>\n",
              "      <th>latitude</th>\n",
              "      <th>housing_median_age</th>\n",
              "      <th>total_rooms</th>\n",
              "      <th>total_bedrooms</th>\n",
              "      <th>population</th>\n",
              "      <th>households</th>\n",
              "      <th>median_income</th>\n",
              "      <th>median_house_value</th>\n",
              "    </tr>\n",
              "  </thead>\n",
              "  <tbody>\n",
              "    <tr>\n",
              "      <th>0</th>\n",
              "      <td>-114.3</td>\n",
              "      <td>34.2</td>\n",
              "      <td>15.0</td>\n",
              "      <td>5612.0</td>\n",
              "      <td>1283.0</td>\n",
              "      <td>1015.0</td>\n",
              "      <td>472.0</td>\n",
              "      <td>1.5</td>\n",
              "      <td>66.9</td>\n",
              "    </tr>\n",
              "    <tr>\n",
              "      <th>1</th>\n",
              "      <td>-114.5</td>\n",
              "      <td>34.4</td>\n",
              "      <td>19.0</td>\n",
              "      <td>7650.0</td>\n",
              "      <td>1901.0</td>\n",
              "      <td>1129.0</td>\n",
              "      <td>463.0</td>\n",
              "      <td>1.8</td>\n",
              "      <td>80.1</td>\n",
              "    </tr>\n",
              "    <tr>\n",
              "      <th>2</th>\n",
              "      <td>-114.6</td>\n",
              "      <td>33.7</td>\n",
              "      <td>17.0</td>\n",
              "      <td>720.0</td>\n",
              "      <td>174.0</td>\n",
              "      <td>333.0</td>\n",
              "      <td>117.0</td>\n",
              "      <td>1.7</td>\n",
              "      <td>85.7</td>\n",
              "    </tr>\n",
              "    <tr>\n",
              "      <th>3</th>\n",
              "      <td>-114.6</td>\n",
              "      <td>33.6</td>\n",
              "      <td>14.0</td>\n",
              "      <td>1501.0</td>\n",
              "      <td>337.0</td>\n",
              "      <td>515.0</td>\n",
              "      <td>226.0</td>\n",
              "      <td>3.2</td>\n",
              "      <td>73.4</td>\n",
              "    </tr>\n",
              "    <tr>\n",
              "      <th>4</th>\n",
              "      <td>-114.6</td>\n",
              "      <td>33.6</td>\n",
              "      <td>20.0</td>\n",
              "      <td>1454.0</td>\n",
              "      <td>326.0</td>\n",
              "      <td>624.0</td>\n",
              "      <td>262.0</td>\n",
              "      <td>1.9</td>\n",
              "      <td>65.5</td>\n",
              "    </tr>\n",
              "    <tr>\n",
              "      <th>...</th>\n",
              "      <td>...</td>\n",
              "      <td>...</td>\n",
              "      <td>...</td>\n",
              "      <td>...</td>\n",
              "      <td>...</td>\n",
              "      <td>...</td>\n",
              "      <td>...</td>\n",
              "      <td>...</td>\n",
              "      <td>...</td>\n",
              "    </tr>\n",
              "    <tr>\n",
              "      <th>25</th>\n",
              "      <td>-115.3</td>\n",
              "      <td>32.8</td>\n",
              "      <td>34.0</td>\n",
              "      <td>591.0</td>\n",
              "      <td>139.0</td>\n",
              "      <td>327.0</td>\n",
              "      <td>89.0</td>\n",
              "      <td>3.7</td>\n",
              "      <td>100.0</td>\n",
              "    </tr>\n",
              "    <tr>\n",
              "      <th>26</th>\n",
              "      <td>-115.4</td>\n",
              "      <td>32.8</td>\n",
              "      <td>30.0</td>\n",
              "      <td>1602.0</td>\n",
              "      <td>322.0</td>\n",
              "      <td>1130.0</td>\n",
              "      <td>335.0</td>\n",
              "      <td>3.6</td>\n",
              "      <td>71.1</td>\n",
              "    </tr>\n",
              "    <tr>\n",
              "      <th>27</th>\n",
              "      <td>-115.4</td>\n",
              "      <td>32.8</td>\n",
              "      <td>14.0</td>\n",
              "      <td>1276.0</td>\n",
              "      <td>270.0</td>\n",
              "      <td>867.0</td>\n",
              "      <td>261.0</td>\n",
              "      <td>1.9</td>\n",
              "      <td>80.9</td>\n",
              "    </tr>\n",
              "    <tr>\n",
              "      <th>28</th>\n",
              "      <td>-115.4</td>\n",
              "      <td>32.8</td>\n",
              "      <td>32.0</td>\n",
              "      <td>741.0</td>\n",
              "      <td>191.0</td>\n",
              "      <td>623.0</td>\n",
              "      <td>169.0</td>\n",
              "      <td>1.8</td>\n",
              "      <td>68.6</td>\n",
              "    </tr>\n",
              "    <tr>\n",
              "      <th>29</th>\n",
              "      <td>-115.4</td>\n",
              "      <td>32.8</td>\n",
              "      <td>23.0</td>\n",
              "      <td>1458.0</td>\n",
              "      <td>294.0</td>\n",
              "      <td>866.0</td>\n",
              "      <td>275.0</td>\n",
              "      <td>2.4</td>\n",
              "      <td>74.3</td>\n",
              "    </tr>\n",
              "  </tbody>\n",
              "</table>\n",
              "<p>30 rows × 9 columns</p>\n",
              "</div>"
            ],
            "text/plain": [
              "    longitude  latitude  ...  median_income  median_house_value\n",
              "0      -114.3      34.2  ...            1.5                66.9\n",
              "1      -114.5      34.4  ...            1.8                80.1\n",
              "2      -114.6      33.7  ...            1.7                85.7\n",
              "3      -114.6      33.6  ...            3.2                73.4\n",
              "4      -114.6      33.6  ...            1.9                65.5\n",
              "..        ...       ...  ...            ...                 ...\n",
              "25     -115.3      32.8  ...            3.7               100.0\n",
              "26     -115.4      32.8  ...            3.6                71.1\n",
              "27     -115.4      32.8  ...            1.9                80.9\n",
              "28     -115.4      32.8  ...            1.8                68.6\n",
              "29     -115.4      32.8  ...            2.4                74.3\n",
              "\n",
              "[30 rows x 9 columns]"
            ]
          },
          "metadata": {
            "tags": []
          },
          "execution_count": 9
        }
      ]
    },
    {
      "cell_type": "code",
      "metadata": {
        "id": "EnNvkFwwK8WY",
        "colab_type": "code",
        "cellView": "both",
        "colab": {
          "base_uri": "https://localhost:8080/",
          "height": 402
        },
        "outputId": "301f0da8-9b3c-4ff9-e2c7-e89b5ec4c919"
      },
      "source": [
        "#@title Double-click for a possible solution to Task 2.\n",
        "\n",
        "# Examine examples 0 through 4 and examples 25 through 29\n",
        "# of the training set\n",
        "train_df.head(n=1000)\n",
        "\n",
        "# The original training set is sorted by longitude. \n",
        "# Apparently, longitude influences the relationship of\n",
        "# total_rooms to median_house_value."
      ],
      "execution_count": 10,
      "outputs": [
        {
          "output_type": "execute_result",
          "data": {
            "text/html": [
              "<div>\n",
              "<style scoped>\n",
              "    .dataframe tbody tr th:only-of-type {\n",
              "        vertical-align: middle;\n",
              "    }\n",
              "\n",
              "    .dataframe tbody tr th {\n",
              "        vertical-align: top;\n",
              "    }\n",
              "\n",
              "    .dataframe thead th {\n",
              "        text-align: right;\n",
              "    }\n",
              "</style>\n",
              "<table border=\"1\" class=\"dataframe\">\n",
              "  <thead>\n",
              "    <tr style=\"text-align: right;\">\n",
              "      <th></th>\n",
              "      <th>longitude</th>\n",
              "      <th>latitude</th>\n",
              "      <th>housing_median_age</th>\n",
              "      <th>total_rooms</th>\n",
              "      <th>total_bedrooms</th>\n",
              "      <th>population</th>\n",
              "      <th>households</th>\n",
              "      <th>median_income</th>\n",
              "      <th>median_house_value</th>\n",
              "    </tr>\n",
              "  </thead>\n",
              "  <tbody>\n",
              "    <tr>\n",
              "      <th>0</th>\n",
              "      <td>-114.3</td>\n",
              "      <td>34.2</td>\n",
              "      <td>15.0</td>\n",
              "      <td>5612.0</td>\n",
              "      <td>1283.0</td>\n",
              "      <td>1015.0</td>\n",
              "      <td>472.0</td>\n",
              "      <td>1.5</td>\n",
              "      <td>66.9</td>\n",
              "    </tr>\n",
              "    <tr>\n",
              "      <th>1</th>\n",
              "      <td>-114.5</td>\n",
              "      <td>34.4</td>\n",
              "      <td>19.0</td>\n",
              "      <td>7650.0</td>\n",
              "      <td>1901.0</td>\n",
              "      <td>1129.0</td>\n",
              "      <td>463.0</td>\n",
              "      <td>1.8</td>\n",
              "      <td>80.1</td>\n",
              "    </tr>\n",
              "    <tr>\n",
              "      <th>2</th>\n",
              "      <td>-114.6</td>\n",
              "      <td>33.7</td>\n",
              "      <td>17.0</td>\n",
              "      <td>720.0</td>\n",
              "      <td>174.0</td>\n",
              "      <td>333.0</td>\n",
              "      <td>117.0</td>\n",
              "      <td>1.7</td>\n",
              "      <td>85.7</td>\n",
              "    </tr>\n",
              "    <tr>\n",
              "      <th>3</th>\n",
              "      <td>-114.6</td>\n",
              "      <td>33.6</td>\n",
              "      <td>14.0</td>\n",
              "      <td>1501.0</td>\n",
              "      <td>337.0</td>\n",
              "      <td>515.0</td>\n",
              "      <td>226.0</td>\n",
              "      <td>3.2</td>\n",
              "      <td>73.4</td>\n",
              "    </tr>\n",
              "    <tr>\n",
              "      <th>4</th>\n",
              "      <td>-114.6</td>\n",
              "      <td>33.6</td>\n",
              "      <td>20.0</td>\n",
              "      <td>1454.0</td>\n",
              "      <td>326.0</td>\n",
              "      <td>624.0</td>\n",
              "      <td>262.0</td>\n",
              "      <td>1.9</td>\n",
              "      <td>65.5</td>\n",
              "    </tr>\n",
              "    <tr>\n",
              "      <th>...</th>\n",
              "      <td>...</td>\n",
              "      <td>...</td>\n",
              "      <td>...</td>\n",
              "      <td>...</td>\n",
              "      <td>...</td>\n",
              "      <td>...</td>\n",
              "      <td>...</td>\n",
              "      <td>...</td>\n",
              "      <td>...</td>\n",
              "    </tr>\n",
              "    <tr>\n",
              "      <th>995</th>\n",
              "      <td>-117.1</td>\n",
              "      <td>32.5</td>\n",
              "      <td>8.0</td>\n",
              "      <td>6533.0</td>\n",
              "      <td>1217.0</td>\n",
              "      <td>4797.0</td>\n",
              "      <td>1177.0</td>\n",
              "      <td>4.0</td>\n",
              "      <td>144.4</td>\n",
              "    </tr>\n",
              "    <tr>\n",
              "      <th>996</th>\n",
              "      <td>-117.1</td>\n",
              "      <td>34.6</td>\n",
              "      <td>6.0</td>\n",
              "      <td>5110.0</td>\n",
              "      <td>1044.0</td>\n",
              "      <td>1938.0</td>\n",
              "      <td>724.0</td>\n",
              "      <td>3.2</td>\n",
              "      <td>112.8</td>\n",
              "    </tr>\n",
              "    <tr>\n",
              "      <th>997</th>\n",
              "      <td>-117.1</td>\n",
              "      <td>34.2</td>\n",
              "      <td>22.0</td>\n",
              "      <td>4397.0</td>\n",
              "      <td>931.0</td>\n",
              "      <td>1145.0</td>\n",
              "      <td>445.0</td>\n",
              "      <td>4.5</td>\n",
              "      <td>108.4</td>\n",
              "    </tr>\n",
              "    <tr>\n",
              "      <th>998</th>\n",
              "      <td>-117.1</td>\n",
              "      <td>34.0</td>\n",
              "      <td>24.0</td>\n",
              "      <td>4144.0</td>\n",
              "      <td>826.0</td>\n",
              "      <td>2127.0</td>\n",
              "      <td>772.0</td>\n",
              "      <td>2.5</td>\n",
              "      <td>96.0</td>\n",
              "    </tr>\n",
              "    <tr>\n",
              "      <th>999</th>\n",
              "      <td>-117.1</td>\n",
              "      <td>33.6</td>\n",
              "      <td>6.0</td>\n",
              "      <td>1868.0</td>\n",
              "      <td>289.0</td>\n",
              "      <td>750.0</td>\n",
              "      <td>247.0</td>\n",
              "      <td>4.4</td>\n",
              "      <td>307.6</td>\n",
              "    </tr>\n",
              "  </tbody>\n",
              "</table>\n",
              "<p>1000 rows × 9 columns</p>\n",
              "</div>"
            ],
            "text/plain": [
              "     longitude  latitude  ...  median_income  median_house_value\n",
              "0       -114.3      34.2  ...            1.5                66.9\n",
              "1       -114.5      34.4  ...            1.8                80.1\n",
              "2       -114.6      33.7  ...            1.7                85.7\n",
              "3       -114.6      33.6  ...            3.2                73.4\n",
              "4       -114.6      33.6  ...            1.9                65.5\n",
              "..         ...       ...  ...            ...                 ...\n",
              "995     -117.1      32.5  ...            4.0               144.4\n",
              "996     -117.1      34.6  ...            3.2               112.8\n",
              "997     -117.1      34.2  ...            4.5               108.4\n",
              "998     -117.1      34.0  ...            2.5                96.0\n",
              "999     -117.1      33.6  ...            4.4               307.6\n",
              "\n",
              "[1000 rows x 9 columns]"
            ]
          },
          "metadata": {
            "tags": []
          },
          "execution_count": 10
        }
      ]
    },
    {
      "cell_type": "markdown",
      "metadata": {
        "id": "rw4xI1ZEckI8",
        "colab_type": "text"
      },
      "source": [
        "## Task 3. Fix the problem\n",
        "\n",
        "To fix the problem, shuffle the examples in the training set before splitting the examples into a training set and validation set. To do so, take the following steps:\n",
        "\n",
        "1. Shuffle the data in the training set by adding the following line anywhere before you call `train_model` (in the code cell associated with Task 1):\n",
        "\n",
        "```\n",
        "  shuffled_train_df = train_df.reindex(np.random.permutation(train_df.index))\n",
        "```                                    \n",
        "\n",
        "2. Pass `shuffled_train_df` (instead of `train_df`) as the second argument to `train_model` (in the code call associated with Task 1) so that the call becomes as follows:\n",
        "\n",
        "```\n",
        "  epochs, rmse, history = train_model(my_model, shuffled_train_df, my_feature, \n",
        "                                      my_label, epochs, batch_size, \n",
        "                                      validation_split)\n",
        "```"
      ]
    },
    {
      "cell_type": "code",
      "metadata": {
        "id": "ncODhpv0h-LG",
        "colab_type": "code",
        "cellView": "both",
        "colab": {
          "base_uri": "https://localhost:8080/",
          "height": 1000
        },
        "outputId": "f49b3a5b-b5dc-4f18-9a0c-94529f55a9c2"
      },
      "source": [
        "#@title Double-click to view the complete implementation.\n",
        "\n",
        "# The following variables are the hyperparameters.\n",
        "learning_rate = 0.08\n",
        "epochs = 70\n",
        "batch_size = 100\n",
        "\n",
        "# Split the original training set into a reduced training set and a\n",
        "# validation set. \n",
        "validation_split=0.7\n",
        "\n",
        "# Identify the feature and the label.\n",
        "my_feature=\"median_income\"  # the median income on a specific city block.\n",
        "my_label=\"median_house_value\" # the median value of a house on a specific city block.\n",
        "# That is, you're going to create a model that predicts house value based \n",
        "# solely on the neighborhood's median income.  \n",
        "\n",
        "# Discard any pre-existing version of the model.\n",
        "my_model = None\n",
        "\n",
        "# Shuffle the examples.\n",
        "shuffled_train_df = train_df.reindex(np.random.permutation(train_df.index)) \n",
        "\n",
        "# Invoke the functions to build and train the model. Train on the shuffled\n",
        "# training set.\n",
        "my_model = build_model(learning_rate)\n",
        "epochs, rmse, history = train_model(my_model, shuffled_train_df, my_feature, \n",
        "                                    my_label, epochs, batch_size, \n",
        "                                    validation_split)\n",
        "\n",
        "plot_the_loss_curve(epochs, history[\"root_mean_squared_error\"], \n",
        "                    history[\"val_root_mean_squared_error\"])"
      ],
      "execution_count": 11,
      "outputs": [
        {
          "output_type": "stream",
          "text": [
            "Epoch 1/70\n",
            "51/51 [==============================] - 0s 5ms/step - loss: 50631.1758 - root_mean_squared_error: 225.0137 - val_loss: 45473.3086 - val_root_mean_squared_error: 213.2447\n",
            "Epoch 2/70\n",
            "51/51 [==============================] - 0s 3ms/step - loss: 41946.2148 - root_mean_squared_error: 204.8078 - val_loss: 37706.5430 - val_root_mean_squared_error: 194.1817\n",
            "Epoch 3/70\n",
            "51/51 [==============================] - 0s 3ms/step - loss: 34481.7930 - root_mean_squared_error: 185.6927 - val_loss: 30854.9961 - val_root_mean_squared_error: 175.6559\n",
            "Epoch 4/70\n",
            "51/51 [==============================] - 0s 4ms/step - loss: 27952.4258 - root_mean_squared_error: 167.1898 - val_loss: 24969.0488 - val_root_mean_squared_error: 158.0160\n",
            "Epoch 5/70\n",
            "51/51 [==============================] - 0s 3ms/step - loss: 22308.9297 - root_mean_squared_error: 149.3617 - val_loss: 19879.3633 - val_root_mean_squared_error: 140.9942\n",
            "Epoch 6/70\n",
            "51/51 [==============================] - 0s 3ms/step - loss: 17637.9980 - root_mean_squared_error: 132.8081 - val_loss: 15724.4043 - val_root_mean_squared_error: 125.3970\n",
            "Epoch 7/70\n",
            "51/51 [==============================] - 0s 4ms/step - loss: 13765.9795 - root_mean_squared_error: 117.3285 - val_loss: 12346.3447 - val_root_mean_squared_error: 111.1141\n",
            "Epoch 8/70\n",
            "51/51 [==============================] - 0s 4ms/step - loss: 10837.8682 - root_mean_squared_error: 104.1051 - val_loss: 9869.1709 - val_root_mean_squared_error: 99.3437\n",
            "Epoch 9/70\n",
            "51/51 [==============================] - 0s 4ms/step - loss: 8780.7471 - root_mean_squared_error: 93.7056 - val_loss: 8214.2402 - val_root_mean_squared_error: 90.6324\n",
            "Epoch 10/70\n",
            "51/51 [==============================] - 0s 4ms/step - loss: 7493.8037 - root_mean_squared_error: 86.5668 - val_loss: 7316.5649 - val_root_mean_squared_error: 85.5369\n",
            "Epoch 11/70\n",
            "51/51 [==============================] - 0s 3ms/step - loss: 7011.3027 - root_mean_squared_error: 83.7335 - val_loss: 7069.7505 - val_root_mean_squared_error: 84.0818\n",
            "Epoch 12/70\n",
            "51/51 [==============================] - 0s 3ms/step - loss: 6933.5151 - root_mean_squared_error: 83.2677 - val_loss: 7052.8613 - val_root_mean_squared_error: 83.9813\n",
            "Epoch 13/70\n",
            "51/51 [==============================] - 0s 3ms/step - loss: 6930.5249 - root_mean_squared_error: 83.2498 - val_loss: 7050.6670 - val_root_mean_squared_error: 83.9682\n",
            "Epoch 14/70\n",
            "51/51 [==============================] - 0s 3ms/step - loss: 6929.7163 - root_mean_squared_error: 83.2449 - val_loss: 7050.8296 - val_root_mean_squared_error: 83.9692\n",
            "Epoch 15/70\n",
            "51/51 [==============================] - 0s 3ms/step - loss: 6931.5898 - root_mean_squared_error: 83.2562 - val_loss: 7050.9014 - val_root_mean_squared_error: 83.9696\n",
            "Epoch 16/70\n",
            "51/51 [==============================] - 0s 3ms/step - loss: 6930.7334 - root_mean_squared_error: 83.2510 - val_loss: 7053.5161 - val_root_mean_squared_error: 83.9852\n",
            "Epoch 17/70\n",
            "51/51 [==============================] - 0s 3ms/step - loss: 6930.5820 - root_mean_squared_error: 83.2501 - val_loss: 7054.0698 - val_root_mean_squared_error: 83.9885\n",
            "Epoch 18/70\n",
            "51/51 [==============================] - 0s 3ms/step - loss: 6929.9600 - root_mean_squared_error: 83.2464 - val_loss: 7053.7412 - val_root_mean_squared_error: 83.9866\n",
            "Epoch 19/70\n",
            "51/51 [==============================] - 0s 3ms/step - loss: 6928.6660 - root_mean_squared_error: 83.2386 - val_loss: 7049.8506 - val_root_mean_squared_error: 83.9634\n",
            "Epoch 20/70\n",
            "51/51 [==============================] - 0s 3ms/step - loss: 6930.0889 - root_mean_squared_error: 83.2472 - val_loss: 7050.7480 - val_root_mean_squared_error: 83.9687\n",
            "Epoch 21/70\n",
            "51/51 [==============================] - 0s 3ms/step - loss: 6929.4126 - root_mean_squared_error: 83.2431 - val_loss: 7051.1367 - val_root_mean_squared_error: 83.9710\n",
            "Epoch 22/70\n",
            "51/51 [==============================] - 0s 3ms/step - loss: 6927.5371 - root_mean_squared_error: 83.2318 - val_loss: 7049.2744 - val_root_mean_squared_error: 83.9600\n",
            "Epoch 23/70\n",
            "51/51 [==============================] - 0s 3ms/step - loss: 6928.6147 - root_mean_squared_error: 83.2383 - val_loss: 7048.7026 - val_root_mean_squared_error: 83.9566\n",
            "Epoch 24/70\n",
            "51/51 [==============================] - 0s 3ms/step - loss: 6930.1943 - root_mean_squared_error: 83.2478 - val_loss: 7051.5527 - val_root_mean_squared_error: 83.9735\n",
            "Epoch 25/70\n",
            "51/51 [==============================] - 0s 4ms/step - loss: 6928.7153 - root_mean_squared_error: 83.2389 - val_loss: 7050.7480 - val_root_mean_squared_error: 83.9687\n",
            "Epoch 26/70\n",
            "51/51 [==============================] - 0s 3ms/step - loss: 6929.4932 - root_mean_squared_error: 83.2436 - val_loss: 7054.1851 - val_root_mean_squared_error: 83.9892\n",
            "Epoch 27/70\n",
            "51/51 [==============================] - 0s 3ms/step - loss: 6927.5679 - root_mean_squared_error: 83.2320 - val_loss: 7049.9043 - val_root_mean_squared_error: 83.9637\n",
            "Epoch 28/70\n",
            "51/51 [==============================] - 0s 3ms/step - loss: 6929.0454 - root_mean_squared_error: 83.2409 - val_loss: 7050.7158 - val_root_mean_squared_error: 83.9685\n",
            "Epoch 29/70\n",
            "51/51 [==============================] - 0s 3ms/step - loss: 6928.6206 - root_mean_squared_error: 83.2383 - val_loss: 7051.9072 - val_root_mean_squared_error: 83.9756\n",
            "Epoch 30/70\n",
            "51/51 [==============================] - 0s 3ms/step - loss: 6925.9287 - root_mean_squared_error: 83.2222 - val_loss: 7061.4473 - val_root_mean_squared_error: 84.0324\n",
            "Epoch 31/70\n",
            "51/51 [==============================] - 0s 3ms/step - loss: 6928.9570 - root_mean_squared_error: 83.2404 - val_loss: 7053.2773 - val_root_mean_squared_error: 83.9838\n",
            "Epoch 32/70\n",
            "51/51 [==============================] - 0s 3ms/step - loss: 6928.1226 - root_mean_squared_error: 83.2353 - val_loss: 7052.2085 - val_root_mean_squared_error: 83.9774\n",
            "Epoch 33/70\n",
            "51/51 [==============================] - 0s 3ms/step - loss: 6928.7583 - root_mean_squared_error: 83.2392 - val_loss: 7051.6270 - val_root_mean_squared_error: 83.9740\n",
            "Epoch 34/70\n",
            "51/51 [==============================] - 0s 3ms/step - loss: 6928.9922 - root_mean_squared_error: 83.2406 - val_loss: 7053.3535 - val_root_mean_squared_error: 83.9842\n",
            "Epoch 35/70\n",
            "51/51 [==============================] - 0s 3ms/step - loss: 6929.1372 - root_mean_squared_error: 83.2414 - val_loss: 7056.0513 - val_root_mean_squared_error: 84.0003\n",
            "Epoch 36/70\n",
            "51/51 [==============================] - 0s 3ms/step - loss: 6928.1113 - root_mean_squared_error: 83.2353 - val_loss: 7051.0400 - val_root_mean_squared_error: 83.9705\n",
            "Epoch 37/70\n",
            "51/51 [==============================] - 0s 3ms/step - loss: 6929.0391 - root_mean_squared_error: 83.2409 - val_loss: 7054.5049 - val_root_mean_squared_error: 83.9911\n",
            "Epoch 38/70\n",
            "51/51 [==============================] - 0s 3ms/step - loss: 6927.6367 - root_mean_squared_error: 83.2324 - val_loss: 7049.8105 - val_root_mean_squared_error: 83.9632\n",
            "Epoch 39/70\n",
            "51/51 [==============================] - 0s 3ms/step - loss: 6927.9019 - root_mean_squared_error: 83.2340 - val_loss: 7051.6338 - val_root_mean_squared_error: 83.9740\n",
            "Epoch 40/70\n",
            "51/51 [==============================] - 0s 4ms/step - loss: 6928.9160 - root_mean_squared_error: 83.2401 - val_loss: 7053.4482 - val_root_mean_squared_error: 83.9848\n",
            "Epoch 41/70\n",
            "51/51 [==============================] - 0s 3ms/step - loss: 6928.0947 - root_mean_squared_error: 83.2352 - val_loss: 7051.9863 - val_root_mean_squared_error: 83.9761\n",
            "Epoch 42/70\n",
            "51/51 [==============================] - 0s 3ms/step - loss: 6928.6509 - root_mean_squared_error: 83.2385 - val_loss: 7053.0366 - val_root_mean_squared_error: 83.9824\n",
            "Epoch 43/70\n",
            "51/51 [==============================] - 0s 3ms/step - loss: 6927.9097 - root_mean_squared_error: 83.2341 - val_loss: 7051.3369 - val_root_mean_squared_error: 83.9722\n",
            "Epoch 44/70\n",
            "51/51 [==============================] - 0s 3ms/step - loss: 6926.1245 - root_mean_squared_error: 83.2233 - val_loss: 7049.5864 - val_root_mean_squared_error: 83.9618\n",
            "Epoch 45/70\n",
            "51/51 [==============================] - 0s 3ms/step - loss: 6925.9795 - root_mean_squared_error: 83.2225 - val_loss: 7059.4004 - val_root_mean_squared_error: 84.0202\n",
            "Epoch 46/70\n",
            "51/51 [==============================] - 0s 3ms/step - loss: 6926.3247 - root_mean_squared_error: 83.2245 - val_loss: 7050.7354 - val_root_mean_squared_error: 83.9687\n",
            "Epoch 47/70\n",
            "51/51 [==============================] - 0s 4ms/step - loss: 6928.9326 - root_mean_squared_error: 83.2402 - val_loss: 7055.5991 - val_root_mean_squared_error: 83.9976\n",
            "Epoch 48/70\n",
            "51/51 [==============================] - 0s 3ms/step - loss: 6928.0503 - root_mean_squared_error: 83.2349 - val_loss: 7052.9668 - val_root_mean_squared_error: 83.9819\n",
            "Epoch 49/70\n",
            "51/51 [==============================] - 0s 4ms/step - loss: 6928.2095 - root_mean_squared_error: 83.2359 - val_loss: 7055.6772 - val_root_mean_squared_error: 83.9981\n",
            "Epoch 50/70\n",
            "51/51 [==============================] - 0s 4ms/step - loss: 6928.7441 - root_mean_squared_error: 83.2391 - val_loss: 7054.2280 - val_root_mean_squared_error: 83.9894\n",
            "Epoch 51/70\n",
            "51/51 [==============================] - 0s 3ms/step - loss: 6925.9858 - root_mean_squared_error: 83.2225 - val_loss: 7050.3706 - val_root_mean_squared_error: 83.9665\n",
            "Epoch 52/70\n",
            "51/51 [==============================] - 0s 4ms/step - loss: 6927.6133 - root_mean_squared_error: 83.2323 - val_loss: 7052.2251 - val_root_mean_squared_error: 83.9775\n",
            "Epoch 53/70\n",
            "51/51 [==============================] - 0s 4ms/step - loss: 6928.6147 - root_mean_squared_error: 83.2383 - val_loss: 7052.2939 - val_root_mean_squared_error: 83.9779\n",
            "Epoch 54/70\n",
            "51/51 [==============================] - 0s 4ms/step - loss: 6927.7583 - root_mean_squared_error: 83.2332 - val_loss: 7051.6167 - val_root_mean_squared_error: 83.9739\n",
            "Epoch 55/70\n",
            "51/51 [==============================] - 0s 4ms/step - loss: 6928.0879 - root_mean_squared_error: 83.2351 - val_loss: 7050.8203 - val_root_mean_squared_error: 83.9692\n",
            "Epoch 56/70\n",
            "51/51 [==============================] - 0s 3ms/step - loss: 6928.3403 - root_mean_squared_error: 83.2367 - val_loss: 7053.6685 - val_root_mean_squared_error: 83.9861\n",
            "Epoch 57/70\n",
            "51/51 [==============================] - 0s 3ms/step - loss: 6926.2896 - root_mean_squared_error: 83.2243 - val_loss: 7060.8740 - val_root_mean_squared_error: 84.0290\n",
            "Epoch 58/70\n",
            "51/51 [==============================] - 0s 3ms/step - loss: 6929.0127 - root_mean_squared_error: 83.2407 - val_loss: 7053.8184 - val_root_mean_squared_error: 83.9870\n",
            "Epoch 59/70\n",
            "51/51 [==============================] - 0s 3ms/step - loss: 6928.9458 - root_mean_squared_error: 83.2403 - val_loss: 7053.3833 - val_root_mean_squared_error: 83.9844\n",
            "Epoch 60/70\n",
            "51/51 [==============================] - 0s 3ms/step - loss: 6928.8579 - root_mean_squared_error: 83.2398 - val_loss: 7054.2656 - val_root_mean_squared_error: 83.9897\n",
            "Epoch 61/70\n",
            "51/51 [==============================] - 0s 3ms/step - loss: 6927.9233 - root_mean_squared_error: 83.2341 - val_loss: 7054.8062 - val_root_mean_squared_error: 83.9929\n",
            "Epoch 62/70\n",
            "51/51 [==============================] - 0s 3ms/step - loss: 6929.0864 - root_mean_squared_error: 83.2411 - val_loss: 7052.5547 - val_root_mean_squared_error: 83.9795\n",
            "Epoch 63/70\n",
            "51/51 [==============================] - 0s 3ms/step - loss: 6928.7363 - root_mean_squared_error: 83.2390 - val_loss: 7055.8022 - val_root_mean_squared_error: 83.9988\n",
            "Epoch 64/70\n",
            "51/51 [==============================] - 0s 3ms/step - loss: 6926.2407 - root_mean_squared_error: 83.2240 - val_loss: 7050.0869 - val_root_mean_squared_error: 83.9648\n",
            "Epoch 65/70\n",
            "51/51 [==============================] - 0s 3ms/step - loss: 6927.2070 - root_mean_squared_error: 83.2298 - val_loss: 7052.2314 - val_root_mean_squared_error: 83.9776\n",
            "Epoch 66/70\n",
            "51/51 [==============================] - 0s 3ms/step - loss: 6928.7202 - root_mean_squared_error: 83.2389 - val_loss: 7051.9897 - val_root_mean_squared_error: 83.9761\n",
            "Epoch 67/70\n",
            "51/51 [==============================] - 0s 3ms/step - loss: 6928.4243 - root_mean_squared_error: 83.2372 - val_loss: 7053.4678 - val_root_mean_squared_error: 83.9849\n",
            "Epoch 68/70\n",
            "51/51 [==============================] - 0s 4ms/step - loss: 6928.6108 - root_mean_squared_error: 83.2383 - val_loss: 7051.9346 - val_root_mean_squared_error: 83.9758\n",
            "Epoch 69/70\n",
            "51/51 [==============================] - 0s 3ms/step - loss: 6927.5835 - root_mean_squared_error: 83.2321 - val_loss: 7050.2129 - val_root_mean_squared_error: 83.9655\n",
            "Epoch 70/70\n",
            "51/51 [==============================] - 0s 3ms/step - loss: 6929.0908 - root_mean_squared_error: 83.2412 - val_loss: 7055.4917 - val_root_mean_squared_error: 83.9970\n",
            "121.58558654785156\n"
          ],
          "name": "stdout"
        },
        {
          "output_type": "display_data",
          "data": {
            "image/png": "[encoded data removed]",
            "text/plain": [
              "<Figure size 432x288 with 1 Axes>"
            ]
          },
          "metadata": {
            "tags": [],
            "needs_background": "light"
          }
        }
      ]
    },
    {
      "cell_type": "markdown",
      "metadata": {
        "id": "tKN239_miW8C",
        "colab_type": "text"
      },
      "source": [
        "Experiment with `validation_split` to answer the following questions:\n",
        "\n",
        "* With the training set shuffled, is the final loss for the training set closer to the final loss for the validation set?  \n",
        "* At what range of values of `validation_split` do the final loss values for the training set and validation set diverge meaningfully?  Why?"
      ]
    },
    {
      "cell_type": "code",
      "metadata": {
        "id": "-UAJ3Q86iz31",
        "colab_type": "code",
        "cellView": "both",
        "colab": {}
      },
      "source": [
        "#@title Double-click for the answers to the questions\n",
        "\n",
        "# Yes, after shuffling the original training set, \n",
        "# the final loss for the training set and the \n",
        "# validation set become much closer.\n",
        "\n",
        "# If validation_split < 0.15,\n",
        "# the final loss values for the training set and\n",
        "# validation set diverge meaningfully.  Apparently,\n",
        "# the validation set no longer contains enough examples. "
      ],
      "execution_count": 12,
      "outputs": []
    },
    {
      "cell_type": "markdown",
      "metadata": {
        "id": "1PP-O8TOZOeo",
        "colab_type": "text"
      },
      "source": [
        "## Task 4: Use the Test Dataset to Evaluate Your Model's Performance\n",
        "\n",
        "The test set usually acts as the ultimate judge of a model's quality. The test set can serve as an impartial judge because its examples haven't been used in training the model. Run the following code cell to evaluate the model with the test set:"
      ]
    },
    {
      "cell_type": "code",
      "metadata": {
        "id": "nd_Sw2cygOip",
        "colab_type": "code",
        "colab": {
          "base_uri": "https://localhost:8080/",
          "height": 34
        },
        "outputId": "42b2dce2-b597-47f0-e8cf-74315fa06b23"
      },
      "source": [
        "x_test = test_df[my_feature]\n",
        "y_test = test_df[my_label]\n",
        "\n",
        "results = my_model.evaluate(x_test, y_test, batch_size=batch_size)"
      ],
      "execution_count": 13,
      "outputs": [
        {
          "output_type": "stream",
          "text": [
            "30/30 [==============================] - 0s 931us/step - loss: 7012.5332 - root_mean_squared_error: 83.7409\n"
          ],
          "name": "stdout"
        }
      ]
    },
    {
      "cell_type": "markdown",
      "metadata": {
        "id": "qoyQKvsjmV_A",
        "colab_type": "text"
      },
      "source": [
        "Compare the root mean squared error of the model when evaluated on each of the three datasets:\n",
        "\n",
        "* training set: look for `root_mean_squared_error` in the final training epoch.\n",
        "* validation set: look for `val_root_mean_squared_error` in the final training epoch.\n",
        "* test set: run the preceding code cell and examine the `root_mean_squred_error`.\n",
        "\n",
        "Ideally, the root mean squared error of all three sets should be similar. Are they?"
      ]
    },
    {
      "cell_type": "code",
      "metadata": {
        "id": "FxXtp-aVdIgJ",
        "colab_type": "code",
        "cellView": "both",
        "colab": {}
      },
      "source": [
        "#@title Double-click for an answer\n",
        "\n",
        "# In our experiments, yes, the rmse values \n",
        "# were similar enough. "
      ],
      "execution_count": 14,
      "outputs": []
    }
  ]
}