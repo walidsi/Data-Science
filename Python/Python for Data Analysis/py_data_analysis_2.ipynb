{
  "nbformat": 4,
  "nbformat_minor": 0,
  "metadata": {
    "kernelspec": {
      "display_name": "Python 3",
      "language": "python",
      "name": "python3"
    },
    "language_info": {
      "codemirror_mode": {
        "name": "ipython",
        "version": 3
      },
      "file_extension": ".py",
      "mimetype": "text/x-python",
      "name": "python",
      "nbconvert_exporter": "python",
      "pygments_lexer": "ipython3",
      "version": "3.8.5"
    },
    "varInspector": {
      "cols": {
        "lenName": 16,
        "lenType": 16,
        "lenVar": 40
      },
      "kernels_config": {
        "python": {
          "delete_cmd_postfix": "",
          "delete_cmd_prefix": "del ",
          "library": "var_list.py",
          "varRefreshCmd": "print(var_dic_list())"
        },
        "r": {
          "delete_cmd_postfix": ") ",
          "delete_cmd_prefix": "rm(",
          "library": "var_list.r",
          "varRefreshCmd": "cat(var_dic_list()) "
        }
      },
      "position": {
        "height": "387.4px",
        "left": "851px",
        "right": "20px",
        "top": "92px",
        "width": "628px"
      },
      "types_to_exclude": [
        "module",
        "function",
        "builtin_function_or_method",
        "instance",
        "_Feature"
      ],
      "window_display": false
    },
    "colab": {
      "name": "py_data_analysis_2.ipynb",
      "provenance": []
    }
  },
  "cells": [
    {
      "cell_type": "markdown",
      "metadata": {
        "id": "-vjl-jATEeYw",
        "colab_type": "text"
      },
      "source": [
        "# Python for Data Analysis - 2"
      ]
    },
    {
      "cell_type": "code",
      "metadata": {
        "scrolled": true,
        "id": "L_8NSV2bEeYw",
        "colab_type": "code",
        "colab": {
          "base_uri": "https://localhost:8080/",
          "height": 67
        },
        "outputId": "5f6c68a4-438f-4423-c0a4-ea096bbd1bde"
      },
      "source": [
        "# %pprint\n",
        "# %precision %0.3f\n",
        "\n",
        "if 'google.colab' in str(get_ipython()):\n",
        "    print('Running on CoLab')\n",
        "    RunningInCOLAB = True\n",
        "else:\n",
        "    print('Not running on CoLab')\n",
        "    RunningInCOLAB = False\n",
        "\n",
        "%config IPCompleter.greedy = True\n",
        "%config IPCompleter.use_jedi = False"
      ],
      "execution_count": 240,
      "outputs": [
        {
          "output_type": "stream",
          "text": [
            "Running on CoLab\n"
          ],
          "name": "stdout"
        },
        {
          "output_type": "stream",
          "text": [
            "/usr/local/lib/python3.6/dist-packages/ipykernel_launcher.py:12: UserWarning: Config option `use_jedi` not recognized by `IPCompleter`.\n",
            "  if sys.path[0] == '':\n"
          ],
          "name": "stderr"
        }
      ]
    },
    {
      "cell_type": "code",
      "metadata": {
        "id": "E4MXq02ZEeYz",
        "colab_type": "code",
        "colab": {}
      },
      "source": [
        "# Display full output of cell not just last line\n",
        "from IPython.core.interactiveshell import InteractiveShell\n",
        "InteractiveShell.ast_node_interactivity = \"all\""
      ],
      "execution_count": 122,
      "outputs": []
    },
    {
      "cell_type": "code",
      "metadata": {
        "id": "8Ym5oFC_EeY1",
        "colab_type": "code",
        "colab": {
          "base_uri": "https://localhost:8080/",
          "height": 17
        },
        "outputId": "e560b723-743b-42d6-f680-cd8fb40ddc96"
      },
      "source": [
        "%%javascript\n",
        "IPython.OutputArea.prototype._should_scroll = function(lines) {\n",
        "    return false;\n",
        "}"
      ],
      "execution_count": 123,
      "outputs": [
        {
          "output_type": "display_data",
          "data": {
            "application/javascript": [
              "IPython.OutputArea.prototype._should_scroll = function(lines) {\n",
              "    return false;\n",
              "}"
            ],
            "text/plain": [
              "<IPython.core.display.Javascript object>"
            ]
          },
          "metadata": {
            "tags": []
          }
        }
      ]
    },
    {
      "cell_type": "code",
      "metadata": {
        "id": "87ZPAHysEeY4",
        "colab_type": "code",
        "colab": {}
      },
      "source": [
        "import numpy as np\n",
        "np.set_printoptions(edgeitems=10, linewidth=120) # set numpy output width\n",
        "np.set_printoptions(precision=3)\n",
        "#np.set_printoptions(edgeitems=10, linewidth=180) # set numpy output width\n",
        "np.set_printoptions(formatter={'float': '{: 0.3f}'.format}) # formatter is always reset with a call to set_printoptions so must be last to stand"
      ],
      "execution_count": 124,
      "outputs": []
    },
    {
      "cell_type": "code",
      "metadata": {
        "id": "rCTnjtXyEeY6",
        "colab_type": "code",
        "colab": {}
      },
      "source": [
        "import pandas as pd\n",
        "pd.options.display.max_rows = 100\n",
        "pd.options.display.float_format = \"{:.3f}\".format\n",
        "pd.set_option('display.max_rows', 50)\n",
        "pd.set_option('display.max_columns', 50)\n",
        "pd.set_option('display.width', 100)"
      ],
      "execution_count": 125,
      "outputs": []
    },
    {
      "cell_type": "code",
      "metadata": {
        "id": "Tq56M3GWEeY8",
        "colab_type": "code",
        "colab": {}
      },
      "source": [
        "import matplotlib.pyplot as plt\n",
        "import seaborn as sns"
      ],
      "execution_count": 126,
      "outputs": []
    },
    {
      "cell_type": "code",
      "metadata": {
        "id": "UBhLaB_mEeY-",
        "colab_type": "code",
        "colab": {
          "base_uri": "https://localhost:8080/",
          "height": 35
        },
        "outputId": "04337de9-088c-4056-d003-51bd8dd9fb6f"
      },
      "source": [
        "%pwd"
      ],
      "execution_count": 127,
      "outputs": [
        {
          "output_type": "execute_result",
          "data": {
            "application/vnd.google.colaboratory.intrinsic+json": {
              "type": "string"
            },
            "text/plain": [
              "'/content/pydata-book-2nd-edition'"
            ]
          },
          "metadata": {
            "tags": []
          },
          "execution_count": 127
        }
      ]
    },
    {
      "cell_type": "markdown",
      "metadata": {
        "id": "G6SFo2UeEeZA",
        "colab_type": "text"
      },
      "source": [
        "# 14. Data Analysis Examples"
      ]
    },
    {
      "cell_type": "markdown",
      "metadata": {
        "id": "NUhm4VgmEeZB",
        "colab_type": "text"
      },
      "source": [
        "## 14.1 1.USA.gov Data from Bitly"
      ]
    },
    {
      "cell_type": "code",
      "metadata": {
        "tags": [],
        "id": "jNhKpqPiEeZB",
        "colab_type": "code",
        "colab": {
          "base_uri": "https://localhost:8080/",
          "height": 1000
        },
        "outputId": "f6769337-678a-4d7d-d32d-fa284bc920a2"
      },
      "source": [
        "import os\n",
        "\n",
        "def find_file(name, path = \"./\"):\n",
        "    for root, dirs, files in os.walk(path):\n",
        "        if name in files:\n",
        "            return os.path.join(root, name)\n",
        "    return ''\n",
        "\n",
        "if RunningInCOLAB == True and find_file(\"2nd-edition.zip\") == \"\":\n",
        "        !wget 'https://github.com/wesm/pydata-book/archive/2nd-edition.zip'\n",
        "        !unzip -o \"2nd-edition.zip\"\n",
        "\n",
        "if RunningInCOLAB == True:\n",
        "    os.chdir('/content/pydata-book-2nd-edition/')\n",
        "\n",
        "!pwd"
      ],
      "execution_count": 128,
      "outputs": [
        {
          "output_type": "stream",
          "text": [
            "--2020-09-04 20:35:11--  https://github.com/wesm/pydata-book/archive/2nd-edition.zip\n",
            "Resolving github.com (github.com)... 140.82.113.4\n",
            "Connecting to github.com (github.com)|140.82.113.4|:443... connected.\n",
            "HTTP request sent, awaiting response... 302 Found\n",
            "Location: https://codeload.github.com/wesm/pydata-book/zip/2nd-edition [following]\n",
            "--2020-09-04 20:35:11--  https://codeload.github.com/wesm/pydata-book/zip/2nd-edition\n",
            "Resolving codeload.github.com (codeload.github.com)... 140.82.112.9\n",
            "Connecting to codeload.github.com (codeload.github.com)|140.82.112.9|:443... connected.\n",
            "HTTP request sent, awaiting response... 200 OK\n",
            "Length: unspecified [application/zip]\n",
            "Saving to: ‘2nd-edition.zip’\n",
            "\n",
            "2nd-edition.zip         [             <=>    ]  40.36M  5.00MB/s    in 8.1s    \n",
            "\n",
            "2020-09-04 20:35:19 (5.00 MB/s) - ‘2nd-edition.zip’ saved [42321766]\n",
            "\n",
            "Archive:  2nd-edition.zip\n",
            "3b178c65c8a8f48a2a314f60626ae1905e5f02cb\n",
            "   creating: pydata-book-2nd-edition/\n",
            " extracting: pydata-book-2nd-edition/.gitignore  \n",
            "  inflating: pydata-book-2nd-edition/COPYING  \n",
            "  inflating: pydata-book-2nd-edition/README.md  \n",
            "  inflating: pydata-book-2nd-edition/appa.ipynb  \n",
            "  inflating: pydata-book-2nd-edition/ch02.ipynb  \n",
            "  inflating: pydata-book-2nd-edition/ch03.ipynb  \n",
            "  inflating: pydata-book-2nd-edition/ch04.ipynb  \n",
            "  inflating: pydata-book-2nd-edition/ch05.ipynb  \n",
            "  inflating: pydata-book-2nd-edition/ch06.ipynb  \n",
            "  inflating: pydata-book-2nd-edition/ch07.ipynb  \n",
            "  inflating: pydata-book-2nd-edition/ch08.ipynb  \n",
            "  inflating: pydata-book-2nd-edition/ch09.ipynb  \n",
            "  inflating: pydata-book-2nd-edition/ch10.ipynb  \n",
            "  inflating: pydata-book-2nd-edition/ch11.ipynb  \n",
            "  inflating: pydata-book-2nd-edition/ch12.ipynb  \n",
            "  inflating: pydata-book-2nd-edition/ch13.ipynb  \n",
            "  inflating: pydata-book-2nd-edition/ch14.ipynb  \n",
            "   creating: pydata-book-2nd-edition/datasets/\n",
            "   creating: pydata-book-2nd-edition/datasets/babynames/\n",
            "  inflating: pydata-book-2nd-edition/datasets/babynames/NationalReadMe.pdf  \n",
            "  inflating: pydata-book-2nd-edition/datasets/babynames/yob1880.txt  \n",
            "  inflating: pydata-book-2nd-edition/datasets/babynames/yob1881.txt  \n",
            "  inflating: pydata-book-2nd-edition/datasets/babynames/yob1882.txt  \n",
            "  inflating: pydata-book-2nd-edition/datasets/babynames/yob1883.txt  \n",
            "  inflating: pydata-book-2nd-edition/datasets/babynames/yob1884.txt  \n",
            "  inflating: pydata-book-2nd-edition/datasets/babynames/yob1885.txt  \n",
            "  inflating: pydata-book-2nd-edition/datasets/babynames/yob1886.txt  \n",
            "  inflating: pydata-book-2nd-edition/datasets/babynames/yob1887.txt  \n",
            "  inflating: pydata-book-2nd-edition/datasets/babynames/yob1888.txt  \n",
            "  inflating: pydata-book-2nd-edition/datasets/babynames/yob1889.txt  \n",
            "  inflating: pydata-book-2nd-edition/datasets/babynames/yob1890.txt  \n",
            "  inflating: pydata-book-2nd-edition/datasets/babynames/yob1891.txt  \n",
            "  inflating: pydata-book-2nd-edition/datasets/babynames/yob1892.txt  \n",
            "  inflating: pydata-book-2nd-edition/datasets/babynames/yob1893.txt  \n",
            "  inflating: pydata-book-2nd-edition/datasets/babynames/yob1894.txt  \n",
            "  inflating: pydata-book-2nd-edition/datasets/babynames/yob1895.txt  \n",
            "  inflating: pydata-book-2nd-edition/datasets/babynames/yob1896.txt  \n",
            "  inflating: pydata-book-2nd-edition/datasets/babynames/yob1897.txt  \n",
            "  inflating: pydata-book-2nd-edition/datasets/babynames/yob1898.txt  \n",
            "  inflating: pydata-book-2nd-edition/datasets/babynames/yob1899.txt  \n",
            "  inflating: pydata-book-2nd-edition/datasets/babynames/yob1900.txt  \n",
            "  inflating: pydata-book-2nd-edition/datasets/babynames/yob1901.txt  \n",
            "  inflating: pydata-book-2nd-edition/datasets/babynames/yob1902.txt  \n",
            "  inflating: pydata-book-2nd-edition/datasets/babynames/yob1903.txt  \n",
            "  inflating: pydata-book-2nd-edition/datasets/babynames/yob1904.txt  \n",
            "  inflating: pydata-book-2nd-edition/datasets/babynames/yob1905.txt  \n",
            "  inflating: pydata-book-2nd-edition/datasets/babynames/yob1906.txt  \n",
            "  inflating: pydata-book-2nd-edition/datasets/babynames/yob1907.txt  \n",
            "  inflating: pydata-book-2nd-edition/datasets/babynames/yob1908.txt  \n",
            "  inflating: pydata-book-2nd-edition/datasets/babynames/yob1909.txt  \n",
            "  inflating: pydata-book-2nd-edition/datasets/babynames/yob1910.txt  \n",
            "  inflating: pydata-book-2nd-edition/datasets/babynames/yob1911.txt  \n",
            "  inflating: pydata-book-2nd-edition/datasets/babynames/yob1912.txt  \n",
            "  inflating: pydata-book-2nd-edition/datasets/babynames/yob1913.txt  \n",
            "  inflating: pydata-book-2nd-edition/datasets/babynames/yob1914.txt  \n",
            "  inflating: pydata-book-2nd-edition/datasets/babynames/yob1915.txt  \n",
            "  inflating: pydata-book-2nd-edition/datasets/babynames/yob1916.txt  \n",
            "  inflating: pydata-book-2nd-edition/datasets/babynames/yob1917.txt  \n",
            "  inflating: pydata-book-2nd-edition/datasets/babynames/yob1918.txt  \n",
            "  inflating: pydata-book-2nd-edition/datasets/babynames/yob1919.txt  \n",
            "  inflating: pydata-book-2nd-edition/datasets/babynames/yob1920.txt  \n",
            "  inflating: pydata-book-2nd-edition/datasets/babynames/yob1921.txt  \n",
            "  inflating: pydata-book-2nd-edition/datasets/babynames/yob1922.txt  \n",
            "  inflating: pydata-book-2nd-edition/datasets/babynames/yob1923.txt  \n",
            "  inflating: pydata-book-2nd-edition/datasets/babynames/yob1924.txt  \n",
            "  inflating: pydata-book-2nd-edition/datasets/babynames/yob1925.txt  \n",
            "  inflating: pydata-book-2nd-edition/datasets/babynames/yob1926.txt  \n",
            "  inflating: pydata-book-2nd-edition/datasets/babynames/yob1927.txt  \n",
            "  inflating: pydata-book-2nd-edition/datasets/babynames/yob1928.txt  \n",
            "  inflating: pydata-book-2nd-edition/datasets/babynames/yob1929.txt  \n",
            "  inflating: pydata-book-2nd-edition/datasets/babynames/yob1930.txt  \n",
            "  inflating: pydata-book-2nd-edition/datasets/babynames/yob1931.txt  \n",
            "  inflating: pydata-book-2nd-edition/datasets/babynames/yob1932.txt  \n",
            "  inflating: pydata-book-2nd-edition/datasets/babynames/yob1933.txt  \n",
            "  inflating: pydata-book-2nd-edition/datasets/babynames/yob1934.txt  \n",
            "  inflating: pydata-book-2nd-edition/datasets/babynames/yob1935.txt  \n",
            "  inflating: pydata-book-2nd-edition/datasets/babynames/yob1936.txt  \n",
            "  inflating: pydata-book-2nd-edition/datasets/babynames/yob1937.txt  \n",
            "  inflating: pydata-book-2nd-edition/datasets/babynames/yob1938.txt  \n",
            "  inflating: pydata-book-2nd-edition/datasets/babynames/yob1939.txt  \n",
            "  inflating: pydata-book-2nd-edition/datasets/babynames/yob1940.txt  \n",
            "  inflating: pydata-book-2nd-edition/datasets/babynames/yob1941.txt  \n",
            "  inflating: pydata-book-2nd-edition/datasets/babynames/yob1942.txt  \n",
            "  inflating: pydata-book-2nd-edition/datasets/babynames/yob1943.txt  \n",
            "  inflating: pydata-book-2nd-edition/datasets/babynames/yob1944.txt  \n",
            "  inflating: pydata-book-2nd-edition/datasets/babynames/yob1945.txt  \n",
            "  inflating: pydata-book-2nd-edition/datasets/babynames/yob1946.txt  \n",
            "  inflating: pydata-book-2nd-edition/datasets/babynames/yob1947.txt  \n",
            "  inflating: pydata-book-2nd-edition/datasets/babynames/yob1948.txt  \n",
            "  inflating: pydata-book-2nd-edition/datasets/babynames/yob1949.txt  \n",
            "  inflating: pydata-book-2nd-edition/datasets/babynames/yob1950.txt  \n",
            "  inflating: pydata-book-2nd-edition/datasets/babynames/yob1951.txt  \n",
            "  inflating: pydata-book-2nd-edition/datasets/babynames/yob1952.txt  \n",
            "  inflating: pydata-book-2nd-edition/datasets/babynames/yob1953.txt  \n",
            "  inflating: pydata-book-2nd-edition/datasets/babynames/yob1954.txt  \n",
            "  inflating: pydata-book-2nd-edition/datasets/babynames/yob1955.txt  \n",
            "  inflating: pydata-book-2nd-edition/datasets/babynames/yob1956.txt  \n",
            "  inflating: pydata-book-2nd-edition/datasets/babynames/yob1957.txt  \n",
            "  inflating: pydata-book-2nd-edition/datasets/babynames/yob1958.txt  \n",
            "  inflating: pydata-book-2nd-edition/datasets/babynames/yob1959.txt  \n",
            "  inflating: pydata-book-2nd-edition/datasets/babynames/yob1960.txt  \n",
            "  inflating: pydata-book-2nd-edition/datasets/babynames/yob1961.txt  \n",
            "  inflating: pydata-book-2nd-edition/datasets/babynames/yob1962.txt  \n",
            "  inflating: pydata-book-2nd-edition/datasets/babynames/yob1963.txt  \n",
            "  inflating: pydata-book-2nd-edition/datasets/babynames/yob1964.txt  \n",
            "  inflating: pydata-book-2nd-edition/datasets/babynames/yob1965.txt  \n",
            "  inflating: pydata-book-2nd-edition/datasets/babynames/yob1966.txt  \n",
            "  inflating: pydata-book-2nd-edition/datasets/babynames/yob1967.txt  \n",
            "  inflating: pydata-book-2nd-edition/datasets/babynames/yob1968.txt  \n",
            "  inflating: pydata-book-2nd-edition/datasets/babynames/yob1969.txt  \n",
            "  inflating: pydata-book-2nd-edition/datasets/babynames/yob1970.txt  \n",
            "  inflating: pydata-book-2nd-edition/datasets/babynames/yob1971.txt  \n",
            "  inflating: pydata-book-2nd-edition/datasets/babynames/yob1972.txt  \n",
            "  inflating: pydata-book-2nd-edition/datasets/babynames/yob1973.txt  \n",
            "  inflating: pydata-book-2nd-edition/datasets/babynames/yob1974.txt  \n",
            "  inflating: pydata-book-2nd-edition/datasets/babynames/yob1975.txt  \n",
            "  inflating: pydata-book-2nd-edition/datasets/babynames/yob1976.txt  \n",
            "  inflating: pydata-book-2nd-edition/datasets/babynames/yob1977.txt  \n",
            "  inflating: pydata-book-2nd-edition/datasets/babynames/yob1978.txt  \n",
            "  inflating: pydata-book-2nd-edition/datasets/babynames/yob1979.txt  \n",
            "  inflating: pydata-book-2nd-edition/datasets/babynames/yob1980.txt  \n",
            "  inflating: pydata-book-2nd-edition/datasets/babynames/yob1981.txt  \n",
            "  inflating: pydata-book-2nd-edition/datasets/babynames/yob1982.txt  \n",
            "  inflating: pydata-book-2nd-edition/datasets/babynames/yob1983.txt  \n",
            "  inflating: pydata-book-2nd-edition/datasets/babynames/yob1984.txt  \n",
            "  inflating: pydata-book-2nd-edition/datasets/babynames/yob1985.txt  \n",
            "  inflating: pydata-book-2nd-edition/datasets/babynames/yob1986.txt  \n",
            "  inflating: pydata-book-2nd-edition/datasets/babynames/yob1987.txt  \n",
            "  inflating: pydata-book-2nd-edition/datasets/babynames/yob1988.txt  \n",
            "  inflating: pydata-book-2nd-edition/datasets/babynames/yob1989.txt  \n",
            "  inflating: pydata-book-2nd-edition/datasets/babynames/yob1990.txt  \n",
            "  inflating: pydata-book-2nd-edition/datasets/babynames/yob1991.txt  \n",
            "  inflating: pydata-book-2nd-edition/datasets/babynames/yob1992.txt  \n",
            "  inflating: pydata-book-2nd-edition/datasets/babynames/yob1993.txt  \n",
            "  inflating: pydata-book-2nd-edition/datasets/babynames/yob1994.txt  \n",
            "  inflating: pydata-book-2nd-edition/datasets/babynames/yob1995.txt  \n",
            "  inflating: pydata-book-2nd-edition/datasets/babynames/yob1996.txt  \n",
            "  inflating: pydata-book-2nd-edition/datasets/babynames/yob1997.txt  \n",
            "  inflating: pydata-book-2nd-edition/datasets/babynames/yob1998.txt  \n",
            "  inflating: pydata-book-2nd-edition/datasets/babynames/yob1999.txt  \n",
            "  inflating: pydata-book-2nd-edition/datasets/babynames/yob2000.txt  \n",
            "  inflating: pydata-book-2nd-edition/datasets/babynames/yob2001.txt  \n",
            "  inflating: pydata-book-2nd-edition/datasets/babynames/yob2002.txt  \n",
            "  inflating: pydata-book-2nd-edition/datasets/babynames/yob2003.txt  \n",
            "  inflating: pydata-book-2nd-edition/datasets/babynames/yob2004.txt  \n",
            "  inflating: pydata-book-2nd-edition/datasets/babynames/yob2005.txt  \n",
            "  inflating: pydata-book-2nd-edition/datasets/babynames/yob2006.txt  \n",
            "  inflating: pydata-book-2nd-edition/datasets/babynames/yob2007.txt  \n",
            "  inflating: pydata-book-2nd-edition/datasets/babynames/yob2008.txt  \n",
            "  inflating: pydata-book-2nd-edition/datasets/babynames/yob2009.txt  \n",
            "  inflating: pydata-book-2nd-edition/datasets/babynames/yob2010.txt  \n",
            "   creating: pydata-book-2nd-edition/datasets/bitly_usagov/\n",
            "  inflating: pydata-book-2nd-edition/datasets/bitly_usagov/example.txt  \n",
            "   creating: pydata-book-2nd-edition/datasets/fec/\n",
            "  inflating: pydata-book-2nd-edition/datasets/fec/P00000001-ALL.csv  \n",
            "   creating: pydata-book-2nd-edition/datasets/haiti/\n",
            "  inflating: pydata-book-2nd-edition/datasets/haiti/Haiti.csv  \n",
            "   creating: pydata-book-2nd-edition/datasets/haiti/PortAuPrince_Roads/\n",
            "  inflating: pydata-book-2nd-edition/datasets/haiti/PortAuPrince_Roads/PortAuPrince_Roads.dbf  \n",
            "  inflating: pydata-book-2nd-edition/datasets/haiti/PortAuPrince_Roads/PortAuPrince_Roads.prj  \n",
            "  inflating: pydata-book-2nd-edition/datasets/haiti/PortAuPrince_Roads/PortAuPrince_Roads.sbn  \n",
            "  inflating: pydata-book-2nd-edition/datasets/haiti/PortAuPrince_Roads/PortAuPrince_Roads.sbx  \n",
            "  inflating: pydata-book-2nd-edition/datasets/haiti/PortAuPrince_Roads/PortAuPrince_Roads.shp  \n",
            "  inflating: pydata-book-2nd-edition/datasets/haiti/PortAuPrince_Roads/PortAuPrince_Roads.shx  \n",
            "  inflating: pydata-book-2nd-edition/datasets/haiti/PortAuPrince_Roads/PortAuPrince_Roads_README.txt  \n",
            "  inflating: pydata-book-2nd-edition/datasets/haiti/PortAuPrince_Roads/PortAuPrince_Roads_sample.jpg  \n",
            "   creating: pydata-book-2nd-edition/datasets/movielens/\n",
            "  inflating: pydata-book-2nd-edition/datasets/movielens/README  \n",
            "  inflating: pydata-book-2nd-edition/datasets/movielens/movies.dat  \n",
            "  inflating: pydata-book-2nd-edition/datasets/movielens/ratings.dat  \n",
            "  inflating: pydata-book-2nd-edition/datasets/movielens/users.dat  \n",
            "   creating: pydata-book-2nd-edition/datasets/mta_perf/\n",
            "  inflating: pydata-book-2nd-edition/datasets/mta_perf/Performance_LIBUS.xml  \n",
            "  inflating: pydata-book-2nd-edition/datasets/mta_perf/Performance_LIBUS.xsd  \n",
            "  inflating: pydata-book-2nd-edition/datasets/mta_perf/Performance_LIRR.xml  \n",
            "  inflating: pydata-book-2nd-edition/datasets/mta_perf/Performance_LIRR.xsd  \n",
            "  inflating: pydata-book-2nd-edition/datasets/mta_perf/Performance_MNR.xml  \n",
            "  inflating: pydata-book-2nd-edition/datasets/mta_perf/Performance_MNR.xsd  \n",
            "  inflating: pydata-book-2nd-edition/datasets/mta_perf/Performance_MTABUS.xml  \n",
            "  inflating: pydata-book-2nd-edition/datasets/mta_perf/Performance_MTABUS.xsd  \n",
            "  inflating: pydata-book-2nd-edition/datasets/mta_perf/Performance_NYCT.xml  \n",
            "  inflating: pydata-book-2nd-edition/datasets/mta_perf/Performance_NYCT.xsd  \n",
            "  inflating: pydata-book-2nd-edition/datasets/mta_perf/Performance_TBTA.xml  \n",
            "  inflating: pydata-book-2nd-edition/datasets/mta_perf/Performance_TBTA.xsd  \n",
            "  inflating: pydata-book-2nd-edition/datasets/mta_perf/parse.py  \n",
            "   creating: pydata-book-2nd-edition/datasets/titanic/\n",
            "  inflating: pydata-book-2nd-edition/datasets/titanic/genderclassmodel.csv  \n",
            "  inflating: pydata-book-2nd-edition/datasets/titanic/gendermodel.csv  \n",
            "  inflating: pydata-book-2nd-edition/datasets/titanic/test.csv  \n",
            "  inflating: pydata-book-2nd-edition/datasets/titanic/train.csv  \n",
            "   creating: pydata-book-2nd-edition/datasets/usda_food/\n",
            "  inflating: pydata-book-2nd-edition/datasets/usda_food/database.json  \n",
            "   creating: pydata-book-2nd-edition/examples/\n",
            "  inflating: pydata-book-2nd-edition/examples/array_ex.txt  \n",
            "  inflating: pydata-book-2nd-edition/examples/csv_mindex.csv  \n",
            "  inflating: pydata-book-2nd-edition/examples/ex1.csv  \n",
            "  inflating: pydata-book-2nd-edition/examples/ex1.xlsx  \n",
            " extracting: pydata-book-2nd-edition/examples/ex2.csv  \n",
            "  inflating: pydata-book-2nd-edition/examples/ex3.csv  \n",
            "  inflating: pydata-book-2nd-edition/examples/ex3.txt  \n",
            "  inflating: pydata-book-2nd-edition/examples/ex4.csv  \n",
            "  inflating: pydata-book-2nd-edition/examples/ex5.csv  \n",
            "  inflating: pydata-book-2nd-edition/examples/ex6.csv  \n",
            "  inflating: pydata-book-2nd-edition/examples/ex7.csv  \n",
            "  inflating: pydata-book-2nd-edition/examples/example.json  \n",
            "  inflating: pydata-book-2nd-edition/examples/fdic_failed_bank_list.html  \n",
            "  inflating: pydata-book-2nd-edition/examples/ipython_bug.py  \n",
            "  inflating: pydata-book-2nd-edition/examples/macrodata.csv  \n",
            "  inflating: pydata-book-2nd-edition/examples/out.csv  \n",
            "  inflating: pydata-book-2nd-edition/examples/segismundo.txt  \n",
            "  inflating: pydata-book-2nd-edition/examples/spx.csv  \n",
            "  inflating: pydata-book-2nd-edition/examples/stinkbug.png  \n",
            "  inflating: pydata-book-2nd-edition/examples/stock_px.csv  \n",
            "  inflating: pydata-book-2nd-edition/examples/stock_px_2.csv  \n",
            "  inflating: pydata-book-2nd-edition/examples/test_file.csv  \n",
            "  inflating: pydata-book-2nd-edition/examples/tips.csv  \n",
            "  inflating: pydata-book-2nd-edition/examples/tseries.csv  \n",
            "  inflating: pydata-book-2nd-edition/examples/volume.csv  \n",
            "  inflating: pydata-book-2nd-edition/examples/yahoo_price.pkl  \n",
            "  inflating: pydata-book-2nd-edition/examples/yahoo_volume.pkl  \n",
            "  inflating: pydata-book-2nd-edition/requirements.txt  \n",
            "/content/pydata-book-2nd-edition\n"
          ],
          "name": "stdout"
        }
      ]
    },
    {
      "cell_type": "code",
      "metadata": {
        "id": "daFi-XziQB3c",
        "colab_type": "code",
        "colab": {
          "base_uri": "https://localhost:8080/",
          "height": 70
        },
        "outputId": "1df0d83d-1982-4451-e447-6e8609084160"
      },
      "source": [
        "path = 'datasets/bitly_usagov/example.txt'\n",
        "f = open(path)\n",
        "print(f.readline())\n",
        "f.close()"
      ],
      "execution_count": 129,
      "outputs": [
        {
          "output_type": "stream",
          "text": [
            "{ \"a\": \"Mozilla\\/5.0 (Windows NT 6.1; WOW64) AppleWebKit\\/535.11 (KHTML, like Gecko) Chrome\\/17.0.963.78 Safari\\/535.11\", \"c\": \"US\", \"nk\": 1, \"tz\": \"America\\/New_York\", \"gr\": \"MA\", \"g\": \"A6qOVH\", \"h\": \"wfLQtf\", \"l\": \"orofrog\", \"al\": \"en-US,en;q=0.8\", \"hh\": \"1.usa.gov\", \"r\": \"http:\\/\\/www.facebook.com\\/l\\/7AQEFzjSi\\/1.usa.gov\\/wfLQtf\", \"u\": \"http:\\/\\/www.ncbi.nlm.nih.gov\\/pubmed\\/22415991\", \"t\": 1331923247, \"hc\": 1331822918, \"cy\": \"Danvers\", \"ll\": [ 42.576698, -70.954903 ] }\n",
            "\n"
          ],
          "name": "stdout"
        }
      ]
    },
    {
      "cell_type": "code",
      "metadata": {
        "id": "rXE5h8WcEeZE",
        "colab_type": "code",
        "colab": {
          "base_uri": "https://localhost:8080/",
          "height": 286
        },
        "outputId": "fb6dc8cc-bbf8-46ed-c6bd-92af2e9ef3ba"
      },
      "source": [
        "import json\n",
        "with open(path) as f:\n",
        "    records = [json.loads(line) for line in f]\n",
        "records[0]\n",
        "len(records)"
      ],
      "execution_count": 130,
      "outputs": [
        {
          "output_type": "execute_result",
          "data": {
            "text/plain": [
              "{'a': 'Mozilla/5.0 (Windows NT 6.1; WOW64) AppleWebKit/535.11 (KHTML, like Gecko) Chrome/17.0.963.78 Safari/535.11',\n",
              " 'al': 'en-US,en;q=0.8',\n",
              " 'c': 'US',\n",
              " 'cy': 'Danvers',\n",
              " 'g': 'A6qOVH',\n",
              " 'gr': 'MA',\n",
              " 'h': 'wfLQtf',\n",
              " 'hc': 1331822918,\n",
              " 'hh': '1.usa.gov',\n",
              " 'l': 'orofrog',\n",
              " 'll': [42.576698, -70.954903],\n",
              " 'nk': 1,\n",
              " 'r': 'http://www.facebook.com/l/7AQEFzjSi/1.usa.gov/wfLQtf',\n",
              " 't': 1331923247,\n",
              " 'tz': 'America/New_York',\n",
              " 'u': 'http://www.ncbi.nlm.nih.gov/pubmed/22415991'}"
            ]
          },
          "metadata": {
            "tags": []
          },
          "execution_count": 130
        },
        {
          "output_type": "execute_result",
          "data": {
            "text/plain": [
              "3560"
            ]
          },
          "metadata": {
            "tags": []
          },
          "execution_count": 130
        }
      ]
    },
    {
      "cell_type": "code",
      "metadata": {
        "id": "-CtWshw1EeZG",
        "colab_type": "code",
        "colab": {
          "base_uri": "https://localhost:8080/",
          "height": 185
        },
        "outputId": "a34dbf1e-24ca-44c8-94d2-3fa2821f5cef"
      },
      "source": [
        "time_zones = [rec['tz'] for rec in records if 'tz' in rec]\n",
        "time_zones[:10]"
      ],
      "execution_count": 131,
      "outputs": [
        {
          "output_type": "execute_result",
          "data": {
            "text/plain": [
              "['America/New_York',\n",
              " 'America/Denver',\n",
              " 'America/New_York',\n",
              " 'America/Sao_Paulo',\n",
              " 'America/New_York',\n",
              " 'America/New_York',\n",
              " 'Europe/Warsaw',\n",
              " '',\n",
              " '',\n",
              " '']"
            ]
          },
          "metadata": {
            "tags": []
          },
          "execution_count": 131
        }
      ]
    },
    {
      "cell_type": "code",
      "metadata": {
        "id": "YmrtRdWzEeZI",
        "colab_type": "code",
        "colab": {
          "base_uri": "https://localhost:8080/",
          "height": 185
        },
        "outputId": "987a62f8-dc5b-406a-e358-ae1f561a4a42"
      },
      "source": [
        "# Get top 10 listed time zones using Counter object\n",
        "from collections import Counter\n",
        "counts = Counter(time_zones)\n",
        "counts.most_common(10)"
      ],
      "execution_count": 132,
      "outputs": [
        {
          "output_type": "execute_result",
          "data": {
            "text/plain": [
              "[('America/New_York', 1251),\n",
              " ('', 521),\n",
              " ('America/Chicago', 400),\n",
              " ('America/Los_Angeles', 382),\n",
              " ('America/Denver', 191),\n",
              " ('Europe/London', 74),\n",
              " ('Asia/Tokyo', 37),\n",
              " ('Pacific/Honolulu', 36),\n",
              " ('Europe/Madrid', 35),\n",
              " ('America/Sao_Paulo', 33)]"
            ]
          },
          "metadata": {
            "tags": []
          },
          "execution_count": 132
        }
      ]
    },
    {
      "cell_type": "code",
      "metadata": {
        "id": "zI_2r8imEeZK",
        "colab_type": "code",
        "colab": {}
      },
      "source": [
        "def get_count(sequence):\n",
        "    count_dict = {}\n",
        "    for x in sequence:\n",
        "        if x in count_dict:\n",
        "            count_dict[x] += 1\n",
        "        else:\n",
        "            count_dict[x] = 1\n",
        "    # tranform the dictionary to a sorted list of tuples\n",
        "    sorted_list  = sorted(count_dict.items(), key=lambda item: item[1], reverse=True)\n",
        "    # re-create and return as sorted dictionary\n",
        "    return {k: v for k, v in sorted_list}"
      ],
      "execution_count": 133,
      "outputs": []
    },
    {
      "cell_type": "code",
      "metadata": {
        "id": "hx7fQb6zEeZM",
        "colab_type": "code",
        "colab": {}
      },
      "source": [
        "counts = get_count(time_zones)"
      ],
      "execution_count": 134,
      "outputs": []
    },
    {
      "cell_type": "code",
      "metadata": {
        "tags": [],
        "id": "pp7X1zfSEeZO",
        "colab_type": "code",
        "colab": {
          "base_uri": "https://localhost:8080/",
          "height": 640
        },
        "outputId": "cc197bbc-129b-46f3-afab-79a17ac5cc6d"
      },
      "source": [
        "frame = pd.DataFrame(records)\n",
        "frame\n",
        "print(frame._is_copy)"
      ],
      "execution_count": 135,
      "outputs": [
        {
          "output_type": "execute_result",
          "data": {
            "text/html": [
              "<div>\n",
              "<style scoped>\n",
              "    .dataframe tbody tr th:only-of-type {\n",
              "        vertical-align: middle;\n",
              "    }\n",
              "\n",
              "    .dataframe tbody tr th {\n",
              "        vertical-align: top;\n",
              "    }\n",
              "\n",
              "    .dataframe thead th {\n",
              "        text-align: right;\n",
              "    }\n",
              "</style>\n",
              "<table border=\"1\" class=\"dataframe\">\n",
              "  <thead>\n",
              "    <tr style=\"text-align: right;\">\n",
              "      <th></th>\n",
              "      <th>a</th>\n",
              "      <th>c</th>\n",
              "      <th>nk</th>\n",
              "      <th>tz</th>\n",
              "      <th>gr</th>\n",
              "      <th>g</th>\n",
              "      <th>h</th>\n",
              "      <th>l</th>\n",
              "      <th>al</th>\n",
              "      <th>hh</th>\n",
              "      <th>r</th>\n",
              "      <th>u</th>\n",
              "      <th>t</th>\n",
              "      <th>hc</th>\n",
              "      <th>cy</th>\n",
              "      <th>ll</th>\n",
              "      <th>_heartbeat_</th>\n",
              "      <th>kw</th>\n",
              "    </tr>\n",
              "  </thead>\n",
              "  <tbody>\n",
              "    <tr>\n",
              "      <th>0</th>\n",
              "      <td>Mozilla/5.0 (Windows NT 6.1; WOW64) AppleWebKi...</td>\n",
              "      <td>US</td>\n",
              "      <td>1.000</td>\n",
              "      <td>America/New_York</td>\n",
              "      <td>MA</td>\n",
              "      <td>A6qOVH</td>\n",
              "      <td>wfLQtf</td>\n",
              "      <td>orofrog</td>\n",
              "      <td>en-US,en;q=0.8</td>\n",
              "      <td>1.usa.gov</td>\n",
              "      <td>http://www.facebook.com/l/7AQEFzjSi/1.usa.gov/...</td>\n",
              "      <td>http://www.ncbi.nlm.nih.gov/pubmed/22415991</td>\n",
              "      <td>1331923247.000</td>\n",
              "      <td>1331822918.000</td>\n",
              "      <td>Danvers</td>\n",
              "      <td>[42.576698, -70.954903]</td>\n",
              "      <td>nan</td>\n",
              "      <td>NaN</td>\n",
              "    </tr>\n",
              "    <tr>\n",
              "      <th>1</th>\n",
              "      <td>GoogleMaps/RochesterNY</td>\n",
              "      <td>US</td>\n",
              "      <td>0.000</td>\n",
              "      <td>America/Denver</td>\n",
              "      <td>UT</td>\n",
              "      <td>mwszkS</td>\n",
              "      <td>mwszkS</td>\n",
              "      <td>bitly</td>\n",
              "      <td>NaN</td>\n",
              "      <td>j.mp</td>\n",
              "      <td>http://www.AwareMap.com/</td>\n",
              "      <td>http://www.monroecounty.gov/etc/911/rss.php</td>\n",
              "      <td>1331923249.000</td>\n",
              "      <td>1308262393.000</td>\n",
              "      <td>Provo</td>\n",
              "      <td>[40.218102, -111.613297]</td>\n",
              "      <td>nan</td>\n",
              "      <td>NaN</td>\n",
              "    </tr>\n",
              "    <tr>\n",
              "      <th>2</th>\n",
              "      <td>Mozilla/4.0 (compatible; MSIE 8.0; Windows NT ...</td>\n",
              "      <td>US</td>\n",
              "      <td>1.000</td>\n",
              "      <td>America/New_York</td>\n",
              "      <td>DC</td>\n",
              "      <td>xxr3Qb</td>\n",
              "      <td>xxr3Qb</td>\n",
              "      <td>bitly</td>\n",
              "      <td>en-US</td>\n",
              "      <td>1.usa.gov</td>\n",
              "      <td>http://t.co/03elZC4Q</td>\n",
              "      <td>http://boxer.senate.gov/en/press/releases/0316...</td>\n",
              "      <td>1331923250.000</td>\n",
              "      <td>1331919941.000</td>\n",
              "      <td>Washington</td>\n",
              "      <td>[38.9007, -77.043098]</td>\n",
              "      <td>nan</td>\n",
              "      <td>NaN</td>\n",
              "    </tr>\n",
              "    <tr>\n",
              "      <th>3</th>\n",
              "      <td>Mozilla/5.0 (Macintosh; Intel Mac OS X 10_6_8)...</td>\n",
              "      <td>BR</td>\n",
              "      <td>0.000</td>\n",
              "      <td>America/Sao_Paulo</td>\n",
              "      <td>27</td>\n",
              "      <td>zCaLwp</td>\n",
              "      <td>zUtuOu</td>\n",
              "      <td>alelex88</td>\n",
              "      <td>pt-br</td>\n",
              "      <td>1.usa.gov</td>\n",
              "      <td>direct</td>\n",
              "      <td>http://apod.nasa.gov/apod/ap120312.html</td>\n",
              "      <td>1331923249.000</td>\n",
              "      <td>1331923068.000</td>\n",
              "      <td>Braz</td>\n",
              "      <td>[-23.549999, -46.616699]</td>\n",
              "      <td>nan</td>\n",
              "      <td>NaN</td>\n",
              "    </tr>\n",
              "    <tr>\n",
              "      <th>4</th>\n",
              "      <td>Mozilla/5.0 (Windows NT 6.1; WOW64) AppleWebKi...</td>\n",
              "      <td>US</td>\n",
              "      <td>0.000</td>\n",
              "      <td>America/New_York</td>\n",
              "      <td>MA</td>\n",
              "      <td>9b6kNl</td>\n",
              "      <td>9b6kNl</td>\n",
              "      <td>bitly</td>\n",
              "      <td>en-US,en;q=0.8</td>\n",
              "      <td>bit.ly</td>\n",
              "      <td>http://www.shrewsbury-ma.gov/selco/</td>\n",
              "      <td>http://www.shrewsbury-ma.gov/egov/gallery/1341...</td>\n",
              "      <td>1331923251.000</td>\n",
              "      <td>1273672411.000</td>\n",
              "      <td>Shrewsbury</td>\n",
              "      <td>[42.286499, -71.714699]</td>\n",
              "      <td>nan</td>\n",
              "      <td>NaN</td>\n",
              "    </tr>\n",
              "    <tr>\n",
              "      <th>...</th>\n",
              "      <td>...</td>\n",
              "      <td>...</td>\n",
              "      <td>...</td>\n",
              "      <td>...</td>\n",
              "      <td>...</td>\n",
              "      <td>...</td>\n",
              "      <td>...</td>\n",
              "      <td>...</td>\n",
              "      <td>...</td>\n",
              "      <td>...</td>\n",
              "      <td>...</td>\n",
              "      <td>...</td>\n",
              "      <td>...</td>\n",
              "      <td>...</td>\n",
              "      <td>...</td>\n",
              "      <td>...</td>\n",
              "      <td>...</td>\n",
              "      <td>...</td>\n",
              "    </tr>\n",
              "    <tr>\n",
              "      <th>3555</th>\n",
              "      <td>Mozilla/4.0 (compatible; MSIE 9.0; Windows NT ...</td>\n",
              "      <td>US</td>\n",
              "      <td>1.000</td>\n",
              "      <td>America/New_York</td>\n",
              "      <td>NJ</td>\n",
              "      <td>e5SvKE</td>\n",
              "      <td>fqPSr9</td>\n",
              "      <td>tweetdeckapi</td>\n",
              "      <td>en</td>\n",
              "      <td>1.usa.gov</td>\n",
              "      <td>direct</td>\n",
              "      <td>http://www.fda.gov/AdvisoryCommittees/Committe...</td>\n",
              "      <td>1331926841.000</td>\n",
              "      <td>1301298479.000</td>\n",
              "      <td>Paramus</td>\n",
              "      <td>[40.9445, -74.07]</td>\n",
              "      <td>nan</td>\n",
              "      <td>NaN</td>\n",
              "    </tr>\n",
              "    <tr>\n",
              "      <th>3556</th>\n",
              "      <td>Mozilla/5.0 (Windows NT 5.1) AppleWebKit/535.1...</td>\n",
              "      <td>US</td>\n",
              "      <td>0.000</td>\n",
              "      <td>America/Chicago</td>\n",
              "      <td>OK</td>\n",
              "      <td>jQLtP4</td>\n",
              "      <td>jQLtP4</td>\n",
              "      <td>bitly</td>\n",
              "      <td>en-US,en;q=0.8</td>\n",
              "      <td>1.usa.gov</td>\n",
              "      <td>http://www.facebook.com/l.php?u=http%3A%2F%2F1...</td>\n",
              "      <td>http://www.okc.gov/PublicNotificationSystem/Fo...</td>\n",
              "      <td>1331926844.000</td>\n",
              "      <td>1307530247.000</td>\n",
              "      <td>Oklahoma City</td>\n",
              "      <td>[35.4715, -97.518997]</td>\n",
              "      <td>nan</td>\n",
              "      <td>NaN</td>\n",
              "    </tr>\n",
              "    <tr>\n",
              "      <th>3557</th>\n",
              "      <td>GoogleMaps/RochesterNY</td>\n",
              "      <td>US</td>\n",
              "      <td>0.000</td>\n",
              "      <td>America/Denver</td>\n",
              "      <td>UT</td>\n",
              "      <td>mwszkS</td>\n",
              "      <td>mwszkS</td>\n",
              "      <td>bitly</td>\n",
              "      <td>NaN</td>\n",
              "      <td>j.mp</td>\n",
              "      <td>http://www.AwareMap.com/</td>\n",
              "      <td>http://www.monroecounty.gov/etc/911/rss.php</td>\n",
              "      <td>1331926846.000</td>\n",
              "      <td>1308262393.000</td>\n",
              "      <td>Provo</td>\n",
              "      <td>[40.218102, -111.613297]</td>\n",
              "      <td>nan</td>\n",
              "      <td>NaN</td>\n",
              "    </tr>\n",
              "    <tr>\n",
              "      <th>3558</th>\n",
              "      <td>GoogleProducer</td>\n",
              "      <td>US</td>\n",
              "      <td>0.000</td>\n",
              "      <td>America/Los_Angeles</td>\n",
              "      <td>CA</td>\n",
              "      <td>zjtI4X</td>\n",
              "      <td>zjtI4X</td>\n",
              "      <td>bitly</td>\n",
              "      <td>NaN</td>\n",
              "      <td>1.usa.gov</td>\n",
              "      <td>direct</td>\n",
              "      <td>http://www.ahrq.gov/qual/qitoolkit/</td>\n",
              "      <td>1331926847.000</td>\n",
              "      <td>1327528527.000</td>\n",
              "      <td>Mountain View</td>\n",
              "      <td>[37.419201, -122.057404]</td>\n",
              "      <td>nan</td>\n",
              "      <td>NaN</td>\n",
              "    </tr>\n",
              "    <tr>\n",
              "      <th>3559</th>\n",
              "      <td>Mozilla/4.0 (compatible; MSIE 8.0; Windows NT ...</td>\n",
              "      <td>US</td>\n",
              "      <td>0.000</td>\n",
              "      <td>America/New_York</td>\n",
              "      <td>VA</td>\n",
              "      <td>qxKrTK</td>\n",
              "      <td>qxKrTK</td>\n",
              "      <td>bitly</td>\n",
              "      <td>en-US</td>\n",
              "      <td>1.usa.gov</td>\n",
              "      <td>http://t.co/OEEEvwjU</td>\n",
              "      <td>http://herndon-va.gov/Content/public_safety/Pu...</td>\n",
              "      <td>1331926849.000</td>\n",
              "      <td>1312897670.000</td>\n",
              "      <td>Mc Lean</td>\n",
              "      <td>[38.935799, -77.162102]</td>\n",
              "      <td>nan</td>\n",
              "      <td>NaN</td>\n",
              "    </tr>\n",
              "  </tbody>\n",
              "</table>\n",
              "<p>3560 rows × 18 columns</p>\n",
              "</div>"
            ],
            "text/plain": [
              "                                                      a   c    nk                   tz  gr  \\\n",
              "0     Mozilla/5.0 (Windows NT 6.1; WOW64) AppleWebKi...  US 1.000     America/New_York  MA   \n",
              "1                                GoogleMaps/RochesterNY  US 0.000       America/Denver  UT   \n",
              "2     Mozilla/4.0 (compatible; MSIE 8.0; Windows NT ...  US 1.000     America/New_York  DC   \n",
              "3     Mozilla/5.0 (Macintosh; Intel Mac OS X 10_6_8)...  BR 0.000    America/Sao_Paulo  27   \n",
              "4     Mozilla/5.0 (Windows NT 6.1; WOW64) AppleWebKi...  US 0.000     America/New_York  MA   \n",
              "...                                                 ...  ..   ...                  ...  ..   \n",
              "3555  Mozilla/4.0 (compatible; MSIE 9.0; Windows NT ...  US 1.000     America/New_York  NJ   \n",
              "3556  Mozilla/5.0 (Windows NT 5.1) AppleWebKit/535.1...  US 0.000      America/Chicago  OK   \n",
              "3557                             GoogleMaps/RochesterNY  US 0.000       America/Denver  UT   \n",
              "3558                                     GoogleProducer  US 0.000  America/Los_Angeles  CA   \n",
              "3559  Mozilla/4.0 (compatible; MSIE 8.0; Windows NT ...  US 0.000     America/New_York  VA   \n",
              "\n",
              "           g       h             l              al         hh  \\\n",
              "0     A6qOVH  wfLQtf       orofrog  en-US,en;q=0.8  1.usa.gov   \n",
              "1     mwszkS  mwszkS         bitly             NaN       j.mp   \n",
              "2     xxr3Qb  xxr3Qb         bitly           en-US  1.usa.gov   \n",
              "3     zCaLwp  zUtuOu      alelex88           pt-br  1.usa.gov   \n",
              "4     9b6kNl  9b6kNl         bitly  en-US,en;q=0.8     bit.ly   \n",
              "...      ...     ...           ...             ...        ...   \n",
              "3555  e5SvKE  fqPSr9  tweetdeckapi              en  1.usa.gov   \n",
              "3556  jQLtP4  jQLtP4         bitly  en-US,en;q=0.8  1.usa.gov   \n",
              "3557  mwszkS  mwszkS         bitly             NaN       j.mp   \n",
              "3558  zjtI4X  zjtI4X         bitly             NaN  1.usa.gov   \n",
              "3559  qxKrTK  qxKrTK         bitly           en-US  1.usa.gov   \n",
              "\n",
              "                                                      r  \\\n",
              "0     http://www.facebook.com/l/7AQEFzjSi/1.usa.gov/...   \n",
              "1                              http://www.AwareMap.com/   \n",
              "2                                  http://t.co/03elZC4Q   \n",
              "3                                                direct   \n",
              "4                   http://www.shrewsbury-ma.gov/selco/   \n",
              "...                                                 ...   \n",
              "3555                                             direct   \n",
              "3556  http://www.facebook.com/l.php?u=http%3A%2F%2F1...   \n",
              "3557                           http://www.AwareMap.com/   \n",
              "3558                                             direct   \n",
              "3559                               http://t.co/OEEEvwjU   \n",
              "\n",
              "                                                      u              t             hc  \\\n",
              "0           http://www.ncbi.nlm.nih.gov/pubmed/22415991 1331923247.000 1331822918.000   \n",
              "1           http://www.monroecounty.gov/etc/911/rss.php 1331923249.000 1308262393.000   \n",
              "2     http://boxer.senate.gov/en/press/releases/0316... 1331923250.000 1331919941.000   \n",
              "3               http://apod.nasa.gov/apod/ap120312.html 1331923249.000 1331923068.000   \n",
              "4     http://www.shrewsbury-ma.gov/egov/gallery/1341... 1331923251.000 1273672411.000   \n",
              "...                                                 ...            ...            ...   \n",
              "3555  http://www.fda.gov/AdvisoryCommittees/Committe... 1331926841.000 1301298479.000   \n",
              "3556  http://www.okc.gov/PublicNotificationSystem/Fo... 1331926844.000 1307530247.000   \n",
              "3557        http://www.monroecounty.gov/etc/911/rss.php 1331926846.000 1308262393.000   \n",
              "3558                http://www.ahrq.gov/qual/qitoolkit/ 1331926847.000 1327528527.000   \n",
              "3559  http://herndon-va.gov/Content/public_safety/Pu... 1331926849.000 1312897670.000   \n",
              "\n",
              "                 cy                        ll  _heartbeat_   kw  \n",
              "0           Danvers   [42.576698, -70.954903]          nan  NaN  \n",
              "1             Provo  [40.218102, -111.613297]          nan  NaN  \n",
              "2        Washington     [38.9007, -77.043098]          nan  NaN  \n",
              "3              Braz  [-23.549999, -46.616699]          nan  NaN  \n",
              "4        Shrewsbury   [42.286499, -71.714699]          nan  NaN  \n",
              "...             ...                       ...          ...  ...  \n",
              "3555        Paramus         [40.9445, -74.07]          nan  NaN  \n",
              "3556  Oklahoma City     [35.4715, -97.518997]          nan  NaN  \n",
              "3557          Provo  [40.218102, -111.613297]          nan  NaN  \n",
              "3558  Mountain View  [37.419201, -122.057404]          nan  NaN  \n",
              "3559        Mc Lean   [38.935799, -77.162102]          nan  NaN  \n",
              "\n",
              "[3560 rows x 18 columns]"
            ]
          },
          "metadata": {
            "tags": []
          },
          "execution_count": 135
        },
        {
          "output_type": "stream",
          "text": [
            "None\n"
          ],
          "name": "stdout"
        }
      ]
    },
    {
      "cell_type": "code",
      "metadata": {
        "id": "PuR4JTnoEeZQ",
        "colab_type": "code",
        "colab": {
          "base_uri": "https://localhost:8080/",
          "height": 218
        },
        "outputId": "2135d360-6d75-404c-f495-8474d6cd77d9"
      },
      "source": [
        "tz_counts = frame['tz'].value_counts()\n",
        "tz_counts\n",
        "type(tz_counts)"
      ],
      "execution_count": 136,
      "outputs": [
        {
          "output_type": "execute_result",
          "data": {
            "text/plain": [
              "America/New_York       1251\n",
              "                        521\n",
              "America/Chicago         400\n",
              "America/Los_Angeles     382\n",
              "America/Denver          191\n",
              "                       ... \n",
              "Africa/Casablanca         1\n",
              "America/Costa_Rica        1\n",
              "Europe/Uzhgorod           1\n",
              "Asia/Novosibirsk          1\n",
              "America/Lima              1\n",
              "Name: tz, Length: 97, dtype: int64"
            ]
          },
          "metadata": {
            "tags": []
          },
          "execution_count": 136
        },
        {
          "output_type": "execute_result",
          "data": {
            "text/plain": [
              "pandas.core.series.Series"
            ]
          },
          "metadata": {
            "tags": []
          },
          "execution_count": 136
        }
      ]
    },
    {
      "cell_type": "code",
      "metadata": {
        "id": "KicRXW7iEeZS",
        "colab_type": "code",
        "colab": {}
      },
      "source": [
        "clean_tz = frame['tz'].fillna('Missing')\n",
        "clean_tz[clean_tz == ''] = 'Unknown'"
      ],
      "execution_count": 137,
      "outputs": []
    },
    {
      "cell_type": "code",
      "metadata": {
        "id": "txmxwOJHEeZU",
        "colab_type": "code",
        "colab": {
          "base_uri": "https://localhost:8080/",
          "height": 218
        },
        "outputId": "2d10a24d-6a67-4789-ac89-9a204bfb03ac"
      },
      "source": [
        "tz_counts = clean_tz.value_counts()\n",
        "tz_counts"
      ],
      "execution_count": 138,
      "outputs": [
        {
          "output_type": "execute_result",
          "data": {
            "text/plain": [
              "America/New_York       1251\n",
              "Unknown                 521\n",
              "America/Chicago         400\n",
              "America/Los_Angeles     382\n",
              "America/Denver          191\n",
              "                       ... \n",
              "Europe/Ljubljana          1\n",
              "Asia/Novosibirsk          1\n",
              "Europe/Uzhgorod           1\n",
              "Africa/Casablanca         1\n",
              "America/Lima              1\n",
              "Name: tz, Length: 98, dtype: int64"
            ]
          },
          "metadata": {
            "tags": []
          },
          "execution_count": 138
        }
      ]
    },
    {
      "cell_type": "code",
      "metadata": {
        "id": "_taIduMvEeZW",
        "colab_type": "code",
        "colab": {
          "base_uri": "https://localhost:8080/",
          "height": 285
        },
        "outputId": "cc6ef7d7-cd42-4e20-bbf0-bd018b836059"
      },
      "source": [
        "tz_counts[:10].plot(kind='barh')"
      ],
      "execution_count": 139,
      "outputs": [
        {
          "output_type": "execute_result",
          "data": {
            "text/plain": [
              "<matplotlib.axes._subplots.AxesSubplot at 0x7fb98e8b2828>"
            ]
          },
          "metadata": {
            "tags": []
          },
          "execution_count": 139
        },
        {
          "output_type": "display_data",
          "data": {
            "image/png": "[encoded data removed]",
            "text/plain": [
              "<Figure size 432x288 with 1 Axes>"
            ]
          },
          "metadata": {
            "tags": []
          }
        }
      ]
    },
    {
      "cell_type": "code",
      "metadata": {
        "id": "kS-PfaZkEeZY",
        "colab_type": "code",
        "colab": {
          "base_uri": "https://localhost:8080/",
          "height": 285
        },
        "outputId": "372beb5a-e6f3-4717-d5ab-ec519d183a62"
      },
      "source": [
        "sns.barplot(tz_counts[:10].values, tz_counts[:10].index)"
      ],
      "execution_count": 140,
      "outputs": [
        {
          "output_type": "execute_result",
          "data": {
            "text/plain": [
              "<matplotlib.axes._subplots.AxesSubplot at 0x7fb9afc82710>"
            ]
          },
          "metadata": {
            "tags": []
          },
          "execution_count": 140
        },
        {
          "output_type": "display_data",
          "data": {
            "image/png": "[encoded data removed]",
            "text/plain": [
              "<Figure size 432x288 with 1 Axes>"
            ]
          },
          "metadata": {
            "tags": []
          }
        }
      ]
    },
    {
      "cell_type": "code",
      "metadata": {
        "id": "foqAD40nEeZZ",
        "colab_type": "code",
        "colab": {
          "base_uri": "https://localhost:8080/",
          "height": 218
        },
        "outputId": "a59f8eb9-6694-452b-f33c-18bba2f8a50a"
      },
      "source": [
        "tz_counts\n",
        "type(tz_counts)"
      ],
      "execution_count": 141,
      "outputs": [
        {
          "output_type": "execute_result",
          "data": {
            "text/plain": [
              "America/New_York       1251\n",
              "Unknown                 521\n",
              "America/Chicago         400\n",
              "America/Los_Angeles     382\n",
              "America/Denver          191\n",
              "                       ... \n",
              "Europe/Ljubljana          1\n",
              "Asia/Novosibirsk          1\n",
              "Europe/Uzhgorod           1\n",
              "Africa/Casablanca         1\n",
              "America/Lima              1\n",
              "Name: tz, Length: 98, dtype: int64"
            ]
          },
          "metadata": {
            "tags": []
          },
          "execution_count": 141
        },
        {
          "output_type": "execute_result",
          "data": {
            "text/plain": [
              "pandas.core.series.Series"
            ]
          },
          "metadata": {
            "tags": []
          },
          "execution_count": 141
        }
      ]
    },
    {
      "cell_type": "code",
      "metadata": {
        "id": "MmuUSeGyEeZb",
        "colab_type": "code",
        "colab": {
          "base_uri": "https://localhost:8080/",
          "height": 333
        },
        "outputId": "18f0dbfb-d9aa-444d-d98e-0a4053daede2"
      },
      "source": [
        "frame.head()"
      ],
      "execution_count": 142,
      "outputs": [
        {
          "output_type": "execute_result",
          "data": {
            "text/html": [
              "<div>\n",
              "<style scoped>\n",
              "    .dataframe tbody tr th:only-of-type {\n",
              "        vertical-align: middle;\n",
              "    }\n",
              "\n",
              "    .dataframe tbody tr th {\n",
              "        vertical-align: top;\n",
              "    }\n",
              "\n",
              "    .dataframe thead th {\n",
              "        text-align: right;\n",
              "    }\n",
              "</style>\n",
              "<table border=\"1\" class=\"dataframe\">\n",
              "  <thead>\n",
              "    <tr style=\"text-align: right;\">\n",
              "      <th></th>\n",
              "      <th>a</th>\n",
              "      <th>c</th>\n",
              "      <th>nk</th>\n",
              "      <th>tz</th>\n",
              "      <th>gr</th>\n",
              "      <th>g</th>\n",
              "      <th>h</th>\n",
              "      <th>l</th>\n",
              "      <th>al</th>\n",
              "      <th>hh</th>\n",
              "      <th>r</th>\n",
              "      <th>u</th>\n",
              "      <th>t</th>\n",
              "      <th>hc</th>\n",
              "      <th>cy</th>\n",
              "      <th>ll</th>\n",
              "      <th>_heartbeat_</th>\n",
              "      <th>kw</th>\n",
              "    </tr>\n",
              "  </thead>\n",
              "  <tbody>\n",
              "    <tr>\n",
              "      <th>0</th>\n",
              "      <td>Mozilla/5.0 (Windows NT 6.1; WOW64) AppleWebKi...</td>\n",
              "      <td>US</td>\n",
              "      <td>1.000</td>\n",
              "      <td>America/New_York</td>\n",
              "      <td>MA</td>\n",
              "      <td>A6qOVH</td>\n",
              "      <td>wfLQtf</td>\n",
              "      <td>orofrog</td>\n",
              "      <td>en-US,en;q=0.8</td>\n",
              "      <td>1.usa.gov</td>\n",
              "      <td>http://www.facebook.com/l/7AQEFzjSi/1.usa.gov/...</td>\n",
              "      <td>http://www.ncbi.nlm.nih.gov/pubmed/22415991</td>\n",
              "      <td>1331923247.000</td>\n",
              "      <td>1331822918.000</td>\n",
              "      <td>Danvers</td>\n",
              "      <td>[42.576698, -70.954903]</td>\n",
              "      <td>nan</td>\n",
              "      <td>NaN</td>\n",
              "    </tr>\n",
              "    <tr>\n",
              "      <th>1</th>\n",
              "      <td>GoogleMaps/RochesterNY</td>\n",
              "      <td>US</td>\n",
              "      <td>0.000</td>\n",
              "      <td>America/Denver</td>\n",
              "      <td>UT</td>\n",
              "      <td>mwszkS</td>\n",
              "      <td>mwszkS</td>\n",
              "      <td>bitly</td>\n",
              "      <td>NaN</td>\n",
              "      <td>j.mp</td>\n",
              "      <td>http://www.AwareMap.com/</td>\n",
              "      <td>http://www.monroecounty.gov/etc/911/rss.php</td>\n",
              "      <td>1331923249.000</td>\n",
              "      <td>1308262393.000</td>\n",
              "      <td>Provo</td>\n",
              "      <td>[40.218102, -111.613297]</td>\n",
              "      <td>nan</td>\n",
              "      <td>NaN</td>\n",
              "    </tr>\n",
              "    <tr>\n",
              "      <th>2</th>\n",
              "      <td>Mozilla/4.0 (compatible; MSIE 8.0; Windows NT ...</td>\n",
              "      <td>US</td>\n",
              "      <td>1.000</td>\n",
              "      <td>America/New_York</td>\n",
              "      <td>DC</td>\n",
              "      <td>xxr3Qb</td>\n",
              "      <td>xxr3Qb</td>\n",
              "      <td>bitly</td>\n",
              "      <td>en-US</td>\n",
              "      <td>1.usa.gov</td>\n",
              "      <td>http://t.co/03elZC4Q</td>\n",
              "      <td>http://boxer.senate.gov/en/press/releases/0316...</td>\n",
              "      <td>1331923250.000</td>\n",
              "      <td>1331919941.000</td>\n",
              "      <td>Washington</td>\n",
              "      <td>[38.9007, -77.043098]</td>\n",
              "      <td>nan</td>\n",
              "      <td>NaN</td>\n",
              "    </tr>\n",
              "    <tr>\n",
              "      <th>3</th>\n",
              "      <td>Mozilla/5.0 (Macintosh; Intel Mac OS X 10_6_8)...</td>\n",
              "      <td>BR</td>\n",
              "      <td>0.000</td>\n",
              "      <td>America/Sao_Paulo</td>\n",
              "      <td>27</td>\n",
              "      <td>zCaLwp</td>\n",
              "      <td>zUtuOu</td>\n",
              "      <td>alelex88</td>\n",
              "      <td>pt-br</td>\n",
              "      <td>1.usa.gov</td>\n",
              "      <td>direct</td>\n",
              "      <td>http://apod.nasa.gov/apod/ap120312.html</td>\n",
              "      <td>1331923249.000</td>\n",
              "      <td>1331923068.000</td>\n",
              "      <td>Braz</td>\n",
              "      <td>[-23.549999, -46.616699]</td>\n",
              "      <td>nan</td>\n",
              "      <td>NaN</td>\n",
              "    </tr>\n",
              "    <tr>\n",
              "      <th>4</th>\n",
              "      <td>Mozilla/5.0 (Windows NT 6.1; WOW64) AppleWebKi...</td>\n",
              "      <td>US</td>\n",
              "      <td>0.000</td>\n",
              "      <td>America/New_York</td>\n",
              "      <td>MA</td>\n",
              "      <td>9b6kNl</td>\n",
              "      <td>9b6kNl</td>\n",
              "      <td>bitly</td>\n",
              "      <td>en-US,en;q=0.8</td>\n",
              "      <td>bit.ly</td>\n",
              "      <td>http://www.shrewsbury-ma.gov/selco/</td>\n",
              "      <td>http://www.shrewsbury-ma.gov/egov/gallery/1341...</td>\n",
              "      <td>1331923251.000</td>\n",
              "      <td>1273672411.000</td>\n",
              "      <td>Shrewsbury</td>\n",
              "      <td>[42.286499, -71.714699]</td>\n",
              "      <td>nan</td>\n",
              "      <td>NaN</td>\n",
              "    </tr>\n",
              "  </tbody>\n",
              "</table>\n",
              "</div>"
            ],
            "text/plain": [
              "                                                   a   c    nk                 tz  gr       g  \\\n",
              "0  Mozilla/5.0 (Windows NT 6.1; WOW64) AppleWebKi...  US 1.000   America/New_York  MA  A6qOVH   \n",
              "1                             GoogleMaps/RochesterNY  US 0.000     America/Denver  UT  mwszkS   \n",
              "2  Mozilla/4.0 (compatible; MSIE 8.0; Windows NT ...  US 1.000   America/New_York  DC  xxr3Qb   \n",
              "3  Mozilla/5.0 (Macintosh; Intel Mac OS X 10_6_8)...  BR 0.000  America/Sao_Paulo  27  zCaLwp   \n",
              "4  Mozilla/5.0 (Windows NT 6.1; WOW64) AppleWebKi...  US 0.000   America/New_York  MA  9b6kNl   \n",
              "\n",
              "        h         l              al         hh                                                  r  \\\n",
              "0  wfLQtf   orofrog  en-US,en;q=0.8  1.usa.gov  http://www.facebook.com/l/7AQEFzjSi/1.usa.gov/...   \n",
              "1  mwszkS     bitly             NaN       j.mp                           http://www.AwareMap.com/   \n",
              "2  xxr3Qb     bitly           en-US  1.usa.gov                               http://t.co/03elZC4Q   \n",
              "3  zUtuOu  alelex88           pt-br  1.usa.gov                                             direct   \n",
              "4  9b6kNl     bitly  en-US,en;q=0.8     bit.ly                http://www.shrewsbury-ma.gov/selco/   \n",
              "\n",
              "                                                   u              t             hc          cy  \\\n",
              "0        http://www.ncbi.nlm.nih.gov/pubmed/22415991 1331923247.000 1331822918.000     Danvers   \n",
              "1        http://www.monroecounty.gov/etc/911/rss.php 1331923249.000 1308262393.000       Provo   \n",
              "2  http://boxer.senate.gov/en/press/releases/0316... 1331923250.000 1331919941.000  Washington   \n",
              "3            http://apod.nasa.gov/apod/ap120312.html 1331923249.000 1331923068.000        Braz   \n",
              "4  http://www.shrewsbury-ma.gov/egov/gallery/1341... 1331923251.000 1273672411.000  Shrewsbury   \n",
              "\n",
              "                         ll  _heartbeat_   kw  \n",
              "0   [42.576698, -70.954903]          nan  NaN  \n",
              "1  [40.218102, -111.613297]          nan  NaN  \n",
              "2     [38.9007, -77.043098]          nan  NaN  \n",
              "3  [-23.549999, -46.616699]          nan  NaN  \n",
              "4   [42.286499, -71.714699]          nan  NaN  "
            ]
          },
          "metadata": {
            "tags": []
          },
          "execution_count": 142
        }
      ]
    },
    {
      "cell_type": "code",
      "metadata": {
        "id": "3MZjuurcEeZd",
        "colab_type": "code",
        "colab": {
          "base_uri": "https://localhost:8080/",
          "height": 218
        },
        "outputId": "60a3288c-2413-4928-ce7c-3157f4848c10"
      },
      "source": [
        "results = pd.Series(agent.split()[0] for agent in frame['a'].dropna())\n",
        "results"
      ],
      "execution_count": 143,
      "outputs": [
        {
          "output_type": "execute_result",
          "data": {
            "text/plain": [
              "0                  Mozilla/5.0\n",
              "1       GoogleMaps/RochesterNY\n",
              "2                  Mozilla/4.0\n",
              "3                  Mozilla/5.0\n",
              "4                  Mozilla/5.0\n",
              "                 ...          \n",
              "3435               Mozilla/4.0\n",
              "3436               Mozilla/5.0\n",
              "3437    GoogleMaps/RochesterNY\n",
              "3438            GoogleProducer\n",
              "3439               Mozilla/4.0\n",
              "Length: 3440, dtype: object"
            ]
          },
          "metadata": {
            "tags": []
          },
          "execution_count": 143
        }
      ]
    },
    {
      "cell_type": "code",
      "metadata": {
        "id": "SLqmx6FpEeZe",
        "colab_type": "code",
        "colab": {
          "base_uri": "https://localhost:8080/",
          "height": 202
        },
        "outputId": "2eaad4f9-21bd-4172-d624-b71342051b3b"
      },
      "source": [
        "results.value_counts()[:10]"
      ],
      "execution_count": 144,
      "outputs": [
        {
          "output_type": "execute_result",
          "data": {
            "text/plain": [
              "Mozilla/5.0                 2594\n",
              "Mozilla/4.0                  601\n",
              "GoogleMaps/RochesterNY       121\n",
              "Opera/9.80                    34\n",
              "TEST_INTERNET_AGENT           24\n",
              "GoogleProducer                21\n",
              "Mozilla/6.0                    5\n",
              "BlackBerry8520/5.0.0.681       4\n",
              "BlackBerry8520/5.0.0.592       3\n",
              "Dalvik/1.4.0                   3\n",
              "dtype: int64"
            ]
          },
          "metadata": {
            "tags": []
          },
          "execution_count": 144
        }
      ]
    },
    {
      "cell_type": "code",
      "metadata": {
        "id": "0Vvo6ukmEeZg",
        "colab_type": "code",
        "colab": {}
      },
      "source": [
        "cframe = frame[frame.a.notnull()] # returns a copy of the matching rows from the original dataframe\n",
        "cframe._is_copy = None # decouple the dataframe from its origin to avoid copy warning\n",
        "cframe.loc[:, 'os'] = np.where(cframe.a.str.contains('Windows'), 'Windows', 'Not Windows')\n",
        "cframe['tz'].fillna('Missing', inplace = True)\n",
        "cframe['tz'].replace('', 'Unknown', inplace=True)"
      ],
      "execution_count": 145,
      "outputs": []
    },
    {
      "cell_type": "code",
      "metadata": {
        "id": "3Ir5uNe8EeZi",
        "colab_type": "code",
        "colab": {
          "base_uri": "https://localhost:8080/",
          "height": 34
        },
        "outputId": "bfa499c0-226e-44ee-93fc-df6704aa19f0"
      },
      "source": [
        "cframe._is_view # is cframe a view (reference) to another frame??"
      ],
      "execution_count": 146,
      "outputs": [
        {
          "output_type": "execute_result",
          "data": {
            "text/plain": [
              "False"
            ]
          },
          "metadata": {
            "tags": []
          },
          "execution_count": 146
        }
      ]
    },
    {
      "cell_type": "code",
      "metadata": {
        "tags": [],
        "id": "-8FPXIs_EeZk",
        "colab_type": "code",
        "colab": {
          "base_uri": "https://localhost:8080/",
          "height": 34
        },
        "outputId": "1f2147dc-19c6-4138-9e95-856f635d22c3"
      },
      "source": [
        "print(cframe._is_copy)"
      ],
      "execution_count": 147,
      "outputs": [
        {
          "output_type": "stream",
          "text": [
            "None\n"
          ],
          "name": "stdout"
        }
      ]
    },
    {
      "cell_type": "code",
      "metadata": {
        "id": "3Og7pUg8EeZn",
        "colab_type": "code",
        "colab": {
          "base_uri": "https://localhost:8080/",
          "height": 343
        },
        "outputId": "9920b9e8-adb7-473a-c867-635766b9a1df"
      },
      "source": [
        "cframe[['tz', 'os']][:10]"
      ],
      "execution_count": 148,
      "outputs": [
        {
          "output_type": "execute_result",
          "data": {
            "text/html": [
              "<div>\n",
              "<style scoped>\n",
              "    .dataframe tbody tr th:only-of-type {\n",
              "        vertical-align: middle;\n",
              "    }\n",
              "\n",
              "    .dataframe tbody tr th {\n",
              "        vertical-align: top;\n",
              "    }\n",
              "\n",
              "    .dataframe thead th {\n",
              "        text-align: right;\n",
              "    }\n",
              "</style>\n",
              "<table border=\"1\" class=\"dataframe\">\n",
              "  <thead>\n",
              "    <tr style=\"text-align: right;\">\n",
              "      <th></th>\n",
              "      <th>tz</th>\n",
              "      <th>os</th>\n",
              "    </tr>\n",
              "  </thead>\n",
              "  <tbody>\n",
              "    <tr>\n",
              "      <th>0</th>\n",
              "      <td>America/New_York</td>\n",
              "      <td>Windows</td>\n",
              "    </tr>\n",
              "    <tr>\n",
              "      <th>1</th>\n",
              "      <td>America/Denver</td>\n",
              "      <td>Not Windows</td>\n",
              "    </tr>\n",
              "    <tr>\n",
              "      <th>2</th>\n",
              "      <td>America/New_York</td>\n",
              "      <td>Windows</td>\n",
              "    </tr>\n",
              "    <tr>\n",
              "      <th>3</th>\n",
              "      <td>America/Sao_Paulo</td>\n",
              "      <td>Not Windows</td>\n",
              "    </tr>\n",
              "    <tr>\n",
              "      <th>4</th>\n",
              "      <td>America/New_York</td>\n",
              "      <td>Windows</td>\n",
              "    </tr>\n",
              "    <tr>\n",
              "      <th>5</th>\n",
              "      <td>America/New_York</td>\n",
              "      <td>Windows</td>\n",
              "    </tr>\n",
              "    <tr>\n",
              "      <th>6</th>\n",
              "      <td>Europe/Warsaw</td>\n",
              "      <td>Windows</td>\n",
              "    </tr>\n",
              "    <tr>\n",
              "      <th>7</th>\n",
              "      <td>Unknown</td>\n",
              "      <td>Windows</td>\n",
              "    </tr>\n",
              "    <tr>\n",
              "      <th>8</th>\n",
              "      <td>Unknown</td>\n",
              "      <td>Not Windows</td>\n",
              "    </tr>\n",
              "    <tr>\n",
              "      <th>9</th>\n",
              "      <td>Unknown</td>\n",
              "      <td>Windows</td>\n",
              "    </tr>\n",
              "  </tbody>\n",
              "</table>\n",
              "</div>"
            ],
            "text/plain": [
              "                  tz           os\n",
              "0   America/New_York      Windows\n",
              "1     America/Denver  Not Windows\n",
              "2   America/New_York      Windows\n",
              "3  America/Sao_Paulo  Not Windows\n",
              "4   America/New_York      Windows\n",
              "5   America/New_York      Windows\n",
              "6      Europe/Warsaw      Windows\n",
              "7            Unknown      Windows\n",
              "8            Unknown  Not Windows\n",
              "9            Unknown      Windows"
            ]
          },
          "metadata": {
            "tags": []
          },
          "execution_count": 148
        }
      ]
    },
    {
      "cell_type": "code",
      "metadata": {
        "id": "92n76YRzEeZp",
        "colab_type": "code",
        "colab": {}
      },
      "source": [
        "by_tz_os = cframe.groupby(['tz', 'os'])"
      ],
      "execution_count": 149,
      "outputs": []
    },
    {
      "cell_type": "code",
      "metadata": {
        "id": "4aLwUTlwEeZr",
        "colab_type": "code",
        "colab": {
          "base_uri": "https://localhost:8080/",
          "height": 431
        },
        "outputId": "723febb2-4867-438f-a207-666469e257d1"
      },
      "source": [
        "by_tz_os.count()"
      ],
      "execution_count": 150,
      "outputs": [
        {
          "output_type": "execute_result",
          "data": {
            "text/html": [
              "<div>\n",
              "<style scoped>\n",
              "    .dataframe tbody tr th:only-of-type {\n",
              "        vertical-align: middle;\n",
              "    }\n",
              "\n",
              "    .dataframe tbody tr th {\n",
              "        vertical-align: top;\n",
              "    }\n",
              "\n",
              "    .dataframe thead th {\n",
              "        text-align: right;\n",
              "    }\n",
              "</style>\n",
              "<table border=\"1\" class=\"dataframe\">\n",
              "  <thead>\n",
              "    <tr style=\"text-align: right;\">\n",
              "      <th></th>\n",
              "      <th></th>\n",
              "      <th>a</th>\n",
              "      <th>c</th>\n",
              "      <th>nk</th>\n",
              "      <th>gr</th>\n",
              "      <th>g</th>\n",
              "      <th>h</th>\n",
              "      <th>l</th>\n",
              "      <th>al</th>\n",
              "      <th>hh</th>\n",
              "      <th>r</th>\n",
              "      <th>u</th>\n",
              "      <th>t</th>\n",
              "      <th>hc</th>\n",
              "      <th>cy</th>\n",
              "      <th>ll</th>\n",
              "      <th>_heartbeat_</th>\n",
              "      <th>kw</th>\n",
              "    </tr>\n",
              "    <tr>\n",
              "      <th>tz</th>\n",
              "      <th>os</th>\n",
              "      <th></th>\n",
              "      <th></th>\n",
              "      <th></th>\n",
              "      <th></th>\n",
              "      <th></th>\n",
              "      <th></th>\n",
              "      <th></th>\n",
              "      <th></th>\n",
              "      <th></th>\n",
              "      <th></th>\n",
              "      <th></th>\n",
              "      <th></th>\n",
              "      <th></th>\n",
              "      <th></th>\n",
              "      <th></th>\n",
              "      <th></th>\n",
              "      <th></th>\n",
              "    </tr>\n",
              "  </thead>\n",
              "  <tbody>\n",
              "    <tr>\n",
              "      <th>Africa/Cairo</th>\n",
              "      <th>Windows</th>\n",
              "      <td>3</td>\n",
              "      <td>3</td>\n",
              "      <td>3</td>\n",
              "      <td>3</td>\n",
              "      <td>3</td>\n",
              "      <td>3</td>\n",
              "      <td>3</td>\n",
              "      <td>3</td>\n",
              "      <td>3</td>\n",
              "      <td>3</td>\n",
              "      <td>3</td>\n",
              "      <td>3</td>\n",
              "      <td>3</td>\n",
              "      <td>3</td>\n",
              "      <td>3</td>\n",
              "      <td>0</td>\n",
              "      <td>0</td>\n",
              "    </tr>\n",
              "    <tr>\n",
              "      <th>Africa/Casablanca</th>\n",
              "      <th>Windows</th>\n",
              "      <td>1</td>\n",
              "      <td>1</td>\n",
              "      <td>1</td>\n",
              "      <td>1</td>\n",
              "      <td>1</td>\n",
              "      <td>1</td>\n",
              "      <td>1</td>\n",
              "      <td>1</td>\n",
              "      <td>1</td>\n",
              "      <td>1</td>\n",
              "      <td>1</td>\n",
              "      <td>1</td>\n",
              "      <td>1</td>\n",
              "      <td>1</td>\n",
              "      <td>1</td>\n",
              "      <td>0</td>\n",
              "      <td>0</td>\n",
              "    </tr>\n",
              "    <tr>\n",
              "      <th>Africa/Ceuta</th>\n",
              "      <th>Windows</th>\n",
              "      <td>2</td>\n",
              "      <td>2</td>\n",
              "      <td>2</td>\n",
              "      <td>2</td>\n",
              "      <td>2</td>\n",
              "      <td>2</td>\n",
              "      <td>2</td>\n",
              "      <td>2</td>\n",
              "      <td>2</td>\n",
              "      <td>2</td>\n",
              "      <td>2</td>\n",
              "      <td>2</td>\n",
              "      <td>2</td>\n",
              "      <td>2</td>\n",
              "      <td>2</td>\n",
              "      <td>0</td>\n",
              "      <td>0</td>\n",
              "    </tr>\n",
              "    <tr>\n",
              "      <th>Africa/Johannesburg</th>\n",
              "      <th>Windows</th>\n",
              "      <td>1</td>\n",
              "      <td>1</td>\n",
              "      <td>1</td>\n",
              "      <td>1</td>\n",
              "      <td>1</td>\n",
              "      <td>1</td>\n",
              "      <td>1</td>\n",
              "      <td>1</td>\n",
              "      <td>1</td>\n",
              "      <td>1</td>\n",
              "      <td>1</td>\n",
              "      <td>1</td>\n",
              "      <td>1</td>\n",
              "      <td>1</td>\n",
              "      <td>1</td>\n",
              "      <td>0</td>\n",
              "      <td>0</td>\n",
              "    </tr>\n",
              "    <tr>\n",
              "      <th>Africa/Lusaka</th>\n",
              "      <th>Windows</th>\n",
              "      <td>1</td>\n",
              "      <td>1</td>\n",
              "      <td>1</td>\n",
              "      <td>1</td>\n",
              "      <td>1</td>\n",
              "      <td>1</td>\n",
              "      <td>1</td>\n",
              "      <td>1</td>\n",
              "      <td>1</td>\n",
              "      <td>1</td>\n",
              "      <td>1</td>\n",
              "      <td>1</td>\n",
              "      <td>1</td>\n",
              "      <td>1</td>\n",
              "      <td>1</td>\n",
              "      <td>0</td>\n",
              "      <td>0</td>\n",
              "    </tr>\n",
              "    <tr>\n",
              "      <th>...</th>\n",
              "      <th>...</th>\n",
              "      <td>...</td>\n",
              "      <td>...</td>\n",
              "      <td>...</td>\n",
              "      <td>...</td>\n",
              "      <td>...</td>\n",
              "      <td>...</td>\n",
              "      <td>...</td>\n",
              "      <td>...</td>\n",
              "      <td>...</td>\n",
              "      <td>...</td>\n",
              "      <td>...</td>\n",
              "      <td>...</td>\n",
              "      <td>...</td>\n",
              "      <td>...</td>\n",
              "      <td>...</td>\n",
              "      <td>...</td>\n",
              "      <td>...</td>\n",
              "    </tr>\n",
              "    <tr>\n",
              "      <th rowspan=\"2\" valign=\"top\">Pacific/Auckland</th>\n",
              "      <th>Not Windows</th>\n",
              "      <td>3</td>\n",
              "      <td>3</td>\n",
              "      <td>3</td>\n",
              "      <td>3</td>\n",
              "      <td>3</td>\n",
              "      <td>3</td>\n",
              "      <td>3</td>\n",
              "      <td>3</td>\n",
              "      <td>3</td>\n",
              "      <td>3</td>\n",
              "      <td>3</td>\n",
              "      <td>3</td>\n",
              "      <td>3</td>\n",
              "      <td>3</td>\n",
              "      <td>3</td>\n",
              "      <td>0</td>\n",
              "      <td>0</td>\n",
              "    </tr>\n",
              "    <tr>\n",
              "      <th>Windows</th>\n",
              "      <td>8</td>\n",
              "      <td>8</td>\n",
              "      <td>8</td>\n",
              "      <td>8</td>\n",
              "      <td>8</td>\n",
              "      <td>8</td>\n",
              "      <td>8</td>\n",
              "      <td>1</td>\n",
              "      <td>8</td>\n",
              "      <td>8</td>\n",
              "      <td>8</td>\n",
              "      <td>8</td>\n",
              "      <td>8</td>\n",
              "      <td>8</td>\n",
              "      <td>8</td>\n",
              "      <td>0</td>\n",
              "      <td>0</td>\n",
              "    </tr>\n",
              "    <tr>\n",
              "      <th>Pacific/Honolulu</th>\n",
              "      <th>Windows</th>\n",
              "      <td>36</td>\n",
              "      <td>36</td>\n",
              "      <td>36</td>\n",
              "      <td>36</td>\n",
              "      <td>36</td>\n",
              "      <td>36</td>\n",
              "      <td>36</td>\n",
              "      <td>36</td>\n",
              "      <td>36</td>\n",
              "      <td>36</td>\n",
              "      <td>36</td>\n",
              "      <td>36</td>\n",
              "      <td>36</td>\n",
              "      <td>36</td>\n",
              "      <td>36</td>\n",
              "      <td>0</td>\n",
              "      <td>32</td>\n",
              "    </tr>\n",
              "    <tr>\n",
              "      <th rowspan=\"2\" valign=\"top\">Unknown</th>\n",
              "      <th>Not Windows</th>\n",
              "      <td>245</td>\n",
              "      <td>0</td>\n",
              "      <td>245</td>\n",
              "      <td>0</td>\n",
              "      <td>245</td>\n",
              "      <td>245</td>\n",
              "      <td>245</td>\n",
              "      <td>239</td>\n",
              "      <td>245</td>\n",
              "      <td>245</td>\n",
              "      <td>245</td>\n",
              "      <td>245</td>\n",
              "      <td>245</td>\n",
              "      <td>0</td>\n",
              "      <td>0</td>\n",
              "      <td>0</td>\n",
              "      <td>4</td>\n",
              "    </tr>\n",
              "    <tr>\n",
              "      <th>Windows</th>\n",
              "      <td>276</td>\n",
              "      <td>0</td>\n",
              "      <td>276</td>\n",
              "      <td>0</td>\n",
              "      <td>276</td>\n",
              "      <td>276</td>\n",
              "      <td>276</td>\n",
              "      <td>268</td>\n",
              "      <td>276</td>\n",
              "      <td>276</td>\n",
              "      <td>276</td>\n",
              "      <td>276</td>\n",
              "      <td>276</td>\n",
              "      <td>0</td>\n",
              "      <td>0</td>\n",
              "      <td>0</td>\n",
              "      <td>7</td>\n",
              "    </tr>\n",
              "  </tbody>\n",
              "</table>\n",
              "<p>149 rows × 17 columns</p>\n",
              "</div>"
            ],
            "text/plain": [
              "                                   a   c   nk  gr    g    h    l   al   hh    r    u    t   hc  \\\n",
              "tz                  os                                                                           \n",
              "Africa/Cairo        Windows        3   3    3   3    3    3    3    3    3    3    3    3    3   \n",
              "Africa/Casablanca   Windows        1   1    1   1    1    1    1    1    1    1    1    1    1   \n",
              "Africa/Ceuta        Windows        2   2    2   2    2    2    2    2    2    2    2    2    2   \n",
              "Africa/Johannesburg Windows        1   1    1   1    1    1    1    1    1    1    1    1    1   \n",
              "Africa/Lusaka       Windows        1   1    1   1    1    1    1    1    1    1    1    1    1   \n",
              "...                              ...  ..  ...  ..  ...  ...  ...  ...  ...  ...  ...  ...  ...   \n",
              "Pacific/Auckland    Not Windows    3   3    3   3    3    3    3    3    3    3    3    3    3   \n",
              "                    Windows        8   8    8   8    8    8    8    1    8    8    8    8    8   \n",
              "Pacific/Honolulu    Windows       36  36   36  36   36   36   36   36   36   36   36   36   36   \n",
              "Unknown             Not Windows  245   0  245   0  245  245  245  239  245  245  245  245  245   \n",
              "                    Windows      276   0  276   0  276  276  276  268  276  276  276  276  276   \n",
              "\n",
              "                                 cy  ll  _heartbeat_  kw  \n",
              "tz                  os                                    \n",
              "Africa/Cairo        Windows       3   3            0   0  \n",
              "Africa/Casablanca   Windows       1   1            0   0  \n",
              "Africa/Ceuta        Windows       2   2            0   0  \n",
              "Africa/Johannesburg Windows       1   1            0   0  \n",
              "Africa/Lusaka       Windows       1   1            0   0  \n",
              "...                              ..  ..          ...  ..  \n",
              "Pacific/Auckland    Not Windows   3   3            0   0  \n",
              "                    Windows       8   8            0   0  \n",
              "Pacific/Honolulu    Windows      36  36            0  32  \n",
              "Unknown             Not Windows   0   0            0   4  \n",
              "                    Windows       0   0            0   7  \n",
              "\n",
              "[149 rows x 17 columns]"
            ]
          },
          "metadata": {
            "tags": []
          },
          "execution_count": 150
        }
      ]
    },
    {
      "cell_type": "code",
      "metadata": {
        "id": "cjWvTTWuEeZs",
        "colab_type": "code",
        "colab": {
          "base_uri": "https://localhost:8080/",
          "height": 588
        },
        "outputId": "a68cc90e-820f-4dd1-e934-9199a8c40ba5"
      },
      "source": [
        "by_tz_os.size()\n",
        "type(by_tz_os.size())\n",
        "by_tz_os.size().index"
      ],
      "execution_count": 151,
      "outputs": [
        {
          "output_type": "execute_result",
          "data": {
            "text/plain": [
              "tz                   os         \n",
              "Africa/Cairo         Windows          3\n",
              "Africa/Casablanca    Windows          1\n",
              "Africa/Ceuta         Windows          2\n",
              "Africa/Johannesburg  Windows          1\n",
              "Africa/Lusaka        Windows          1\n",
              "                                   ... \n",
              "Pacific/Auckland     Not Windows      3\n",
              "                     Windows          8\n",
              "Pacific/Honolulu     Windows         36\n",
              "Unknown              Not Windows    245\n",
              "                     Windows        276\n",
              "Length: 149, dtype: int64"
            ]
          },
          "metadata": {
            "tags": []
          },
          "execution_count": 151
        },
        {
          "output_type": "execute_result",
          "data": {
            "text/plain": [
              "pandas.core.series.Series"
            ]
          },
          "metadata": {
            "tags": []
          },
          "execution_count": 151
        },
        {
          "output_type": "execute_result",
          "data": {
            "text/plain": [
              "MultiIndex([(                  'Africa/Cairo',     'Windows'),\n",
              "            (             'Africa/Casablanca',     'Windows'),\n",
              "            (                  'Africa/Ceuta',     'Windows'),\n",
              "            (           'Africa/Johannesburg',     'Windows'),\n",
              "            (                 'Africa/Lusaka',     'Windows'),\n",
              "            (             'America/Anchorage', 'Not Windows'),\n",
              "            (             'America/Anchorage',     'Windows'),\n",
              "            ('America/Argentina/Buenos_Aires', 'Not Windows'),\n",
              "            (     'America/Argentina/Cordoba',     'Windows'),\n",
              "            (     'America/Argentina/Mendoza',     'Windows'),\n",
              "            ...\n",
              "            (                'Europe/Vilnius',     'Windows'),\n",
              "            (              'Europe/Volgograd',     'Windows'),\n",
              "            (                 'Europe/Warsaw', 'Not Windows'),\n",
              "            (                 'Europe/Warsaw',     'Windows'),\n",
              "            (                 'Europe/Zurich', 'Not Windows'),\n",
              "            (              'Pacific/Auckland', 'Not Windows'),\n",
              "            (              'Pacific/Auckland',     'Windows'),\n",
              "            (              'Pacific/Honolulu',     'Windows'),\n",
              "            (                       'Unknown', 'Not Windows'),\n",
              "            (                       'Unknown',     'Windows')],\n",
              "           names=['tz', 'os'], length=149)"
            ]
          },
          "metadata": {
            "tags": []
          },
          "execution_count": 151
        }
      ]
    },
    {
      "cell_type": "code",
      "metadata": {
        "id": "fiUyJ3lzEeZu",
        "colab_type": "code",
        "colab": {
          "base_uri": "https://localhost:8080/",
          "height": 448
        },
        "outputId": "eab3b6d8-11d2-483b-bc16-5d98b78463dd"
      },
      "source": [
        "agg_counts = by_tz_os.size().unstack().fillna(0)\n",
        "agg_counts\n",
        "type(agg_counts)"
      ],
      "execution_count": 152,
      "outputs": [
        {
          "output_type": "execute_result",
          "data": {
            "text/html": [
              "<div>\n",
              "<style scoped>\n",
              "    .dataframe tbody tr th:only-of-type {\n",
              "        vertical-align: middle;\n",
              "    }\n",
              "\n",
              "    .dataframe tbody tr th {\n",
              "        vertical-align: top;\n",
              "    }\n",
              "\n",
              "    .dataframe thead th {\n",
              "        text-align: right;\n",
              "    }\n",
              "</style>\n",
              "<table border=\"1\" class=\"dataframe\">\n",
              "  <thead>\n",
              "    <tr style=\"text-align: right;\">\n",
              "      <th>os</th>\n",
              "      <th>Not Windows</th>\n",
              "      <th>Windows</th>\n",
              "    </tr>\n",
              "    <tr>\n",
              "      <th>tz</th>\n",
              "      <th></th>\n",
              "      <th></th>\n",
              "    </tr>\n",
              "  </thead>\n",
              "  <tbody>\n",
              "    <tr>\n",
              "      <th>Africa/Cairo</th>\n",
              "      <td>0.000</td>\n",
              "      <td>3.000</td>\n",
              "    </tr>\n",
              "    <tr>\n",
              "      <th>Africa/Casablanca</th>\n",
              "      <td>0.000</td>\n",
              "      <td>1.000</td>\n",
              "    </tr>\n",
              "    <tr>\n",
              "      <th>Africa/Ceuta</th>\n",
              "      <td>0.000</td>\n",
              "      <td>2.000</td>\n",
              "    </tr>\n",
              "    <tr>\n",
              "      <th>Africa/Johannesburg</th>\n",
              "      <td>0.000</td>\n",
              "      <td>1.000</td>\n",
              "    </tr>\n",
              "    <tr>\n",
              "      <th>Africa/Lusaka</th>\n",
              "      <td>0.000</td>\n",
              "      <td>1.000</td>\n",
              "    </tr>\n",
              "    <tr>\n",
              "      <th>...</th>\n",
              "      <td>...</td>\n",
              "      <td>...</td>\n",
              "    </tr>\n",
              "    <tr>\n",
              "      <th>Europe/Warsaw</th>\n",
              "      <td>1.000</td>\n",
              "      <td>15.000</td>\n",
              "    </tr>\n",
              "    <tr>\n",
              "      <th>Europe/Zurich</th>\n",
              "      <td>4.000</td>\n",
              "      <td>0.000</td>\n",
              "    </tr>\n",
              "    <tr>\n",
              "      <th>Pacific/Auckland</th>\n",
              "      <td>3.000</td>\n",
              "      <td>8.000</td>\n",
              "    </tr>\n",
              "    <tr>\n",
              "      <th>Pacific/Honolulu</th>\n",
              "      <td>0.000</td>\n",
              "      <td>36.000</td>\n",
              "    </tr>\n",
              "    <tr>\n",
              "      <th>Unknown</th>\n",
              "      <td>245.000</td>\n",
              "      <td>276.000</td>\n",
              "    </tr>\n",
              "  </tbody>\n",
              "</table>\n",
              "<p>97 rows × 2 columns</p>\n",
              "</div>"
            ],
            "text/plain": [
              "os                   Not Windows  Windows\n",
              "tz                                       \n",
              "Africa/Cairo               0.000    3.000\n",
              "Africa/Casablanca          0.000    1.000\n",
              "Africa/Ceuta               0.000    2.000\n",
              "Africa/Johannesburg        0.000    1.000\n",
              "Africa/Lusaka              0.000    1.000\n",
              "...                          ...      ...\n",
              "Europe/Warsaw              1.000   15.000\n",
              "Europe/Zurich              4.000    0.000\n",
              "Pacific/Auckland           3.000    8.000\n",
              "Pacific/Honolulu           0.000   36.000\n",
              "Unknown                  245.000  276.000\n",
              "\n",
              "[97 rows x 2 columns]"
            ]
          },
          "metadata": {
            "tags": []
          },
          "execution_count": 152
        },
        {
          "output_type": "execute_result",
          "data": {
            "text/plain": [
              "pandas.core.frame.DataFrame"
            ]
          },
          "metadata": {
            "tags": []
          },
          "execution_count": 152
        }
      ]
    },
    {
      "cell_type": "code",
      "metadata": {
        "id": "fdWQm9h-EeZw",
        "colab_type": "code",
        "colab": {
          "base_uri": "https://localhost:8080/",
          "height": 235
        },
        "outputId": "c4549cd6-bb01-455c-d5c2-8321cc51483f"
      },
      "source": [
        "indexer = agg_counts.sum(1).argsort()\n",
        "type(indexer)\n",
        "indexer # an indexer[0] value tells you the index of the item in the original agg_counts that will be the top in a sorted agg_counts"
      ],
      "execution_count": 153,
      "outputs": [
        {
          "output_type": "execute_result",
          "data": {
            "text/plain": [
              "pandas.core.series.Series"
            ]
          },
          "metadata": {
            "tags": []
          },
          "execution_count": 153
        },
        {
          "output_type": "execute_result",
          "data": {
            "text/plain": [
              "tz\n",
              "Africa/Cairo           75\n",
              "Africa/Casablanca      36\n",
              "Africa/Ceuta           35\n",
              "Africa/Johannesburg    54\n",
              "Africa/Lusaka          33\n",
              "                       ..\n",
              "Europe/Warsaw          14\n",
              "Europe/Zurich          21\n",
              "Pacific/Auckland       11\n",
              "Pacific/Honolulu       96\n",
              "Unknown                28\n",
              "Length: 97, dtype: int64"
            ]
          },
          "metadata": {
            "tags": []
          },
          "execution_count": 153
        }
      ]
    },
    {
      "cell_type": "code",
      "metadata": {
        "id": "pijjiyXaEeZx",
        "colab_type": "code",
        "colab": {
          "base_uri": "https://localhost:8080/",
          "height": 390
        },
        "outputId": "3d26c864-44e3-4b58-98c0-b01297a289fc"
      },
      "source": [
        "count_subset = agg_counts.take(indexer[-10:])\n",
        "count_subset\n",
        "type(count_subset)"
      ],
      "execution_count": 154,
      "outputs": [
        {
          "output_type": "execute_result",
          "data": {
            "text/html": [
              "<div>\n",
              "<style scoped>\n",
              "    .dataframe tbody tr th:only-of-type {\n",
              "        vertical-align: middle;\n",
              "    }\n",
              "\n",
              "    .dataframe tbody tr th {\n",
              "        vertical-align: top;\n",
              "    }\n",
              "\n",
              "    .dataframe thead th {\n",
              "        text-align: right;\n",
              "    }\n",
              "</style>\n",
              "<table border=\"1\" class=\"dataframe\">\n",
              "  <thead>\n",
              "    <tr style=\"text-align: right;\">\n",
              "      <th>os</th>\n",
              "      <th>Not Windows</th>\n",
              "      <th>Windows</th>\n",
              "    </tr>\n",
              "    <tr>\n",
              "      <th>tz</th>\n",
              "      <th></th>\n",
              "      <th></th>\n",
              "    </tr>\n",
              "  </thead>\n",
              "  <tbody>\n",
              "    <tr>\n",
              "      <th>America/Sao_Paulo</th>\n",
              "      <td>13.000</td>\n",
              "      <td>20.000</td>\n",
              "    </tr>\n",
              "    <tr>\n",
              "      <th>Europe/Madrid</th>\n",
              "      <td>16.000</td>\n",
              "      <td>19.000</td>\n",
              "    </tr>\n",
              "    <tr>\n",
              "      <th>Pacific/Honolulu</th>\n",
              "      <td>0.000</td>\n",
              "      <td>36.000</td>\n",
              "    </tr>\n",
              "    <tr>\n",
              "      <th>Asia/Tokyo</th>\n",
              "      <td>2.000</td>\n",
              "      <td>35.000</td>\n",
              "    </tr>\n",
              "    <tr>\n",
              "      <th>Europe/London</th>\n",
              "      <td>43.000</td>\n",
              "      <td>31.000</td>\n",
              "    </tr>\n",
              "    <tr>\n",
              "      <th>America/Denver</th>\n",
              "      <td>132.000</td>\n",
              "      <td>59.000</td>\n",
              "    </tr>\n",
              "    <tr>\n",
              "      <th>America/Los_Angeles</th>\n",
              "      <td>130.000</td>\n",
              "      <td>252.000</td>\n",
              "    </tr>\n",
              "    <tr>\n",
              "      <th>America/Chicago</th>\n",
              "      <td>115.000</td>\n",
              "      <td>285.000</td>\n",
              "    </tr>\n",
              "    <tr>\n",
              "      <th>Unknown</th>\n",
              "      <td>245.000</td>\n",
              "      <td>276.000</td>\n",
              "    </tr>\n",
              "    <tr>\n",
              "      <th>America/New_York</th>\n",
              "      <td>339.000</td>\n",
              "      <td>912.000</td>\n",
              "    </tr>\n",
              "  </tbody>\n",
              "</table>\n",
              "</div>"
            ],
            "text/plain": [
              "os                   Not Windows  Windows\n",
              "tz                                       \n",
              "America/Sao_Paulo         13.000   20.000\n",
              "Europe/Madrid             16.000   19.000\n",
              "Pacific/Honolulu           0.000   36.000\n",
              "Asia/Tokyo                 2.000   35.000\n",
              "Europe/London             43.000   31.000\n",
              "America/Denver           132.000   59.000\n",
              "America/Los_Angeles      130.000  252.000\n",
              "America/Chicago          115.000  285.000\n",
              "Unknown                  245.000  276.000\n",
              "America/New_York         339.000  912.000"
            ]
          },
          "metadata": {
            "tags": []
          },
          "execution_count": 154
        },
        {
          "output_type": "execute_result",
          "data": {
            "text/plain": [
              "pandas.core.frame.DataFrame"
            ]
          },
          "metadata": {
            "tags": []
          },
          "execution_count": 154
        }
      ]
    },
    {
      "cell_type": "code",
      "metadata": {
        "id": "Y3OKpkvuEeZz",
        "colab_type": "code",
        "colab": {
          "base_uri": "https://localhost:8080/",
          "height": 285
        },
        "outputId": "6c4cd674-270d-458d-aeec-2eacc9fd9727"
      },
      "source": [
        "count_subset.plot(kind='barh')"
      ],
      "execution_count": 155,
      "outputs": [
        {
          "output_type": "execute_result",
          "data": {
            "text/plain": [
              "<matplotlib.axes._subplots.AxesSubplot at 0x7fb9afc40630>"
            ]
          },
          "metadata": {
            "tags": []
          },
          "execution_count": 155
        },
        {
          "output_type": "display_data",
          "data": {
            "image/png": "[encoded data removed]",
            "text/plain": [
              "<Figure size 432x288 with 1 Axes>"
            ]
          },
          "metadata": {
            "tags": []
          }
        }
      ]
    },
    {
      "cell_type": "code",
      "metadata": {
        "id": "DuFA4tnCEeZ1",
        "colab_type": "code",
        "colab": {
          "base_uri": "https://localhost:8080/",
          "height": 639
        },
        "outputId": "7b928196-2968-42ba-9f64-abc68eb13711"
      },
      "source": [
        "count_subset = count_subset.stack()\n",
        "count_subset.name = 'total' # name of the series becomes the name of the column after tranforming to a dataframe\n",
        "count_subset = count_subset.reset_index() # transforming to a dataframe\n",
        "count_subset"
      ],
      "execution_count": 156,
      "outputs": [
        {
          "output_type": "execute_result",
          "data": {
            "text/html": [
              "<div>\n",
              "<style scoped>\n",
              "    .dataframe tbody tr th:only-of-type {\n",
              "        vertical-align: middle;\n",
              "    }\n",
              "\n",
              "    .dataframe tbody tr th {\n",
              "        vertical-align: top;\n",
              "    }\n",
              "\n",
              "    .dataframe thead th {\n",
              "        text-align: right;\n",
              "    }\n",
              "</style>\n",
              "<table border=\"1\" class=\"dataframe\">\n",
              "  <thead>\n",
              "    <tr style=\"text-align: right;\">\n",
              "      <th></th>\n",
              "      <th>tz</th>\n",
              "      <th>os</th>\n",
              "      <th>total</th>\n",
              "    </tr>\n",
              "  </thead>\n",
              "  <tbody>\n",
              "    <tr>\n",
              "      <th>0</th>\n",
              "      <td>America/Sao_Paulo</td>\n",
              "      <td>Not Windows</td>\n",
              "      <td>13.000</td>\n",
              "    </tr>\n",
              "    <tr>\n",
              "      <th>1</th>\n",
              "      <td>America/Sao_Paulo</td>\n",
              "      <td>Windows</td>\n",
              "      <td>20.000</td>\n",
              "    </tr>\n",
              "    <tr>\n",
              "      <th>2</th>\n",
              "      <td>Europe/Madrid</td>\n",
              "      <td>Not Windows</td>\n",
              "      <td>16.000</td>\n",
              "    </tr>\n",
              "    <tr>\n",
              "      <th>3</th>\n",
              "      <td>Europe/Madrid</td>\n",
              "      <td>Windows</td>\n",
              "      <td>19.000</td>\n",
              "    </tr>\n",
              "    <tr>\n",
              "      <th>4</th>\n",
              "      <td>Pacific/Honolulu</td>\n",
              "      <td>Not Windows</td>\n",
              "      <td>0.000</td>\n",
              "    </tr>\n",
              "    <tr>\n",
              "      <th>5</th>\n",
              "      <td>Pacific/Honolulu</td>\n",
              "      <td>Windows</td>\n",
              "      <td>36.000</td>\n",
              "    </tr>\n",
              "    <tr>\n",
              "      <th>6</th>\n",
              "      <td>Asia/Tokyo</td>\n",
              "      <td>Not Windows</td>\n",
              "      <td>2.000</td>\n",
              "    </tr>\n",
              "    <tr>\n",
              "      <th>7</th>\n",
              "      <td>Asia/Tokyo</td>\n",
              "      <td>Windows</td>\n",
              "      <td>35.000</td>\n",
              "    </tr>\n",
              "    <tr>\n",
              "      <th>8</th>\n",
              "      <td>Europe/London</td>\n",
              "      <td>Not Windows</td>\n",
              "      <td>43.000</td>\n",
              "    </tr>\n",
              "    <tr>\n",
              "      <th>9</th>\n",
              "      <td>Europe/London</td>\n",
              "      <td>Windows</td>\n",
              "      <td>31.000</td>\n",
              "    </tr>\n",
              "    <tr>\n",
              "      <th>10</th>\n",
              "      <td>America/Denver</td>\n",
              "      <td>Not Windows</td>\n",
              "      <td>132.000</td>\n",
              "    </tr>\n",
              "    <tr>\n",
              "      <th>11</th>\n",
              "      <td>America/Denver</td>\n",
              "      <td>Windows</td>\n",
              "      <td>59.000</td>\n",
              "    </tr>\n",
              "    <tr>\n",
              "      <th>12</th>\n",
              "      <td>America/Los_Angeles</td>\n",
              "      <td>Not Windows</td>\n",
              "      <td>130.000</td>\n",
              "    </tr>\n",
              "    <tr>\n",
              "      <th>13</th>\n",
              "      <td>America/Los_Angeles</td>\n",
              "      <td>Windows</td>\n",
              "      <td>252.000</td>\n",
              "    </tr>\n",
              "    <tr>\n",
              "      <th>14</th>\n",
              "      <td>America/Chicago</td>\n",
              "      <td>Not Windows</td>\n",
              "      <td>115.000</td>\n",
              "    </tr>\n",
              "    <tr>\n",
              "      <th>15</th>\n",
              "      <td>America/Chicago</td>\n",
              "      <td>Windows</td>\n",
              "      <td>285.000</td>\n",
              "    </tr>\n",
              "    <tr>\n",
              "      <th>16</th>\n",
              "      <td>Unknown</td>\n",
              "      <td>Not Windows</td>\n",
              "      <td>245.000</td>\n",
              "    </tr>\n",
              "    <tr>\n",
              "      <th>17</th>\n",
              "      <td>Unknown</td>\n",
              "      <td>Windows</td>\n",
              "      <td>276.000</td>\n",
              "    </tr>\n",
              "    <tr>\n",
              "      <th>18</th>\n",
              "      <td>America/New_York</td>\n",
              "      <td>Not Windows</td>\n",
              "      <td>339.000</td>\n",
              "    </tr>\n",
              "    <tr>\n",
              "      <th>19</th>\n",
              "      <td>America/New_York</td>\n",
              "      <td>Windows</td>\n",
              "      <td>912.000</td>\n",
              "    </tr>\n",
              "  </tbody>\n",
              "</table>\n",
              "</div>"
            ],
            "text/plain": [
              "                     tz           os   total\n",
              "0     America/Sao_Paulo  Not Windows  13.000\n",
              "1     America/Sao_Paulo      Windows  20.000\n",
              "2         Europe/Madrid  Not Windows  16.000\n",
              "3         Europe/Madrid      Windows  19.000\n",
              "4      Pacific/Honolulu  Not Windows   0.000\n",
              "5      Pacific/Honolulu      Windows  36.000\n",
              "6            Asia/Tokyo  Not Windows   2.000\n",
              "7            Asia/Tokyo      Windows  35.000\n",
              "8         Europe/London  Not Windows  43.000\n",
              "9         Europe/London      Windows  31.000\n",
              "10       America/Denver  Not Windows 132.000\n",
              "11       America/Denver      Windows  59.000\n",
              "12  America/Los_Angeles  Not Windows 130.000\n",
              "13  America/Los_Angeles      Windows 252.000\n",
              "14      America/Chicago  Not Windows 115.000\n",
              "15      America/Chicago      Windows 285.000\n",
              "16              Unknown  Not Windows 245.000\n",
              "17              Unknown      Windows 276.000\n",
              "18     America/New_York  Not Windows 339.000\n",
              "19     America/New_York      Windows 912.000"
            ]
          },
          "metadata": {
            "tags": []
          },
          "execution_count": 156
        }
      ]
    },
    {
      "cell_type": "code",
      "metadata": {
        "id": "RmrgOM_wEeZ2",
        "colab_type": "code",
        "colab": {}
      },
      "source": [
        "count_subset_tranformed = count_subset.groupby('tz').transform(lambda x: x / x.sum())\n",
        "count_subset_tranformed.columns = ['norm_total']"
      ],
      "execution_count": 157,
      "outputs": []
    },
    {
      "cell_type": "code",
      "metadata": {
        "id": "zQziYbDvEeZ4",
        "colab_type": "code",
        "colab": {
          "base_uri": "https://localhost:8080/",
          "height": 639
        },
        "outputId": "30e3f1c6-ab69-44dc-bad2-201d265ae957"
      },
      "source": [
        "count_subset = pd.concat([count_subset, count_subset_tranformed], axis=1)\n",
        "count_subset"
      ],
      "execution_count": 158,
      "outputs": [
        {
          "output_type": "execute_result",
          "data": {
            "text/html": [
              "<div>\n",
              "<style scoped>\n",
              "    .dataframe tbody tr th:only-of-type {\n",
              "        vertical-align: middle;\n",
              "    }\n",
              "\n",
              "    .dataframe tbody tr th {\n",
              "        vertical-align: top;\n",
              "    }\n",
              "\n",
              "    .dataframe thead th {\n",
              "        text-align: right;\n",
              "    }\n",
              "</style>\n",
              "<table border=\"1\" class=\"dataframe\">\n",
              "  <thead>\n",
              "    <tr style=\"text-align: right;\">\n",
              "      <th></th>\n",
              "      <th>tz</th>\n",
              "      <th>os</th>\n",
              "      <th>total</th>\n",
              "      <th>norm_total</th>\n",
              "    </tr>\n",
              "  </thead>\n",
              "  <tbody>\n",
              "    <tr>\n",
              "      <th>0</th>\n",
              "      <td>America/Sao_Paulo</td>\n",
              "      <td>Not Windows</td>\n",
              "      <td>13.000</td>\n",
              "      <td>0.394</td>\n",
              "    </tr>\n",
              "    <tr>\n",
              "      <th>1</th>\n",
              "      <td>America/Sao_Paulo</td>\n",
              "      <td>Windows</td>\n",
              "      <td>20.000</td>\n",
              "      <td>0.606</td>\n",
              "    </tr>\n",
              "    <tr>\n",
              "      <th>2</th>\n",
              "      <td>Europe/Madrid</td>\n",
              "      <td>Not Windows</td>\n",
              "      <td>16.000</td>\n",
              "      <td>0.457</td>\n",
              "    </tr>\n",
              "    <tr>\n",
              "      <th>3</th>\n",
              "      <td>Europe/Madrid</td>\n",
              "      <td>Windows</td>\n",
              "      <td>19.000</td>\n",
              "      <td>0.543</td>\n",
              "    </tr>\n",
              "    <tr>\n",
              "      <th>4</th>\n",
              "      <td>Pacific/Honolulu</td>\n",
              "      <td>Not Windows</td>\n",
              "      <td>0.000</td>\n",
              "      <td>0.000</td>\n",
              "    </tr>\n",
              "    <tr>\n",
              "      <th>5</th>\n",
              "      <td>Pacific/Honolulu</td>\n",
              "      <td>Windows</td>\n",
              "      <td>36.000</td>\n",
              "      <td>1.000</td>\n",
              "    </tr>\n",
              "    <tr>\n",
              "      <th>6</th>\n",
              "      <td>Asia/Tokyo</td>\n",
              "      <td>Not Windows</td>\n",
              "      <td>2.000</td>\n",
              "      <td>0.054</td>\n",
              "    </tr>\n",
              "    <tr>\n",
              "      <th>7</th>\n",
              "      <td>Asia/Tokyo</td>\n",
              "      <td>Windows</td>\n",
              "      <td>35.000</td>\n",
              "      <td>0.946</td>\n",
              "    </tr>\n",
              "    <tr>\n",
              "      <th>8</th>\n",
              "      <td>Europe/London</td>\n",
              "      <td>Not Windows</td>\n",
              "      <td>43.000</td>\n",
              "      <td>0.581</td>\n",
              "    </tr>\n",
              "    <tr>\n",
              "      <th>9</th>\n",
              "      <td>Europe/London</td>\n",
              "      <td>Windows</td>\n",
              "      <td>31.000</td>\n",
              "      <td>0.419</td>\n",
              "    </tr>\n",
              "    <tr>\n",
              "      <th>10</th>\n",
              "      <td>America/Denver</td>\n",
              "      <td>Not Windows</td>\n",
              "      <td>132.000</td>\n",
              "      <td>0.691</td>\n",
              "    </tr>\n",
              "    <tr>\n",
              "      <th>11</th>\n",
              "      <td>America/Denver</td>\n",
              "      <td>Windows</td>\n",
              "      <td>59.000</td>\n",
              "      <td>0.309</td>\n",
              "    </tr>\n",
              "    <tr>\n",
              "      <th>12</th>\n",
              "      <td>America/Los_Angeles</td>\n",
              "      <td>Not Windows</td>\n",
              "      <td>130.000</td>\n",
              "      <td>0.340</td>\n",
              "    </tr>\n",
              "    <tr>\n",
              "      <th>13</th>\n",
              "      <td>America/Los_Angeles</td>\n",
              "      <td>Windows</td>\n",
              "      <td>252.000</td>\n",
              "      <td>0.660</td>\n",
              "    </tr>\n",
              "    <tr>\n",
              "      <th>14</th>\n",
              "      <td>America/Chicago</td>\n",
              "      <td>Not Windows</td>\n",
              "      <td>115.000</td>\n",
              "      <td>0.287</td>\n",
              "    </tr>\n",
              "    <tr>\n",
              "      <th>15</th>\n",
              "      <td>America/Chicago</td>\n",
              "      <td>Windows</td>\n",
              "      <td>285.000</td>\n",
              "      <td>0.713</td>\n",
              "    </tr>\n",
              "    <tr>\n",
              "      <th>16</th>\n",
              "      <td>Unknown</td>\n",
              "      <td>Not Windows</td>\n",
              "      <td>245.000</td>\n",
              "      <td>0.470</td>\n",
              "    </tr>\n",
              "    <tr>\n",
              "      <th>17</th>\n",
              "      <td>Unknown</td>\n",
              "      <td>Windows</td>\n",
              "      <td>276.000</td>\n",
              "      <td>0.530</td>\n",
              "    </tr>\n",
              "    <tr>\n",
              "      <th>18</th>\n",
              "      <td>America/New_York</td>\n",
              "      <td>Not Windows</td>\n",
              "      <td>339.000</td>\n",
              "      <td>0.271</td>\n",
              "    </tr>\n",
              "    <tr>\n",
              "      <th>19</th>\n",
              "      <td>America/New_York</td>\n",
              "      <td>Windows</td>\n",
              "      <td>912.000</td>\n",
              "      <td>0.729</td>\n",
              "    </tr>\n",
              "  </tbody>\n",
              "</table>\n",
              "</div>"
            ],
            "text/plain": [
              "                     tz           os   total  norm_total\n",
              "0     America/Sao_Paulo  Not Windows  13.000       0.394\n",
              "1     America/Sao_Paulo      Windows  20.000       0.606\n",
              "2         Europe/Madrid  Not Windows  16.000       0.457\n",
              "3         Europe/Madrid      Windows  19.000       0.543\n",
              "4      Pacific/Honolulu  Not Windows   0.000       0.000\n",
              "5      Pacific/Honolulu      Windows  36.000       1.000\n",
              "6            Asia/Tokyo  Not Windows   2.000       0.054\n",
              "7            Asia/Tokyo      Windows  35.000       0.946\n",
              "8         Europe/London  Not Windows  43.000       0.581\n",
              "9         Europe/London      Windows  31.000       0.419\n",
              "10       America/Denver  Not Windows 132.000       0.691\n",
              "11       America/Denver      Windows  59.000       0.309\n",
              "12  America/Los_Angeles  Not Windows 130.000       0.340\n",
              "13  America/Los_Angeles      Windows 252.000       0.660\n",
              "14      America/Chicago  Not Windows 115.000       0.287\n",
              "15      America/Chicago      Windows 285.000       0.713\n",
              "16              Unknown  Not Windows 245.000       0.470\n",
              "17              Unknown      Windows 276.000       0.530\n",
              "18     America/New_York  Not Windows 339.000       0.271\n",
              "19     America/New_York      Windows 912.000       0.729"
            ]
          },
          "metadata": {
            "tags": []
          },
          "execution_count": 158
        }
      ]
    },
    {
      "cell_type": "code",
      "metadata": {
        "id": "M-JQZkLXEeZ5",
        "colab_type": "code",
        "colab": {
          "base_uri": "https://localhost:8080/",
          "height": 302
        },
        "outputId": "ea1ef5cb-ec26-4100-88e9-58d885bb6ace"
      },
      "source": [
        "sns.barplot(x='norm_total', y='tz', hue='os', data=count_subset)"
      ],
      "execution_count": 159,
      "outputs": [
        {
          "output_type": "execute_result",
          "data": {
            "text/plain": [
              "<matplotlib.axes._subplots.AxesSubplot at 0x7fb9afb7c0b8>"
            ]
          },
          "metadata": {
            "tags": []
          },
          "execution_count": 159
        },
        {
          "output_type": "display_data",
          "data": {
            "image/png": "[encoded data removed]",
            "text/plain": [
              "<Figure size 432x288 with 1 Axes>"
            ]
          },
          "metadata": {
            "tags": []
          }
        }
      ]
    },
    {
      "cell_type": "markdown",
      "metadata": {
        "id": "oDD_QcxOEeZ7",
        "colab_type": "text"
      },
      "source": [
        "# 14.2 MovieLens 1M Dataset"
      ]
    },
    {
      "cell_type": "code",
      "metadata": {
        "id": "P1TfGTtHEeZ7",
        "colab_type": "code",
        "colab": {
          "base_uri": "https://localhost:8080/",
          "height": 673
        },
        "outputId": "f635dd19-a908-4d43-b5b8-382959bf0395"
      },
      "source": [
        "# Make display smaller\n",
        "pd.options.display.max_rows = 10\n",
        "\n",
        "unames = ['user_id', 'gender', 'age', 'occupation', 'zip']\n",
        "users = pd.read_table('datasets/movielens/users.dat', sep='::', header=None, names=unames)\n",
        "\n",
        "rnames = ['user_id', 'movie_id', 'rating', 'timestamp']\n",
        "ratings = pd.read_table('datasets/movielens/ratings.dat', sep='::', header=None, names=rnames)\n",
        "\n",
        "mnames = ['movie_id', 'title', 'genres']\n",
        "movies = pd.read_table('datasets/movielens/movies.dat', sep='::', header=None, names=mnames)\n",
        "\n",
        "users[:5]\n",
        "ratings[:5]\n",
        "movies[:5]"
      ],
      "execution_count": 160,
      "outputs": [
        {
          "output_type": "stream",
          "text": [
            "/usr/local/lib/python3.6/dist-packages/ipykernel_launcher.py:5: ParserWarning: Falling back to the 'python' engine because the 'c' engine does not support regex separators (separators > 1 char and different from '\\s+' are interpreted as regex); you can avoid this warning by specifying engine='python'.\n",
            "  \"\"\"\n",
            "/usr/local/lib/python3.6/dist-packages/ipykernel_launcher.py:8: ParserWarning: Falling back to the 'python' engine because the 'c' engine does not support regex separators (separators > 1 char and different from '\\s+' are interpreted as regex); you can avoid this warning by specifying engine='python'.\n",
            "  \n",
            "/usr/local/lib/python3.6/dist-packages/ipykernel_launcher.py:11: ParserWarning: Falling back to the 'python' engine because the 'c' engine does not support regex separators (separators > 1 char and different from '\\s+' are interpreted as regex); you can avoid this warning by specifying engine='python'.\n",
            "  # This is added back by InteractiveShellApp.init_path()\n"
          ],
          "name": "stderr"
        },
        {
          "output_type": "execute_result",
          "data": {
            "text/html": [
              "<div>\n",
              "<style scoped>\n",
              "    .dataframe tbody tr th:only-of-type {\n",
              "        vertical-align: middle;\n",
              "    }\n",
              "\n",
              "    .dataframe tbody tr th {\n",
              "        vertical-align: top;\n",
              "    }\n",
              "\n",
              "    .dataframe thead th {\n",
              "        text-align: right;\n",
              "    }\n",
              "</style>\n",
              "<table border=\"1\" class=\"dataframe\">\n",
              "  <thead>\n",
              "    <tr style=\"text-align: right;\">\n",
              "      <th></th>\n",
              "      <th>user_id</th>\n",
              "      <th>gender</th>\n",
              "      <th>age</th>\n",
              "      <th>occupation</th>\n",
              "      <th>zip</th>\n",
              "    </tr>\n",
              "  </thead>\n",
              "  <tbody>\n",
              "    <tr>\n",
              "      <th>0</th>\n",
              "      <td>1</td>\n",
              "      <td>F</td>\n",
              "      <td>1</td>\n",
              "      <td>10</td>\n",
              "      <td>48067</td>\n",
              "    </tr>\n",
              "    <tr>\n",
              "      <th>1</th>\n",
              "      <td>2</td>\n",
              "      <td>M</td>\n",
              "      <td>56</td>\n",
              "      <td>16</td>\n",
              "      <td>70072</td>\n",
              "    </tr>\n",
              "    <tr>\n",
              "      <th>2</th>\n",
              "      <td>3</td>\n",
              "      <td>M</td>\n",
              "      <td>25</td>\n",
              "      <td>15</td>\n",
              "      <td>55117</td>\n",
              "    </tr>\n",
              "    <tr>\n",
              "      <th>3</th>\n",
              "      <td>4</td>\n",
              "      <td>M</td>\n",
              "      <td>45</td>\n",
              "      <td>7</td>\n",
              "      <td>02460</td>\n",
              "    </tr>\n",
              "    <tr>\n",
              "      <th>4</th>\n",
              "      <td>5</td>\n",
              "      <td>M</td>\n",
              "      <td>25</td>\n",
              "      <td>20</td>\n",
              "      <td>55455</td>\n",
              "    </tr>\n",
              "  </tbody>\n",
              "</table>\n",
              "</div>"
            ],
            "text/plain": [
              "   user_id gender  age  occupation    zip\n",
              "0        1      F    1          10  48067\n",
              "1        2      M   56          16  70072\n",
              "2        3      M   25          15  55117\n",
              "3        4      M   45           7  02460\n",
              "4        5      M   25          20  55455"
            ]
          },
          "metadata": {
            "tags": []
          },
          "execution_count": 160
        },
        {
          "output_type": "execute_result",
          "data": {
            "text/html": [
              "<div>\n",
              "<style scoped>\n",
              "    .dataframe tbody tr th:only-of-type {\n",
              "        vertical-align: middle;\n",
              "    }\n",
              "\n",
              "    .dataframe tbody tr th {\n",
              "        vertical-align: top;\n",
              "    }\n",
              "\n",
              "    .dataframe thead th {\n",
              "        text-align: right;\n",
              "    }\n",
              "</style>\n",
              "<table border=\"1\" class=\"dataframe\">\n",
              "  <thead>\n",
              "    <tr style=\"text-align: right;\">\n",
              "      <th></th>\n",
              "      <th>user_id</th>\n",
              "      <th>movie_id</th>\n",
              "      <th>rating</th>\n",
              "      <th>timestamp</th>\n",
              "    </tr>\n",
              "  </thead>\n",
              "  <tbody>\n",
              "    <tr>\n",
              "      <th>0</th>\n",
              "      <td>1</td>\n",
              "      <td>1193</td>\n",
              "      <td>5</td>\n",
              "      <td>978300760</td>\n",
              "    </tr>\n",
              "    <tr>\n",
              "      <th>1</th>\n",
              "      <td>1</td>\n",
              "      <td>661</td>\n",
              "      <td>3</td>\n",
              "      <td>978302109</td>\n",
              "    </tr>\n",
              "    <tr>\n",
              "      <th>2</th>\n",
              "      <td>1</td>\n",
              "      <td>914</td>\n",
              "      <td>3</td>\n",
              "      <td>978301968</td>\n",
              "    </tr>\n",
              "    <tr>\n",
              "      <th>3</th>\n",
              "      <td>1</td>\n",
              "      <td>3408</td>\n",
              "      <td>4</td>\n",
              "      <td>978300275</td>\n",
              "    </tr>\n",
              "    <tr>\n",
              "      <th>4</th>\n",
              "      <td>1</td>\n",
              "      <td>2355</td>\n",
              "      <td>5</td>\n",
              "      <td>978824291</td>\n",
              "    </tr>\n",
              "  </tbody>\n",
              "</table>\n",
              "</div>"
            ],
            "text/plain": [
              "   user_id  movie_id  rating  timestamp\n",
              "0        1      1193       5  978300760\n",
              "1        1       661       3  978302109\n",
              "2        1       914       3  978301968\n",
              "3        1      3408       4  978300275\n",
              "4        1      2355       5  978824291"
            ]
          },
          "metadata": {
            "tags": []
          },
          "execution_count": 160
        },
        {
          "output_type": "execute_result",
          "data": {
            "text/html": [
              "<div>\n",
              "<style scoped>\n",
              "    .dataframe tbody tr th:only-of-type {\n",
              "        vertical-align: middle;\n",
              "    }\n",
              "\n",
              "    .dataframe tbody tr th {\n",
              "        vertical-align: top;\n",
              "    }\n",
              "\n",
              "    .dataframe thead th {\n",
              "        text-align: right;\n",
              "    }\n",
              "</style>\n",
              "<table border=\"1\" class=\"dataframe\">\n",
              "  <thead>\n",
              "    <tr style=\"text-align: right;\">\n",
              "      <th></th>\n",
              "      <th>movie_id</th>\n",
              "      <th>title</th>\n",
              "      <th>genres</th>\n",
              "    </tr>\n",
              "  </thead>\n",
              "  <tbody>\n",
              "    <tr>\n",
              "      <th>0</th>\n",
              "      <td>1</td>\n",
              "      <td>Toy Story (1995)</td>\n",
              "      <td>Animation|Children's|Comedy</td>\n",
              "    </tr>\n",
              "    <tr>\n",
              "      <th>1</th>\n",
              "      <td>2</td>\n",
              "      <td>Jumanji (1995)</td>\n",
              "      <td>Adventure|Children's|Fantasy</td>\n",
              "    </tr>\n",
              "    <tr>\n",
              "      <th>2</th>\n",
              "      <td>3</td>\n",
              "      <td>Grumpier Old Men (1995)</td>\n",
              "      <td>Comedy|Romance</td>\n",
              "    </tr>\n",
              "    <tr>\n",
              "      <th>3</th>\n",
              "      <td>4</td>\n",
              "      <td>Waiting to Exhale (1995)</td>\n",
              "      <td>Comedy|Drama</td>\n",
              "    </tr>\n",
              "    <tr>\n",
              "      <th>4</th>\n",
              "      <td>5</td>\n",
              "      <td>Father of the Bride Part II (1995)</td>\n",
              "      <td>Comedy</td>\n",
              "    </tr>\n",
              "  </tbody>\n",
              "</table>\n",
              "</div>"
            ],
            "text/plain": [
              "   movie_id                               title                        genres\n",
              "0         1                    Toy Story (1995)   Animation|Children's|Comedy\n",
              "1         2                      Jumanji (1995)  Adventure|Children's|Fantasy\n",
              "2         3             Grumpier Old Men (1995)                Comedy|Romance\n",
              "3         4            Waiting to Exhale (1995)                  Comedy|Drama\n",
              "4         5  Father of the Bride Part II (1995)                        Comedy"
            ]
          },
          "metadata": {
            "tags": []
          },
          "execution_count": 160
        }
      ]
    },
    {
      "cell_type": "code",
      "metadata": {
        "id": "AVDu4kX8EeZ9",
        "colab_type": "code",
        "colab": {
          "base_uri": "https://localhost:8080/",
          "height": 402
        },
        "outputId": "852465c3-8eb2-47d4-cdaa-dab3c594cede"
      },
      "source": [
        "data = pd.merge(pd.merge(ratings, users), movies)\n",
        "data"
      ],
      "execution_count": 161,
      "outputs": [
        {
          "output_type": "execute_result",
          "data": {
            "text/html": [
              "<div>\n",
              "<style scoped>\n",
              "    .dataframe tbody tr th:only-of-type {\n",
              "        vertical-align: middle;\n",
              "    }\n",
              "\n",
              "    .dataframe tbody tr th {\n",
              "        vertical-align: top;\n",
              "    }\n",
              "\n",
              "    .dataframe thead th {\n",
              "        text-align: right;\n",
              "    }\n",
              "</style>\n",
              "<table border=\"1\" class=\"dataframe\">\n",
              "  <thead>\n",
              "    <tr style=\"text-align: right;\">\n",
              "      <th></th>\n",
              "      <th>user_id</th>\n",
              "      <th>movie_id</th>\n",
              "      <th>rating</th>\n",
              "      <th>timestamp</th>\n",
              "      <th>gender</th>\n",
              "      <th>age</th>\n",
              "      <th>occupation</th>\n",
              "      <th>zip</th>\n",
              "      <th>title</th>\n",
              "      <th>genres</th>\n",
              "    </tr>\n",
              "  </thead>\n",
              "  <tbody>\n",
              "    <tr>\n",
              "      <th>0</th>\n",
              "      <td>1</td>\n",
              "      <td>1193</td>\n",
              "      <td>5</td>\n",
              "      <td>978300760</td>\n",
              "      <td>F</td>\n",
              "      <td>1</td>\n",
              "      <td>10</td>\n",
              "      <td>48067</td>\n",
              "      <td>One Flew Over the Cuckoo's Nest (1975)</td>\n",
              "      <td>Drama</td>\n",
              "    </tr>\n",
              "    <tr>\n",
              "      <th>1</th>\n",
              "      <td>2</td>\n",
              "      <td>1193</td>\n",
              "      <td>5</td>\n",
              "      <td>978298413</td>\n",
              "      <td>M</td>\n",
              "      <td>56</td>\n",
              "      <td>16</td>\n",
              "      <td>70072</td>\n",
              "      <td>One Flew Over the Cuckoo's Nest (1975)</td>\n",
              "      <td>Drama</td>\n",
              "    </tr>\n",
              "    <tr>\n",
              "      <th>2</th>\n",
              "      <td>12</td>\n",
              "      <td>1193</td>\n",
              "      <td>4</td>\n",
              "      <td>978220179</td>\n",
              "      <td>M</td>\n",
              "      <td>25</td>\n",
              "      <td>12</td>\n",
              "      <td>32793</td>\n",
              "      <td>One Flew Over the Cuckoo's Nest (1975)</td>\n",
              "      <td>Drama</td>\n",
              "    </tr>\n",
              "    <tr>\n",
              "      <th>3</th>\n",
              "      <td>15</td>\n",
              "      <td>1193</td>\n",
              "      <td>4</td>\n",
              "      <td>978199279</td>\n",
              "      <td>M</td>\n",
              "      <td>25</td>\n",
              "      <td>7</td>\n",
              "      <td>22903</td>\n",
              "      <td>One Flew Over the Cuckoo's Nest (1975)</td>\n",
              "      <td>Drama</td>\n",
              "    </tr>\n",
              "    <tr>\n",
              "      <th>4</th>\n",
              "      <td>17</td>\n",
              "      <td>1193</td>\n",
              "      <td>5</td>\n",
              "      <td>978158471</td>\n",
              "      <td>M</td>\n",
              "      <td>50</td>\n",
              "      <td>1</td>\n",
              "      <td>95350</td>\n",
              "      <td>One Flew Over the Cuckoo's Nest (1975)</td>\n",
              "      <td>Drama</td>\n",
              "    </tr>\n",
              "    <tr>\n",
              "      <th>...</th>\n",
              "      <td>...</td>\n",
              "      <td>...</td>\n",
              "      <td>...</td>\n",
              "      <td>...</td>\n",
              "      <td>...</td>\n",
              "      <td>...</td>\n",
              "      <td>...</td>\n",
              "      <td>...</td>\n",
              "      <td>...</td>\n",
              "      <td>...</td>\n",
              "    </tr>\n",
              "    <tr>\n",
              "      <th>1000204</th>\n",
              "      <td>5949</td>\n",
              "      <td>2198</td>\n",
              "      <td>5</td>\n",
              "      <td>958846401</td>\n",
              "      <td>M</td>\n",
              "      <td>18</td>\n",
              "      <td>17</td>\n",
              "      <td>47901</td>\n",
              "      <td>Modulations (1998)</td>\n",
              "      <td>Documentary</td>\n",
              "    </tr>\n",
              "    <tr>\n",
              "      <th>1000205</th>\n",
              "      <td>5675</td>\n",
              "      <td>2703</td>\n",
              "      <td>3</td>\n",
              "      <td>976029116</td>\n",
              "      <td>M</td>\n",
              "      <td>35</td>\n",
              "      <td>14</td>\n",
              "      <td>30030</td>\n",
              "      <td>Broken Vessels (1998)</td>\n",
              "      <td>Drama</td>\n",
              "    </tr>\n",
              "    <tr>\n",
              "      <th>1000206</th>\n",
              "      <td>5780</td>\n",
              "      <td>2845</td>\n",
              "      <td>1</td>\n",
              "      <td>958153068</td>\n",
              "      <td>M</td>\n",
              "      <td>18</td>\n",
              "      <td>17</td>\n",
              "      <td>92886</td>\n",
              "      <td>White Boys (1999)</td>\n",
              "      <td>Drama</td>\n",
              "    </tr>\n",
              "    <tr>\n",
              "      <th>1000207</th>\n",
              "      <td>5851</td>\n",
              "      <td>3607</td>\n",
              "      <td>5</td>\n",
              "      <td>957756608</td>\n",
              "      <td>F</td>\n",
              "      <td>18</td>\n",
              "      <td>20</td>\n",
              "      <td>55410</td>\n",
              "      <td>One Little Indian (1973)</td>\n",
              "      <td>Comedy|Drama|Western</td>\n",
              "    </tr>\n",
              "    <tr>\n",
              "      <th>1000208</th>\n",
              "      <td>5938</td>\n",
              "      <td>2909</td>\n",
              "      <td>4</td>\n",
              "      <td>957273353</td>\n",
              "      <td>M</td>\n",
              "      <td>25</td>\n",
              "      <td>1</td>\n",
              "      <td>35401</td>\n",
              "      <td>Five Wives, Three Secretaries and Me (1998)</td>\n",
              "      <td>Documentary</td>\n",
              "    </tr>\n",
              "  </tbody>\n",
              "</table>\n",
              "<p>1000209 rows × 10 columns</p>\n",
              "</div>"
            ],
            "text/plain": [
              "         user_id  movie_id  rating  timestamp gender  age  occupation    zip  \\\n",
              "0              1      1193       5  978300760      F    1          10  48067   \n",
              "1              2      1193       5  978298413      M   56          16  70072   \n",
              "2             12      1193       4  978220179      M   25          12  32793   \n",
              "3             15      1193       4  978199279      M   25           7  22903   \n",
              "4             17      1193       5  978158471      M   50           1  95350   \n",
              "...          ...       ...     ...        ...    ...  ...         ...    ...   \n",
              "1000204     5949      2198       5  958846401      M   18          17  47901   \n",
              "1000205     5675      2703       3  976029116      M   35          14  30030   \n",
              "1000206     5780      2845       1  958153068      M   18          17  92886   \n",
              "1000207     5851      3607       5  957756608      F   18          20  55410   \n",
              "1000208     5938      2909       4  957273353      M   25           1  35401   \n",
              "\n",
              "                                               title                genres  \n",
              "0             One Flew Over the Cuckoo's Nest (1975)                 Drama  \n",
              "1             One Flew Over the Cuckoo's Nest (1975)                 Drama  \n",
              "2             One Flew Over the Cuckoo's Nest (1975)                 Drama  \n",
              "3             One Flew Over the Cuckoo's Nest (1975)                 Drama  \n",
              "4             One Flew Over the Cuckoo's Nest (1975)                 Drama  \n",
              "...                                              ...                   ...  \n",
              "1000204                           Modulations (1998)           Documentary  \n",
              "1000205                        Broken Vessels (1998)                 Drama  \n",
              "1000206                            White Boys (1999)                 Drama  \n",
              "1000207                     One Little Indian (1973)  Comedy|Drama|Western  \n",
              "1000208  Five Wives, Three Secretaries and Me (1998)           Documentary  \n",
              "\n",
              "[1000209 rows x 10 columns]"
            ]
          },
          "metadata": {
            "tags": []
          },
          "execution_count": 161
        }
      ]
    },
    {
      "cell_type": "code",
      "metadata": {
        "id": "W5-RRssREeZ_",
        "colab_type": "code",
        "colab": {
          "base_uri": "https://localhost:8080/",
          "height": 461
        },
        "outputId": "a69e6933-4632-4d87-8297-f7e3506de668"
      },
      "source": [
        "mean_ratings = pd.pivot_table(data, values=['rating'], index='title', columns='gender')\n",
        "mean_ratings"
      ],
      "execution_count": 162,
      "outputs": [
        {
          "output_type": "execute_result",
          "data": {
            "text/html": [
              "<div>\n",
              "<style scoped>\n",
              "    .dataframe tbody tr th:only-of-type {\n",
              "        vertical-align: middle;\n",
              "    }\n",
              "\n",
              "    .dataframe tbody tr th {\n",
              "        vertical-align: top;\n",
              "    }\n",
              "\n",
              "    .dataframe thead tr th {\n",
              "        text-align: left;\n",
              "    }\n",
              "\n",
              "    .dataframe thead tr:last-of-type th {\n",
              "        text-align: right;\n",
              "    }\n",
              "</style>\n",
              "<table border=\"1\" class=\"dataframe\">\n",
              "  <thead>\n",
              "    <tr>\n",
              "      <th></th>\n",
              "      <th colspan=\"2\" halign=\"left\">rating</th>\n",
              "    </tr>\n",
              "    <tr>\n",
              "      <th>gender</th>\n",
              "      <th>F</th>\n",
              "      <th>M</th>\n",
              "    </tr>\n",
              "    <tr>\n",
              "      <th>title</th>\n",
              "      <th></th>\n",
              "      <th></th>\n",
              "    </tr>\n",
              "  </thead>\n",
              "  <tbody>\n",
              "    <tr>\n",
              "      <th>$1,000,000 Duck (1971)</th>\n",
              "      <td>3.375</td>\n",
              "      <td>2.762</td>\n",
              "    </tr>\n",
              "    <tr>\n",
              "      <th>'Night Mother (1986)</th>\n",
              "      <td>3.389</td>\n",
              "      <td>3.353</td>\n",
              "    </tr>\n",
              "    <tr>\n",
              "      <th>'Til There Was You (1997)</th>\n",
              "      <td>2.676</td>\n",
              "      <td>2.733</td>\n",
              "    </tr>\n",
              "    <tr>\n",
              "      <th>'burbs, The (1989)</th>\n",
              "      <td>2.793</td>\n",
              "      <td>2.962</td>\n",
              "    </tr>\n",
              "    <tr>\n",
              "      <th>...And Justice for All (1979)</th>\n",
              "      <td>3.829</td>\n",
              "      <td>3.689</td>\n",
              "    </tr>\n",
              "    <tr>\n",
              "      <th>...</th>\n",
              "      <td>...</td>\n",
              "      <td>...</td>\n",
              "    </tr>\n",
              "    <tr>\n",
              "      <th>Zed &amp; Two Noughts, A (1985)</th>\n",
              "      <td>3.500</td>\n",
              "      <td>3.381</td>\n",
              "    </tr>\n",
              "    <tr>\n",
              "      <th>Zero Effect (1998)</th>\n",
              "      <td>3.864</td>\n",
              "      <td>3.723</td>\n",
              "    </tr>\n",
              "    <tr>\n",
              "      <th>Zero Kelvin (Kj�rlighetens kj�tere) (1995)</th>\n",
              "      <td>nan</td>\n",
              "      <td>3.500</td>\n",
              "    </tr>\n",
              "    <tr>\n",
              "      <th>Zeus and Roxanne (1997)</th>\n",
              "      <td>2.778</td>\n",
              "      <td>2.357</td>\n",
              "    </tr>\n",
              "    <tr>\n",
              "      <th>eXistenZ (1999)</th>\n",
              "      <td>3.099</td>\n",
              "      <td>3.289</td>\n",
              "    </tr>\n",
              "  </tbody>\n",
              "</table>\n",
              "<p>3706 rows × 2 columns</p>\n",
              "</div>"
            ],
            "text/plain": [
              "                                           rating      \n",
              "gender                                          F     M\n",
              "title                                                  \n",
              "$1,000,000 Duck (1971)                      3.375 2.762\n",
              "'Night Mother (1986)                        3.389 3.353\n",
              "'Til There Was You (1997)                   2.676 2.733\n",
              "'burbs, The (1989)                          2.793 2.962\n",
              "...And Justice for All (1979)               3.829 3.689\n",
              "...                                           ...   ...\n",
              "Zed & Two Noughts, A (1985)                 3.500 3.381\n",
              "Zero Effect (1998)                          3.864 3.723\n",
              "Zero Kelvin (Kj�rlighetens kj�tere) (1995)    nan 3.500\n",
              "Zeus and Roxanne (1997)                     2.778 2.357\n",
              "eXistenZ (1999)                             3.099 3.289\n",
              "\n",
              "[3706 rows x 2 columns]"
            ]
          },
          "metadata": {
            "tags": []
          },
          "execution_count": 162
        }
      ]
    },
    {
      "cell_type": "code",
      "metadata": {
        "id": "r0RRNr7VEeaB",
        "colab_type": "code",
        "colab": {
          "base_uri": "https://localhost:8080/",
          "height": 235
        },
        "outputId": "dba52d7b-d6d0-418b-e1a2-d60a80ef54c7"
      },
      "source": [
        "ratings_by_title = data.groupby('title').size()\n",
        "ratings_by_title.sort_values(ascending=False)"
      ],
      "execution_count": 163,
      "outputs": [
        {
          "output_type": "execute_result",
          "data": {
            "text/plain": [
              "title\n",
              "American Beauty (1999)                                   3428\n",
              "Star Wars: Episode IV - A New Hope (1977)                2991\n",
              "Star Wars: Episode V - The Empire Strikes Back (1980)    2990\n",
              "Star Wars: Episode VI - Return of the Jedi (1983)        2883\n",
              "Jurassic Park (1993)                                     2672\n",
              "                                                         ... \n",
              "Anna (1996)                                                 1\n",
              "McCullochs, The (1975)                                      1\n",
              "Shadows (Cienie) (1988)                                     1\n",
              "Night Tide (1961)                                           1\n",
              "Another Man's Poison (1952)                                 1\n",
              "Length: 3706, dtype: int64"
            ]
          },
          "metadata": {
            "tags": []
          },
          "execution_count": 163
        }
      ]
    },
    {
      "cell_type": "code",
      "metadata": {
        "id": "Ul7yOYiMEeaC",
        "colab_type": "code",
        "colab": {
          "base_uri": "https://localhost:8080/",
          "height": 235
        },
        "outputId": "63101aa2-abcb-4d5c-8a63-50f3b1f33e11"
      },
      "source": [
        "ratings_by_title[ratings_by_title >= 250]"
      ],
      "execution_count": 164,
      "outputs": [
        {
          "output_type": "execute_result",
          "data": {
            "text/plain": [
              "title\n",
              "'burbs, The (1989)                   303\n",
              "10 Things I Hate About You (1999)    700\n",
              "101 Dalmatians (1961)                565\n",
              "101 Dalmatians (1996)                364\n",
              "12 Angry Men (1957)                  616\n",
              "                                    ... \n",
              "Young Guns (1988)                    562\n",
              "Young Guns II (1990)                 369\n",
              "Young Sherlock Holmes (1985)         379\n",
              "Zero Effect (1998)                   301\n",
              "eXistenZ (1999)                      410\n",
              "Length: 1216, dtype: int64"
            ]
          },
          "metadata": {
            "tags": []
          },
          "execution_count": 164
        }
      ]
    },
    {
      "cell_type": "code",
      "metadata": {
        "id": "KswnTgx2EeaE",
        "colab_type": "code",
        "colab": {
          "base_uri": "https://localhost:8080/",
          "height": 461
        },
        "outputId": "1e7663de-8cdf-4bf8-a674-dcc4567ff157"
      },
      "source": [
        "mean_ratings[ratings_by_title >= 250]"
      ],
      "execution_count": 165,
      "outputs": [
        {
          "output_type": "execute_result",
          "data": {
            "text/html": [
              "<div>\n",
              "<style scoped>\n",
              "    .dataframe tbody tr th:only-of-type {\n",
              "        vertical-align: middle;\n",
              "    }\n",
              "\n",
              "    .dataframe tbody tr th {\n",
              "        vertical-align: top;\n",
              "    }\n",
              "\n",
              "    .dataframe thead tr th {\n",
              "        text-align: left;\n",
              "    }\n",
              "\n",
              "    .dataframe thead tr:last-of-type th {\n",
              "        text-align: right;\n",
              "    }\n",
              "</style>\n",
              "<table border=\"1\" class=\"dataframe\">\n",
              "  <thead>\n",
              "    <tr>\n",
              "      <th></th>\n",
              "      <th colspan=\"2\" halign=\"left\">rating</th>\n",
              "    </tr>\n",
              "    <tr>\n",
              "      <th>gender</th>\n",
              "      <th>F</th>\n",
              "      <th>M</th>\n",
              "    </tr>\n",
              "    <tr>\n",
              "      <th>title</th>\n",
              "      <th></th>\n",
              "      <th></th>\n",
              "    </tr>\n",
              "  </thead>\n",
              "  <tbody>\n",
              "    <tr>\n",
              "      <th>'burbs, The (1989)</th>\n",
              "      <td>2.793</td>\n",
              "      <td>2.962</td>\n",
              "    </tr>\n",
              "    <tr>\n",
              "      <th>10 Things I Hate About You (1999)</th>\n",
              "      <td>3.647</td>\n",
              "      <td>3.312</td>\n",
              "    </tr>\n",
              "    <tr>\n",
              "      <th>101 Dalmatians (1961)</th>\n",
              "      <td>3.791</td>\n",
              "      <td>3.500</td>\n",
              "    </tr>\n",
              "    <tr>\n",
              "      <th>101 Dalmatians (1996)</th>\n",
              "      <td>3.240</td>\n",
              "      <td>2.911</td>\n",
              "    </tr>\n",
              "    <tr>\n",
              "      <th>12 Angry Men (1957)</th>\n",
              "      <td>4.184</td>\n",
              "      <td>4.328</td>\n",
              "    </tr>\n",
              "    <tr>\n",
              "      <th>...</th>\n",
              "      <td>...</td>\n",
              "      <td>...</td>\n",
              "    </tr>\n",
              "    <tr>\n",
              "      <th>Young Guns (1988)</th>\n",
              "      <td>3.372</td>\n",
              "      <td>3.426</td>\n",
              "    </tr>\n",
              "    <tr>\n",
              "      <th>Young Guns II (1990)</th>\n",
              "      <td>2.935</td>\n",
              "      <td>2.904</td>\n",
              "    </tr>\n",
              "    <tr>\n",
              "      <th>Young Sherlock Holmes (1985)</th>\n",
              "      <td>3.515</td>\n",
              "      <td>3.363</td>\n",
              "    </tr>\n",
              "    <tr>\n",
              "      <th>Zero Effect (1998)</th>\n",
              "      <td>3.864</td>\n",
              "      <td>3.723</td>\n",
              "    </tr>\n",
              "    <tr>\n",
              "      <th>eXistenZ (1999)</th>\n",
              "      <td>3.099</td>\n",
              "      <td>3.289</td>\n",
              "    </tr>\n",
              "  </tbody>\n",
              "</table>\n",
              "<p>1216 rows × 2 columns</p>\n",
              "</div>"
            ],
            "text/plain": [
              "                                  rating      \n",
              "gender                                 F     M\n",
              "title                                         \n",
              "'burbs, The (1989)                 2.793 2.962\n",
              "10 Things I Hate About You (1999)  3.647 3.312\n",
              "101 Dalmatians (1961)              3.791 3.500\n",
              "101 Dalmatians (1996)              3.240 2.911\n",
              "12 Angry Men (1957)                4.184 4.328\n",
              "...                                  ...   ...\n",
              "Young Guns (1988)                  3.372 3.426\n",
              "Young Guns II (1990)               2.935 2.904\n",
              "Young Sherlock Holmes (1985)       3.515 3.363\n",
              "Zero Effect (1998)                 3.864 3.723\n",
              "eXistenZ (1999)                    3.099 3.289\n",
              "\n",
              "[1216 rows x 2 columns]"
            ]
          },
          "metadata": {
            "tags": []
          },
          "execution_count": 165
        }
      ]
    },
    {
      "cell_type": "code",
      "metadata": {
        "id": "3JP3wpkgEeaG",
        "colab_type": "code",
        "colab": {
          "base_uri": "https://localhost:8080/",
          "height": 478
        },
        "outputId": "4dbec01f-ffe1-4529-e44d-29a69ee45a1c"
      },
      "source": [
        "mean_ratings = mean_ratings.loc[ratings_by_title >= 250]\n",
        "mean_ratings\n",
        "type(mean_ratings)"
      ],
      "execution_count": 166,
      "outputs": [
        {
          "output_type": "execute_result",
          "data": {
            "text/html": [
              "<div>\n",
              "<style scoped>\n",
              "    .dataframe tbody tr th:only-of-type {\n",
              "        vertical-align: middle;\n",
              "    }\n",
              "\n",
              "    .dataframe tbody tr th {\n",
              "        vertical-align: top;\n",
              "    }\n",
              "\n",
              "    .dataframe thead tr th {\n",
              "        text-align: left;\n",
              "    }\n",
              "\n",
              "    .dataframe thead tr:last-of-type th {\n",
              "        text-align: right;\n",
              "    }\n",
              "</style>\n",
              "<table border=\"1\" class=\"dataframe\">\n",
              "  <thead>\n",
              "    <tr>\n",
              "      <th></th>\n",
              "      <th colspan=\"2\" halign=\"left\">rating</th>\n",
              "    </tr>\n",
              "    <tr>\n",
              "      <th>gender</th>\n",
              "      <th>F</th>\n",
              "      <th>M</th>\n",
              "    </tr>\n",
              "    <tr>\n",
              "      <th>title</th>\n",
              "      <th></th>\n",
              "      <th></th>\n",
              "    </tr>\n",
              "  </thead>\n",
              "  <tbody>\n",
              "    <tr>\n",
              "      <th>'burbs, The (1989)</th>\n",
              "      <td>2.793</td>\n",
              "      <td>2.962</td>\n",
              "    </tr>\n",
              "    <tr>\n",
              "      <th>10 Things I Hate About You (1999)</th>\n",
              "      <td>3.647</td>\n",
              "      <td>3.312</td>\n",
              "    </tr>\n",
              "    <tr>\n",
              "      <th>101 Dalmatians (1961)</th>\n",
              "      <td>3.791</td>\n",
              "      <td>3.500</td>\n",
              "    </tr>\n",
              "    <tr>\n",
              "      <th>101 Dalmatians (1996)</th>\n",
              "      <td>3.240</td>\n",
              "      <td>2.911</td>\n",
              "    </tr>\n",
              "    <tr>\n",
              "      <th>12 Angry Men (1957)</th>\n",
              "      <td>4.184</td>\n",
              "      <td>4.328</td>\n",
              "    </tr>\n",
              "    <tr>\n",
              "      <th>...</th>\n",
              "      <td>...</td>\n",
              "      <td>...</td>\n",
              "    </tr>\n",
              "    <tr>\n",
              "      <th>Young Guns (1988)</th>\n",
              "      <td>3.372</td>\n",
              "      <td>3.426</td>\n",
              "    </tr>\n",
              "    <tr>\n",
              "      <th>Young Guns II (1990)</th>\n",
              "      <td>2.935</td>\n",
              "      <td>2.904</td>\n",
              "    </tr>\n",
              "    <tr>\n",
              "      <th>Young Sherlock Holmes (1985)</th>\n",
              "      <td>3.515</td>\n",
              "      <td>3.363</td>\n",
              "    </tr>\n",
              "    <tr>\n",
              "      <th>Zero Effect (1998)</th>\n",
              "      <td>3.864</td>\n",
              "      <td>3.723</td>\n",
              "    </tr>\n",
              "    <tr>\n",
              "      <th>eXistenZ (1999)</th>\n",
              "      <td>3.099</td>\n",
              "      <td>3.289</td>\n",
              "    </tr>\n",
              "  </tbody>\n",
              "</table>\n",
              "<p>1216 rows × 2 columns</p>\n",
              "</div>"
            ],
            "text/plain": [
              "                                  rating      \n",
              "gender                                 F     M\n",
              "title                                         \n",
              "'burbs, The (1989)                 2.793 2.962\n",
              "10 Things I Hate About You (1999)  3.647 3.312\n",
              "101 Dalmatians (1961)              3.791 3.500\n",
              "101 Dalmatians (1996)              3.240 2.911\n",
              "12 Angry Men (1957)                4.184 4.328\n",
              "...                                  ...   ...\n",
              "Young Guns (1988)                  3.372 3.426\n",
              "Young Guns II (1990)               2.935 2.904\n",
              "Young Sherlock Holmes (1985)       3.515 3.363\n",
              "Zero Effect (1998)                 3.864 3.723\n",
              "eXistenZ (1999)                    3.099 3.289\n",
              "\n",
              "[1216 rows x 2 columns]"
            ]
          },
          "metadata": {
            "tags": []
          },
          "execution_count": 166
        },
        {
          "output_type": "execute_result",
          "data": {
            "text/plain": [
              "pandas.core.frame.DataFrame"
            ]
          },
          "metadata": {
            "tags": []
          },
          "execution_count": 166
        }
      ]
    },
    {
      "cell_type": "code",
      "metadata": {
        "id": "SHtzJexYEeaI",
        "colab_type": "code",
        "colab": {
          "base_uri": "https://localhost:8080/",
          "height": 461
        },
        "outputId": "4d530792-42b4-4f25-8eb3-bea8cd691ad2"
      },
      "source": [
        "mean_ratings.sort_values(by=('rating','F'), ascending=False) # top movies ratings by Females\n",
        "\n",
        "# Note: Since columns in the data frame have a hierarchical index, if you want to sort by 'F' column you have to use\n",
        "# a hierarchical qualifier for it as a tuple of hierarchical column name like ('rating', 'F') in the call to sort_values.\n",
        "# This happened because in the pivot_table call above we used a list for values=['rating']. If used 'rating' only, there would \n",
        "# not be a hierarchical columns in the resulting data frame and it would just be F M"
      ],
      "execution_count": 167,
      "outputs": [
        {
          "output_type": "execute_result",
          "data": {
            "text/html": [
              "<div>\n",
              "<style scoped>\n",
              "    .dataframe tbody tr th:only-of-type {\n",
              "        vertical-align: middle;\n",
              "    }\n",
              "\n",
              "    .dataframe tbody tr th {\n",
              "        vertical-align: top;\n",
              "    }\n",
              "\n",
              "    .dataframe thead tr th {\n",
              "        text-align: left;\n",
              "    }\n",
              "\n",
              "    .dataframe thead tr:last-of-type th {\n",
              "        text-align: right;\n",
              "    }\n",
              "</style>\n",
              "<table border=\"1\" class=\"dataframe\">\n",
              "  <thead>\n",
              "    <tr>\n",
              "      <th></th>\n",
              "      <th colspan=\"2\" halign=\"left\">rating</th>\n",
              "    </tr>\n",
              "    <tr>\n",
              "      <th>gender</th>\n",
              "      <th>F</th>\n",
              "      <th>M</th>\n",
              "    </tr>\n",
              "    <tr>\n",
              "      <th>title</th>\n",
              "      <th></th>\n",
              "      <th></th>\n",
              "    </tr>\n",
              "  </thead>\n",
              "  <tbody>\n",
              "    <tr>\n",
              "      <th>Close Shave, A (1995)</th>\n",
              "      <td>4.644</td>\n",
              "      <td>4.474</td>\n",
              "    </tr>\n",
              "    <tr>\n",
              "      <th>Wrong Trousers, The (1993)</th>\n",
              "      <td>4.588</td>\n",
              "      <td>4.478</td>\n",
              "    </tr>\n",
              "    <tr>\n",
              "      <th>Sunset Blvd. (a.k.a. Sunset Boulevard) (1950)</th>\n",
              "      <td>4.573</td>\n",
              "      <td>4.465</td>\n",
              "    </tr>\n",
              "    <tr>\n",
              "      <th>Wallace &amp; Gromit: The Best of Aardman Animation (1996)</th>\n",
              "      <td>4.563</td>\n",
              "      <td>4.385</td>\n",
              "    </tr>\n",
              "    <tr>\n",
              "      <th>Schindler's List (1993)</th>\n",
              "      <td>4.563</td>\n",
              "      <td>4.491</td>\n",
              "    </tr>\n",
              "    <tr>\n",
              "      <th>...</th>\n",
              "      <td>...</td>\n",
              "      <td>...</td>\n",
              "    </tr>\n",
              "    <tr>\n",
              "      <th>Avengers, The (1998)</th>\n",
              "      <td>1.915</td>\n",
              "      <td>2.017</td>\n",
              "    </tr>\n",
              "    <tr>\n",
              "      <th>Speed 2: Cruise Control (1997)</th>\n",
              "      <td>1.907</td>\n",
              "      <td>1.863</td>\n",
              "    </tr>\n",
              "    <tr>\n",
              "      <th>Rocky V (1990)</th>\n",
              "      <td>1.879</td>\n",
              "      <td>2.133</td>\n",
              "    </tr>\n",
              "    <tr>\n",
              "      <th>Barb Wire (1996)</th>\n",
              "      <td>1.585</td>\n",
              "      <td>2.100</td>\n",
              "    </tr>\n",
              "    <tr>\n",
              "      <th>Battlefield Earth (2000)</th>\n",
              "      <td>1.574</td>\n",
              "      <td>1.617</td>\n",
              "    </tr>\n",
              "  </tbody>\n",
              "</table>\n",
              "<p>1216 rows × 2 columns</p>\n",
              "</div>"
            ],
            "text/plain": [
              "                                                   rating      \n",
              "gender                                                  F     M\n",
              "title                                                          \n",
              "Close Shave, A (1995)                               4.644 4.474\n",
              "Wrong Trousers, The (1993)                          4.588 4.478\n",
              "Sunset Blvd. (a.k.a. Sunset Boulevard) (1950)       4.573 4.465\n",
              "Wallace & Gromit: The Best of Aardman Animation...  4.563 4.385\n",
              "Schindler's List (1993)                             4.563 4.491\n",
              "...                                                   ...   ...\n",
              "Avengers, The (1998)                                1.915 2.017\n",
              "Speed 2: Cruise Control (1997)                      1.907 1.863\n",
              "Rocky V (1990)                                      1.879 2.133\n",
              "Barb Wire (1996)                                    1.585 2.100\n",
              "Battlefield Earth (2000)                            1.574 1.617\n",
              "\n",
              "[1216 rows x 2 columns]"
            ]
          },
          "metadata": {
            "tags": []
          },
          "execution_count": 167
        }
      ]
    },
    {
      "cell_type": "code",
      "metadata": {
        "id": "941aEdVNEeaJ",
        "colab_type": "code",
        "colab": {
          "base_uri": "https://localhost:8080/",
          "height": 562
        },
        "outputId": "16a83990-d436-47ae-ff39-510c55a901be"
      },
      "source": [
        "mean_ratings['diff'] = mean_ratings[('rating','M')] - mean_ratings[('rating','F')]\n",
        "mean_ratings"
      ],
      "execution_count": 168,
      "outputs": [
        {
          "output_type": "stream",
          "text": [
            "/usr/local/lib/python3.6/dist-packages/ipykernel_launcher.py:1: SettingWithCopyWarning: \n",
            "A value is trying to be set on a copy of a slice from a DataFrame.\n",
            "Try using .loc[row_indexer,col_indexer] = value instead\n",
            "\n",
            "See the caveats in the documentation: https://pandas.pydata.org/pandas-docs/stable/user_guide/indexing.html#returning-a-view-versus-a-copy\n",
            "  \"\"\"Entry point for launching an IPython kernel.\n"
          ],
          "name": "stderr"
        },
        {
          "output_type": "execute_result",
          "data": {
            "text/html": [
              "<div>\n",
              "<style scoped>\n",
              "    .dataframe tbody tr th:only-of-type {\n",
              "        vertical-align: middle;\n",
              "    }\n",
              "\n",
              "    .dataframe tbody tr th {\n",
              "        vertical-align: top;\n",
              "    }\n",
              "\n",
              "    .dataframe thead tr th {\n",
              "        text-align: left;\n",
              "    }\n",
              "\n",
              "    .dataframe thead tr:last-of-type th {\n",
              "        text-align: right;\n",
              "    }\n",
              "</style>\n",
              "<table border=\"1\" class=\"dataframe\">\n",
              "  <thead>\n",
              "    <tr>\n",
              "      <th></th>\n",
              "      <th colspan=\"2\" halign=\"left\">rating</th>\n",
              "      <th>diff</th>\n",
              "    </tr>\n",
              "    <tr>\n",
              "      <th>gender</th>\n",
              "      <th>F</th>\n",
              "      <th>M</th>\n",
              "      <th></th>\n",
              "    </tr>\n",
              "    <tr>\n",
              "      <th>title</th>\n",
              "      <th></th>\n",
              "      <th></th>\n",
              "      <th></th>\n",
              "    </tr>\n",
              "  </thead>\n",
              "  <tbody>\n",
              "    <tr>\n",
              "      <th>'burbs, The (1989)</th>\n",
              "      <td>2.793</td>\n",
              "      <td>2.962</td>\n",
              "      <td>0.169</td>\n",
              "    </tr>\n",
              "    <tr>\n",
              "      <th>10 Things I Hate About You (1999)</th>\n",
              "      <td>3.647</td>\n",
              "      <td>3.312</td>\n",
              "      <td>-0.335</td>\n",
              "    </tr>\n",
              "    <tr>\n",
              "      <th>101 Dalmatians (1961)</th>\n",
              "      <td>3.791</td>\n",
              "      <td>3.500</td>\n",
              "      <td>-0.291</td>\n",
              "    </tr>\n",
              "    <tr>\n",
              "      <th>101 Dalmatians (1996)</th>\n",
              "      <td>3.240</td>\n",
              "      <td>2.911</td>\n",
              "      <td>-0.329</td>\n",
              "    </tr>\n",
              "    <tr>\n",
              "      <th>12 Angry Men (1957)</th>\n",
              "      <td>4.184</td>\n",
              "      <td>4.328</td>\n",
              "      <td>0.144</td>\n",
              "    </tr>\n",
              "    <tr>\n",
              "      <th>...</th>\n",
              "      <td>...</td>\n",
              "      <td>...</td>\n",
              "      <td>...</td>\n",
              "    </tr>\n",
              "    <tr>\n",
              "      <th>Young Guns (1988)</th>\n",
              "      <td>3.372</td>\n",
              "      <td>3.426</td>\n",
              "      <td>0.054</td>\n",
              "    </tr>\n",
              "    <tr>\n",
              "      <th>Young Guns II (1990)</th>\n",
              "      <td>2.935</td>\n",
              "      <td>2.904</td>\n",
              "      <td>-0.031</td>\n",
              "    </tr>\n",
              "    <tr>\n",
              "      <th>Young Sherlock Holmes (1985)</th>\n",
              "      <td>3.515</td>\n",
              "      <td>3.363</td>\n",
              "      <td>-0.151</td>\n",
              "    </tr>\n",
              "    <tr>\n",
              "      <th>Zero Effect (1998)</th>\n",
              "      <td>3.864</td>\n",
              "      <td>3.723</td>\n",
              "      <td>-0.141</td>\n",
              "    </tr>\n",
              "    <tr>\n",
              "      <th>eXistenZ (1999)</th>\n",
              "      <td>3.099</td>\n",
              "      <td>3.289</td>\n",
              "      <td>0.190</td>\n",
              "    </tr>\n",
              "  </tbody>\n",
              "</table>\n",
              "<p>1216 rows × 3 columns</p>\n",
              "</div>"
            ],
            "text/plain": [
              "                                  rating         diff\n",
              "gender                                 F     M       \n",
              "title                                                \n",
              "'burbs, The (1989)                 2.793 2.962  0.169\n",
              "10 Things I Hate About You (1999)  3.647 3.312 -0.335\n",
              "101 Dalmatians (1961)              3.791 3.500 -0.291\n",
              "101 Dalmatians (1996)              3.240 2.911 -0.329\n",
              "12 Angry Men (1957)                4.184 4.328  0.144\n",
              "...                                  ...   ...    ...\n",
              "Young Guns (1988)                  3.372 3.426  0.054\n",
              "Young Guns II (1990)               2.935 2.904 -0.031\n",
              "Young Sherlock Holmes (1985)       3.515 3.363 -0.151\n",
              "Zero Effect (1998)                 3.864 3.723 -0.141\n",
              "eXistenZ (1999)                    3.099 3.289  0.190\n",
              "\n",
              "[1216 rows x 3 columns]"
            ]
          },
          "metadata": {
            "tags": []
          },
          "execution_count": 168
        }
      ]
    },
    {
      "cell_type": "code",
      "metadata": {
        "id": "Ww7jvNcGEeaL",
        "colab_type": "code",
        "colab": {
          "base_uri": "https://localhost:8080/",
          "height": 461
        },
        "outputId": "b721d3dd-1dc3-4d70-caa6-1eabdf1bea15"
      },
      "source": [
        "mean_ratings.sort_values('diff', ascending=True) # movies highly rated by women that men did not rate as highly"
      ],
      "execution_count": 169,
      "outputs": [
        {
          "output_type": "execute_result",
          "data": {
            "text/html": [
              "<div>\n",
              "<style scoped>\n",
              "    .dataframe tbody tr th:only-of-type {\n",
              "        vertical-align: middle;\n",
              "    }\n",
              "\n",
              "    .dataframe tbody tr th {\n",
              "        vertical-align: top;\n",
              "    }\n",
              "\n",
              "    .dataframe thead tr th {\n",
              "        text-align: left;\n",
              "    }\n",
              "\n",
              "    .dataframe thead tr:last-of-type th {\n",
              "        text-align: right;\n",
              "    }\n",
              "</style>\n",
              "<table border=\"1\" class=\"dataframe\">\n",
              "  <thead>\n",
              "    <tr>\n",
              "      <th></th>\n",
              "      <th colspan=\"2\" halign=\"left\">rating</th>\n",
              "      <th>diff</th>\n",
              "    </tr>\n",
              "    <tr>\n",
              "      <th>gender</th>\n",
              "      <th>F</th>\n",
              "      <th>M</th>\n",
              "      <th></th>\n",
              "    </tr>\n",
              "    <tr>\n",
              "      <th>title</th>\n",
              "      <th></th>\n",
              "      <th></th>\n",
              "      <th></th>\n",
              "    </tr>\n",
              "  </thead>\n",
              "  <tbody>\n",
              "    <tr>\n",
              "      <th>Dirty Dancing (1987)</th>\n",
              "      <td>3.790</td>\n",
              "      <td>2.960</td>\n",
              "      <td>-0.831</td>\n",
              "    </tr>\n",
              "    <tr>\n",
              "      <th>Jumpin' Jack Flash (1986)</th>\n",
              "      <td>3.255</td>\n",
              "      <td>2.578</td>\n",
              "      <td>-0.676</td>\n",
              "    </tr>\n",
              "    <tr>\n",
              "      <th>Grease (1978)</th>\n",
              "      <td>3.975</td>\n",
              "      <td>3.367</td>\n",
              "      <td>-0.608</td>\n",
              "    </tr>\n",
              "    <tr>\n",
              "      <th>Little Women (1994)</th>\n",
              "      <td>3.871</td>\n",
              "      <td>3.322</td>\n",
              "      <td>-0.549</td>\n",
              "    </tr>\n",
              "    <tr>\n",
              "      <th>Steel Magnolias (1989)</th>\n",
              "      <td>3.902</td>\n",
              "      <td>3.366</td>\n",
              "      <td>-0.536</td>\n",
              "    </tr>\n",
              "    <tr>\n",
              "      <th>...</th>\n",
              "      <td>...</td>\n",
              "      <td>...</td>\n",
              "      <td>...</td>\n",
              "    </tr>\n",
              "    <tr>\n",
              "      <th>Cable Guy, The (1996)</th>\n",
              "      <td>2.250</td>\n",
              "      <td>2.864</td>\n",
              "      <td>0.614</td>\n",
              "    </tr>\n",
              "    <tr>\n",
              "      <th>Longest Day, The (1962)</th>\n",
              "      <td>3.412</td>\n",
              "      <td>4.031</td>\n",
              "      <td>0.620</td>\n",
              "    </tr>\n",
              "    <tr>\n",
              "      <th>Dumb &amp; Dumber (1994)</th>\n",
              "      <td>2.698</td>\n",
              "      <td>3.337</td>\n",
              "      <td>0.639</td>\n",
              "    </tr>\n",
              "    <tr>\n",
              "      <th>Kentucky Fried Movie, The (1977)</th>\n",
              "      <td>2.879</td>\n",
              "      <td>3.555</td>\n",
              "      <td>0.676</td>\n",
              "    </tr>\n",
              "    <tr>\n",
              "      <th>Good, The Bad and The Ugly, The (1966)</th>\n",
              "      <td>3.495</td>\n",
              "      <td>4.221</td>\n",
              "      <td>0.726</td>\n",
              "    </tr>\n",
              "  </tbody>\n",
              "</table>\n",
              "<p>1216 rows × 3 columns</p>\n",
              "</div>"
            ],
            "text/plain": [
              "                                       rating         diff\n",
              "gender                                      F     M       \n",
              "title                                                     \n",
              "Dirty Dancing (1987)                    3.790 2.960 -0.831\n",
              "Jumpin' Jack Flash (1986)               3.255 2.578 -0.676\n",
              "Grease (1978)                           3.975 3.367 -0.608\n",
              "Little Women (1994)                     3.871 3.322 -0.549\n",
              "Steel Magnolias (1989)                  3.902 3.366 -0.536\n",
              "...                                       ...   ...    ...\n",
              "Cable Guy, The (1996)                   2.250 2.864  0.614\n",
              "Longest Day, The (1962)                 3.412 4.031  0.620\n",
              "Dumb & Dumber (1994)                    2.698 3.337  0.639\n",
              "Kentucky Fried Movie, The (1977)        2.879 3.555  0.676\n",
              "Good, The Bad and The Ugly, The (1966)  3.495 4.221  0.726\n",
              "\n",
              "[1216 rows x 3 columns]"
            ]
          },
          "metadata": {
            "tags": []
          },
          "execution_count": 169
        }
      ]
    },
    {
      "cell_type": "code",
      "metadata": {
        "id": "W9SGQAvVEeaM",
        "colab_type": "code",
        "colab": {
          "base_uri": "https://localhost:8080/",
          "height": 461
        },
        "outputId": "0736d02e-2bef-4118-9170-7c0c15ed52b1"
      },
      "source": [
        "mean_ratings.sort_values('diff', ascending=False) # movies highly rated by men that women did not rate as highly"
      ],
      "execution_count": 170,
      "outputs": [
        {
          "output_type": "execute_result",
          "data": {
            "text/html": [
              "<div>\n",
              "<style scoped>\n",
              "    .dataframe tbody tr th:only-of-type {\n",
              "        vertical-align: middle;\n",
              "    }\n",
              "\n",
              "    .dataframe tbody tr th {\n",
              "        vertical-align: top;\n",
              "    }\n",
              "\n",
              "    .dataframe thead tr th {\n",
              "        text-align: left;\n",
              "    }\n",
              "\n",
              "    .dataframe thead tr:last-of-type th {\n",
              "        text-align: right;\n",
              "    }\n",
              "</style>\n",
              "<table border=\"1\" class=\"dataframe\">\n",
              "  <thead>\n",
              "    <tr>\n",
              "      <th></th>\n",
              "      <th colspan=\"2\" halign=\"left\">rating</th>\n",
              "      <th>diff</th>\n",
              "    </tr>\n",
              "    <tr>\n",
              "      <th>gender</th>\n",
              "      <th>F</th>\n",
              "      <th>M</th>\n",
              "      <th></th>\n",
              "    </tr>\n",
              "    <tr>\n",
              "      <th>title</th>\n",
              "      <th></th>\n",
              "      <th></th>\n",
              "      <th></th>\n",
              "    </tr>\n",
              "  </thead>\n",
              "  <tbody>\n",
              "    <tr>\n",
              "      <th>Good, The Bad and The Ugly, The (1966)</th>\n",
              "      <td>3.495</td>\n",
              "      <td>4.221</td>\n",
              "      <td>0.726</td>\n",
              "    </tr>\n",
              "    <tr>\n",
              "      <th>Kentucky Fried Movie, The (1977)</th>\n",
              "      <td>2.879</td>\n",
              "      <td>3.555</td>\n",
              "      <td>0.676</td>\n",
              "    </tr>\n",
              "    <tr>\n",
              "      <th>Dumb &amp; Dumber (1994)</th>\n",
              "      <td>2.698</td>\n",
              "      <td>3.337</td>\n",
              "      <td>0.639</td>\n",
              "    </tr>\n",
              "    <tr>\n",
              "      <th>Longest Day, The (1962)</th>\n",
              "      <td>3.412</td>\n",
              "      <td>4.031</td>\n",
              "      <td>0.620</td>\n",
              "    </tr>\n",
              "    <tr>\n",
              "      <th>Cable Guy, The (1996)</th>\n",
              "      <td>2.250</td>\n",
              "      <td>2.864</td>\n",
              "      <td>0.614</td>\n",
              "    </tr>\n",
              "    <tr>\n",
              "      <th>...</th>\n",
              "      <td>...</td>\n",
              "      <td>...</td>\n",
              "      <td>...</td>\n",
              "    </tr>\n",
              "    <tr>\n",
              "      <th>Steel Magnolias (1989)</th>\n",
              "      <td>3.902</td>\n",
              "      <td>3.366</td>\n",
              "      <td>-0.536</td>\n",
              "    </tr>\n",
              "    <tr>\n",
              "      <th>Little Women (1994)</th>\n",
              "      <td>3.871</td>\n",
              "      <td>3.322</td>\n",
              "      <td>-0.549</td>\n",
              "    </tr>\n",
              "    <tr>\n",
              "      <th>Grease (1978)</th>\n",
              "      <td>3.975</td>\n",
              "      <td>3.367</td>\n",
              "      <td>-0.608</td>\n",
              "    </tr>\n",
              "    <tr>\n",
              "      <th>Jumpin' Jack Flash (1986)</th>\n",
              "      <td>3.255</td>\n",
              "      <td>2.578</td>\n",
              "      <td>-0.676</td>\n",
              "    </tr>\n",
              "    <tr>\n",
              "      <th>Dirty Dancing (1987)</th>\n",
              "      <td>3.790</td>\n",
              "      <td>2.960</td>\n",
              "      <td>-0.831</td>\n",
              "    </tr>\n",
              "  </tbody>\n",
              "</table>\n",
              "<p>1216 rows × 3 columns</p>\n",
              "</div>"
            ],
            "text/plain": [
              "                                       rating         diff\n",
              "gender                                      F     M       \n",
              "title                                                     \n",
              "Good, The Bad and The Ugly, The (1966)  3.495 4.221  0.726\n",
              "Kentucky Fried Movie, The (1977)        2.879 3.555  0.676\n",
              "Dumb & Dumber (1994)                    2.698 3.337  0.639\n",
              "Longest Day, The (1962)                 3.412 4.031  0.620\n",
              "Cable Guy, The (1996)                   2.250 2.864  0.614\n",
              "...                                       ...   ...    ...\n",
              "Steel Magnolias (1989)                  3.902 3.366 -0.536\n",
              "Little Women (1994)                     3.871 3.322 -0.549\n",
              "Grease (1978)                           3.975 3.367 -0.608\n",
              "Jumpin' Jack Flash (1986)               3.255 2.578 -0.676\n",
              "Dirty Dancing (1987)                    3.790 2.960 -0.831\n",
              "\n",
              "[1216 rows x 3 columns]"
            ]
          },
          "metadata": {
            "tags": []
          },
          "execution_count": 170
        }
      ]
    },
    {
      "cell_type": "markdown",
      "metadata": {
        "id": "6lwIXzKLEeaN",
        "colab_type": "text"
      },
      "source": [
        "# 14.3 US Baby Names 1880–2010"
      ]
    },
    {
      "cell_type": "code",
      "metadata": {
        "id": "LG2IF4GNEeaO",
        "colab_type": "code",
        "colab": {
          "base_uri": "https://localhost:8080/",
          "height": 402
        },
        "outputId": "e00090ab-640b-4bb8-e4a2-56304eea4aa1"
      },
      "source": [
        "columns = ['name', 'sex', 'births']\n",
        "names1880 = pd.read_csv('datasets/babynames/yob1880.txt', names=columns)\n",
        "names1880"
      ],
      "execution_count": 171,
      "outputs": [
        {
          "output_type": "execute_result",
          "data": {
            "text/html": [
              "<div>\n",
              "<style scoped>\n",
              "    .dataframe tbody tr th:only-of-type {\n",
              "        vertical-align: middle;\n",
              "    }\n",
              "\n",
              "    .dataframe tbody tr th {\n",
              "        vertical-align: top;\n",
              "    }\n",
              "\n",
              "    .dataframe thead th {\n",
              "        text-align: right;\n",
              "    }\n",
              "</style>\n",
              "<table border=\"1\" class=\"dataframe\">\n",
              "  <thead>\n",
              "    <tr style=\"text-align: right;\">\n",
              "      <th></th>\n",
              "      <th>name</th>\n",
              "      <th>sex</th>\n",
              "      <th>births</th>\n",
              "    </tr>\n",
              "  </thead>\n",
              "  <tbody>\n",
              "    <tr>\n",
              "      <th>0</th>\n",
              "      <td>Mary</td>\n",
              "      <td>F</td>\n",
              "      <td>7065</td>\n",
              "    </tr>\n",
              "    <tr>\n",
              "      <th>1</th>\n",
              "      <td>Anna</td>\n",
              "      <td>F</td>\n",
              "      <td>2604</td>\n",
              "    </tr>\n",
              "    <tr>\n",
              "      <th>2</th>\n",
              "      <td>Emma</td>\n",
              "      <td>F</td>\n",
              "      <td>2003</td>\n",
              "    </tr>\n",
              "    <tr>\n",
              "      <th>3</th>\n",
              "      <td>Elizabeth</td>\n",
              "      <td>F</td>\n",
              "      <td>1939</td>\n",
              "    </tr>\n",
              "    <tr>\n",
              "      <th>4</th>\n",
              "      <td>Minnie</td>\n",
              "      <td>F</td>\n",
              "      <td>1746</td>\n",
              "    </tr>\n",
              "    <tr>\n",
              "      <th>...</th>\n",
              "      <td>...</td>\n",
              "      <td>...</td>\n",
              "      <td>...</td>\n",
              "    </tr>\n",
              "    <tr>\n",
              "      <th>1995</th>\n",
              "      <td>Woodie</td>\n",
              "      <td>M</td>\n",
              "      <td>5</td>\n",
              "    </tr>\n",
              "    <tr>\n",
              "      <th>1996</th>\n",
              "      <td>Worthy</td>\n",
              "      <td>M</td>\n",
              "      <td>5</td>\n",
              "    </tr>\n",
              "    <tr>\n",
              "      <th>1997</th>\n",
              "      <td>Wright</td>\n",
              "      <td>M</td>\n",
              "      <td>5</td>\n",
              "    </tr>\n",
              "    <tr>\n",
              "      <th>1998</th>\n",
              "      <td>York</td>\n",
              "      <td>M</td>\n",
              "      <td>5</td>\n",
              "    </tr>\n",
              "    <tr>\n",
              "      <th>1999</th>\n",
              "      <td>Zachariah</td>\n",
              "      <td>M</td>\n",
              "      <td>5</td>\n",
              "    </tr>\n",
              "  </tbody>\n",
              "</table>\n",
              "<p>2000 rows × 3 columns</p>\n",
              "</div>"
            ],
            "text/plain": [
              "           name sex  births\n",
              "0          Mary   F    7065\n",
              "1          Anna   F    2604\n",
              "2          Emma   F    2003\n",
              "3     Elizabeth   F    1939\n",
              "4        Minnie   F    1746\n",
              "...         ...  ..     ...\n",
              "1995     Woodie   M       5\n",
              "1996     Worthy   M       5\n",
              "1997     Wright   M       5\n",
              "1998       York   M       5\n",
              "1999  Zachariah   M       5\n",
              "\n",
              "[2000 rows x 3 columns]"
            ]
          },
          "metadata": {
            "tags": []
          },
          "execution_count": 171
        }
      ]
    },
    {
      "cell_type": "code",
      "metadata": {
        "id": "Ta5DmQq4EeaQ",
        "colab_type": "code",
        "colab": {
          "base_uri": "https://localhost:8080/",
          "height": 136
        },
        "outputId": "3c611173-afe2-4114-d2c8-40b0667d0f94"
      },
      "source": [
        "names1880.groupby('sex').sum()"
      ],
      "execution_count": 172,
      "outputs": [
        {
          "output_type": "execute_result",
          "data": {
            "text/html": [
              "<div>\n",
              "<style scoped>\n",
              "    .dataframe tbody tr th:only-of-type {\n",
              "        vertical-align: middle;\n",
              "    }\n",
              "\n",
              "    .dataframe tbody tr th {\n",
              "        vertical-align: top;\n",
              "    }\n",
              "\n",
              "    .dataframe thead th {\n",
              "        text-align: right;\n",
              "    }\n",
              "</style>\n",
              "<table border=\"1\" class=\"dataframe\">\n",
              "  <thead>\n",
              "    <tr style=\"text-align: right;\">\n",
              "      <th></th>\n",
              "      <th>births</th>\n",
              "    </tr>\n",
              "    <tr>\n",
              "      <th>sex</th>\n",
              "      <th></th>\n",
              "    </tr>\n",
              "  </thead>\n",
              "  <tbody>\n",
              "    <tr>\n",
              "      <th>F</th>\n",
              "      <td>90993</td>\n",
              "    </tr>\n",
              "    <tr>\n",
              "      <th>M</th>\n",
              "      <td>110493</td>\n",
              "    </tr>\n",
              "  </tbody>\n",
              "</table>\n",
              "</div>"
            ],
            "text/plain": [
              "     births\n",
              "sex        \n",
              "F     90993\n",
              "M    110493"
            ]
          },
          "metadata": {
            "tags": []
          },
          "execution_count": 172
        }
      ]
    },
    {
      "cell_type": "code",
      "metadata": {
        "id": "klR5NFOCEeaU",
        "colab_type": "code",
        "colab": {
          "base_uri": "https://localhost:8080/",
          "height": 586
        },
        "outputId": "bd2ffb57-9a1b-4626-e7aa-9f1c08e816c8"
      },
      "source": [
        "years = range(1880, 2011)\n",
        "\n",
        "pieces = []\n",
        "\n",
        "#names = pd.DataFrame(columns = columns+['year']) # dtypes will all be object, not good!!\n",
        "\n",
        "for year in years:\n",
        "    frame = pd.read_csv('datasets/babynames/yob%d.txt' % year, names=columns)\n",
        "    frame['year'] = year\n",
        "    pieces.append(frame)\n",
        "    \n",
        "names = pd.concat(pieces, ignore_index=True) #this way dtypes of columns will be int, float, etc as appropriate\n",
        "names.info()\n",
        "names"
      ],
      "execution_count": 173,
      "outputs": [
        {
          "output_type": "stream",
          "text": [
            "<class 'pandas.core.frame.DataFrame'>\n",
            "RangeIndex: 1690784 entries, 0 to 1690783\n",
            "Data columns (total 4 columns):\n",
            " #   Column  Non-Null Count    Dtype \n",
            "---  ------  --------------    ----- \n",
            " 0   name    1690784 non-null  object\n",
            " 1   sex     1690784 non-null  object\n",
            " 2   births  1690784 non-null  int64 \n",
            " 3   year    1690784 non-null  int64 \n",
            "dtypes: int64(2), object(2)\n",
            "memory usage: 51.6+ MB\n"
          ],
          "name": "stdout"
        },
        {
          "output_type": "execute_result",
          "data": {
            "text/html": [
              "<div>\n",
              "<style scoped>\n",
              "    .dataframe tbody tr th:only-of-type {\n",
              "        vertical-align: middle;\n",
              "    }\n",
              "\n",
              "    .dataframe tbody tr th {\n",
              "        vertical-align: top;\n",
              "    }\n",
              "\n",
              "    .dataframe thead th {\n",
              "        text-align: right;\n",
              "    }\n",
              "</style>\n",
              "<table border=\"1\" class=\"dataframe\">\n",
              "  <thead>\n",
              "    <tr style=\"text-align: right;\">\n",
              "      <th></th>\n",
              "      <th>name</th>\n",
              "      <th>sex</th>\n",
              "      <th>births</th>\n",
              "      <th>year</th>\n",
              "    </tr>\n",
              "  </thead>\n",
              "  <tbody>\n",
              "    <tr>\n",
              "      <th>0</th>\n",
              "      <td>Mary</td>\n",
              "      <td>F</td>\n",
              "      <td>7065</td>\n",
              "      <td>1880</td>\n",
              "    </tr>\n",
              "    <tr>\n",
              "      <th>1</th>\n",
              "      <td>Anna</td>\n",
              "      <td>F</td>\n",
              "      <td>2604</td>\n",
              "      <td>1880</td>\n",
              "    </tr>\n",
              "    <tr>\n",
              "      <th>2</th>\n",
              "      <td>Emma</td>\n",
              "      <td>F</td>\n",
              "      <td>2003</td>\n",
              "      <td>1880</td>\n",
              "    </tr>\n",
              "    <tr>\n",
              "      <th>3</th>\n",
              "      <td>Elizabeth</td>\n",
              "      <td>F</td>\n",
              "      <td>1939</td>\n",
              "      <td>1880</td>\n",
              "    </tr>\n",
              "    <tr>\n",
              "      <th>4</th>\n",
              "      <td>Minnie</td>\n",
              "      <td>F</td>\n",
              "      <td>1746</td>\n",
              "      <td>1880</td>\n",
              "    </tr>\n",
              "    <tr>\n",
              "      <th>...</th>\n",
              "      <td>...</td>\n",
              "      <td>...</td>\n",
              "      <td>...</td>\n",
              "      <td>...</td>\n",
              "    </tr>\n",
              "    <tr>\n",
              "      <th>1690779</th>\n",
              "      <td>Zymaire</td>\n",
              "      <td>M</td>\n",
              "      <td>5</td>\n",
              "      <td>2010</td>\n",
              "    </tr>\n",
              "    <tr>\n",
              "      <th>1690780</th>\n",
              "      <td>Zyonne</td>\n",
              "      <td>M</td>\n",
              "      <td>5</td>\n",
              "      <td>2010</td>\n",
              "    </tr>\n",
              "    <tr>\n",
              "      <th>1690781</th>\n",
              "      <td>Zyquarius</td>\n",
              "      <td>M</td>\n",
              "      <td>5</td>\n",
              "      <td>2010</td>\n",
              "    </tr>\n",
              "    <tr>\n",
              "      <th>1690782</th>\n",
              "      <td>Zyran</td>\n",
              "      <td>M</td>\n",
              "      <td>5</td>\n",
              "      <td>2010</td>\n",
              "    </tr>\n",
              "    <tr>\n",
              "      <th>1690783</th>\n",
              "      <td>Zzyzx</td>\n",
              "      <td>M</td>\n",
              "      <td>5</td>\n",
              "      <td>2010</td>\n",
              "    </tr>\n",
              "  </tbody>\n",
              "</table>\n",
              "<p>1690784 rows × 4 columns</p>\n",
              "</div>"
            ],
            "text/plain": [
              "              name sex  births  year\n",
              "0             Mary   F    7065  1880\n",
              "1             Anna   F    2604  1880\n",
              "2             Emma   F    2003  1880\n",
              "3        Elizabeth   F    1939  1880\n",
              "4           Minnie   F    1746  1880\n",
              "...            ...  ..     ...   ...\n",
              "1690779    Zymaire   M       5  2010\n",
              "1690780     Zyonne   M       5  2010\n",
              "1690781  Zyquarius   M       5  2010\n",
              "1690782      Zyran   M       5  2010\n",
              "1690783      Zzyzx   M       5  2010\n",
              "\n",
              "[1690784 rows x 4 columns]"
            ]
          },
          "metadata": {
            "tags": []
          },
          "execution_count": 173
        }
      ]
    },
    {
      "cell_type": "code",
      "metadata": {
        "id": "iA7wNE8SEeaV",
        "colab_type": "code",
        "colab": {
          "base_uri": "https://localhost:8080/",
          "height": 431
        },
        "outputId": "adb89789-b06e-46a7-a7f8-4e7b0a85ed14"
      },
      "source": [
        "names.groupby(['year', 'sex']).births.sum().unstack()"
      ],
      "execution_count": 174,
      "outputs": [
        {
          "output_type": "execute_result",
          "data": {
            "text/html": [
              "<div>\n",
              "<style scoped>\n",
              "    .dataframe tbody tr th:only-of-type {\n",
              "        vertical-align: middle;\n",
              "    }\n",
              "\n",
              "    .dataframe tbody tr th {\n",
              "        vertical-align: top;\n",
              "    }\n",
              "\n",
              "    .dataframe thead th {\n",
              "        text-align: right;\n",
              "    }\n",
              "</style>\n",
              "<table border=\"1\" class=\"dataframe\">\n",
              "  <thead>\n",
              "    <tr style=\"text-align: right;\">\n",
              "      <th>sex</th>\n",
              "      <th>F</th>\n",
              "      <th>M</th>\n",
              "    </tr>\n",
              "    <tr>\n",
              "      <th>year</th>\n",
              "      <th></th>\n",
              "      <th></th>\n",
              "    </tr>\n",
              "  </thead>\n",
              "  <tbody>\n",
              "    <tr>\n",
              "      <th>1880</th>\n",
              "      <td>90993</td>\n",
              "      <td>110493</td>\n",
              "    </tr>\n",
              "    <tr>\n",
              "      <th>1881</th>\n",
              "      <td>91955</td>\n",
              "      <td>100748</td>\n",
              "    </tr>\n",
              "    <tr>\n",
              "      <th>1882</th>\n",
              "      <td>107851</td>\n",
              "      <td>113687</td>\n",
              "    </tr>\n",
              "    <tr>\n",
              "      <th>1883</th>\n",
              "      <td>112322</td>\n",
              "      <td>104632</td>\n",
              "    </tr>\n",
              "    <tr>\n",
              "      <th>1884</th>\n",
              "      <td>129021</td>\n",
              "      <td>114445</td>\n",
              "    </tr>\n",
              "    <tr>\n",
              "      <th>...</th>\n",
              "      <td>...</td>\n",
              "      <td>...</td>\n",
              "    </tr>\n",
              "    <tr>\n",
              "      <th>2006</th>\n",
              "      <td>1896468</td>\n",
              "      <td>2050234</td>\n",
              "    </tr>\n",
              "    <tr>\n",
              "      <th>2007</th>\n",
              "      <td>1916888</td>\n",
              "      <td>2069242</td>\n",
              "    </tr>\n",
              "    <tr>\n",
              "      <th>2008</th>\n",
              "      <td>1883645</td>\n",
              "      <td>2032310</td>\n",
              "    </tr>\n",
              "    <tr>\n",
              "      <th>2009</th>\n",
              "      <td>1827643</td>\n",
              "      <td>1973359</td>\n",
              "    </tr>\n",
              "    <tr>\n",
              "      <th>2010</th>\n",
              "      <td>1759010</td>\n",
              "      <td>1898382</td>\n",
              "    </tr>\n",
              "  </tbody>\n",
              "</table>\n",
              "<p>131 rows × 2 columns</p>\n",
              "</div>"
            ],
            "text/plain": [
              "sex         F        M\n",
              "year                  \n",
              "1880    90993   110493\n",
              "1881    91955   100748\n",
              "1882   107851   113687\n",
              "1883   112322   104632\n",
              "1884   129021   114445\n",
              "...       ...      ...\n",
              "2006  1896468  2050234\n",
              "2007  1916888  2069242\n",
              "2008  1883645  2032310\n",
              "2009  1827643  1973359\n",
              "2010  1759010  1898382\n",
              "\n",
              "[131 rows x 2 columns]"
            ]
          },
          "metadata": {
            "tags": []
          },
          "execution_count": 174
        }
      ]
    },
    {
      "cell_type": "code",
      "metadata": {
        "id": "lCJv86OrEeaW",
        "colab_type": "code",
        "colab": {
          "base_uri": "https://localhost:8080/",
          "height": 431
        },
        "outputId": "8ce6a827-68ce-415f-fb32-f26876fdcec9"
      },
      "source": [
        "total_births  = names.pivot_table(values='births', index='year', columns='sex', aggfunc=sum)\n",
        "total_births"
      ],
      "execution_count": 175,
      "outputs": [
        {
          "output_type": "execute_result",
          "data": {
            "text/html": [
              "<div>\n",
              "<style scoped>\n",
              "    .dataframe tbody tr th:only-of-type {\n",
              "        vertical-align: middle;\n",
              "    }\n",
              "\n",
              "    .dataframe tbody tr th {\n",
              "        vertical-align: top;\n",
              "    }\n",
              "\n",
              "    .dataframe thead th {\n",
              "        text-align: right;\n",
              "    }\n",
              "</style>\n",
              "<table border=\"1\" class=\"dataframe\">\n",
              "  <thead>\n",
              "    <tr style=\"text-align: right;\">\n",
              "      <th>sex</th>\n",
              "      <th>F</th>\n",
              "      <th>M</th>\n",
              "    </tr>\n",
              "    <tr>\n",
              "      <th>year</th>\n",
              "      <th></th>\n",
              "      <th></th>\n",
              "    </tr>\n",
              "  </thead>\n",
              "  <tbody>\n",
              "    <tr>\n",
              "      <th>1880</th>\n",
              "      <td>90993</td>\n",
              "      <td>110493</td>\n",
              "    </tr>\n",
              "    <tr>\n",
              "      <th>1881</th>\n",
              "      <td>91955</td>\n",
              "      <td>100748</td>\n",
              "    </tr>\n",
              "    <tr>\n",
              "      <th>1882</th>\n",
              "      <td>107851</td>\n",
              "      <td>113687</td>\n",
              "    </tr>\n",
              "    <tr>\n",
              "      <th>1883</th>\n",
              "      <td>112322</td>\n",
              "      <td>104632</td>\n",
              "    </tr>\n",
              "    <tr>\n",
              "      <th>1884</th>\n",
              "      <td>129021</td>\n",
              "      <td>114445</td>\n",
              "    </tr>\n",
              "    <tr>\n",
              "      <th>...</th>\n",
              "      <td>...</td>\n",
              "      <td>...</td>\n",
              "    </tr>\n",
              "    <tr>\n",
              "      <th>2006</th>\n",
              "      <td>1896468</td>\n",
              "      <td>2050234</td>\n",
              "    </tr>\n",
              "    <tr>\n",
              "      <th>2007</th>\n",
              "      <td>1916888</td>\n",
              "      <td>2069242</td>\n",
              "    </tr>\n",
              "    <tr>\n",
              "      <th>2008</th>\n",
              "      <td>1883645</td>\n",
              "      <td>2032310</td>\n",
              "    </tr>\n",
              "    <tr>\n",
              "      <th>2009</th>\n",
              "      <td>1827643</td>\n",
              "      <td>1973359</td>\n",
              "    </tr>\n",
              "    <tr>\n",
              "      <th>2010</th>\n",
              "      <td>1759010</td>\n",
              "      <td>1898382</td>\n",
              "    </tr>\n",
              "  </tbody>\n",
              "</table>\n",
              "<p>131 rows × 2 columns</p>\n",
              "</div>"
            ],
            "text/plain": [
              "sex         F        M\n",
              "year                  \n",
              "1880    90993   110493\n",
              "1881    91955   100748\n",
              "1882   107851   113687\n",
              "1883   112322   104632\n",
              "1884   129021   114445\n",
              "...       ...      ...\n",
              "2006  1896468  2050234\n",
              "2007  1916888  2069242\n",
              "2008  1883645  2032310\n",
              "2009  1827643  1973359\n",
              "2010  1759010  1898382\n",
              "\n",
              "[131 rows x 2 columns]"
            ]
          },
          "metadata": {
            "tags": []
          },
          "execution_count": 175
        }
      ]
    },
    {
      "cell_type": "code",
      "metadata": {
        "id": "ERD1cA1DEeaY",
        "colab_type": "code",
        "colab": {
          "base_uri": "https://localhost:8080/",
          "height": 318
        },
        "outputId": "bfe2bfc2-cd3d-4a47-c5b3-15a77997713d"
      },
      "source": [
        "total_births.plot(title='Total births by sex and year')"
      ],
      "execution_count": 176,
      "outputs": [
        {
          "output_type": "execute_result",
          "data": {
            "text/plain": [
              "<matplotlib.axes._subplots.AxesSubplot at 0x7fb9a8210b70>"
            ]
          },
          "metadata": {
            "tags": []
          },
          "execution_count": 176
        },
        {
          "output_type": "display_data",
          "data": {
            "image/png": "[encoded data removed]",
            "text/plain": [
              "<Figure size 432x288 with 1 Axes>"
            ]
          },
          "metadata": {
            "tags": []
          }
        }
      ]
    },
    {
      "cell_type": "code",
      "metadata": {
        "id": "k1crMwmNEeaa",
        "colab_type": "code",
        "colab": {
          "base_uri": "https://localhost:8080/",
          "height": 402
        },
        "outputId": "4bf37371-3c82-431a-edbc-514e09ec3c70"
      },
      "source": [
        "def add_prop(group):\n",
        "    group['prop'] = group.births / group.births.sum()\n",
        "    return group\n",
        "names = names.groupby(['year', 'sex']).apply(add_prop)\n",
        "names\n",
        "\n",
        "#for name, group in names.groupby(['year', 'sex']):\n",
        "#    print (name)\n",
        "#    group"
      ],
      "execution_count": 177,
      "outputs": [
        {
          "output_type": "execute_result",
          "data": {
            "text/html": [
              "<div>\n",
              "<style scoped>\n",
              "    .dataframe tbody tr th:only-of-type {\n",
              "        vertical-align: middle;\n",
              "    }\n",
              "\n",
              "    .dataframe tbody tr th {\n",
              "        vertical-align: top;\n",
              "    }\n",
              "\n",
              "    .dataframe thead th {\n",
              "        text-align: right;\n",
              "    }\n",
              "</style>\n",
              "<table border=\"1\" class=\"dataframe\">\n",
              "  <thead>\n",
              "    <tr style=\"text-align: right;\">\n",
              "      <th></th>\n",
              "      <th>name</th>\n",
              "      <th>sex</th>\n",
              "      <th>births</th>\n",
              "      <th>year</th>\n",
              "      <th>prop</th>\n",
              "    </tr>\n",
              "  </thead>\n",
              "  <tbody>\n",
              "    <tr>\n",
              "      <th>0</th>\n",
              "      <td>Mary</td>\n",
              "      <td>F</td>\n",
              "      <td>7065</td>\n",
              "      <td>1880</td>\n",
              "      <td>0.078</td>\n",
              "    </tr>\n",
              "    <tr>\n",
              "      <th>1</th>\n",
              "      <td>Anna</td>\n",
              "      <td>F</td>\n",
              "      <td>2604</td>\n",
              "      <td>1880</td>\n",
              "      <td>0.029</td>\n",
              "    </tr>\n",
              "    <tr>\n",
              "      <th>2</th>\n",
              "      <td>Emma</td>\n",
              "      <td>F</td>\n",
              "      <td>2003</td>\n",
              "      <td>1880</td>\n",
              "      <td>0.022</td>\n",
              "    </tr>\n",
              "    <tr>\n",
              "      <th>3</th>\n",
              "      <td>Elizabeth</td>\n",
              "      <td>F</td>\n",
              "      <td>1939</td>\n",
              "      <td>1880</td>\n",
              "      <td>0.021</td>\n",
              "    </tr>\n",
              "    <tr>\n",
              "      <th>4</th>\n",
              "      <td>Minnie</td>\n",
              "      <td>F</td>\n",
              "      <td>1746</td>\n",
              "      <td>1880</td>\n",
              "      <td>0.019</td>\n",
              "    </tr>\n",
              "    <tr>\n",
              "      <th>...</th>\n",
              "      <td>...</td>\n",
              "      <td>...</td>\n",
              "      <td>...</td>\n",
              "      <td>...</td>\n",
              "      <td>...</td>\n",
              "    </tr>\n",
              "    <tr>\n",
              "      <th>1690779</th>\n",
              "      <td>Zymaire</td>\n",
              "      <td>M</td>\n",
              "      <td>5</td>\n",
              "      <td>2010</td>\n",
              "      <td>0.000</td>\n",
              "    </tr>\n",
              "    <tr>\n",
              "      <th>1690780</th>\n",
              "      <td>Zyonne</td>\n",
              "      <td>M</td>\n",
              "      <td>5</td>\n",
              "      <td>2010</td>\n",
              "      <td>0.000</td>\n",
              "    </tr>\n",
              "    <tr>\n",
              "      <th>1690781</th>\n",
              "      <td>Zyquarius</td>\n",
              "      <td>M</td>\n",
              "      <td>5</td>\n",
              "      <td>2010</td>\n",
              "      <td>0.000</td>\n",
              "    </tr>\n",
              "    <tr>\n",
              "      <th>1690782</th>\n",
              "      <td>Zyran</td>\n",
              "      <td>M</td>\n",
              "      <td>5</td>\n",
              "      <td>2010</td>\n",
              "      <td>0.000</td>\n",
              "    </tr>\n",
              "    <tr>\n",
              "      <th>1690783</th>\n",
              "      <td>Zzyzx</td>\n",
              "      <td>M</td>\n",
              "      <td>5</td>\n",
              "      <td>2010</td>\n",
              "      <td>0.000</td>\n",
              "    </tr>\n",
              "  </tbody>\n",
              "</table>\n",
              "<p>1690784 rows × 5 columns</p>\n",
              "</div>"
            ],
            "text/plain": [
              "              name sex  births  year  prop\n",
              "0             Mary   F    7065  1880 0.078\n",
              "1             Anna   F    2604  1880 0.029\n",
              "2             Emma   F    2003  1880 0.022\n",
              "3        Elizabeth   F    1939  1880 0.021\n",
              "4           Minnie   F    1746  1880 0.019\n",
              "...            ...  ..     ...   ...   ...\n",
              "1690779    Zymaire   M       5  2010 0.000\n",
              "1690780     Zyonne   M       5  2010 0.000\n",
              "1690781  Zyquarius   M       5  2010 0.000\n",
              "1690782      Zyran   M       5  2010 0.000\n",
              "1690783      Zzyzx   M       5  2010 0.000\n",
              "\n",
              "[1690784 rows x 5 columns]"
            ]
          },
          "metadata": {
            "tags": []
          },
          "execution_count": 177
        }
      ]
    },
    {
      "cell_type": "code",
      "metadata": {
        "id": "LB31nop5Eeab",
        "colab_type": "code",
        "colab": {
          "base_uri": "https://localhost:8080/",
          "height": 235
        },
        "outputId": "130989f2-a4f6-43ca-aaf7-f5c09e10ab85"
      },
      "source": [
        "names.groupby(['year', 'sex']).prop.sum()"
      ],
      "execution_count": 178,
      "outputs": [
        {
          "output_type": "execute_result",
          "data": {
            "text/plain": [
              "year  sex\n",
              "1880  F     1.000\n",
              "      M     1.000\n",
              "1881  F     1.000\n",
              "      M     1.000\n",
              "1882  F     1.000\n",
              "             ... \n",
              "2008  M     1.000\n",
              "2009  F     1.000\n",
              "      M     1.000\n",
              "2010  F     1.000\n",
              "      M     1.000\n",
              "Name: prop, Length: 262, dtype: float64"
            ]
          },
          "metadata": {
            "tags": []
          },
          "execution_count": 178
        }
      ]
    },
    {
      "cell_type": "code",
      "metadata": {
        "id": "sHFsxpc4Eeac",
        "colab_type": "code",
        "colab": {
          "base_uri": "https://localhost:8080/",
          "height": 603
        },
        "outputId": "589a8088-5f42-4950-e6e7-8ada8e4502f4"
      },
      "source": [
        "#get top 1000 names by year and sex\n",
        "def get_top1000(group):\n",
        "    return group.sort_values(by='births', ascending=False)[:1000]\n",
        "\n",
        "top1000 = names.groupby(['year', 'sex']).apply(get_top1000)\n",
        "top1000.reset_index(inplace=True, drop=True)\n",
        "top1000.info()\n",
        "top1000"
      ],
      "execution_count": 179,
      "outputs": [
        {
          "output_type": "stream",
          "text": [
            "<class 'pandas.core.frame.DataFrame'>\n",
            "RangeIndex: 261877 entries, 0 to 261876\n",
            "Data columns (total 5 columns):\n",
            " #   Column  Non-Null Count   Dtype  \n",
            "---  ------  --------------   -----  \n",
            " 0   name    261877 non-null  object \n",
            " 1   sex     261877 non-null  object \n",
            " 2   births  261877 non-null  int64  \n",
            " 3   year    261877 non-null  int64  \n",
            " 4   prop    261877 non-null  float64\n",
            "dtypes: float64(1), int64(2), object(2)\n",
            "memory usage: 10.0+ MB\n"
          ],
          "name": "stdout"
        },
        {
          "output_type": "execute_result",
          "data": {
            "text/html": [
              "<div>\n",
              "<style scoped>\n",
              "    .dataframe tbody tr th:only-of-type {\n",
              "        vertical-align: middle;\n",
              "    }\n",
              "\n",
              "    .dataframe tbody tr th {\n",
              "        vertical-align: top;\n",
              "    }\n",
              "\n",
              "    .dataframe thead th {\n",
              "        text-align: right;\n",
              "    }\n",
              "</style>\n",
              "<table border=\"1\" class=\"dataframe\">\n",
              "  <thead>\n",
              "    <tr style=\"text-align: right;\">\n",
              "      <th></th>\n",
              "      <th>name</th>\n",
              "      <th>sex</th>\n",
              "      <th>births</th>\n",
              "      <th>year</th>\n",
              "      <th>prop</th>\n",
              "    </tr>\n",
              "  </thead>\n",
              "  <tbody>\n",
              "    <tr>\n",
              "      <th>0</th>\n",
              "      <td>Mary</td>\n",
              "      <td>F</td>\n",
              "      <td>7065</td>\n",
              "      <td>1880</td>\n",
              "      <td>0.078</td>\n",
              "    </tr>\n",
              "    <tr>\n",
              "      <th>1</th>\n",
              "      <td>Anna</td>\n",
              "      <td>F</td>\n",
              "      <td>2604</td>\n",
              "      <td>1880</td>\n",
              "      <td>0.029</td>\n",
              "    </tr>\n",
              "    <tr>\n",
              "      <th>2</th>\n",
              "      <td>Emma</td>\n",
              "      <td>F</td>\n",
              "      <td>2003</td>\n",
              "      <td>1880</td>\n",
              "      <td>0.022</td>\n",
              "    </tr>\n",
              "    <tr>\n",
              "      <th>3</th>\n",
              "      <td>Elizabeth</td>\n",
              "      <td>F</td>\n",
              "      <td>1939</td>\n",
              "      <td>1880</td>\n",
              "      <td>0.021</td>\n",
              "    </tr>\n",
              "    <tr>\n",
              "      <th>4</th>\n",
              "      <td>Minnie</td>\n",
              "      <td>F</td>\n",
              "      <td>1746</td>\n",
              "      <td>1880</td>\n",
              "      <td>0.019</td>\n",
              "    </tr>\n",
              "    <tr>\n",
              "      <th>...</th>\n",
              "      <td>...</td>\n",
              "      <td>...</td>\n",
              "      <td>...</td>\n",
              "      <td>...</td>\n",
              "      <td>...</td>\n",
              "    </tr>\n",
              "    <tr>\n",
              "      <th>261872</th>\n",
              "      <td>Camilo</td>\n",
              "      <td>M</td>\n",
              "      <td>194</td>\n",
              "      <td>2010</td>\n",
              "      <td>0.000</td>\n",
              "    </tr>\n",
              "    <tr>\n",
              "      <th>261873</th>\n",
              "      <td>Destin</td>\n",
              "      <td>M</td>\n",
              "      <td>194</td>\n",
              "      <td>2010</td>\n",
              "      <td>0.000</td>\n",
              "    </tr>\n",
              "    <tr>\n",
              "      <th>261874</th>\n",
              "      <td>Jaquan</td>\n",
              "      <td>M</td>\n",
              "      <td>194</td>\n",
              "      <td>2010</td>\n",
              "      <td>0.000</td>\n",
              "    </tr>\n",
              "    <tr>\n",
              "      <th>261875</th>\n",
              "      <td>Jaydan</td>\n",
              "      <td>M</td>\n",
              "      <td>194</td>\n",
              "      <td>2010</td>\n",
              "      <td>0.000</td>\n",
              "    </tr>\n",
              "    <tr>\n",
              "      <th>261876</th>\n",
              "      <td>Maxton</td>\n",
              "      <td>M</td>\n",
              "      <td>193</td>\n",
              "      <td>2010</td>\n",
              "      <td>0.000</td>\n",
              "    </tr>\n",
              "  </tbody>\n",
              "</table>\n",
              "<p>261877 rows × 5 columns</p>\n",
              "</div>"
            ],
            "text/plain": [
              "             name sex  births  year  prop\n",
              "0            Mary   F    7065  1880 0.078\n",
              "1            Anna   F    2604  1880 0.029\n",
              "2            Emma   F    2003  1880 0.022\n",
              "3       Elizabeth   F    1939  1880 0.021\n",
              "4          Minnie   F    1746  1880 0.019\n",
              "...           ...  ..     ...   ...   ...\n",
              "261872     Camilo   M     194  2010 0.000\n",
              "261873     Destin   M     194  2010 0.000\n",
              "261874     Jaquan   M     194  2010 0.000\n",
              "261875     Jaydan   M     194  2010 0.000\n",
              "261876     Maxton   M     193  2010 0.000\n",
              "\n",
              "[261877 rows x 5 columns]"
            ]
          },
          "metadata": {
            "tags": []
          },
          "execution_count": 179
        }
      ]
    },
    {
      "cell_type": "markdown",
      "metadata": {
        "id": "hPgrTaQzEeae",
        "colab_type": "text"
      },
      "source": [
        "## Analyzing Naming Trends"
      ]
    },
    {
      "cell_type": "code",
      "metadata": {
        "id": "rVcN5gGuEeae",
        "colab_type": "code",
        "colab": {}
      },
      "source": [
        "boys = top1000[top1000.sex == 'M']\n",
        "girls = top1000[top1000.sex == 'F']"
      ],
      "execution_count": 180,
      "outputs": []
    },
    {
      "cell_type": "code",
      "metadata": {
        "id": "Uragx7UdEeag",
        "colab_type": "code",
        "colab": {
          "base_uri": "https://localhost:8080/",
          "height": 285
        },
        "outputId": "26a01b80-bf61-47ff-ba1c-a703b5131ce1"
      },
      "source": [
        "boys[boys.name == 'John']['births'].plot()"
      ],
      "execution_count": 181,
      "outputs": [
        {
          "output_type": "execute_result",
          "data": {
            "text/plain": [
              "<matplotlib.axes._subplots.AxesSubplot at 0x7fb9a830d780>"
            ]
          },
          "metadata": {
            "tags": []
          },
          "execution_count": 181
        },
        {
          "output_type": "display_data",
          "data": {
            "image/png": "[encoded data removed]",
            "text/plain": [
              "<Figure size 432x288 with 1 Axes>"
            ]
          },
          "metadata": {
            "tags": []
          }
        }
      ]
    },
    {
      "cell_type": "code",
      "metadata": {
        "id": "A4MgRa3TEeah",
        "colab_type": "code",
        "colab": {
          "base_uri": "https://localhost:8080/",
          "height": 101
        },
        "outputId": "865c24f2-e43c-4581-957d-bc0c0ab0ee7f"
      },
      "source": [
        "total_births = top1000.pivot_table('births', index='year', columns='name', aggfunc=sum)\n",
        "total_births.info()"
      ],
      "execution_count": 182,
      "outputs": [
        {
          "output_type": "stream",
          "text": [
            "<class 'pandas.core.frame.DataFrame'>\n",
            "Int64Index: 131 entries, 1880 to 2010\n",
            "Columns: 6868 entries, Aaden to Zuri\n",
            "dtypes: float64(6868)\n",
            "memory usage: 6.9 MB\n"
          ],
          "name": "stdout"
        }
      ]
    },
    {
      "cell_type": "code",
      "metadata": {
        "id": "1T03ap6PEeai",
        "colab_type": "code",
        "colab": {
          "base_uri": "https://localhost:8080/",
          "height": 710
        },
        "outputId": "e7efe66a-cd91-4fe5-b9a3-4097d0229014"
      },
      "source": [
        "subset = total_births[['John', 'Harry', 'Mary', 'Marilyn']]\n",
        "subset.plot(subplots=True, figsize=(12, 10), grid=False, title=\"Number of births per year\")"
      ],
      "execution_count": 183,
      "outputs": [
        {
          "output_type": "execute_result",
          "data": {
            "text/plain": [
              "array([<matplotlib.axes._subplots.AxesSubplot object at 0x7fb9a81ff128>,\n",
              "       <matplotlib.axes._subplots.AxesSubplot object at 0x7fb9a81cb5c0>,\n",
              "       <matplotlib.axes._subplots.AxesSubplot object at 0x7fb98a1189b0>,\n",
              "       <matplotlib.axes._subplots.AxesSubplot object at 0x7fb98a0c6da0>], dtype=object)"
            ]
          },
          "metadata": {
            "tags": []
          },
          "execution_count": 183
        },
        {
          "output_type": "display_data",
          "data": {
            "image/png": "[encoded data removed]",
            "text/plain": [
              "<Figure size 864x720 with 4 Axes>"
            ]
          },
          "metadata": {
            "tags": []
          }
        }
      ]
    },
    {
      "cell_type": "markdown",
      "metadata": {
        "id": "tpTD5J2uEeak",
        "colab_type": "text"
      },
      "source": [
        "## Measuring the increase in naming diversity"
      ]
    },
    {
      "cell_type": "code",
      "metadata": {
        "id": "o2Ju4Hg1Eeak",
        "colab_type": "code",
        "colab": {
          "base_uri": "https://localhost:8080/",
          "height": 431
        },
        "outputId": "ee84b3a7-6c76-4603-c3ce-518093888857"
      },
      "source": [
        "total_prop = top1000.pivot_table(values='prop', index='year', columns='sex', aggfunc=sum)\n",
        "total_prop"
      ],
      "execution_count": 184,
      "outputs": [
        {
          "output_type": "execute_result",
          "data": {
            "text/html": [
              "<div>\n",
              "<style scoped>\n",
              "    .dataframe tbody tr th:only-of-type {\n",
              "        vertical-align: middle;\n",
              "    }\n",
              "\n",
              "    .dataframe tbody tr th {\n",
              "        vertical-align: top;\n",
              "    }\n",
              "\n",
              "    .dataframe thead th {\n",
              "        text-align: right;\n",
              "    }\n",
              "</style>\n",
              "<table border=\"1\" class=\"dataframe\">\n",
              "  <thead>\n",
              "    <tr style=\"text-align: right;\">\n",
              "      <th>sex</th>\n",
              "      <th>F</th>\n",
              "      <th>M</th>\n",
              "    </tr>\n",
              "    <tr>\n",
              "      <th>year</th>\n",
              "      <th></th>\n",
              "      <th></th>\n",
              "    </tr>\n",
              "  </thead>\n",
              "  <tbody>\n",
              "    <tr>\n",
              "      <th>1880</th>\n",
              "      <td>1.000</td>\n",
              "      <td>0.997</td>\n",
              "    </tr>\n",
              "    <tr>\n",
              "      <th>1881</th>\n",
              "      <td>1.000</td>\n",
              "      <td>1.000</td>\n",
              "    </tr>\n",
              "    <tr>\n",
              "      <th>1882</th>\n",
              "      <td>0.999</td>\n",
              "      <td>0.996</td>\n",
              "    </tr>\n",
              "    <tr>\n",
              "      <th>1883</th>\n",
              "      <td>0.998</td>\n",
              "      <td>0.999</td>\n",
              "    </tr>\n",
              "    <tr>\n",
              "      <th>1884</th>\n",
              "      <td>0.993</td>\n",
              "      <td>0.995</td>\n",
              "    </tr>\n",
              "    <tr>\n",
              "      <th>...</th>\n",
              "      <td>...</td>\n",
              "      <td>...</td>\n",
              "    </tr>\n",
              "    <tr>\n",
              "      <th>2006</th>\n",
              "      <td>0.753</td>\n",
              "      <td>0.860</td>\n",
              "    </tr>\n",
              "    <tr>\n",
              "      <th>2007</th>\n",
              "      <td>0.746</td>\n",
              "      <td>0.855</td>\n",
              "    </tr>\n",
              "    <tr>\n",
              "      <th>2008</th>\n",
              "      <td>0.741</td>\n",
              "      <td>0.850</td>\n",
              "    </tr>\n",
              "    <tr>\n",
              "      <th>2009</th>\n",
              "      <td>0.737</td>\n",
              "      <td>0.845</td>\n",
              "    </tr>\n",
              "    <tr>\n",
              "      <th>2010</th>\n",
              "      <td>0.737</td>\n",
              "      <td>0.843</td>\n",
              "    </tr>\n",
              "  </tbody>\n",
              "</table>\n",
              "<p>131 rows × 2 columns</p>\n",
              "</div>"
            ],
            "text/plain": [
              "sex      F     M\n",
              "year            \n",
              "1880 1.000 0.997\n",
              "1881 1.000 1.000\n",
              "1882 0.999 0.996\n",
              "1883 0.998 0.999\n",
              "1884 0.993 0.995\n",
              "...    ...   ...\n",
              "2006 0.753 0.860\n",
              "2007 0.746 0.855\n",
              "2008 0.741 0.850\n",
              "2009 0.737 0.845\n",
              "2010 0.737 0.843\n",
              "\n",
              "[131 rows x 2 columns]"
            ]
          },
          "metadata": {
            "tags": []
          },
          "execution_count": 184
        }
      ]
    },
    {
      "cell_type": "code",
      "metadata": {
        "id": "zmFhxqc2Eeal",
        "colab_type": "code",
        "colab": {
          "base_uri": "https://localhost:8080/",
          "height": 535
        },
        "outputId": "3a83a8c7-3340-4860-de4c-df0a8455dec2"
      },
      "source": [
        "sns.set()\n",
        "total_prop.plot(title='Sum of table1000.prop by year and sex', yticks=np.linspace(0, 1.2, 13), \n",
        "                xticks=range(1880, 2020, 10), figsize=(10,8))"
      ],
      "execution_count": 185,
      "outputs": [
        {
          "output_type": "execute_result",
          "data": {
            "text/plain": [
              "<matplotlib.axes._subplots.AxesSubplot at 0x7fb98a06a550>"
            ]
          },
          "metadata": {
            "tags": []
          },
          "execution_count": 185
        },
        {
          "output_type": "display_data",
          "data": {
            "image/png": "[encoded data removed]",
            "text/plain": [
              "<Figure size 720x576 with 1 Axes>"
            ]
          },
          "metadata": {
            "tags": []
          }
        }
      ]
    },
    {
      "cell_type": "code",
      "metadata": {
        "id": "-5LJ9AZOEean",
        "colab_type": "code",
        "colab": {}
      },
      "source": [
        "def get_quantile_count(group, q=0.5):\n",
        "    return group.sort_values(by='prop', ascending=False).prop.cumsum().values.searchsorted(q) + 1\n",
        "\n",
        "diversity = top1000.groupby(['year', 'sex']).apply(get_quantile_count)"
      ],
      "execution_count": 186,
      "outputs": []
    },
    {
      "cell_type": "code",
      "metadata": {
        "id": "zrElzmjfEeao",
        "colab_type": "code",
        "colab": {
          "base_uri": "https://localhost:8080/",
          "height": 318
        },
        "outputId": "9979c256-e7fb-4fdf-ffad-5e86b5bc42f3"
      },
      "source": [
        "diversity.unstack().plot(title=\"Number of popular names in top 50%\")"
      ],
      "execution_count": 187,
      "outputs": [
        {
          "output_type": "execute_result",
          "data": {
            "text/plain": [
              "<matplotlib.axes._subplots.AxesSubplot at 0x7fb98a02d710>"
            ]
          },
          "metadata": {
            "tags": []
          },
          "execution_count": 187
        },
        {
          "output_type": "display_data",
          "data": {
            "image/png": "[encoded data removed]",
            "text/plain": [
              "<Figure size 432x288 with 1 Axes>"
            ]
          },
          "metadata": {
            "tags": []
          }
        }
      ]
    },
    {
      "cell_type": "markdown",
      "metadata": {
        "id": "2Jiy2xd2Eeap",
        "colab_type": "text"
      },
      "source": [
        "Notice it needs more names as years progress in order to reach 50% of births in a paricular year. \n",
        "As you can see, girl names have always been more diverse than boy names, and they have only become more so over time."
      ]
    },
    {
      "cell_type": "markdown",
      "metadata": {
        "id": "-eajIArwEeap",
        "colab_type": "text"
      },
      "source": [
        "## Boy names that became girl names (and vice versa)"
      ]
    },
    {
      "cell_type": "markdown",
      "metadata": {
        "id": "2WPdogcPEeap",
        "colab_type": "text"
      },
      "source": [
        "Another fun trend is looking at boy names that were more popular with one sex ear‐\n",
        "lier in the sample but have “changed sexes” in the present. One example is the name\n",
        "Lesley or Leslie."
      ]
    },
    {
      "cell_type": "code",
      "metadata": {
        "id": "XF-QQCRcEeaq",
        "colab_type": "code",
        "colab": {
          "base_uri": "https://localhost:8080/",
          "height": 118
        },
        "outputId": "70f83117-97b0-41b7-ffde-3386c5935a87"
      },
      "source": [
        "all_names = pd.Series(top1000.name.unique()) # series containing unique names\n",
        "lesley_like = all_names[all_names.str.lower().str.contains('lesl')] # get all names like *Lesl*\n",
        "lesley_like"
      ],
      "execution_count": 188,
      "outputs": [
        {
          "output_type": "execute_result",
          "data": {
            "text/plain": [
              "632     Leslie\n",
              "2294    Lesley\n",
              "4262    Leslee\n",
              "4728     Lesli\n",
              "6103     Lesly\n",
              "dtype: object"
            ]
          },
          "metadata": {
            "tags": []
          },
          "execution_count": 188
        }
      ]
    },
    {
      "cell_type": "code",
      "metadata": {
        "id": "UVbDHSTIEear",
        "colab_type": "code",
        "colab": {
          "base_uri": "https://localhost:8080/",
          "height": 402
        },
        "outputId": "86e7ffbd-9f70-414f-b709-63b5579833f2"
      },
      "source": [
        "filtered = top1000[top1000.name.isin(lesley_like)] # return a subset dataframe of names like *lesl*\n",
        "filtered"
      ],
      "execution_count": 189,
      "outputs": [
        {
          "output_type": "execute_result",
          "data": {
            "text/html": [
              "<div>\n",
              "<style scoped>\n",
              "    .dataframe tbody tr th:only-of-type {\n",
              "        vertical-align: middle;\n",
              "    }\n",
              "\n",
              "    .dataframe tbody tr th {\n",
              "        vertical-align: top;\n",
              "    }\n",
              "\n",
              "    .dataframe thead th {\n",
              "        text-align: right;\n",
              "    }\n",
              "</style>\n",
              "<table border=\"1\" class=\"dataframe\">\n",
              "  <thead>\n",
              "    <tr style=\"text-align: right;\">\n",
              "      <th></th>\n",
              "      <th>name</th>\n",
              "      <th>sex</th>\n",
              "      <th>births</th>\n",
              "      <th>year</th>\n",
              "      <th>prop</th>\n",
              "    </tr>\n",
              "  </thead>\n",
              "  <tbody>\n",
              "    <tr>\n",
              "      <th>632</th>\n",
              "      <td>Leslie</td>\n",
              "      <td>F</td>\n",
              "      <td>8</td>\n",
              "      <td>1880</td>\n",
              "      <td>0.000</td>\n",
              "    </tr>\n",
              "    <tr>\n",
              "      <th>1108</th>\n",
              "      <td>Leslie</td>\n",
              "      <td>M</td>\n",
              "      <td>79</td>\n",
              "      <td>1880</td>\n",
              "      <td>0.001</td>\n",
              "    </tr>\n",
              "    <tr>\n",
              "      <th>2462</th>\n",
              "      <td>Leslie</td>\n",
              "      <td>F</td>\n",
              "      <td>11</td>\n",
              "      <td>1881</td>\n",
              "      <td>0.000</td>\n",
              "    </tr>\n",
              "    <tr>\n",
              "      <th>3014</th>\n",
              "      <td>Leslie</td>\n",
              "      <td>M</td>\n",
              "      <td>92</td>\n",
              "      <td>1881</td>\n",
              "      <td>0.001</td>\n",
              "    </tr>\n",
              "    <tr>\n",
              "      <th>4512</th>\n",
              "      <td>Leslie</td>\n",
              "      <td>F</td>\n",
              "      <td>9</td>\n",
              "      <td>1882</td>\n",
              "      <td>0.000</td>\n",
              "    </tr>\n",
              "    <tr>\n",
              "      <th>...</th>\n",
              "      <td>...</td>\n",
              "      <td>...</td>\n",
              "      <td>...</td>\n",
              "      <td>...</td>\n",
              "      <td>...</td>\n",
              "    </tr>\n",
              "    <tr>\n",
              "      <th>256327</th>\n",
              "      <td>Lesly</td>\n",
              "      <td>F</td>\n",
              "      <td>699</td>\n",
              "      <td>2008</td>\n",
              "      <td>0.000</td>\n",
              "    </tr>\n",
              "    <tr>\n",
              "      <th>258036</th>\n",
              "      <td>Leslie</td>\n",
              "      <td>F</td>\n",
              "      <td>1975</td>\n",
              "      <td>2009</td>\n",
              "      <td>0.001</td>\n",
              "    </tr>\n",
              "    <tr>\n",
              "      <th>258378</th>\n",
              "      <td>Lesly</td>\n",
              "      <td>F</td>\n",
              "      <td>598</td>\n",
              "      <td>2009</td>\n",
              "      <td>0.000</td>\n",
              "    </tr>\n",
              "    <tr>\n",
              "      <th>260073</th>\n",
              "      <td>Leslie</td>\n",
              "      <td>F</td>\n",
              "      <td>1558</td>\n",
              "      <td>2010</td>\n",
              "      <td>0.001</td>\n",
              "    </tr>\n",
              "    <tr>\n",
              "      <th>260456</th>\n",
              "      <td>Lesly</td>\n",
              "      <td>F</td>\n",
              "      <td>502</td>\n",
              "      <td>2010</td>\n",
              "      <td>0.000</td>\n",
              "    </tr>\n",
              "  </tbody>\n",
              "</table>\n",
              "<p>400 rows × 5 columns</p>\n",
              "</div>"
            ],
            "text/plain": [
              "          name sex  births  year  prop\n",
              "632     Leslie   F       8  1880 0.000\n",
              "1108    Leslie   M      79  1880 0.001\n",
              "2462    Leslie   F      11  1881 0.000\n",
              "3014    Leslie   M      92  1881 0.001\n",
              "4512    Leslie   F       9  1882 0.000\n",
              "...        ...  ..     ...   ...   ...\n",
              "256327   Lesly   F     699  2008 0.000\n",
              "258036  Leslie   F    1975  2009 0.001\n",
              "258378   Lesly   F     598  2009 0.000\n",
              "260073  Leslie   F    1558  2010 0.001\n",
              "260456   Lesly   F     502  2010 0.000\n",
              "\n",
              "[400 rows x 5 columns]"
            ]
          },
          "metadata": {
            "tags": []
          },
          "execution_count": 189
        }
      ]
    },
    {
      "cell_type": "code",
      "metadata": {
        "id": "tcuaHaNqEeas",
        "colab_type": "code",
        "colab": {
          "base_uri": "https://localhost:8080/",
          "height": 134
        },
        "outputId": "1686fc41-d186-4e39-a5d7-3c06e4b6369e"
      },
      "source": [
        "filtered.groupby('name').births.sum()"
      ],
      "execution_count": 190,
      "outputs": [
        {
          "output_type": "execute_result",
          "data": {
            "text/plain": [
              "name\n",
              "Leslee      1082\n",
              "Lesley     35022\n",
              "Lesli        929\n",
              "Leslie    370429\n",
              "Lesly      10067\n",
              "Name: births, dtype: int64"
            ]
          },
          "metadata": {
            "tags": []
          },
          "execution_count": 190
        }
      ]
    },
    {
      "cell_type": "code",
      "metadata": {
        "id": "PCr0kG3TEeau",
        "colab_type": "code",
        "colab": {
          "base_uri": "https://localhost:8080/",
          "height": 431
        },
        "outputId": "0bd7980a-80ea-43c9-d723-21986693a8d6"
      },
      "source": [
        "table = filtered.pivot_table('births', index='year', columns='sex', aggfunc='sum')\n",
        "table"
      ],
      "execution_count": 191,
      "outputs": [
        {
          "output_type": "execute_result",
          "data": {
            "text/html": [
              "<div>\n",
              "<style scoped>\n",
              "    .dataframe tbody tr th:only-of-type {\n",
              "        vertical-align: middle;\n",
              "    }\n",
              "\n",
              "    .dataframe tbody tr th {\n",
              "        vertical-align: top;\n",
              "    }\n",
              "\n",
              "    .dataframe thead th {\n",
              "        text-align: right;\n",
              "    }\n",
              "</style>\n",
              "<table border=\"1\" class=\"dataframe\">\n",
              "  <thead>\n",
              "    <tr style=\"text-align: right;\">\n",
              "      <th>sex</th>\n",
              "      <th>F</th>\n",
              "      <th>M</th>\n",
              "    </tr>\n",
              "    <tr>\n",
              "      <th>year</th>\n",
              "      <th></th>\n",
              "      <th></th>\n",
              "    </tr>\n",
              "  </thead>\n",
              "  <tbody>\n",
              "    <tr>\n",
              "      <th>1880</th>\n",
              "      <td>8.000</td>\n",
              "      <td>79.000</td>\n",
              "    </tr>\n",
              "    <tr>\n",
              "      <th>1881</th>\n",
              "      <td>11.000</td>\n",
              "      <td>92.000</td>\n",
              "    </tr>\n",
              "    <tr>\n",
              "      <th>1882</th>\n",
              "      <td>9.000</td>\n",
              "      <td>128.000</td>\n",
              "    </tr>\n",
              "    <tr>\n",
              "      <th>1883</th>\n",
              "      <td>7.000</td>\n",
              "      <td>125.000</td>\n",
              "    </tr>\n",
              "    <tr>\n",
              "      <th>1884</th>\n",
              "      <td>15.000</td>\n",
              "      <td>125.000</td>\n",
              "    </tr>\n",
              "    <tr>\n",
              "      <th>...</th>\n",
              "      <td>...</td>\n",
              "      <td>...</td>\n",
              "    </tr>\n",
              "    <tr>\n",
              "      <th>2006</th>\n",
              "      <td>4166.000</td>\n",
              "      <td>nan</td>\n",
              "    </tr>\n",
              "    <tr>\n",
              "      <th>2007</th>\n",
              "      <td>3805.000</td>\n",
              "      <td>nan</td>\n",
              "    </tr>\n",
              "    <tr>\n",
              "      <th>2008</th>\n",
              "      <td>3022.000</td>\n",
              "      <td>nan</td>\n",
              "    </tr>\n",
              "    <tr>\n",
              "      <th>2009</th>\n",
              "      <td>2573.000</td>\n",
              "      <td>nan</td>\n",
              "    </tr>\n",
              "    <tr>\n",
              "      <th>2010</th>\n",
              "      <td>2060.000</td>\n",
              "      <td>nan</td>\n",
              "    </tr>\n",
              "  </tbody>\n",
              "</table>\n",
              "<p>131 rows × 2 columns</p>\n",
              "</div>"
            ],
            "text/plain": [
              "sex         F       M\n",
              "year                 \n",
              "1880    8.000  79.000\n",
              "1881   11.000  92.000\n",
              "1882    9.000 128.000\n",
              "1883    7.000 125.000\n",
              "1884   15.000 125.000\n",
              "...       ...     ...\n",
              "2006 4166.000     nan\n",
              "2007 3805.000     nan\n",
              "2008 3022.000     nan\n",
              "2009 2573.000     nan\n",
              "2010 2060.000     nan\n",
              "\n",
              "[131 rows x 2 columns]"
            ]
          },
          "metadata": {
            "tags": []
          },
          "execution_count": 191
        }
      ]
    },
    {
      "cell_type": "code",
      "metadata": {
        "id": "najHw51rEeav",
        "colab_type": "code",
        "colab": {
          "base_uri": "https://localhost:8080/",
          "height": 431
        },
        "outputId": "423d7637-8a84-438b-82a9-66bb145046b6"
      },
      "source": [
        "table = table.div(table.sum(1), axis=0)\n",
        "table"
      ],
      "execution_count": 192,
      "outputs": [
        {
          "output_type": "execute_result",
          "data": {
            "text/html": [
              "<div>\n",
              "<style scoped>\n",
              "    .dataframe tbody tr th:only-of-type {\n",
              "        vertical-align: middle;\n",
              "    }\n",
              "\n",
              "    .dataframe tbody tr th {\n",
              "        vertical-align: top;\n",
              "    }\n",
              "\n",
              "    .dataframe thead th {\n",
              "        text-align: right;\n",
              "    }\n",
              "</style>\n",
              "<table border=\"1\" class=\"dataframe\">\n",
              "  <thead>\n",
              "    <tr style=\"text-align: right;\">\n",
              "      <th>sex</th>\n",
              "      <th>F</th>\n",
              "      <th>M</th>\n",
              "    </tr>\n",
              "    <tr>\n",
              "      <th>year</th>\n",
              "      <th></th>\n",
              "      <th></th>\n",
              "    </tr>\n",
              "  </thead>\n",
              "  <tbody>\n",
              "    <tr>\n",
              "      <th>1880</th>\n",
              "      <td>0.092</td>\n",
              "      <td>0.908</td>\n",
              "    </tr>\n",
              "    <tr>\n",
              "      <th>1881</th>\n",
              "      <td>0.107</td>\n",
              "      <td>0.893</td>\n",
              "    </tr>\n",
              "    <tr>\n",
              "      <th>1882</th>\n",
              "      <td>0.066</td>\n",
              "      <td>0.934</td>\n",
              "    </tr>\n",
              "    <tr>\n",
              "      <th>1883</th>\n",
              "      <td>0.053</td>\n",
              "      <td>0.947</td>\n",
              "    </tr>\n",
              "    <tr>\n",
              "      <th>1884</th>\n",
              "      <td>0.107</td>\n",
              "      <td>0.893</td>\n",
              "    </tr>\n",
              "    <tr>\n",
              "      <th>...</th>\n",
              "      <td>...</td>\n",
              "      <td>...</td>\n",
              "    </tr>\n",
              "    <tr>\n",
              "      <th>2006</th>\n",
              "      <td>1.000</td>\n",
              "      <td>nan</td>\n",
              "    </tr>\n",
              "    <tr>\n",
              "      <th>2007</th>\n",
              "      <td>1.000</td>\n",
              "      <td>nan</td>\n",
              "    </tr>\n",
              "    <tr>\n",
              "      <th>2008</th>\n",
              "      <td>1.000</td>\n",
              "      <td>nan</td>\n",
              "    </tr>\n",
              "    <tr>\n",
              "      <th>2009</th>\n",
              "      <td>1.000</td>\n",
              "      <td>nan</td>\n",
              "    </tr>\n",
              "    <tr>\n",
              "      <th>2010</th>\n",
              "      <td>1.000</td>\n",
              "      <td>nan</td>\n",
              "    </tr>\n",
              "  </tbody>\n",
              "</table>\n",
              "<p>131 rows × 2 columns</p>\n",
              "</div>"
            ],
            "text/plain": [
              "sex      F     M\n",
              "year            \n",
              "1880 0.092 0.908\n",
              "1881 0.107 0.893\n",
              "1882 0.066 0.934\n",
              "1883 0.053 0.947\n",
              "1884 0.107 0.893\n",
              "...    ...   ...\n",
              "2006 1.000   nan\n",
              "2007 1.000   nan\n",
              "2008 1.000   nan\n",
              "2009 1.000   nan\n",
              "2010 1.000   nan\n",
              "\n",
              "[131 rows x 2 columns]"
            ]
          },
          "metadata": {
            "tags": []
          },
          "execution_count": 192
        }
      ]
    },
    {
      "cell_type": "code",
      "metadata": {
        "id": "_PnnHsFdEeax",
        "colab_type": "code",
        "colab": {
          "base_uri": "https://localhost:8080/",
          "height": 302
        },
        "outputId": "00debe52-e530-43f3-e5af-46c5ae8ba9e7"
      },
      "source": [
        "table.plot(style={'M': 'k-', 'F': 'k--'})"
      ],
      "execution_count": 193,
      "outputs": [
        {
          "output_type": "execute_result",
          "data": {
            "text/plain": [
              "<matplotlib.axes._subplots.AxesSubplot at 0x7fb9886d8c18>"
            ]
          },
          "metadata": {
            "tags": []
          },
          "execution_count": 193
        },
        {
          "output_type": "display_data",
          "data": {
            "image/png": "[encoded data removed]",
            "text/plain": [
              "<Figure size 432x288 with 1 Axes>"
            ]
          },
          "metadata": {
            "tags": []
          }
        }
      ]
    },
    {
      "cell_type": "code",
      "metadata": {
        "id": "WjtKfp8rEeay",
        "colab_type": "code",
        "colab": {
          "base_uri": "https://localhost:8080/",
          "height": 168
        },
        "outputId": "69a6d0c7-870b-4633-e68c-ad7f896a6630"
      },
      "source": [
        "table.info()"
      ],
      "execution_count": 194,
      "outputs": [
        {
          "output_type": "stream",
          "text": [
            "<class 'pandas.core.frame.DataFrame'>\n",
            "Int64Index: 131 entries, 1880 to 2010\n",
            "Data columns (total 2 columns):\n",
            " #   Column  Non-Null Count  Dtype  \n",
            "---  ------  --------------  -----  \n",
            " 0   F       131 non-null    float64\n",
            " 1   M       118 non-null    float64\n",
            "dtypes: float64(2)\n",
            "memory usage: 3.1 KB\n"
          ],
          "name": "stdout"
        }
      ]
    },
    {
      "cell_type": "markdown",
      "metadata": {
        "id": "oMGlACw6Eeaz",
        "colab_type": "text"
      },
      "source": [
        "# 14.4 USDA Food Database"
      ]
    },
    {
      "cell_type": "code",
      "metadata": {
        "id": "CtMvZRQxEeaz",
        "colab_type": "code",
        "colab": {
          "base_uri": "https://localhost:8080/",
          "height": 34
        },
        "outputId": "1b03dcfd-be82-4316-f828-a6ccf6c44493"
      },
      "source": [
        "import json\n",
        "db = json.load(open('datasets/usda_food/database.json'))\n",
        "len(db)"
      ],
      "execution_count": 195,
      "outputs": [
        {
          "output_type": "execute_result",
          "data": {
            "text/plain": [
              "6636"
            ]
          },
          "metadata": {
            "tags": []
          },
          "execution_count": 195
        }
      ]
    },
    {
      "cell_type": "code",
      "metadata": {
        "id": "_lqpFCAoEea1",
        "colab_type": "code",
        "colab": {
          "base_uri": "https://localhost:8080/",
          "height": 34
        },
        "outputId": "29e4266c-8fd4-4806-c704-72f7b743265e"
      },
      "source": [
        "db[0].keys()"
      ],
      "execution_count": 196,
      "outputs": [
        {
          "output_type": "execute_result",
          "data": {
            "text/plain": [
              "dict_keys(['id', 'description', 'tags', 'manufacturer', 'group', 'portions', 'nutrients'])"
            ]
          },
          "metadata": {
            "tags": []
          },
          "execution_count": 196
        }
      ]
    },
    {
      "cell_type": "code",
      "metadata": {
        "id": "hUx2Ar33Eea4",
        "colab_type": "code",
        "colab": {
          "base_uri": "https://localhost:8080/",
          "height": 34
        },
        "outputId": "ec5a23ea-0e19-4f4c-801f-8b398a967c23"
      },
      "source": [
        "db[0]['nutrients'][0].keys()"
      ],
      "execution_count": 197,
      "outputs": [
        {
          "output_type": "execute_result",
          "data": {
            "text/plain": [
              "dict_keys(['value', 'units', 'description', 'group'])"
            ]
          },
          "metadata": {
            "tags": []
          },
          "execution_count": 197
        }
      ]
    },
    {
      "cell_type": "code",
      "metadata": {
        "id": "wcAIdgg9Eea6",
        "colab_type": "code",
        "colab": {
          "base_uri": "https://localhost:8080/",
          "height": 195
        },
        "outputId": "1a419a02-8d80-40e9-a115-e9280005ecb9"
      },
      "source": [
        "info_keys = ['description', 'group', 'id', 'manufacturer']\n",
        "info = pd.DataFrame(db, columns=info_keys)\n",
        "info.tail()"
      ],
      "execution_count": 198,
      "outputs": [
        {
          "output_type": "execute_result",
          "data": {
            "text/html": [
              "<div>\n",
              "<style scoped>\n",
              "    .dataframe tbody tr th:only-of-type {\n",
              "        vertical-align: middle;\n",
              "    }\n",
              "\n",
              "    .dataframe tbody tr th {\n",
              "        vertical-align: top;\n",
              "    }\n",
              "\n",
              "    .dataframe thead th {\n",
              "        text-align: right;\n",
              "    }\n",
              "</style>\n",
              "<table border=\"1\" class=\"dataframe\">\n",
              "  <thead>\n",
              "    <tr style=\"text-align: right;\">\n",
              "      <th></th>\n",
              "      <th>description</th>\n",
              "      <th>group</th>\n",
              "      <th>id</th>\n",
              "      <th>manufacturer</th>\n",
              "    </tr>\n",
              "  </thead>\n",
              "  <tbody>\n",
              "    <tr>\n",
              "      <th>6631</th>\n",
              "      <td>Bologna, beef, low fat</td>\n",
              "      <td>Sausages and Luncheon Meats</td>\n",
              "      <td>42161</td>\n",
              "      <td></td>\n",
              "    </tr>\n",
              "    <tr>\n",
              "      <th>6632</th>\n",
              "      <td>Turkey and pork sausage, fresh, bulk, patty or...</td>\n",
              "      <td>Sausages and Luncheon Meats</td>\n",
              "      <td>42173</td>\n",
              "      <td></td>\n",
              "    </tr>\n",
              "    <tr>\n",
              "      <th>6633</th>\n",
              "      <td>Babyfood, juice, pear</td>\n",
              "      <td>Baby Foods</td>\n",
              "      <td>43408</td>\n",
              "      <td>None</td>\n",
              "    </tr>\n",
              "    <tr>\n",
              "      <th>6634</th>\n",
              "      <td>Babyfood, dessert, banana yogurt, strained</td>\n",
              "      <td>Baby Foods</td>\n",
              "      <td>43539</td>\n",
              "      <td>None</td>\n",
              "    </tr>\n",
              "    <tr>\n",
              "      <th>6635</th>\n",
              "      <td>Babyfood, banana no tapioca, strained</td>\n",
              "      <td>Baby Foods</td>\n",
              "      <td>43546</td>\n",
              "      <td>None</td>\n",
              "    </tr>\n",
              "  </tbody>\n",
              "</table>\n",
              "</div>"
            ],
            "text/plain": [
              "                                            description                        group     id  \\\n",
              "6631                             Bologna, beef, low fat  Sausages and Luncheon Meats  42161   \n",
              "6632  Turkey and pork sausage, fresh, bulk, patty or...  Sausages and Luncheon Meats  42173   \n",
              "6633                              Babyfood, juice, pear                   Baby Foods  43408   \n",
              "6634         Babyfood, dessert, banana yogurt, strained                   Baby Foods  43539   \n",
              "6635              Babyfood, banana no tapioca, strained                   Baby Foods  43546   \n",
              "\n",
              "     manufacturer  \n",
              "6631               \n",
              "6632               \n",
              "6633         None  \n",
              "6634         None  \n",
              "6635         None  "
            ]
          },
          "metadata": {
            "tags": []
          },
          "execution_count": 198
        }
      ]
    },
    {
      "cell_type": "code",
      "metadata": {
        "id": "WkLXUEuYEea7",
        "colab_type": "code",
        "colab": {
          "base_uri": "https://localhost:8080/",
          "height": 218
        },
        "outputId": "e538de2c-f654-4d04-b420-a32e26c1227b"
      },
      "source": [
        "info['group'].value_counts()"
      ],
      "execution_count": 199,
      "outputs": [
        {
          "output_type": "execute_result",
          "data": {
            "text/plain": [
              "Vegetables and Vegetable Products    812\n",
              "Beef Products                        618\n",
              "Baked Products                       496\n",
              "Breakfast Cereals                    403\n",
              "Legumes and Legume Products          365\n",
              "                                    ... \n",
              "Dairy and Egg Products               107\n",
              "Fats and Oils                         97\n",
              "Meals, Entrees, and Sidedishes        57\n",
              "Restaurant Foods                      51\n",
              "Spices and Herbs                      41\n",
              "Name: group, Length: 25, dtype: int64"
            ]
          },
          "metadata": {
            "tags": []
          },
          "execution_count": 199
        }
      ]
    },
    {
      "cell_type": "code",
      "metadata": {
        "id": "4ZfDwjz-Eea8",
        "colab_type": "code",
        "colab": {
          "base_uri": "https://localhost:8080/",
          "height": 402
        },
        "outputId": "aed8bd7b-8588-4258-9551-4ad50ceb36cc"
      },
      "source": [
        "pieces = []\n",
        "\n",
        "for food in db:\n",
        "    nutrients = pd.DataFrame(food['nutrients'], columns=['description', 'group', 'units', 'value'])\n",
        "    nutrients['id'] = food['id']\n",
        "    pieces.append(nutrients)\n",
        "    \n",
        "nutrients = pd.concat(pieces, ignore_index=True)\n",
        "\n",
        "nutrients"
      ],
      "execution_count": 200,
      "outputs": [
        {
          "output_type": "execute_result",
          "data": {
            "text/html": [
              "<div>\n",
              "<style scoped>\n",
              "    .dataframe tbody tr th:only-of-type {\n",
              "        vertical-align: middle;\n",
              "    }\n",
              "\n",
              "    .dataframe tbody tr th {\n",
              "        vertical-align: top;\n",
              "    }\n",
              "\n",
              "    .dataframe thead th {\n",
              "        text-align: right;\n",
              "    }\n",
              "</style>\n",
              "<table border=\"1\" class=\"dataframe\">\n",
              "  <thead>\n",
              "    <tr style=\"text-align: right;\">\n",
              "      <th></th>\n",
              "      <th>description</th>\n",
              "      <th>group</th>\n",
              "      <th>units</th>\n",
              "      <th>value</th>\n",
              "      <th>id</th>\n",
              "    </tr>\n",
              "  </thead>\n",
              "  <tbody>\n",
              "    <tr>\n",
              "      <th>0</th>\n",
              "      <td>Protein</td>\n",
              "      <td>Composition</td>\n",
              "      <td>g</td>\n",
              "      <td>25.180</td>\n",
              "      <td>1008</td>\n",
              "    </tr>\n",
              "    <tr>\n",
              "      <th>1</th>\n",
              "      <td>Total lipid (fat)</td>\n",
              "      <td>Composition</td>\n",
              "      <td>g</td>\n",
              "      <td>29.200</td>\n",
              "      <td>1008</td>\n",
              "    </tr>\n",
              "    <tr>\n",
              "      <th>2</th>\n",
              "      <td>Carbohydrate, by difference</td>\n",
              "      <td>Composition</td>\n",
              "      <td>g</td>\n",
              "      <td>3.060</td>\n",
              "      <td>1008</td>\n",
              "    </tr>\n",
              "    <tr>\n",
              "      <th>3</th>\n",
              "      <td>Ash</td>\n",
              "      <td>Other</td>\n",
              "      <td>g</td>\n",
              "      <td>3.280</td>\n",
              "      <td>1008</td>\n",
              "    </tr>\n",
              "    <tr>\n",
              "      <th>4</th>\n",
              "      <td>Energy</td>\n",
              "      <td>Energy</td>\n",
              "      <td>kcal</td>\n",
              "      <td>376.000</td>\n",
              "      <td>1008</td>\n",
              "    </tr>\n",
              "    <tr>\n",
              "      <th>...</th>\n",
              "      <td>...</td>\n",
              "      <td>...</td>\n",
              "      <td>...</td>\n",
              "      <td>...</td>\n",
              "      <td>...</td>\n",
              "    </tr>\n",
              "    <tr>\n",
              "      <th>389350</th>\n",
              "      <td>Vitamin B-12, added</td>\n",
              "      <td>Vitamins</td>\n",
              "      <td>mcg</td>\n",
              "      <td>0.000</td>\n",
              "      <td>43546</td>\n",
              "    </tr>\n",
              "    <tr>\n",
              "      <th>389351</th>\n",
              "      <td>Cholesterol</td>\n",
              "      <td>Other</td>\n",
              "      <td>mg</td>\n",
              "      <td>0.000</td>\n",
              "      <td>43546</td>\n",
              "    </tr>\n",
              "    <tr>\n",
              "      <th>389352</th>\n",
              "      <td>Fatty acids, total saturated</td>\n",
              "      <td>Other</td>\n",
              "      <td>g</td>\n",
              "      <td>0.072</td>\n",
              "      <td>43546</td>\n",
              "    </tr>\n",
              "    <tr>\n",
              "      <th>389353</th>\n",
              "      <td>Fatty acids, total monounsaturated</td>\n",
              "      <td>Other</td>\n",
              "      <td>g</td>\n",
              "      <td>0.028</td>\n",
              "      <td>43546</td>\n",
              "    </tr>\n",
              "    <tr>\n",
              "      <th>389354</th>\n",
              "      <td>Fatty acids, total polyunsaturated</td>\n",
              "      <td>Other</td>\n",
              "      <td>g</td>\n",
              "      <td>0.041</td>\n",
              "      <td>43546</td>\n",
              "    </tr>\n",
              "  </tbody>\n",
              "</table>\n",
              "<p>389355 rows × 5 columns</p>\n",
              "</div>"
            ],
            "text/plain": [
              "                               description        group units   value     id\n",
              "0                                  Protein  Composition     g  25.180   1008\n",
              "1                        Total lipid (fat)  Composition     g  29.200   1008\n",
              "2              Carbohydrate, by difference  Composition     g   3.060   1008\n",
              "3                                      Ash        Other     g   3.280   1008\n",
              "4                                   Energy       Energy  kcal 376.000   1008\n",
              "...                                    ...          ...   ...     ...    ...\n",
              "389350                 Vitamin B-12, added     Vitamins   mcg   0.000  43546\n",
              "389351                         Cholesterol        Other    mg   0.000  43546\n",
              "389352        Fatty acids, total saturated        Other     g   0.072  43546\n",
              "389353  Fatty acids, total monounsaturated        Other     g   0.028  43546\n",
              "389354  Fatty acids, total polyunsaturated        Other     g   0.041  43546\n",
              "\n",
              "[389355 rows x 5 columns]"
            ]
          },
          "metadata": {
            "tags": []
          },
          "execution_count": 200
        }
      ]
    },
    {
      "cell_type": "code",
      "metadata": {
        "id": "Z34QFcGQEea-",
        "colab_type": "code",
        "colab": {
          "base_uri": "https://localhost:8080/",
          "height": 402
        },
        "outputId": "68ad68ac-5bbc-41d4-a701-dce6f0d0fa11"
      },
      "source": [
        "nutrients[nutrients.duplicated()].sort_values(by=['description', 'group', 'units', 'value', 'id'])"
      ],
      "execution_count": 201,
      "outputs": [
        {
          "output_type": "execute_result",
          "data": {
            "text/html": [
              "<div>\n",
              "<style scoped>\n",
              "    .dataframe tbody tr th:only-of-type {\n",
              "        vertical-align: middle;\n",
              "    }\n",
              "\n",
              "    .dataframe tbody tr th {\n",
              "        vertical-align: top;\n",
              "    }\n",
              "\n",
              "    .dataframe thead th {\n",
              "        text-align: right;\n",
              "    }\n",
              "</style>\n",
              "<table border=\"1\" class=\"dataframe\">\n",
              "  <thead>\n",
              "    <tr style=\"text-align: right;\">\n",
              "      <th></th>\n",
              "      <th>description</th>\n",
              "      <th>group</th>\n",
              "      <th>units</th>\n",
              "      <th>value</th>\n",
              "      <th>id</th>\n",
              "    </tr>\n",
              "  </thead>\n",
              "  <tbody>\n",
              "    <tr>\n",
              "      <th>19919</th>\n",
              "      <td>Alanine</td>\n",
              "      <td>Amino Acids</td>\n",
              "      <td>g</td>\n",
              "      <td>0.000</td>\n",
              "      <td>2048</td>\n",
              "    </tr>\n",
              "    <tr>\n",
              "      <th>2553</th>\n",
              "      <td>Alanine</td>\n",
              "      <td>Amino Acids</td>\n",
              "      <td>g</td>\n",
              "      <td>0.031</td>\n",
              "      <td>1068</td>\n",
              "    </tr>\n",
              "    <tr>\n",
              "      <th>2608</th>\n",
              "      <td>Alanine</td>\n",
              "      <td>Amino Acids</td>\n",
              "      <td>g</td>\n",
              "      <td>0.031</td>\n",
              "      <td>1068</td>\n",
              "    </tr>\n",
              "    <tr>\n",
              "      <th>20150</th>\n",
              "      <td>Alanine</td>\n",
              "      <td>Amino Acids</td>\n",
              "      <td>g</td>\n",
              "      <td>0.047</td>\n",
              "      <td>1067</td>\n",
              "    </tr>\n",
              "    <tr>\n",
              "      <th>20221</th>\n",
              "      <td>Alanine</td>\n",
              "      <td>Amino Acids</td>\n",
              "      <td>g</td>\n",
              "      <td>0.047</td>\n",
              "      <td>1067</td>\n",
              "    </tr>\n",
              "    <tr>\n",
              "      <th>...</th>\n",
              "      <td>...</td>\n",
              "      <td>...</td>\n",
              "      <td>...</td>\n",
              "      <td>...</td>\n",
              "      <td>...</td>\n",
              "    </tr>\n",
              "    <tr>\n",
              "      <th>19219</th>\n",
              "      <td>Zinc, Zn</td>\n",
              "      <td>Elements</td>\n",
              "      <td>mg</td>\n",
              "      <td>4.700</td>\n",
              "      <td>2038</td>\n",
              "    </tr>\n",
              "    <tr>\n",
              "      <th>17928</th>\n",
              "      <td>Zinc, Zn</td>\n",
              "      <td>Elements</td>\n",
              "      <td>mg</td>\n",
              "      <td>5.440</td>\n",
              "      <td>2029</td>\n",
              "    </tr>\n",
              "    <tr>\n",
              "      <th>18012</th>\n",
              "      <td>Zinc, Zn</td>\n",
              "      <td>Elements</td>\n",
              "      <td>mg</td>\n",
              "      <td>5.440</td>\n",
              "      <td>2029</td>\n",
              "    </tr>\n",
              "    <tr>\n",
              "      <th>14037</th>\n",
              "      <td>Zinc, Zn</td>\n",
              "      <td>Elements</td>\n",
              "      <td>mg</td>\n",
              "      <td>8.800</td>\n",
              "      <td>2008</td>\n",
              "    </tr>\n",
              "    <tr>\n",
              "      <th>14077</th>\n",
              "      <td>Zinc, Zn</td>\n",
              "      <td>Elements</td>\n",
              "      <td>mg</td>\n",
              "      <td>8.800</td>\n",
              "      <td>2008</td>\n",
              "    </tr>\n",
              "  </tbody>\n",
              "</table>\n",
              "<p>14179 rows × 5 columns</p>\n",
              "</div>"
            ],
            "text/plain": [
              "      description        group units  value    id\n",
              "19919     Alanine  Amino Acids     g  0.000  2048\n",
              "2553      Alanine  Amino Acids     g  0.031  1068\n",
              "2608      Alanine  Amino Acids     g  0.031  1068\n",
              "20150     Alanine  Amino Acids     g  0.047  1067\n",
              "20221     Alanine  Amino Acids     g  0.047  1067\n",
              "...           ...          ...   ...    ...   ...\n",
              "19219    Zinc, Zn     Elements    mg  4.700  2038\n",
              "17928    Zinc, Zn     Elements    mg  5.440  2029\n",
              "18012    Zinc, Zn     Elements    mg  5.440  2029\n",
              "14037    Zinc, Zn     Elements    mg  8.800  2008\n",
              "14077    Zinc, Zn     Elements    mg  8.800  2008\n",
              "\n",
              "[14179 rows x 5 columns]"
            ]
          },
          "metadata": {
            "tags": []
          },
          "execution_count": 201
        }
      ]
    },
    {
      "cell_type": "code",
      "metadata": {
        "id": "DuP0Zo_wEea_",
        "colab_type": "code",
        "colab": {}
      },
      "source": [
        "nutrients = nutrients.drop_duplicates()"
      ],
      "execution_count": 202,
      "outputs": []
    },
    {
      "cell_type": "code",
      "metadata": {
        "id": "y0O0vDbeEebB",
        "colab_type": "code",
        "colab": {
          "base_uri": "https://localhost:8080/",
          "height": 202
        },
        "outputId": "27931d4d-2937-42e4-9b22-92e19bc72e27"
      },
      "source": [
        "col_mapping = {'description' : 'food',\n",
        "                'group' : 'fgroup'}\n",
        "info = info.rename(columns=col_mapping, copy=False)\n",
        "info.info()"
      ],
      "execution_count": 203,
      "outputs": [
        {
          "output_type": "stream",
          "text": [
            "<class 'pandas.core.frame.DataFrame'>\n",
            "RangeIndex: 6636 entries, 0 to 6635\n",
            "Data columns (total 4 columns):\n",
            " #   Column        Non-Null Count  Dtype \n",
            "---  ------        --------------  ----- \n",
            " 0   food          6636 non-null   object\n",
            " 1   fgroup        6636 non-null   object\n",
            " 2   id            6636 non-null   int64 \n",
            " 3   manufacturer  5195 non-null   object\n",
            "dtypes: int64(1), object(3)\n",
            "memory usage: 207.5+ KB\n"
          ],
          "name": "stdout"
        }
      ]
    },
    {
      "cell_type": "code",
      "metadata": {
        "id": "kTfML3IXEebC",
        "colab_type": "code",
        "colab": {
          "base_uri": "https://localhost:8080/",
          "height": 218
        },
        "outputId": "494b0c00-2df6-4957-f9ef-bad55adaf735"
      },
      "source": [
        "col_mapping = {'description' : 'nutrient',\n",
        "                'group' : 'nutgroup'}\n",
        "\n",
        "nutrients = nutrients.rename(columns=col_mapping, copy=False)\n",
        "nutrients.info()"
      ],
      "execution_count": 204,
      "outputs": [
        {
          "output_type": "stream",
          "text": [
            "<class 'pandas.core.frame.DataFrame'>\n",
            "Int64Index: 375176 entries, 0 to 389354\n",
            "Data columns (total 5 columns):\n",
            " #   Column    Non-Null Count   Dtype  \n",
            "---  ------    --------------   -----  \n",
            " 0   nutrient  375176 non-null  object \n",
            " 1   nutgroup  375176 non-null  object \n",
            " 2   units     375176 non-null  object \n",
            " 3   value     375176 non-null  float64\n",
            " 4   id        375176 non-null  int64  \n",
            "dtypes: float64(1), int64(1), object(3)\n",
            "memory usage: 17.2+ MB\n"
          ],
          "name": "stdout"
        }
      ]
    },
    {
      "cell_type": "code",
      "metadata": {
        "id": "upXsa5aNEebE",
        "colab_type": "code",
        "colab": {
          "base_uri": "https://localhost:8080/",
          "height": 402
        },
        "outputId": "b10ec3d2-d55c-4f86-ae86-ac6108cf788c"
      },
      "source": [
        "nutrients"
      ],
      "execution_count": 205,
      "outputs": [
        {
          "output_type": "execute_result",
          "data": {
            "text/html": [
              "<div>\n",
              "<style scoped>\n",
              "    .dataframe tbody tr th:only-of-type {\n",
              "        vertical-align: middle;\n",
              "    }\n",
              "\n",
              "    .dataframe tbody tr th {\n",
              "        vertical-align: top;\n",
              "    }\n",
              "\n",
              "    .dataframe thead th {\n",
              "        text-align: right;\n",
              "    }\n",
              "</style>\n",
              "<table border=\"1\" class=\"dataframe\">\n",
              "  <thead>\n",
              "    <tr style=\"text-align: right;\">\n",
              "      <th></th>\n",
              "      <th>nutrient</th>\n",
              "      <th>nutgroup</th>\n",
              "      <th>units</th>\n",
              "      <th>value</th>\n",
              "      <th>id</th>\n",
              "    </tr>\n",
              "  </thead>\n",
              "  <tbody>\n",
              "    <tr>\n",
              "      <th>0</th>\n",
              "      <td>Protein</td>\n",
              "      <td>Composition</td>\n",
              "      <td>g</td>\n",
              "      <td>25.180</td>\n",
              "      <td>1008</td>\n",
              "    </tr>\n",
              "    <tr>\n",
              "      <th>1</th>\n",
              "      <td>Total lipid (fat)</td>\n",
              "      <td>Composition</td>\n",
              "      <td>g</td>\n",
              "      <td>29.200</td>\n",
              "      <td>1008</td>\n",
              "    </tr>\n",
              "    <tr>\n",
              "      <th>2</th>\n",
              "      <td>Carbohydrate, by difference</td>\n",
              "      <td>Composition</td>\n",
              "      <td>g</td>\n",
              "      <td>3.060</td>\n",
              "      <td>1008</td>\n",
              "    </tr>\n",
              "    <tr>\n",
              "      <th>3</th>\n",
              "      <td>Ash</td>\n",
              "      <td>Other</td>\n",
              "      <td>g</td>\n",
              "      <td>3.280</td>\n",
              "      <td>1008</td>\n",
              "    </tr>\n",
              "    <tr>\n",
              "      <th>4</th>\n",
              "      <td>Energy</td>\n",
              "      <td>Energy</td>\n",
              "      <td>kcal</td>\n",
              "      <td>376.000</td>\n",
              "      <td>1008</td>\n",
              "    </tr>\n",
              "    <tr>\n",
              "      <th>...</th>\n",
              "      <td>...</td>\n",
              "      <td>...</td>\n",
              "      <td>...</td>\n",
              "      <td>...</td>\n",
              "      <td>...</td>\n",
              "    </tr>\n",
              "    <tr>\n",
              "      <th>389350</th>\n",
              "      <td>Vitamin B-12, added</td>\n",
              "      <td>Vitamins</td>\n",
              "      <td>mcg</td>\n",
              "      <td>0.000</td>\n",
              "      <td>43546</td>\n",
              "    </tr>\n",
              "    <tr>\n",
              "      <th>389351</th>\n",
              "      <td>Cholesterol</td>\n",
              "      <td>Other</td>\n",
              "      <td>mg</td>\n",
              "      <td>0.000</td>\n",
              "      <td>43546</td>\n",
              "    </tr>\n",
              "    <tr>\n",
              "      <th>389352</th>\n",
              "      <td>Fatty acids, total saturated</td>\n",
              "      <td>Other</td>\n",
              "      <td>g</td>\n",
              "      <td>0.072</td>\n",
              "      <td>43546</td>\n",
              "    </tr>\n",
              "    <tr>\n",
              "      <th>389353</th>\n",
              "      <td>Fatty acids, total monounsaturated</td>\n",
              "      <td>Other</td>\n",
              "      <td>g</td>\n",
              "      <td>0.028</td>\n",
              "      <td>43546</td>\n",
              "    </tr>\n",
              "    <tr>\n",
              "      <th>389354</th>\n",
              "      <td>Fatty acids, total polyunsaturated</td>\n",
              "      <td>Other</td>\n",
              "      <td>g</td>\n",
              "      <td>0.041</td>\n",
              "      <td>43546</td>\n",
              "    </tr>\n",
              "  </tbody>\n",
              "</table>\n",
              "<p>375176 rows × 5 columns</p>\n",
              "</div>"
            ],
            "text/plain": [
              "                                  nutrient     nutgroup units   value     id\n",
              "0                                  Protein  Composition     g  25.180   1008\n",
              "1                        Total lipid (fat)  Composition     g  29.200   1008\n",
              "2              Carbohydrate, by difference  Composition     g   3.060   1008\n",
              "3                                      Ash        Other     g   3.280   1008\n",
              "4                                   Energy       Energy  kcal 376.000   1008\n",
              "...                                    ...          ...   ...     ...    ...\n",
              "389350                 Vitamin B-12, added     Vitamins   mcg   0.000  43546\n",
              "389351                         Cholesterol        Other    mg   0.000  43546\n",
              "389352        Fatty acids, total saturated        Other     g   0.072  43546\n",
              "389353  Fatty acids, total monounsaturated        Other     g   0.028  43546\n",
              "389354  Fatty acids, total polyunsaturated        Other     g   0.041  43546\n",
              "\n",
              "[375176 rows x 5 columns]"
            ]
          },
          "metadata": {
            "tags": []
          },
          "execution_count": 205
        }
      ]
    },
    {
      "cell_type": "code",
      "metadata": {
        "id": "b8lraY80EebF",
        "colab_type": "code",
        "colab": {
          "base_uri": "https://localhost:8080/",
          "height": 654
        },
        "outputId": "dd319318-efe6-4ba7-ceab-08a77838597d"
      },
      "source": [
        "ndata = pd.merge(nutrients, info, on='id', how='outer')\n",
        "ndata.info()\n",
        "ndata"
      ],
      "execution_count": 206,
      "outputs": [
        {
          "output_type": "stream",
          "text": [
            "<class 'pandas.core.frame.DataFrame'>\n",
            "Int64Index: 375176 entries, 0 to 375175\n",
            "Data columns (total 8 columns):\n",
            " #   Column        Non-Null Count   Dtype  \n",
            "---  ------        --------------   -----  \n",
            " 0   nutrient      375176 non-null  object \n",
            " 1   nutgroup      375176 non-null  object \n",
            " 2   units         375176 non-null  object \n",
            " 3   value         375176 non-null  float64\n",
            " 4   id            375176 non-null  int64  \n",
            " 5   food          375176 non-null  object \n",
            " 6   fgroup        375176 non-null  object \n",
            " 7   manufacturer  293054 non-null  object \n",
            "dtypes: float64(1), int64(1), object(6)\n",
            "memory usage: 25.8+ MB\n"
          ],
          "name": "stdout"
        },
        {
          "output_type": "execute_result",
          "data": {
            "text/html": [
              "<div>\n",
              "<style scoped>\n",
              "    .dataframe tbody tr th:only-of-type {\n",
              "        vertical-align: middle;\n",
              "    }\n",
              "\n",
              "    .dataframe tbody tr th {\n",
              "        vertical-align: top;\n",
              "    }\n",
              "\n",
              "    .dataframe thead th {\n",
              "        text-align: right;\n",
              "    }\n",
              "</style>\n",
              "<table border=\"1\" class=\"dataframe\">\n",
              "  <thead>\n",
              "    <tr style=\"text-align: right;\">\n",
              "      <th></th>\n",
              "      <th>nutrient</th>\n",
              "      <th>nutgroup</th>\n",
              "      <th>units</th>\n",
              "      <th>value</th>\n",
              "      <th>id</th>\n",
              "      <th>food</th>\n",
              "      <th>fgroup</th>\n",
              "      <th>manufacturer</th>\n",
              "    </tr>\n",
              "  </thead>\n",
              "  <tbody>\n",
              "    <tr>\n",
              "      <th>0</th>\n",
              "      <td>Protein</td>\n",
              "      <td>Composition</td>\n",
              "      <td>g</td>\n",
              "      <td>25.180</td>\n",
              "      <td>1008</td>\n",
              "      <td>Cheese, caraway</td>\n",
              "      <td>Dairy and Egg Products</td>\n",
              "      <td></td>\n",
              "    </tr>\n",
              "    <tr>\n",
              "      <th>1</th>\n",
              "      <td>Total lipid (fat)</td>\n",
              "      <td>Composition</td>\n",
              "      <td>g</td>\n",
              "      <td>29.200</td>\n",
              "      <td>1008</td>\n",
              "      <td>Cheese, caraway</td>\n",
              "      <td>Dairy and Egg Products</td>\n",
              "      <td></td>\n",
              "    </tr>\n",
              "    <tr>\n",
              "      <th>2</th>\n",
              "      <td>Carbohydrate, by difference</td>\n",
              "      <td>Composition</td>\n",
              "      <td>g</td>\n",
              "      <td>3.060</td>\n",
              "      <td>1008</td>\n",
              "      <td>Cheese, caraway</td>\n",
              "      <td>Dairy and Egg Products</td>\n",
              "      <td></td>\n",
              "    </tr>\n",
              "    <tr>\n",
              "      <th>3</th>\n",
              "      <td>Ash</td>\n",
              "      <td>Other</td>\n",
              "      <td>g</td>\n",
              "      <td>3.280</td>\n",
              "      <td>1008</td>\n",
              "      <td>Cheese, caraway</td>\n",
              "      <td>Dairy and Egg Products</td>\n",
              "      <td></td>\n",
              "    </tr>\n",
              "    <tr>\n",
              "      <th>4</th>\n",
              "      <td>Energy</td>\n",
              "      <td>Energy</td>\n",
              "      <td>kcal</td>\n",
              "      <td>376.000</td>\n",
              "      <td>1008</td>\n",
              "      <td>Cheese, caraway</td>\n",
              "      <td>Dairy and Egg Products</td>\n",
              "      <td></td>\n",
              "    </tr>\n",
              "    <tr>\n",
              "      <th>...</th>\n",
              "      <td>...</td>\n",
              "      <td>...</td>\n",
              "      <td>...</td>\n",
              "      <td>...</td>\n",
              "      <td>...</td>\n",
              "      <td>...</td>\n",
              "      <td>...</td>\n",
              "      <td>...</td>\n",
              "    </tr>\n",
              "    <tr>\n",
              "      <th>375171</th>\n",
              "      <td>Vitamin B-12, added</td>\n",
              "      <td>Vitamins</td>\n",
              "      <td>mcg</td>\n",
              "      <td>0.000</td>\n",
              "      <td>43546</td>\n",
              "      <td>Babyfood, banana no tapioca, strained</td>\n",
              "      <td>Baby Foods</td>\n",
              "      <td>None</td>\n",
              "    </tr>\n",
              "    <tr>\n",
              "      <th>375172</th>\n",
              "      <td>Cholesterol</td>\n",
              "      <td>Other</td>\n",
              "      <td>mg</td>\n",
              "      <td>0.000</td>\n",
              "      <td>43546</td>\n",
              "      <td>Babyfood, banana no tapioca, strained</td>\n",
              "      <td>Baby Foods</td>\n",
              "      <td>None</td>\n",
              "    </tr>\n",
              "    <tr>\n",
              "      <th>375173</th>\n",
              "      <td>Fatty acids, total saturated</td>\n",
              "      <td>Other</td>\n",
              "      <td>g</td>\n",
              "      <td>0.072</td>\n",
              "      <td>43546</td>\n",
              "      <td>Babyfood, banana no tapioca, strained</td>\n",
              "      <td>Baby Foods</td>\n",
              "      <td>None</td>\n",
              "    </tr>\n",
              "    <tr>\n",
              "      <th>375174</th>\n",
              "      <td>Fatty acids, total monounsaturated</td>\n",
              "      <td>Other</td>\n",
              "      <td>g</td>\n",
              "      <td>0.028</td>\n",
              "      <td>43546</td>\n",
              "      <td>Babyfood, banana no tapioca, strained</td>\n",
              "      <td>Baby Foods</td>\n",
              "      <td>None</td>\n",
              "    </tr>\n",
              "    <tr>\n",
              "      <th>375175</th>\n",
              "      <td>Fatty acids, total polyunsaturated</td>\n",
              "      <td>Other</td>\n",
              "      <td>g</td>\n",
              "      <td>0.041</td>\n",
              "      <td>43546</td>\n",
              "      <td>Babyfood, banana no tapioca, strained</td>\n",
              "      <td>Baby Foods</td>\n",
              "      <td>None</td>\n",
              "    </tr>\n",
              "  </tbody>\n",
              "</table>\n",
              "<p>375176 rows × 8 columns</p>\n",
              "</div>"
            ],
            "text/plain": [
              "                                  nutrient     nutgroup units   value     id  \\\n",
              "0                                  Protein  Composition     g  25.180   1008   \n",
              "1                        Total lipid (fat)  Composition     g  29.200   1008   \n",
              "2              Carbohydrate, by difference  Composition     g   3.060   1008   \n",
              "3                                      Ash        Other     g   3.280   1008   \n",
              "4                                   Energy       Energy  kcal 376.000   1008   \n",
              "...                                    ...          ...   ...     ...    ...   \n",
              "375171                 Vitamin B-12, added     Vitamins   mcg   0.000  43546   \n",
              "375172                         Cholesterol        Other    mg   0.000  43546   \n",
              "375173        Fatty acids, total saturated        Other     g   0.072  43546   \n",
              "375174  Fatty acids, total monounsaturated        Other     g   0.028  43546   \n",
              "375175  Fatty acids, total polyunsaturated        Other     g   0.041  43546   \n",
              "\n",
              "                                         food                  fgroup manufacturer  \n",
              "0                             Cheese, caraway  Dairy and Egg Products               \n",
              "1                             Cheese, caraway  Dairy and Egg Products               \n",
              "2                             Cheese, caraway  Dairy and Egg Products               \n",
              "3                             Cheese, caraway  Dairy and Egg Products               \n",
              "4                             Cheese, caraway  Dairy and Egg Products               \n",
              "...                                       ...                     ...          ...  \n",
              "375171  Babyfood, banana no tapioca, strained              Baby Foods         None  \n",
              "375172  Babyfood, banana no tapioca, strained              Baby Foods         None  \n",
              "375173  Babyfood, banana no tapioca, strained              Baby Foods         None  \n",
              "375174  Babyfood, banana no tapioca, strained              Baby Foods         None  \n",
              "375175  Babyfood, banana no tapioca, strained              Baby Foods         None  \n",
              "\n",
              "[375176 rows x 8 columns]"
            ]
          },
          "metadata": {
            "tags": []
          },
          "execution_count": 206
        }
      ]
    },
    {
      "cell_type": "code",
      "metadata": {
        "id": "ifN-B84GEebG",
        "colab_type": "code",
        "colab": {
          "base_uri": "https://localhost:8080/",
          "height": 168
        },
        "outputId": "54b1d2d7-1459-4bdc-cb42-0c93c7bd48e4"
      },
      "source": [
        "ndata.iloc[30000]"
      ],
      "execution_count": 207,
      "outputs": [
        {
          "output_type": "execute_result",
          "data": {
            "text/plain": [
              "nutrient                                       Glycine\n",
              "nutgroup                                   Amino Acids\n",
              "units                                                g\n",
              "value                                            0.040\n",
              "id                                                6158\n",
              "food            Soup, tomato bisque, canned, condensed\n",
              "fgroup                      Soups, Sauces, and Gravies\n",
              "manufacturer                                          \n",
              "Name: 30000, dtype: object"
            ]
          },
          "metadata": {
            "tags": []
          },
          "execution_count": 207
        }
      ]
    },
    {
      "cell_type": "code",
      "metadata": {
        "id": "eCkJi48lEebH",
        "colab_type": "code",
        "colab": {
          "base_uri": "https://localhost:8080/",
          "height": 402
        },
        "outputId": "f82c2328-a7da-4cf0-8c70-93fa445b189f"
      },
      "source": [
        "ndata[ndata.nutrient == 'Zinc, Zn']"
      ],
      "execution_count": 208,
      "outputs": [
        {
          "output_type": "execute_result",
          "data": {
            "text/html": [
              "<div>\n",
              "<style scoped>\n",
              "    .dataframe tbody tr th:only-of-type {\n",
              "        vertical-align: middle;\n",
              "    }\n",
              "\n",
              "    .dataframe tbody tr th {\n",
              "        vertical-align: top;\n",
              "    }\n",
              "\n",
              "    .dataframe thead th {\n",
              "        text-align: right;\n",
              "    }\n",
              "</style>\n",
              "<table border=\"1\" class=\"dataframe\">\n",
              "  <thead>\n",
              "    <tr style=\"text-align: right;\">\n",
              "      <th></th>\n",
              "      <th>nutrient</th>\n",
              "      <th>nutgroup</th>\n",
              "      <th>units</th>\n",
              "      <th>value</th>\n",
              "      <th>id</th>\n",
              "      <th>food</th>\n",
              "      <th>fgroup</th>\n",
              "      <th>manufacturer</th>\n",
              "    </tr>\n",
              "  </thead>\n",
              "  <tbody>\n",
              "    <tr>\n",
              "      <th>14</th>\n",
              "      <td>Zinc, Zn</td>\n",
              "      <td>Elements</td>\n",
              "      <td>mg</td>\n",
              "      <td>2.940</td>\n",
              "      <td>1008</td>\n",
              "      <td>Cheese, caraway</td>\n",
              "      <td>Dairy and Egg Products</td>\n",
              "      <td></td>\n",
              "    </tr>\n",
              "    <tr>\n",
              "      <th>75</th>\n",
              "      <td>Zinc, Zn</td>\n",
              "      <td>Elements</td>\n",
              "      <td>mg</td>\n",
              "      <td>3.110</td>\n",
              "      <td>1009</td>\n",
              "      <td>Cheese, cheddar</td>\n",
              "      <td>Dairy and Egg Products</td>\n",
              "      <td></td>\n",
              "    </tr>\n",
              "    <tr>\n",
              "      <th>151</th>\n",
              "      <td>Zinc, Zn</td>\n",
              "      <td>Elements</td>\n",
              "      <td>mg</td>\n",
              "      <td>3.750</td>\n",
              "      <td>1018</td>\n",
              "      <td>Cheese, edam</td>\n",
              "      <td>Dairy and Egg Products</td>\n",
              "      <td></td>\n",
              "    </tr>\n",
              "    <tr>\n",
              "      <th>222</th>\n",
              "      <td>Zinc, Zn</td>\n",
              "      <td>Elements</td>\n",
              "      <td>mg</td>\n",
              "      <td>2.880</td>\n",
              "      <td>1019</td>\n",
              "      <td>Cheese, feta</td>\n",
              "      <td>Dairy and Egg Products</td>\n",
              "      <td></td>\n",
              "    </tr>\n",
              "    <tr>\n",
              "      <th>293</th>\n",
              "      <td>Zinc, Zn</td>\n",
              "      <td>Elements</td>\n",
              "      <td>mg</td>\n",
              "      <td>2.760</td>\n",
              "      <td>1028</td>\n",
              "      <td>Cheese, mozzarella, part skim milk</td>\n",
              "      <td>Dairy and Egg Products</td>\n",
              "      <td></td>\n",
              "    </tr>\n",
              "    <tr>\n",
              "      <th>...</th>\n",
              "      <td>...</td>\n",
              "      <td>...</td>\n",
              "      <td>...</td>\n",
              "      <td>...</td>\n",
              "      <td>...</td>\n",
              "      <td>...</td>\n",
              "      <td>...</td>\n",
              "      <td>...</td>\n",
              "    </tr>\n",
              "    <tr>\n",
              "      <th>374940</th>\n",
              "      <td>Zinc, Zn</td>\n",
              "      <td>Elements</td>\n",
              "      <td>mg</td>\n",
              "      <td>1.830</td>\n",
              "      <td>42161</td>\n",
              "      <td>Bologna, beef, low fat</td>\n",
              "      <td>Sausages and Luncheon Meats</td>\n",
              "      <td></td>\n",
              "    </tr>\n",
              "    <tr>\n",
              "      <th>374991</th>\n",
              "      <td>Zinc, Zn</td>\n",
              "      <td>Elements</td>\n",
              "      <td>mg</td>\n",
              "      <td>3.170</td>\n",
              "      <td>42173</td>\n",
              "      <td>Turkey and pork sausage, fresh, bulk, patty or...</td>\n",
              "      <td>Sausages and Luncheon Meats</td>\n",
              "      <td></td>\n",
              "    </tr>\n",
              "    <tr>\n",
              "      <th>375043</th>\n",
              "      <td>Zinc, Zn</td>\n",
              "      <td>Elements</td>\n",
              "      <td>mg</td>\n",
              "      <td>0.080</td>\n",
              "      <td>43408</td>\n",
              "      <td>Babyfood, juice, pear</td>\n",
              "      <td>Baby Foods</td>\n",
              "      <td>None</td>\n",
              "    </tr>\n",
              "    <tr>\n",
              "      <th>375093</th>\n",
              "      <td>Zinc, Zn</td>\n",
              "      <td>Elements</td>\n",
              "      <td>mg</td>\n",
              "      <td>0.260</td>\n",
              "      <td>43539</td>\n",
              "      <td>Babyfood, dessert, banana yogurt, strained</td>\n",
              "      <td>Baby Foods</td>\n",
              "      <td>None</td>\n",
              "    </tr>\n",
              "    <tr>\n",
              "      <th>375144</th>\n",
              "      <td>Zinc, Zn</td>\n",
              "      <td>Elements</td>\n",
              "      <td>mg</td>\n",
              "      <td>0.050</td>\n",
              "      <td>43546</td>\n",
              "      <td>Babyfood, banana no tapioca, strained</td>\n",
              "      <td>Baby Foods</td>\n",
              "      <td>None</td>\n",
              "    </tr>\n",
              "  </tbody>\n",
              "</table>\n",
              "<p>6137 rows × 8 columns</p>\n",
              "</div>"
            ],
            "text/plain": [
              "        nutrient  nutgroup units  value     id                                               food  \\\n",
              "14      Zinc, Zn  Elements    mg  2.940   1008                                    Cheese, caraway   \n",
              "75      Zinc, Zn  Elements    mg  3.110   1009                                    Cheese, cheddar   \n",
              "151     Zinc, Zn  Elements    mg  3.750   1018                                       Cheese, edam   \n",
              "222     Zinc, Zn  Elements    mg  2.880   1019                                       Cheese, feta   \n",
              "293     Zinc, Zn  Elements    mg  2.760   1028                 Cheese, mozzarella, part skim milk   \n",
              "...          ...       ...   ...    ...    ...                                                ...   \n",
              "374940  Zinc, Zn  Elements    mg  1.830  42161                             Bologna, beef, low fat   \n",
              "374991  Zinc, Zn  Elements    mg  3.170  42173  Turkey and pork sausage, fresh, bulk, patty or...   \n",
              "375043  Zinc, Zn  Elements    mg  0.080  43408                              Babyfood, juice, pear   \n",
              "375093  Zinc, Zn  Elements    mg  0.260  43539         Babyfood, dessert, banana yogurt, strained   \n",
              "375144  Zinc, Zn  Elements    mg  0.050  43546              Babyfood, banana no tapioca, strained   \n",
              "\n",
              "                             fgroup manufacturer  \n",
              "14           Dairy and Egg Products               \n",
              "75           Dairy and Egg Products               \n",
              "151          Dairy and Egg Products               \n",
              "222          Dairy and Egg Products               \n",
              "293          Dairy and Egg Products               \n",
              "...                             ...          ...  \n",
              "374940  Sausages and Luncheon Meats               \n",
              "374991  Sausages and Luncheon Meats               \n",
              "375043                   Baby Foods         None  \n",
              "375093                   Baby Foods         None  \n",
              "375144                   Baby Foods         None  \n",
              "\n",
              "[6137 rows x 8 columns]"
            ]
          },
          "metadata": {
            "tags": []
          },
          "execution_count": 208
        }
      ]
    },
    {
      "cell_type": "code",
      "metadata": {
        "id": "FV6YmGr0EebI",
        "colab_type": "code",
        "colab": {
          "base_uri": "https://localhost:8080/",
          "height": 813
        },
        "outputId": "04a5e1b5-4e7a-4ced-8456-ff73a4845205"
      },
      "source": [
        "result = ndata.groupby(['nutrient', 'fgroup'])['value'].quantile(0.5)\n",
        "result\n",
        "result['Zinc, Zn'].sort_values().plot(kind='barh', figsize=(12, 10))"
      ],
      "execution_count": 209,
      "outputs": [
        {
          "output_type": "execute_result",
          "data": {
            "text/plain": [
              "nutrient          fgroup                           \n",
              "Adjusted Protein  Sweets                              12.900\n",
              "                  Vegetables and Vegetable Products    2.180\n",
              "Alanine           Baby Foods                           0.085\n",
              "                  Baked Products                       0.248\n",
              "                  Beef Products                        1.550\n",
              "                                                       ...  \n",
              "Zinc, Zn          Snacks                               1.470\n",
              "                  Soups, Sauces, and Gravies           0.200\n",
              "                  Spices and Herbs                     2.750\n",
              "                  Sweets                               0.360\n",
              "                  Vegetables and Vegetable Products    0.330\n",
              "Name: value, Length: 2246, dtype: float64"
            ]
          },
          "metadata": {
            "tags": []
          },
          "execution_count": 209
        },
        {
          "output_type": "execute_result",
          "data": {
            "text/plain": [
              "<matplotlib.axes._subplots.AxesSubplot at 0x7fb9a22fd7f0>"
            ]
          },
          "metadata": {
            "tags": []
          },
          "execution_count": 209
        },
        {
          "output_type": "display_data",
          "data": {
            "image/png": "[encoded data removed]",
            "text/plain": [
              "<Figure size 864x720 with 1 Axes>"
            ]
          },
          "metadata": {
            "tags": []
          }
        }
      ]
    },
    {
      "cell_type": "code",
      "metadata": {
        "id": "9SBBxsufEebJ",
        "colab_type": "code",
        "colab": {}
      },
      "source": [
        "# Which food is most dense in each nutrient ??\n",
        "def get_max_value_food(group):\n",
        "    return group.loc[group.value.idxmax()][['value', 'food']]\n",
        "    \n",
        "max_nutrient = ndata.groupby(['nutgroup','nutrient']).apply(get_max_value_food)"
      ],
      "execution_count": 210,
      "outputs": []
    },
    {
      "cell_type": "code",
      "metadata": {
        "id": "otGLA2p_EebK",
        "colab_type": "code",
        "colab": {
          "base_uri": "https://localhost:8080/",
          "height": 431
        },
        "outputId": "235dd1c4-3aaf-4cd4-e07b-0106392f2ae0"
      },
      "source": [
        "max_nutrient"
      ],
      "execution_count": 211,
      "outputs": [
        {
          "output_type": "execute_result",
          "data": {
            "text/html": [
              "<div>\n",
              "<style scoped>\n",
              "    .dataframe tbody tr th:only-of-type {\n",
              "        vertical-align: middle;\n",
              "    }\n",
              "\n",
              "    .dataframe tbody tr th {\n",
              "        vertical-align: top;\n",
              "    }\n",
              "\n",
              "    .dataframe thead th {\n",
              "        text-align: right;\n",
              "    }\n",
              "</style>\n",
              "<table border=\"1\" class=\"dataframe\">\n",
              "  <thead>\n",
              "    <tr style=\"text-align: right;\">\n",
              "      <th></th>\n",
              "      <th></th>\n",
              "      <th>value</th>\n",
              "      <th>food</th>\n",
              "    </tr>\n",
              "    <tr>\n",
              "      <th>nutgroup</th>\n",
              "      <th>nutrient</th>\n",
              "      <th></th>\n",
              "      <th></th>\n",
              "    </tr>\n",
              "  </thead>\n",
              "  <tbody>\n",
              "    <tr>\n",
              "      <th rowspan=\"5\" valign=\"top\">Amino Acids</th>\n",
              "      <th>Alanine</th>\n",
              "      <td>8.009</td>\n",
              "      <td>Gelatins, dry powder, unsweetened</td>\n",
              "    </tr>\n",
              "    <tr>\n",
              "      <th>Arginine</th>\n",
              "      <td>7.436</td>\n",
              "      <td>Seeds, sesame flour, low-fat</td>\n",
              "    </tr>\n",
              "    <tr>\n",
              "      <th>Aspartic acid</th>\n",
              "      <td>10.203</td>\n",
              "      <td>Soy protein isolate</td>\n",
              "    </tr>\n",
              "    <tr>\n",
              "      <th>Cystine</th>\n",
              "      <td>1.307</td>\n",
              "      <td>Seeds, cottonseed flour, low fat (glandless)</td>\n",
              "    </tr>\n",
              "    <tr>\n",
              "      <th>Glutamic acid</th>\n",
              "      <td>17.452</td>\n",
              "      <td>Soy protein isolate</td>\n",
              "    </tr>\n",
              "    <tr>\n",
              "      <th>...</th>\n",
              "      <th>...</th>\n",
              "      <td>...</td>\n",
              "      <td>...</td>\n",
              "    </tr>\n",
              "    <tr>\n",
              "      <th rowspan=\"5\" valign=\"top\">Vitamins</th>\n",
              "      <th>Vitamin D2 (ergocalciferol)</th>\n",
              "      <td>28.100</td>\n",
              "      <td>Mushrooms, maitake, raw</td>\n",
              "    </tr>\n",
              "    <tr>\n",
              "      <th>Vitamin D3 (cholecalciferol)</th>\n",
              "      <td>27.400</td>\n",
              "      <td>Fish, halibut, Greenland, raw</td>\n",
              "    </tr>\n",
              "    <tr>\n",
              "      <th>Vitamin E (alpha-tocopherol)</th>\n",
              "      <td>149.400</td>\n",
              "      <td>Oil, wheat germ</td>\n",
              "    </tr>\n",
              "    <tr>\n",
              "      <th>Vitamin E, added</th>\n",
              "      <td>46.550</td>\n",
              "      <td>Cereals ready-to-eat, GENERAL MILLS, Multi-Gra...</td>\n",
              "    </tr>\n",
              "    <tr>\n",
              "      <th>Vitamin K (phylloquinone)</th>\n",
              "      <td>1714.500</td>\n",
              "      <td>Spices, sage, ground</td>\n",
              "    </tr>\n",
              "  </tbody>\n",
              "</table>\n",
              "<p>94 rows × 2 columns</p>\n",
              "</div>"
            ],
            "text/plain": [
              "                                            value  \\\n",
              "nutgroup    nutrient                                \n",
              "Amino Acids Alanine                         8.009   \n",
              "            Arginine                        7.436   \n",
              "            Aspartic acid                  10.203   \n",
              "            Cystine                         1.307   \n",
              "            Glutamic acid                  17.452   \n",
              "...                                           ...   \n",
              "Vitamins    Vitamin D2 (ergocalciferol)    28.100   \n",
              "            Vitamin D3 (cholecalciferol)   27.400   \n",
              "            Vitamin E (alpha-tocopherol)  149.400   \n",
              "            Vitamin E, added               46.550   \n",
              "            Vitamin K (phylloquinone)    1714.500   \n",
              "\n",
              "                                                                                       food  \n",
              "nutgroup    nutrient                                                                         \n",
              "Amino Acids Alanine                                       Gelatins, dry powder, unsweetened  \n",
              "            Arginine                                           Seeds, sesame flour, low-fat  \n",
              "            Aspartic acid                                               Soy protein isolate  \n",
              "            Cystine                            Seeds, cottonseed flour, low fat (glandless)  \n",
              "            Glutamic acid                                               Soy protein isolate  \n",
              "...                                                                                     ...  \n",
              "Vitamins    Vitamin D2 (ergocalciferol)                             Mushrooms, maitake, raw  \n",
              "            Vitamin D3 (cholecalciferol)                      Fish, halibut, Greenland, raw  \n",
              "            Vitamin E (alpha-tocopherol)                                    Oil, wheat germ  \n",
              "            Vitamin E, added              Cereals ready-to-eat, GENERAL MILLS, Multi-Gra...  \n",
              "            Vitamin K (phylloquinone)                                  Spices, sage, ground  \n",
              "\n",
              "[94 rows x 2 columns]"
            ]
          },
          "metadata": {
            "tags": []
          },
          "execution_count": 211
        }
      ]
    },
    {
      "cell_type": "markdown",
      "metadata": {
        "id": "lVc8tVKvEebL",
        "colab_type": "text"
      },
      "source": [
        "# 14.5 2012 Federal Election Commission Database"
      ]
    },
    {
      "cell_type": "code",
      "metadata": {
        "id": "in1K7NhWEebL",
        "colab_type": "code",
        "colab": {
          "base_uri": "https://localhost:8080/",
          "height": 437
        },
        "outputId": "795e74c9-e81b-4113-c80a-1a0de17caa51"
      },
      "source": [
        "fec = pd.read_csv('datasets/fec/P00000001-ALL.csv')\n",
        "fec.info()"
      ],
      "execution_count": 212,
      "outputs": [
        {
          "output_type": "stream",
          "text": [
            "/usr/local/lib/python3.6/dist-packages/IPython/core/interactiveshell.py:2718: DtypeWarning: Columns (6) have mixed types.Specify dtype option on import or set low_memory=False.\n",
            "  interactivity=interactivity, compiler=compiler, result=result)\n"
          ],
          "name": "stderr"
        },
        {
          "output_type": "stream",
          "text": [
            "<class 'pandas.core.frame.DataFrame'>\n",
            "RangeIndex: 1001731 entries, 0 to 1001730\n",
            "Data columns (total 16 columns):\n",
            " #   Column             Non-Null Count    Dtype  \n",
            "---  ------             --------------    -----  \n",
            " 0   cmte_id            1001731 non-null  object \n",
            " 1   cand_id            1001731 non-null  object \n",
            " 2   cand_nm            1001731 non-null  object \n",
            " 3   contbr_nm          1001731 non-null  object \n",
            " 4   contbr_city        1001712 non-null  object \n",
            " 5   contbr_st          1001727 non-null  object \n",
            " 6   contbr_zip         1001620 non-null  object \n",
            " 7   contbr_employer    988002 non-null   object \n",
            " 8   contbr_occupation  993301 non-null   object \n",
            " 9   contb_receipt_amt  1001731 non-null  float64\n",
            " 10  contb_receipt_dt   1001731 non-null  object \n",
            " 11  receipt_desc       14166 non-null    object \n",
            " 12  memo_cd            92482 non-null    object \n",
            " 13  memo_text          97770 non-null    object \n",
            " 14  form_tp            1001731 non-null  object \n",
            " 15  file_num           1001731 non-null  int64  \n",
            "dtypes: float64(1), int64(1), object(14)\n",
            "memory usage: 122.3+ MB\n"
          ],
          "name": "stdout"
        }
      ]
    },
    {
      "cell_type": "code",
      "metadata": {
        "id": "tvVheXGJEebM",
        "colab_type": "code",
        "colab": {
          "base_uri": "https://localhost:8080/",
          "height": 316
        },
        "outputId": "5faf2af4-8bcc-4724-9b3c-c3ea1f4011c4"
      },
      "source": [
        "fec.head()"
      ],
      "execution_count": 213,
      "outputs": [
        {
          "output_type": "execute_result",
          "data": {
            "text/html": [
              "<div>\n",
              "<style scoped>\n",
              "    .dataframe tbody tr th:only-of-type {\n",
              "        vertical-align: middle;\n",
              "    }\n",
              "\n",
              "    .dataframe tbody tr th {\n",
              "        vertical-align: top;\n",
              "    }\n",
              "\n",
              "    .dataframe thead th {\n",
              "        text-align: right;\n",
              "    }\n",
              "</style>\n",
              "<table border=\"1\" class=\"dataframe\">\n",
              "  <thead>\n",
              "    <tr style=\"text-align: right;\">\n",
              "      <th></th>\n",
              "      <th>cmte_id</th>\n",
              "      <th>cand_id</th>\n",
              "      <th>cand_nm</th>\n",
              "      <th>contbr_nm</th>\n",
              "      <th>contbr_city</th>\n",
              "      <th>contbr_st</th>\n",
              "      <th>contbr_zip</th>\n",
              "      <th>contbr_employer</th>\n",
              "      <th>contbr_occupation</th>\n",
              "      <th>contb_receipt_amt</th>\n",
              "      <th>contb_receipt_dt</th>\n",
              "      <th>receipt_desc</th>\n",
              "      <th>memo_cd</th>\n",
              "      <th>memo_text</th>\n",
              "      <th>form_tp</th>\n",
              "      <th>file_num</th>\n",
              "    </tr>\n",
              "  </thead>\n",
              "  <tbody>\n",
              "    <tr>\n",
              "      <th>0</th>\n",
              "      <td>C00410118</td>\n",
              "      <td>P20002978</td>\n",
              "      <td>Bachmann, Michelle</td>\n",
              "      <td>HARVEY, WILLIAM</td>\n",
              "      <td>MOBILE</td>\n",
              "      <td>AL</td>\n",
              "      <td>366010290.000</td>\n",
              "      <td>RETIRED</td>\n",
              "      <td>RETIRED</td>\n",
              "      <td>250.000</td>\n",
              "      <td>20-JUN-11</td>\n",
              "      <td>NaN</td>\n",
              "      <td>NaN</td>\n",
              "      <td>NaN</td>\n",
              "      <td>SA17A</td>\n",
              "      <td>736166</td>\n",
              "    </tr>\n",
              "    <tr>\n",
              "      <th>1</th>\n",
              "      <td>C00410118</td>\n",
              "      <td>P20002978</td>\n",
              "      <td>Bachmann, Michelle</td>\n",
              "      <td>HARVEY, WILLIAM</td>\n",
              "      <td>MOBILE</td>\n",
              "      <td>AL</td>\n",
              "      <td>366010290.000</td>\n",
              "      <td>RETIRED</td>\n",
              "      <td>RETIRED</td>\n",
              "      <td>50.000</td>\n",
              "      <td>23-JUN-11</td>\n",
              "      <td>NaN</td>\n",
              "      <td>NaN</td>\n",
              "      <td>NaN</td>\n",
              "      <td>SA17A</td>\n",
              "      <td>736166</td>\n",
              "    </tr>\n",
              "    <tr>\n",
              "      <th>2</th>\n",
              "      <td>C00410118</td>\n",
              "      <td>P20002978</td>\n",
              "      <td>Bachmann, Michelle</td>\n",
              "      <td>SMITH, LANIER</td>\n",
              "      <td>LANETT</td>\n",
              "      <td>AL</td>\n",
              "      <td>368633403.000</td>\n",
              "      <td>INFORMATION REQUESTED</td>\n",
              "      <td>INFORMATION REQUESTED</td>\n",
              "      <td>250.000</td>\n",
              "      <td>05-JUL-11</td>\n",
              "      <td>NaN</td>\n",
              "      <td>NaN</td>\n",
              "      <td>NaN</td>\n",
              "      <td>SA17A</td>\n",
              "      <td>749073</td>\n",
              "    </tr>\n",
              "    <tr>\n",
              "      <th>3</th>\n",
              "      <td>C00410118</td>\n",
              "      <td>P20002978</td>\n",
              "      <td>Bachmann, Michelle</td>\n",
              "      <td>BLEVINS, DARONDA</td>\n",
              "      <td>PIGGOTT</td>\n",
              "      <td>AR</td>\n",
              "      <td>724548253.000</td>\n",
              "      <td>NONE</td>\n",
              "      <td>RETIRED</td>\n",
              "      <td>250.000</td>\n",
              "      <td>01-AUG-11</td>\n",
              "      <td>NaN</td>\n",
              "      <td>NaN</td>\n",
              "      <td>NaN</td>\n",
              "      <td>SA17A</td>\n",
              "      <td>749073</td>\n",
              "    </tr>\n",
              "    <tr>\n",
              "      <th>4</th>\n",
              "      <td>C00410118</td>\n",
              "      <td>P20002978</td>\n",
              "      <td>Bachmann, Michelle</td>\n",
              "      <td>WARDENBURG, HAROLD</td>\n",
              "      <td>HOT SPRINGS NATION</td>\n",
              "      <td>AR</td>\n",
              "      <td>719016467.000</td>\n",
              "      <td>NONE</td>\n",
              "      <td>RETIRED</td>\n",
              "      <td>300.000</td>\n",
              "      <td>20-JUN-11</td>\n",
              "      <td>NaN</td>\n",
              "      <td>NaN</td>\n",
              "      <td>NaN</td>\n",
              "      <td>SA17A</td>\n",
              "      <td>736166</td>\n",
              "    </tr>\n",
              "  </tbody>\n",
              "</table>\n",
              "</div>"
            ],
            "text/plain": [
              "     cmte_id    cand_id             cand_nm           contbr_nm         contbr_city contbr_st  \\\n",
              "0  C00410118  P20002978  Bachmann, Michelle     HARVEY, WILLIAM              MOBILE        AL   \n",
              "1  C00410118  P20002978  Bachmann, Michelle     HARVEY, WILLIAM              MOBILE        AL   \n",
              "2  C00410118  P20002978  Bachmann, Michelle       SMITH, LANIER              LANETT        AL   \n",
              "3  C00410118  P20002978  Bachmann, Michelle    BLEVINS, DARONDA             PIGGOTT        AR   \n",
              "4  C00410118  P20002978  Bachmann, Michelle  WARDENBURG, HAROLD  HOT SPRINGS NATION        AR   \n",
              "\n",
              "     contbr_zip        contbr_employer      contbr_occupation  contb_receipt_amt contb_receipt_dt  \\\n",
              "0 366010290.000                RETIRED                RETIRED            250.000        20-JUN-11   \n",
              "1 366010290.000                RETIRED                RETIRED             50.000        23-JUN-11   \n",
              "2 368633403.000  INFORMATION REQUESTED  INFORMATION REQUESTED            250.000        05-JUL-11   \n",
              "3 724548253.000                   NONE                RETIRED            250.000        01-AUG-11   \n",
              "4 719016467.000                   NONE                RETIRED            300.000        20-JUN-11   \n",
              "\n",
              "  receipt_desc memo_cd memo_text form_tp  file_num  \n",
              "0          NaN     NaN       NaN   SA17A    736166  \n",
              "1          NaN     NaN       NaN   SA17A    736166  \n",
              "2          NaN     NaN       NaN   SA17A    749073  \n",
              "3          NaN     NaN       NaN   SA17A    749073  \n",
              "4          NaN     NaN       NaN   SA17A    736166  "
            ]
          },
          "metadata": {
            "tags": []
          },
          "execution_count": 213
        }
      ]
    },
    {
      "cell_type": "code",
      "metadata": {
        "id": "IgndSEWkEebO",
        "colab_type": "code",
        "colab": {
          "base_uri": "https://localhost:8080/",
          "height": 218
        },
        "outputId": "9162257c-1d5d-4977-fda5-c5ba0fa8d4f7"
      },
      "source": [
        "fec.iloc[123456]"
      ],
      "execution_count": 214,
      "outputs": [
        {
          "output_type": "execute_result",
          "data": {
            "text/plain": [
              "cmte_id             C00431445\n",
              "cand_id             P80003338\n",
              "cand_nm         Obama, Barack\n",
              "contbr_nm         ELLMAN, IRA\n",
              "contbr_city             TEMPE\n",
              "                    ...      \n",
              "receipt_desc              NaN\n",
              "memo_cd                   NaN\n",
              "memo_text                 NaN\n",
              "form_tp                 SA17A\n",
              "file_num               772372\n",
              "Name: 123456, Length: 16, dtype: object"
            ]
          },
          "metadata": {
            "tags": []
          },
          "execution_count": 214
        }
      ]
    },
    {
      "cell_type": "code",
      "metadata": {
        "id": "gPni2RA7EebP",
        "colab_type": "code",
        "colab": {
          "base_uri": "https://localhost:8080/",
          "height": 67
        },
        "outputId": "34d015c7-8e6d-437f-da89-cc88ed6ba7de"
      },
      "source": [
        "unique_cands = fec.cand_nm.unique()\n",
        "unique_cands"
      ],
      "execution_count": 215,
      "outputs": [
        {
          "output_type": "execute_result",
          "data": {
            "text/plain": [
              "array(['Bachmann, Michelle', 'Romney, Mitt', 'Obama, Barack', \"Roemer, Charles E. 'Buddy' III\", 'Pawlenty, Timothy',\n",
              "       'Johnson, Gary Earl', 'Paul, Ron', 'Santorum, Rick', 'Cain, Herman', 'Gingrich, Newt', 'McCotter, Thaddeus G',\n",
              "       'Huntsman, Jon', 'Perry, Rick'], dtype=object)"
            ]
          },
          "metadata": {
            "tags": []
          },
          "execution_count": 215
        }
      ]
    },
    {
      "cell_type": "code",
      "metadata": {
        "id": "zWY-SGvnEebP",
        "colab_type": "code",
        "colab": {
          "base_uri": "https://localhost:8080/",
          "height": 316
        },
        "outputId": "32701eb0-c994-4b4c-9584-4ad0dfade7f2"
      },
      "source": [
        "parties = {'Bachmann, Michelle': 'Republican',\n",
        "           'Cain, Herman': 'Republican',\n",
        "           'Gingrich, Newt': 'Republican',\n",
        "           'Huntsman, Jon': 'Republican',\n",
        "           'Johnson, Gary Earl': 'Republican',\n",
        "           'McCotter, Thaddeus G': 'Republican',\n",
        "           'Obama, Barack': 'Democrat',\n",
        "           'Paul, Ron': 'Republican',\n",
        "           'Pawlenty, Timothy': 'Republican',\n",
        "           'Perry, Rick': 'Republican',\n",
        "           \"Roemer, Charles E. 'Buddy' III\": 'Republican',\n",
        "           'Romney, Mitt': 'Republican',\n",
        "           'Santorum, Rick': 'Republican'}\n",
        "\n",
        "fec['party'] = fec.cand_nm.map(parties)\n",
        "fec.head()"
      ],
      "execution_count": 216,
      "outputs": [
        {
          "output_type": "execute_result",
          "data": {
            "text/html": [
              "<div>\n",
              "<style scoped>\n",
              "    .dataframe tbody tr th:only-of-type {\n",
              "        vertical-align: middle;\n",
              "    }\n",
              "\n",
              "    .dataframe tbody tr th {\n",
              "        vertical-align: top;\n",
              "    }\n",
              "\n",
              "    .dataframe thead th {\n",
              "        text-align: right;\n",
              "    }\n",
              "</style>\n",
              "<table border=\"1\" class=\"dataframe\">\n",
              "  <thead>\n",
              "    <tr style=\"text-align: right;\">\n",
              "      <th></th>\n",
              "      <th>cmte_id</th>\n",
              "      <th>cand_id</th>\n",
              "      <th>cand_nm</th>\n",
              "      <th>contbr_nm</th>\n",
              "      <th>contbr_city</th>\n",
              "      <th>contbr_st</th>\n",
              "      <th>contbr_zip</th>\n",
              "      <th>contbr_employer</th>\n",
              "      <th>contbr_occupation</th>\n",
              "      <th>contb_receipt_amt</th>\n",
              "      <th>contb_receipt_dt</th>\n",
              "      <th>receipt_desc</th>\n",
              "      <th>memo_cd</th>\n",
              "      <th>memo_text</th>\n",
              "      <th>form_tp</th>\n",
              "      <th>file_num</th>\n",
              "      <th>party</th>\n",
              "    </tr>\n",
              "  </thead>\n",
              "  <tbody>\n",
              "    <tr>\n",
              "      <th>0</th>\n",
              "      <td>C00410118</td>\n",
              "      <td>P20002978</td>\n",
              "      <td>Bachmann, Michelle</td>\n",
              "      <td>HARVEY, WILLIAM</td>\n",
              "      <td>MOBILE</td>\n",
              "      <td>AL</td>\n",
              "      <td>366010290.000</td>\n",
              "      <td>RETIRED</td>\n",
              "      <td>RETIRED</td>\n",
              "      <td>250.000</td>\n",
              "      <td>20-JUN-11</td>\n",
              "      <td>NaN</td>\n",
              "      <td>NaN</td>\n",
              "      <td>NaN</td>\n",
              "      <td>SA17A</td>\n",
              "      <td>736166</td>\n",
              "      <td>Republican</td>\n",
              "    </tr>\n",
              "    <tr>\n",
              "      <th>1</th>\n",
              "      <td>C00410118</td>\n",
              "      <td>P20002978</td>\n",
              "      <td>Bachmann, Michelle</td>\n",
              "      <td>HARVEY, WILLIAM</td>\n",
              "      <td>MOBILE</td>\n",
              "      <td>AL</td>\n",
              "      <td>366010290.000</td>\n",
              "      <td>RETIRED</td>\n",
              "      <td>RETIRED</td>\n",
              "      <td>50.000</td>\n",
              "      <td>23-JUN-11</td>\n",
              "      <td>NaN</td>\n",
              "      <td>NaN</td>\n",
              "      <td>NaN</td>\n",
              "      <td>SA17A</td>\n",
              "      <td>736166</td>\n",
              "      <td>Republican</td>\n",
              "    </tr>\n",
              "    <tr>\n",
              "      <th>2</th>\n",
              "      <td>C00410118</td>\n",
              "      <td>P20002978</td>\n",
              "      <td>Bachmann, Michelle</td>\n",
              "      <td>SMITH, LANIER</td>\n",
              "      <td>LANETT</td>\n",
              "      <td>AL</td>\n",
              "      <td>368633403.000</td>\n",
              "      <td>INFORMATION REQUESTED</td>\n",
              "      <td>INFORMATION REQUESTED</td>\n",
              "      <td>250.000</td>\n",
              "      <td>05-JUL-11</td>\n",
              "      <td>NaN</td>\n",
              "      <td>NaN</td>\n",
              "      <td>NaN</td>\n",
              "      <td>SA17A</td>\n",
              "      <td>749073</td>\n",
              "      <td>Republican</td>\n",
              "    </tr>\n",
              "    <tr>\n",
              "      <th>3</th>\n",
              "      <td>C00410118</td>\n",
              "      <td>P20002978</td>\n",
              "      <td>Bachmann, Michelle</td>\n",
              "      <td>BLEVINS, DARONDA</td>\n",
              "      <td>PIGGOTT</td>\n",
              "      <td>AR</td>\n",
              "      <td>724548253.000</td>\n",
              "      <td>NONE</td>\n",
              "      <td>RETIRED</td>\n",
              "      <td>250.000</td>\n",
              "      <td>01-AUG-11</td>\n",
              "      <td>NaN</td>\n",
              "      <td>NaN</td>\n",
              "      <td>NaN</td>\n",
              "      <td>SA17A</td>\n",
              "      <td>749073</td>\n",
              "      <td>Republican</td>\n",
              "    </tr>\n",
              "    <tr>\n",
              "      <th>4</th>\n",
              "      <td>C00410118</td>\n",
              "      <td>P20002978</td>\n",
              "      <td>Bachmann, Michelle</td>\n",
              "      <td>WARDENBURG, HAROLD</td>\n",
              "      <td>HOT SPRINGS NATION</td>\n",
              "      <td>AR</td>\n",
              "      <td>719016467.000</td>\n",
              "      <td>NONE</td>\n",
              "      <td>RETIRED</td>\n",
              "      <td>300.000</td>\n",
              "      <td>20-JUN-11</td>\n",
              "      <td>NaN</td>\n",
              "      <td>NaN</td>\n",
              "      <td>NaN</td>\n",
              "      <td>SA17A</td>\n",
              "      <td>736166</td>\n",
              "      <td>Republican</td>\n",
              "    </tr>\n",
              "  </tbody>\n",
              "</table>\n",
              "</div>"
            ],
            "text/plain": [
              "     cmte_id    cand_id             cand_nm           contbr_nm         contbr_city contbr_st  \\\n",
              "0  C00410118  P20002978  Bachmann, Michelle     HARVEY, WILLIAM              MOBILE        AL   \n",
              "1  C00410118  P20002978  Bachmann, Michelle     HARVEY, WILLIAM              MOBILE        AL   \n",
              "2  C00410118  P20002978  Bachmann, Michelle       SMITH, LANIER              LANETT        AL   \n",
              "3  C00410118  P20002978  Bachmann, Michelle    BLEVINS, DARONDA             PIGGOTT        AR   \n",
              "4  C00410118  P20002978  Bachmann, Michelle  WARDENBURG, HAROLD  HOT SPRINGS NATION        AR   \n",
              "\n",
              "     contbr_zip        contbr_employer      contbr_occupation  contb_receipt_amt contb_receipt_dt  \\\n",
              "0 366010290.000                RETIRED                RETIRED            250.000        20-JUN-11   \n",
              "1 366010290.000                RETIRED                RETIRED             50.000        23-JUN-11   \n",
              "2 368633403.000  INFORMATION REQUESTED  INFORMATION REQUESTED            250.000        05-JUL-11   \n",
              "3 724548253.000                   NONE                RETIRED            250.000        01-AUG-11   \n",
              "4 719016467.000                   NONE                RETIRED            300.000        20-JUN-11   \n",
              "\n",
              "  receipt_desc memo_cd memo_text form_tp  file_num       party  \n",
              "0          NaN     NaN       NaN   SA17A    736166  Republican  \n",
              "1          NaN     NaN       NaN   SA17A    736166  Republican  \n",
              "2          NaN     NaN       NaN   SA17A    749073  Republican  \n",
              "3          NaN     NaN       NaN   SA17A    749073  Republican  \n",
              "4          NaN     NaN       NaN   SA17A    736166  Republican  "
            ]
          },
          "metadata": {
            "tags": []
          },
          "execution_count": 216
        }
      ]
    },
    {
      "cell_type": "code",
      "metadata": {
        "id": "WiI07Ix9EebR",
        "colab_type": "code",
        "colab": {
          "base_uri": "https://localhost:8080/",
          "height": 67
        },
        "outputId": "3413934a-9fd8-4f28-9782-9614d7199b72"
      },
      "source": [
        "fec.party.value_counts()"
      ],
      "execution_count": 217,
      "outputs": [
        {
          "output_type": "execute_result",
          "data": {
            "text/plain": [
              "Democrat      593746\n",
              "Republican    407985\n",
              "Name: party, dtype: int64"
            ]
          },
          "metadata": {
            "tags": []
          },
          "execution_count": 217
        }
      ]
    },
    {
      "cell_type": "code",
      "metadata": {
        "id": "VjG5BGqcEebT",
        "colab_type": "code",
        "colab": {
          "base_uri": "https://localhost:8080/",
          "height": 67
        },
        "outputId": "92175868-8953-4da8-991e-71b83c74f42f"
      },
      "source": [
        "(fec.contb_receipt_amt > 0).value_counts()"
      ],
      "execution_count": 218,
      "outputs": [
        {
          "output_type": "execute_result",
          "data": {
            "text/plain": [
              "True     991475\n",
              "False     10256\n",
              "Name: contb_receipt_amt, dtype: int64"
            ]
          },
          "metadata": {
            "tags": []
          },
          "execution_count": 218
        }
      ]
    },
    {
      "cell_type": "code",
      "metadata": {
        "id": "XhcDst3VEebU",
        "colab_type": "code",
        "colab": {}
      },
      "source": [
        "fec = fec[fec.contb_receipt_amt > 0] # exclude refunds"
      ],
      "execution_count": 219,
      "outputs": []
    },
    {
      "cell_type": "code",
      "metadata": {
        "id": "j4C_AK4MEebW",
        "colab_type": "code",
        "colab": {
          "base_uri": "https://localhost:8080/",
          "height": 420
        },
        "outputId": "d9014c7e-7992-4c5e-999f-8e45a0cec38d"
      },
      "source": [
        "fec_mrbo = fec[fec.cand_nm.isin(['Romney, Mitt', 'Obama, Barack'])] # get data for two main candidates only\n",
        "fec_mrbo.info()"
      ],
      "execution_count": 220,
      "outputs": [
        {
          "output_type": "stream",
          "text": [
            "<class 'pandas.core.frame.DataFrame'>\n",
            "Int64Index: 694282 entries, 411 to 701385\n",
            "Data columns (total 17 columns):\n",
            " #   Column             Non-Null Count   Dtype  \n",
            "---  ------             --------------   -----  \n",
            " 0   cmte_id            694282 non-null  object \n",
            " 1   cand_id            694282 non-null  object \n",
            " 2   cand_nm            694282 non-null  object \n",
            " 3   contbr_nm          694282 non-null  object \n",
            " 4   contbr_city        694275 non-null  object \n",
            " 5   contbr_st          694278 non-null  object \n",
            " 6   contbr_zip         694234 non-null  object \n",
            " 7   contbr_employer    693607 non-null  object \n",
            " 8   contbr_occupation  693524 non-null  object \n",
            " 9   contb_receipt_amt  694282 non-null  float64\n",
            " 10  contb_receipt_dt   694282 non-null  object \n",
            " 11  receipt_desc       2345 non-null    object \n",
            " 12  memo_cd            87387 non-null   object \n",
            " 13  memo_text          90672 non-null   object \n",
            " 14  form_tp            694282 non-null  object \n",
            " 15  file_num           694282 non-null  int64  \n",
            " 16  party              694282 non-null  object \n",
            "dtypes: float64(1), int64(1), object(15)\n",
            "memory usage: 95.3+ MB\n"
          ],
          "name": "stdout"
        }
      ]
    },
    {
      "cell_type": "code",
      "metadata": {
        "id": "psoI_RkaEebX",
        "colab_type": "code",
        "colab": {
          "base_uri": "https://localhost:8080/",
          "height": 202
        },
        "outputId": "a9451449-4f0b-4edc-ae93-87a4fc3f348c"
      },
      "source": [
        "fec.contbr_occupation.value_counts()[:10]"
      ],
      "execution_count": 221,
      "outputs": [
        {
          "output_type": "execute_result",
          "data": {
            "text/plain": [
              "RETIRED                                   233990\n",
              "INFORMATION REQUESTED                      35107\n",
              "ATTORNEY                                   34286\n",
              "HOMEMAKER                                  29931\n",
              "PHYSICIAN                                  23432\n",
              "INFORMATION REQUESTED PER BEST EFFORTS     21138\n",
              "ENGINEER                                   14334\n",
              "TEACHER                                    13990\n",
              "CONSULTANT                                 13273\n",
              "PROFESSOR                                  12555\n",
              "Name: contbr_occupation, dtype: int64"
            ]
          },
          "metadata": {
            "tags": []
          },
          "execution_count": 221
        }
      ]
    },
    {
      "cell_type": "code",
      "metadata": {
        "id": "D2JMEpaEEebZ",
        "colab_type": "code",
        "colab": {}
      },
      "source": [
        "# map not provided occupations\n",
        "occ_mapping = {\n",
        "    'INFORMATION REQUESTED PER BEST EFFORTS' : 'NOT PROVIDED',\n",
        "    'INFORMATION REQUESTED' : 'NOT PROVIDED',\n",
        "    'INFORMATION REQUESTED (BEST EFFORTS)' : 'NOT PROVIDED',\n",
        "    'C.E.O.': 'CEO'\n",
        "}\n",
        "\n",
        "f = lambda x : occ_mapping.get(x, x) # second x means return key if value if not present\n",
        "fec.contbr_occupation = fec.contbr_occupation.map(f)"
      ],
      "execution_count": 222,
      "outputs": []
    },
    {
      "cell_type": "code",
      "metadata": {
        "id": "KxYXOhjDEebZ",
        "colab_type": "code",
        "colab": {}
      },
      "source": [
        "# map not provided employers\n",
        "emp_mapping = {\n",
        "    'INFORMATION REQUESTED PER BEST EFFORTS' : 'NOT PROVIDED',\n",
        "    'INFORMATION REQUESTED' : 'NOT PROVIDED',\n",
        "    'SELF' : 'SELF-EMPLOYED',\n",
        "    'SELF EMPLOYED' : 'SELF-EMPLOYED',\n",
        "}\n",
        "# If no mapping provided, return x\n",
        "f = lambda x: emp_mapping.get(x, x)\n",
        "fec.contbr_employer = fec.contbr_employer.map(f)"
      ],
      "execution_count": 223,
      "outputs": []
    },
    {
      "cell_type": "code",
      "metadata": {
        "scrolled": true,
        "id": "azMmbPNxEeba",
        "colab_type": "code",
        "colab": {}
      },
      "source": [
        "by_occupation = fec.pivot_table('contb_receipt_amt', index = 'contbr_occupation', columns='party', aggfunc='sum')"
      ],
      "execution_count": 224,
      "outputs": []
    },
    {
      "cell_type": "code",
      "metadata": {
        "id": "K82ALdZHEebc",
        "colab_type": "code",
        "colab": {
          "base_uri": "https://localhost:8080/",
          "height": 431
        },
        "outputId": "2737af29-44db-4b67-91f9-518c72e5709b"
      },
      "source": [
        "over2m = by_occupation[by_occupation.sum(1) > 2000000]\n",
        "over2m"
      ],
      "execution_count": 225,
      "outputs": [
        {
          "output_type": "execute_result",
          "data": {
            "text/html": [
              "<div>\n",
              "<style scoped>\n",
              "    .dataframe tbody tr th:only-of-type {\n",
              "        vertical-align: middle;\n",
              "    }\n",
              "\n",
              "    .dataframe tbody tr th {\n",
              "        vertical-align: top;\n",
              "    }\n",
              "\n",
              "    .dataframe thead th {\n",
              "        text-align: right;\n",
              "    }\n",
              "</style>\n",
              "<table border=\"1\" class=\"dataframe\">\n",
              "  <thead>\n",
              "    <tr style=\"text-align: right;\">\n",
              "      <th>party</th>\n",
              "      <th>Democrat</th>\n",
              "      <th>Republican</th>\n",
              "    </tr>\n",
              "    <tr>\n",
              "      <th>contbr_occupation</th>\n",
              "      <th></th>\n",
              "      <th></th>\n",
              "    </tr>\n",
              "  </thead>\n",
              "  <tbody>\n",
              "    <tr>\n",
              "      <th>ATTORNEY</th>\n",
              "      <td>11141982.970</td>\n",
              "      <td>7477194.430</td>\n",
              "    </tr>\n",
              "    <tr>\n",
              "      <th>CEO</th>\n",
              "      <td>2074974.790</td>\n",
              "      <td>4211040.520</td>\n",
              "    </tr>\n",
              "    <tr>\n",
              "      <th>CONSULTANT</th>\n",
              "      <td>2459912.710</td>\n",
              "      <td>2544725.450</td>\n",
              "    </tr>\n",
              "    <tr>\n",
              "      <th>ENGINEER</th>\n",
              "      <td>951525.550</td>\n",
              "      <td>1818373.700</td>\n",
              "    </tr>\n",
              "    <tr>\n",
              "      <th>EXECUTIVE</th>\n",
              "      <td>1355161.050</td>\n",
              "      <td>4138850.090</td>\n",
              "    </tr>\n",
              "    <tr>\n",
              "      <th>...</th>\n",
              "      <td>...</td>\n",
              "      <td>...</td>\n",
              "    </tr>\n",
              "    <tr>\n",
              "      <th>PRESIDENT</th>\n",
              "      <td>1878509.950</td>\n",
              "      <td>4720923.760</td>\n",
              "    </tr>\n",
              "    <tr>\n",
              "      <th>PROFESSOR</th>\n",
              "      <td>2165071.080</td>\n",
              "      <td>296702.730</td>\n",
              "    </tr>\n",
              "    <tr>\n",
              "      <th>REAL ESTATE</th>\n",
              "      <td>528902.090</td>\n",
              "      <td>1625902.250</td>\n",
              "    </tr>\n",
              "    <tr>\n",
              "      <th>RETIRED</th>\n",
              "      <td>25305116.380</td>\n",
              "      <td>23561244.490</td>\n",
              "    </tr>\n",
              "    <tr>\n",
              "      <th>SELF-EMPLOYED</th>\n",
              "      <td>672393.400</td>\n",
              "      <td>1640252.540</td>\n",
              "    </tr>\n",
              "  </tbody>\n",
              "</table>\n",
              "<p>17 rows × 2 columns</p>\n",
              "</div>"
            ],
            "text/plain": [
              "party                 Democrat   Republican\n",
              "contbr_occupation                          \n",
              "ATTORNEY          11141982.970  7477194.430\n",
              "CEO                2074974.790  4211040.520\n",
              "CONSULTANT         2459912.710  2544725.450\n",
              "ENGINEER            951525.550  1818373.700\n",
              "EXECUTIVE          1355161.050  4138850.090\n",
              "...                        ...          ...\n",
              "PRESIDENT          1878509.950  4720923.760\n",
              "PROFESSOR          2165071.080   296702.730\n",
              "REAL ESTATE         528902.090  1625902.250\n",
              "RETIRED           25305116.380 23561244.490\n",
              "SELF-EMPLOYED       672393.400  1640252.540\n",
              "\n",
              "[17 rows x 2 columns]"
            ]
          },
          "metadata": {
            "tags": []
          },
          "execution_count": 225
        }
      ]
    },
    {
      "cell_type": "code",
      "metadata": {
        "id": "EH32EmZPEebd",
        "colab_type": "code",
        "colab": {
          "base_uri": "https://localhost:8080/",
          "height": 624
        },
        "outputId": "80e1d526-87b1-4e1a-be08-ec9deb4ce186"
      },
      "source": [
        "over2m.plot(kind='barh', figsize=(12,10))"
      ],
      "execution_count": 226,
      "outputs": [
        {
          "output_type": "execute_result",
          "data": {
            "text/plain": [
              "<matplotlib.axes._subplots.AxesSubplot at 0x7fb9a0c75908>"
            ]
          },
          "metadata": {
            "tags": []
          },
          "execution_count": 226
        },
        {
          "output_type": "display_data",
          "data": {
            "image/png": "[encoded data removed]",
            "text/plain": [
              "<Figure size 864x720 with 1 Axes>"
            ]
          },
          "metadata": {
            "tags": []
          }
        }
      ]
    },
    {
      "cell_type": "code",
      "metadata": {
        "id": "92E_w6glEebd",
        "colab_type": "code",
        "colab": {
          "base_uri": "https://localhost:8080/",
          "height": 84
        },
        "outputId": "57813230-9054-4947-a8b4-37edd692615c"
      },
      "source": [
        "# get top donor occupations / companies for each of the two main candidates\n",
        "\n",
        "def get_top_donor_by_occupation(group):\n",
        "    print(type(group))\n",
        "    groups = group.groupby('contbr_occupation')['contb_receipt_amt'].sum()\n",
        "    print(type(groups.nlargest(10)))\n",
        "    return groups.nlargest(10)\n",
        "    \n",
        "    \n",
        "top_donor_by_occupation = fec_mrbo.groupby(['cand_nm']).apply(get_top_donor_by_occupation)"
      ],
      "execution_count": 227,
      "outputs": [
        {
          "output_type": "stream",
          "text": [
            "<class 'pandas.core.frame.DataFrame'>\n",
            "<class 'pandas.core.series.Series'>\n",
            "<class 'pandas.core.frame.DataFrame'>\n",
            "<class 'pandas.core.series.Series'>\n"
          ],
          "name": "stdout"
        }
      ]
    },
    {
      "cell_type": "code",
      "metadata": {
        "id": "zyMi1_dwEebf",
        "colab_type": "code",
        "colab": {
          "base_uri": "https://localhost:8080/",
          "height": 218
        },
        "outputId": "7bb3611a-4276-4316-ab3f-d337b5766118"
      },
      "source": [
        "top_donor_by_occupation['Obama, Barack']"
      ],
      "execution_count": 228,
      "outputs": [
        {
          "output_type": "execute_result",
          "data": {
            "text/plain": [
              "contbr_occupation\n",
              "RETIRED                 25305116.380\n",
              "ATTORNEY                11141982.970\n",
              "INFORMATION REQUESTED    4866973.960\n",
              "HOMEMAKER                4248875.800\n",
              "PHYSICIAN                3735124.940\n",
              "LAWYER                   3160478.870\n",
              "CONSULTANT               2459912.710\n",
              "PROFESSOR                2165071.080\n",
              "CEO                      2073284.790\n",
              "PRESIDENT                1878509.950\n",
              "Name: contb_receipt_amt, dtype: float64"
            ]
          },
          "metadata": {
            "tags": []
          },
          "execution_count": 228
        }
      ]
    },
    {
      "cell_type": "code",
      "metadata": {
        "id": "GPgqwGsFEebg",
        "colab_type": "code",
        "colab": {
          "base_uri": "https://localhost:8080/",
          "height": 218
        },
        "outputId": "f8c5304d-6fd2-469b-9931-34d5eafb347a"
      },
      "source": [
        "top_donor_by_occupation['Romney, Mitt']"
      ],
      "execution_count": 229,
      "outputs": [
        {
          "output_type": "execute_result",
          "data": {
            "text/plain": [
              "contbr_occupation\n",
              "RETIRED                                  11508473.590\n",
              "INFORMATION REQUESTED PER BEST EFFORTS   11396894.840\n",
              "HOMEMAKER                                 8147446.220\n",
              "ATTORNEY                                  5364718.820\n",
              "PRESIDENT                                 2491244.890\n",
              "EXECUTIVE                                 2300947.030\n",
              "C.E.O.                                    1968386.110\n",
              "INVESTOR                                  1537595.120\n",
              "CONSULTANT                                1424894.010\n",
              "PHYSICIAN                                 1368023.960\n",
              "Name: contb_receipt_amt, dtype: float64"
            ]
          },
          "metadata": {
            "tags": []
          },
          "execution_count": 229
        }
      ]
    },
    {
      "cell_type": "code",
      "metadata": {
        "id": "EbyqQjgDEebi",
        "colab_type": "code",
        "colab": {}
      },
      "source": [
        "# get top donor occupations / companies for each of the two main candidates\n",
        "\n",
        "def get_top_donor_by_employer(group):\n",
        "    groups = group.groupby('contbr_employer')['contb_receipt_amt'].sum()\n",
        "    return groups.nlargest(10)\n",
        "    \n",
        "    \n",
        "top_donor_by_employer = fec_mrbo.groupby(['cand_nm']).apply(get_top_donor_by_employer)"
      ],
      "execution_count": 230,
      "outputs": []
    },
    {
      "cell_type": "code",
      "metadata": {
        "id": "zlKFA9YaEebk",
        "colab_type": "code",
        "colab": {
          "base_uri": "https://localhost:8080/",
          "height": 235
        },
        "outputId": "6ba5cdea-9616-4fef-bb91-345d1df0bec0"
      },
      "source": [
        "top_donor_by_employer"
      ],
      "execution_count": 231,
      "outputs": [
        {
          "output_type": "execute_result",
          "data": {
            "text/plain": [
              "cand_nm        contbr_employer      \n",
              "Obama, Barack  RETIRED                 22694358.850\n",
              "               SELF-EMPLOYED           17080985.960\n",
              "               NOT EMPLOYED             8586308.700\n",
              "               INFORMATION REQUESTED    5053480.370\n",
              "               HOMEMAKER                2605408.540\n",
              "                                           ...     \n",
              "Romney, Mitt   CREDIT SUISSE             281150.000\n",
              "               MORGAN STANLEY            267266.000\n",
              "               GOLDMAN SACH & CO.        238250.000\n",
              "               BARCLAYS CAPITAL          162750.000\n",
              "               H.I.G. CAPITAL            139500.000\n",
              "Name: contb_receipt_amt, Length: 20, dtype: float64"
            ]
          },
          "metadata": {
            "tags": []
          },
          "execution_count": 231
        }
      ]
    },
    {
      "cell_type": "markdown",
      "metadata": {
        "id": "e0XLhYHzEebk",
        "colab_type": "text"
      },
      "source": [
        "## Bucketing Donation Amounts"
      ]
    },
    {
      "cell_type": "code",
      "metadata": {
        "id": "9i212_NeEebl",
        "colab_type": "code",
        "colab": {
          "base_uri": "https://localhost:8080/",
          "height": 252
        },
        "outputId": "bf74e178-d47c-4361-986d-135e9676616c"
      },
      "source": [
        "bins = np.array([0, 1, 10, 100, 1000, 10000, 100000, 1000000, 10000000])\n",
        "labels = pd.cut(fec_mrbo.contb_receipt_amt, bins)\n",
        "labels"
      ],
      "execution_count": 232,
      "outputs": [
        {
          "output_type": "execute_result",
          "data": {
            "text/plain": [
              "411         (10, 100]\n",
              "412       (100, 1000]\n",
              "413       (100, 1000]\n",
              "414         (10, 100]\n",
              "415         (10, 100]\n",
              "             ...     \n",
              "701381      (10, 100]\n",
              "701382    (100, 1000]\n",
              "701383        (1, 10]\n",
              "701384      (10, 100]\n",
              "701385    (100, 1000]\n",
              "Name: contb_receipt_amt, Length: 694282, dtype: category\n",
              "Categories (8, interval[int64]): [(0, 1] < (1, 10] < (10, 100] < (100, 1000] < (1000, 10000] < (10000, 100000] <\n",
              "                                  (100000, 1000000] < (1000000, 10000000]]"
            ]
          },
          "metadata": {
            "tags": []
          },
          "execution_count": 232
        }
      ]
    },
    {
      "cell_type": "code",
      "metadata": {
        "id": "H-GldYV-Eebn",
        "colab_type": "code",
        "colab": {
          "base_uri": "https://localhost:8080/",
          "height": 314
        },
        "outputId": "94201a0c-f4b1-4597-cf13-566ed07c809b"
      },
      "source": [
        "fec_mrbo.groupby(['cand_nm', labels]).size().unstack(0)"
      ],
      "execution_count": 233,
      "outputs": [
        {
          "output_type": "execute_result",
          "data": {
            "text/html": [
              "<div>\n",
              "<style scoped>\n",
              "    .dataframe tbody tr th:only-of-type {\n",
              "        vertical-align: middle;\n",
              "    }\n",
              "\n",
              "    .dataframe tbody tr th {\n",
              "        vertical-align: top;\n",
              "    }\n",
              "\n",
              "    .dataframe thead th {\n",
              "        text-align: right;\n",
              "    }\n",
              "</style>\n",
              "<table border=\"1\" class=\"dataframe\">\n",
              "  <thead>\n",
              "    <tr style=\"text-align: right;\">\n",
              "      <th>cand_nm</th>\n",
              "      <th>Obama, Barack</th>\n",
              "      <th>Romney, Mitt</th>\n",
              "    </tr>\n",
              "    <tr>\n",
              "      <th>contb_receipt_amt</th>\n",
              "      <th></th>\n",
              "      <th></th>\n",
              "    </tr>\n",
              "  </thead>\n",
              "  <tbody>\n",
              "    <tr>\n",
              "      <th>(0, 1]</th>\n",
              "      <td>493</td>\n",
              "      <td>77</td>\n",
              "    </tr>\n",
              "    <tr>\n",
              "      <th>(1, 10]</th>\n",
              "      <td>40070</td>\n",
              "      <td>3681</td>\n",
              "    </tr>\n",
              "    <tr>\n",
              "      <th>(10, 100]</th>\n",
              "      <td>372280</td>\n",
              "      <td>31853</td>\n",
              "    </tr>\n",
              "    <tr>\n",
              "      <th>(100, 1000]</th>\n",
              "      <td>153991</td>\n",
              "      <td>43357</td>\n",
              "    </tr>\n",
              "    <tr>\n",
              "      <th>(1000, 10000]</th>\n",
              "      <td>22284</td>\n",
              "      <td>26186</td>\n",
              "    </tr>\n",
              "    <tr>\n",
              "      <th>(10000, 100000]</th>\n",
              "      <td>2</td>\n",
              "      <td>1</td>\n",
              "    </tr>\n",
              "    <tr>\n",
              "      <th>(100000, 1000000]</th>\n",
              "      <td>3</td>\n",
              "      <td>0</td>\n",
              "    </tr>\n",
              "    <tr>\n",
              "      <th>(1000000, 10000000]</th>\n",
              "      <td>4</td>\n",
              "      <td>0</td>\n",
              "    </tr>\n",
              "  </tbody>\n",
              "</table>\n",
              "</div>"
            ],
            "text/plain": [
              "cand_nm              Obama, Barack  Romney, Mitt\n",
              "contb_receipt_amt                               \n",
              "(0, 1]                         493            77\n",
              "(1, 10]                      40070          3681\n",
              "(10, 100]                   372280         31853\n",
              "(100, 1000]                 153991         43357\n",
              "(1000, 10000]                22284         26186\n",
              "(10000, 100000]                  2             1\n",
              "(100000, 1000000]                3             0\n",
              "(1000000, 10000000]              4             0"
            ]
          },
          "metadata": {
            "tags": []
          },
          "execution_count": 233
        }
      ]
    },
    {
      "cell_type": "code",
      "metadata": {
        "id": "mfeBh9GKEebo",
        "colab_type": "code",
        "colab": {
          "base_uri": "https://localhost:8080/",
          "height": 314
        },
        "outputId": "8132a240-2983-487e-daaa-4ead52bec706"
      },
      "source": [
        "bucket_sums = fec_mrbo.groupby(['cand_nm', labels]).contb_receipt_amt.sum().unstack(0)\n",
        "\n",
        "bucket_sums"
      ],
      "execution_count": 234,
      "outputs": [
        {
          "output_type": "execute_result",
          "data": {
            "text/html": [
              "<div>\n",
              "<style scoped>\n",
              "    .dataframe tbody tr th:only-of-type {\n",
              "        vertical-align: middle;\n",
              "    }\n",
              "\n",
              "    .dataframe tbody tr th {\n",
              "        vertical-align: top;\n",
              "    }\n",
              "\n",
              "    .dataframe thead th {\n",
              "        text-align: right;\n",
              "    }\n",
              "</style>\n",
              "<table border=\"1\" class=\"dataframe\">\n",
              "  <thead>\n",
              "    <tr style=\"text-align: right;\">\n",
              "      <th>cand_nm</th>\n",
              "      <th>Obama, Barack</th>\n",
              "      <th>Romney, Mitt</th>\n",
              "    </tr>\n",
              "    <tr>\n",
              "      <th>contb_receipt_amt</th>\n",
              "      <th></th>\n",
              "      <th></th>\n",
              "    </tr>\n",
              "  </thead>\n",
              "  <tbody>\n",
              "    <tr>\n",
              "      <th>(0, 1]</th>\n",
              "      <td>318.240</td>\n",
              "      <td>77.000</td>\n",
              "    </tr>\n",
              "    <tr>\n",
              "      <th>(1, 10]</th>\n",
              "      <td>337267.620</td>\n",
              "      <td>29819.660</td>\n",
              "    </tr>\n",
              "    <tr>\n",
              "      <th>(10, 100]</th>\n",
              "      <td>20288981.410</td>\n",
              "      <td>1987783.760</td>\n",
              "    </tr>\n",
              "    <tr>\n",
              "      <th>(100, 1000]</th>\n",
              "      <td>54798531.460</td>\n",
              "      <td>22363381.690</td>\n",
              "    </tr>\n",
              "    <tr>\n",
              "      <th>(1000, 10000]</th>\n",
              "      <td>51753705.670</td>\n",
              "      <td>63942145.420</td>\n",
              "    </tr>\n",
              "    <tr>\n",
              "      <th>(10000, 100000]</th>\n",
              "      <td>59100.000</td>\n",
              "      <td>12700.000</td>\n",
              "    </tr>\n",
              "    <tr>\n",
              "      <th>(100000, 1000000]</th>\n",
              "      <td>1490683.080</td>\n",
              "      <td>nan</td>\n",
              "    </tr>\n",
              "    <tr>\n",
              "      <th>(1000000, 10000000]</th>\n",
              "      <td>7148839.760</td>\n",
              "      <td>nan</td>\n",
              "    </tr>\n",
              "  </tbody>\n",
              "</table>\n",
              "</div>"
            ],
            "text/plain": [
              "cand_nm              Obama, Barack  Romney, Mitt\n",
              "contb_receipt_amt                               \n",
              "(0, 1]                     318.240        77.000\n",
              "(1, 10]                 337267.620     29819.660\n",
              "(10, 100]             20288981.410   1987783.760\n",
              "(100, 1000]           54798531.460  22363381.690\n",
              "(1000, 10000]         51753705.670  63942145.420\n",
              "(10000, 100000]          59100.000     12700.000\n",
              "(100000, 1000000]      1490683.080           nan\n",
              "(1000000, 10000000]    7148839.760           nan"
            ]
          },
          "metadata": {
            "tags": []
          },
          "execution_count": 234
        }
      ]
    },
    {
      "cell_type": "code",
      "metadata": {
        "id": "t6O5YFNaEebp",
        "colab_type": "code",
        "colab": {
          "base_uri": "https://localhost:8080/",
          "height": 314
        },
        "outputId": "131d8f85-7e04-4b15-d6f3-c6a4af084eb2"
      },
      "source": [
        "normed_sums = bucket_sums.div(bucket_sums.sum(1), 0)\n",
        "normed_sums"
      ],
      "execution_count": 235,
      "outputs": [
        {
          "output_type": "execute_result",
          "data": {
            "text/html": [
              "<div>\n",
              "<style scoped>\n",
              "    .dataframe tbody tr th:only-of-type {\n",
              "        vertical-align: middle;\n",
              "    }\n",
              "\n",
              "    .dataframe tbody tr th {\n",
              "        vertical-align: top;\n",
              "    }\n",
              "\n",
              "    .dataframe thead th {\n",
              "        text-align: right;\n",
              "    }\n",
              "</style>\n",
              "<table border=\"1\" class=\"dataframe\">\n",
              "  <thead>\n",
              "    <tr style=\"text-align: right;\">\n",
              "      <th>cand_nm</th>\n",
              "      <th>Obama, Barack</th>\n",
              "      <th>Romney, Mitt</th>\n",
              "    </tr>\n",
              "    <tr>\n",
              "      <th>contb_receipt_amt</th>\n",
              "      <th></th>\n",
              "      <th></th>\n",
              "    </tr>\n",
              "  </thead>\n",
              "  <tbody>\n",
              "    <tr>\n",
              "      <th>(0, 1]</th>\n",
              "      <td>0.805</td>\n",
              "      <td>0.195</td>\n",
              "    </tr>\n",
              "    <tr>\n",
              "      <th>(1, 10]</th>\n",
              "      <td>0.919</td>\n",
              "      <td>0.081</td>\n",
              "    </tr>\n",
              "    <tr>\n",
              "      <th>(10, 100]</th>\n",
              "      <td>0.911</td>\n",
              "      <td>0.089</td>\n",
              "    </tr>\n",
              "    <tr>\n",
              "      <th>(100, 1000]</th>\n",
              "      <td>0.710</td>\n",
              "      <td>0.290</td>\n",
              "    </tr>\n",
              "    <tr>\n",
              "      <th>(1000, 10000]</th>\n",
              "      <td>0.447</td>\n",
              "      <td>0.553</td>\n",
              "    </tr>\n",
              "    <tr>\n",
              "      <th>(10000, 100000]</th>\n",
              "      <td>0.823</td>\n",
              "      <td>0.177</td>\n",
              "    </tr>\n",
              "    <tr>\n",
              "      <th>(100000, 1000000]</th>\n",
              "      <td>1.000</td>\n",
              "      <td>nan</td>\n",
              "    </tr>\n",
              "    <tr>\n",
              "      <th>(1000000, 10000000]</th>\n",
              "      <td>1.000</td>\n",
              "      <td>nan</td>\n",
              "    </tr>\n",
              "  </tbody>\n",
              "</table>\n",
              "</div>"
            ],
            "text/plain": [
              "cand_nm              Obama, Barack  Romney, Mitt\n",
              "contb_receipt_amt                               \n",
              "(0, 1]                       0.805         0.195\n",
              "(1, 10]                      0.919         0.081\n",
              "(10, 100]                    0.911         0.089\n",
              "(100, 1000]                  0.710         0.290\n",
              "(1000, 10000]                0.447         0.553\n",
              "(10000, 100000]              0.823         0.177\n",
              "(100000, 1000000]            1.000           nan\n",
              "(1000000, 10000000]          1.000           nan"
            ]
          },
          "metadata": {
            "tags": []
          },
          "execution_count": 235
        }
      ]
    },
    {
      "cell_type": "code",
      "metadata": {
        "id": "O-hpcLjnEebp",
        "colab_type": "code",
        "colab": {
          "base_uri": "https://localhost:8080/",
          "height": 285
        },
        "outputId": "4971f076-7190-4570-aa45-1d25a70d7a26"
      },
      "source": [
        "normed_sums[:-2].plot(kind='barh')"
      ],
      "execution_count": 236,
      "outputs": [
        {
          "output_type": "execute_result",
          "data": {
            "text/plain": [
              "<matplotlib.axes._subplots.AxesSubplot at 0x7fb99fc13d68>"
            ]
          },
          "metadata": {
            "tags": []
          },
          "execution_count": 236
        },
        {
          "output_type": "display_data",
          "data": {
            "image/png": "[encoded data removed]",
            "text/plain": [
              "<Figure size 432x288 with 1 Axes>"
            ]
          },
          "metadata": {
            "tags": []
          }
        }
      ]
    },
    {
      "cell_type": "markdown",
      "metadata": {
        "id": "fFrTmdVyEebq",
        "colab_type": "text"
      },
      "source": [
        "## Donation Statistics by State"
      ]
    },
    {
      "cell_type": "code",
      "metadata": {
        "id": "t8Poz-srEebr",
        "colab_type": "code",
        "colab": {
          "base_uri": "https://localhost:8080/",
          "height": 431
        },
        "outputId": "ae4f33a1-b3cc-4f73-c383-f8cd22cf05e1"
      },
      "source": [
        "grouped = fec_mrbo.groupby(['cand_nm', 'contbr_st'])\n",
        "totals = grouped.contb_receipt_amt.sum().unstack(0).fillna(0)\n",
        "totals = totals[totals.sum(1) > 100000]\n",
        "totals"
      ],
      "execution_count": 237,
      "outputs": [
        {
          "output_type": "execute_result",
          "data": {
            "text/html": [
              "<div>\n",
              "<style scoped>\n",
              "    .dataframe tbody tr th:only-of-type {\n",
              "        vertical-align: middle;\n",
              "    }\n",
              "\n",
              "    .dataframe tbody tr th {\n",
              "        vertical-align: top;\n",
              "    }\n",
              "\n",
              "    .dataframe thead th {\n",
              "        text-align: right;\n",
              "    }\n",
              "</style>\n",
              "<table border=\"1\" class=\"dataframe\">\n",
              "  <thead>\n",
              "    <tr style=\"text-align: right;\">\n",
              "      <th>cand_nm</th>\n",
              "      <th>Obama, Barack</th>\n",
              "      <th>Romney, Mitt</th>\n",
              "    </tr>\n",
              "    <tr>\n",
              "      <th>contbr_st</th>\n",
              "      <th></th>\n",
              "      <th></th>\n",
              "    </tr>\n",
              "  </thead>\n",
              "  <tbody>\n",
              "    <tr>\n",
              "      <th>AK</th>\n",
              "      <td>281840.150</td>\n",
              "      <td>86204.240</td>\n",
              "    </tr>\n",
              "    <tr>\n",
              "      <th>AL</th>\n",
              "      <td>543123.480</td>\n",
              "      <td>527303.510</td>\n",
              "    </tr>\n",
              "    <tr>\n",
              "      <th>AR</th>\n",
              "      <td>359247.280</td>\n",
              "      <td>105556.000</td>\n",
              "    </tr>\n",
              "    <tr>\n",
              "      <th>AZ</th>\n",
              "      <td>1506476.980</td>\n",
              "      <td>1888436.230</td>\n",
              "    </tr>\n",
              "    <tr>\n",
              "      <th>CA</th>\n",
              "      <td>23824984.240</td>\n",
              "      <td>11237636.600</td>\n",
              "    </tr>\n",
              "    <tr>\n",
              "      <th>...</th>\n",
              "      <td>...</td>\n",
              "      <td>...</td>\n",
              "    </tr>\n",
              "    <tr>\n",
              "      <th>WA</th>\n",
              "      <td>4250933.160</td>\n",
              "      <td>1341521.560</td>\n",
              "    </tr>\n",
              "    <tr>\n",
              "      <th>WI</th>\n",
              "      <td>1130155.460</td>\n",
              "      <td>270316.320</td>\n",
              "    </tr>\n",
              "    <tr>\n",
              "      <th>WV</th>\n",
              "      <td>169154.470</td>\n",
              "      <td>126725.120</td>\n",
              "    </tr>\n",
              "    <tr>\n",
              "      <th>WY</th>\n",
              "      <td>194046.740</td>\n",
              "      <td>252595.840</td>\n",
              "    </tr>\n",
              "    <tr>\n",
              "      <th>XX</th>\n",
              "      <td>0.000</td>\n",
              "      <td>400250.000</td>\n",
              "    </tr>\n",
              "  </tbody>\n",
              "</table>\n",
              "<p>52 rows × 2 columns</p>\n",
              "</div>"
            ],
            "text/plain": [
              "cand_nm    Obama, Barack  Romney, Mitt\n",
              "contbr_st                             \n",
              "AK            281840.150     86204.240\n",
              "AL            543123.480    527303.510\n",
              "AR            359247.280    105556.000\n",
              "AZ           1506476.980   1888436.230\n",
              "CA          23824984.240  11237636.600\n",
              "...                  ...           ...\n",
              "WA           4250933.160   1341521.560\n",
              "WI           1130155.460    270316.320\n",
              "WV            169154.470    126725.120\n",
              "WY            194046.740    252595.840\n",
              "XX                 0.000    400250.000\n",
              "\n",
              "[52 rows x 2 columns]"
            ]
          },
          "metadata": {
            "tags": []
          },
          "execution_count": 237
        }
      ]
    },
    {
      "cell_type": "code",
      "metadata": {
        "id": "mZEiOXO_Eebr",
        "colab_type": "code",
        "colab": {
          "base_uri": "https://localhost:8080/",
          "height": 431
        },
        "outputId": "8b31cbe4-3927-43d2-f25c-a722125280a2"
      },
      "source": [
        "percent = totals.div(totals.sum(1), 0)\n",
        "percent"
      ],
      "execution_count": 238,
      "outputs": [
        {
          "output_type": "execute_result",
          "data": {
            "text/html": [
              "<div>\n",
              "<style scoped>\n",
              "    .dataframe tbody tr th:only-of-type {\n",
              "        vertical-align: middle;\n",
              "    }\n",
              "\n",
              "    .dataframe tbody tr th {\n",
              "        vertical-align: top;\n",
              "    }\n",
              "\n",
              "    .dataframe thead th {\n",
              "        text-align: right;\n",
              "    }\n",
              "</style>\n",
              "<table border=\"1\" class=\"dataframe\">\n",
              "  <thead>\n",
              "    <tr style=\"text-align: right;\">\n",
              "      <th>cand_nm</th>\n",
              "      <th>Obama, Barack</th>\n",
              "      <th>Romney, Mitt</th>\n",
              "    </tr>\n",
              "    <tr>\n",
              "      <th>contbr_st</th>\n",
              "      <th></th>\n",
              "      <th></th>\n",
              "    </tr>\n",
              "  </thead>\n",
              "  <tbody>\n",
              "    <tr>\n",
              "      <th>AK</th>\n",
              "      <td>0.766</td>\n",
              "      <td>0.234</td>\n",
              "    </tr>\n",
              "    <tr>\n",
              "      <th>AL</th>\n",
              "      <td>0.507</td>\n",
              "      <td>0.493</td>\n",
              "    </tr>\n",
              "    <tr>\n",
              "      <th>AR</th>\n",
              "      <td>0.773</td>\n",
              "      <td>0.227</td>\n",
              "    </tr>\n",
              "    <tr>\n",
              "      <th>AZ</th>\n",
              "      <td>0.444</td>\n",
              "      <td>0.556</td>\n",
              "    </tr>\n",
              "    <tr>\n",
              "      <th>CA</th>\n",
              "      <td>0.679</td>\n",
              "      <td>0.321</td>\n",
              "    </tr>\n",
              "    <tr>\n",
              "      <th>...</th>\n",
              "      <td>...</td>\n",
              "      <td>...</td>\n",
              "    </tr>\n",
              "    <tr>\n",
              "      <th>WA</th>\n",
              "      <td>0.760</td>\n",
              "      <td>0.240</td>\n",
              "    </tr>\n",
              "    <tr>\n",
              "      <th>WI</th>\n",
              "      <td>0.807</td>\n",
              "      <td>0.193</td>\n",
              "    </tr>\n",
              "    <tr>\n",
              "      <th>WV</th>\n",
              "      <td>0.572</td>\n",
              "      <td>0.428</td>\n",
              "    </tr>\n",
              "    <tr>\n",
              "      <th>WY</th>\n",
              "      <td>0.434</td>\n",
              "      <td>0.566</td>\n",
              "    </tr>\n",
              "    <tr>\n",
              "      <th>XX</th>\n",
              "      <td>0.000</td>\n",
              "      <td>1.000</td>\n",
              "    </tr>\n",
              "  </tbody>\n",
              "</table>\n",
              "<p>52 rows × 2 columns</p>\n",
              "</div>"
            ],
            "text/plain": [
              "cand_nm    Obama, Barack  Romney, Mitt\n",
              "contbr_st                             \n",
              "AK                 0.766         0.234\n",
              "AL                 0.507         0.493\n",
              "AR                 0.773         0.227\n",
              "AZ                 0.444         0.556\n",
              "CA                 0.679         0.321\n",
              "...                  ...           ...\n",
              "WA                 0.760         0.240\n",
              "WI                 0.807         0.193\n",
              "WV                 0.572         0.428\n",
              "WY                 0.434         0.566\n",
              "XX                 0.000         1.000\n",
              "\n",
              "[52 rows x 2 columns]"
            ]
          },
          "metadata": {
            "tags": []
          },
          "execution_count": 238
        }
      ]
    },
    {
      "cell_type": "code",
      "metadata": {
        "id": "lRmNBsJgzZzT",
        "colab_type": "code",
        "colab": {}
      },
      "source": [
        ""
      ],
      "execution_count": 238,
      "outputs": []
    }
  ]
}