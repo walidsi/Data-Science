{
    "nbformat_minor": 2, 
    "cells": [
        {
            "source": "<a href=\"https://cognitiveclass.ai\"><img src = \"https://ibm.box.com/shared/static/9gegpsmnsoo25ikkbl4qzlvlyjbgxs5x.png\" width = 400> </a>\n\n<h1 align=center><font size = 5>From Understanding to Preparation</font></h1>", 
            "cell_type": "markdown", 
            "metadata": {
                "button": false, 
                "new_sheet": false, 
                "run_control": {
                    "read_only": false
                }, 
                "deletable": true
            }
        }, 
        {
            "source": "## Introduction\n\nIn this lab, we will continue learning about the data science methodology, and focus on the **Data Understanding** and the **Data Preparation** stages.", 
            "cell_type": "markdown", 
            "metadata": {
                "button": false, 
                "new_sheet": false, 
                "run_control": {
                    "read_only": false
                }, 
                "deletable": true
            }
        }, 
        {
            "source": "## Table of Contents\n\n<div class=\"alert alert-block alert-info\" style=\"margin-top: 20px\">\n1. [Recap](#0)<br>\n2. [Data Understanding](#2)<br>\n3. [Data Preparation](#4)<br>\n</div>\n<hr>", 
            "cell_type": "markdown", 
            "metadata": {
                "button": false, 
                "new_sheet": false, 
                "run_control": {
                    "read_only": false
                }, 
                "deletable": true
            }
        }, 
        {
            "source": "# Recap <a id=\"0\"></a>", 
            "cell_type": "markdown", 
            "metadata": {
                "button": false, 
                "new_sheet": false, 
                "run_control": {
                    "read_only": false
                }, 
                "deletable": true
            }
        }, 
        {
            "source": "In Lab **From Requirements to Collection**, we learned that the data we need to answer the question developed in the business understanding stage, namely *can we automate the process of determining the cuisine of a given recipe?*, is readily available. A researcher named Yong-Yeol Ahn scraped tens of thousands of food recipes (cuisines and ingredients) from three different websites, namely:", 
            "cell_type": "markdown", 
            "metadata": {
                "button": false, 
                "new_sheet": false, 
                "run_control": {
                    "read_only": false
                }, 
                "deletable": true
            }
        }, 
        {
            "source": "<img src = \"https://ibm.box.com/shared/static/4fruwan7wmjov3gywiz3swlojw0srv54.png\" width=500>\n\nwww.allrecipes.com\n\n<img src = \"https://ibm.box.com/shared/static/cebfdbr22fjxa47lltp0bs533r103g0z.png\" width=500>\n\nwww.epicurious.com\n\n<img src = \"https://ibm.box.com/shared/static/epk727njg7xrz49pbkpkzd05cm5ywqmu.png\" width=500>\n\nwww.menupan.com", 
            "cell_type": "markdown", 
            "metadata": {
                "button": false, 
                "new_sheet": false, 
                "run_control": {
                    "read_only": false
                }, 
                "deletable": true
            }
        }, 
        {
            "source": "For more information on Yong-Yeol Ahn and his research, you can read his paper on [Flavor Network and the Principles of Food Pairing](http://yongyeol.com/papers/ahn-flavornet-2011.pdf).", 
            "cell_type": "markdown", 
            "metadata": {
                "button": false, 
                "new_sheet": false, 
                "run_control": {
                    "read_only": false
                }, 
                "deletable": true
            }
        }, 
        {
            "source": "We also collected the data and placed it on an IBM server for your convenience.\n\n------------", 
            "cell_type": "markdown", 
            "metadata": {
                "button": false, 
                "new_sheet": false, 
                "run_control": {
                    "read_only": false
                }, 
                "deletable": true
            }
        }, 
        {
            "source": "# Data Understanding <a id=\"2\"></a>", 
            "cell_type": "markdown", 
            "metadata": {
                "button": false, 
                "new_sheet": false, 
                "run_control": {
                    "read_only": false
                }, 
                "deletable": true
            }
        }, 
        {
            "source": "<img src=\"https://ibm.box.com/shared/static/89geb3m0ge1z73s92hl8o8wdcpcrggtz.png\" width=500>", 
            "cell_type": "markdown", 
            "metadata": {
                "button": false, 
                "new_sheet": false, 
                "run_control": {
                    "read_only": false
                }, 
                "deletable": true
            }
        }, 
        {
            "source": "<strong> Important note:</strong> Please note that you are not expected to know how to program in python. The following code is meant to illustrate the stages of data understanding and data preparation, so it is totally fine if you do not understand the individual lines of code. We have a full course on programming in python, <a href=\"http://cocl.us/PY0101EN_DS0103EN_LAB3_PYTHON\">Python for Data Science</a>, so please feel free to complete the course if you are interested in learning how to program in python.", 
            "cell_type": "markdown", 
            "metadata": {
                "button": false, 
                "new_sheet": false, 
                "run_control": {
                    "read_only": false
                }, 
                "deletable": true
            }
        }, 
        {
            "source": "### Using this notebook:\n\nTo run any of the following cells of code, you can type **Shift + Enter** to excute the code in a cell.", 
            "cell_type": "markdown", 
            "metadata": {
                "button": false, 
                "new_sheet": false, 
                "run_control": {
                    "read_only": false
                }, 
                "deletable": true
            }
        }, 
        {
            "source": "Get the version of Python installed.", 
            "cell_type": "markdown", 
            "metadata": {
                "button": false, 
                "new_sheet": false, 
                "run_control": {
                    "read_only": false
                }, 
                "deletable": true
            }
        }, 
        {
            "execution_count": null, 
            "cell_type": "code", 
            "metadata": {
                "button": false, 
                "new_sheet": false, 
                "collapsed": true, 
                "run_control": {
                    "read_only": false
                }, 
                "deletable": true
            }, 
            "outputs": [], 
            "source": "# check Python version\n!python -V"
        }, 
        {
            "source": "Download the library and dependencies that we will need to run this lab.", 
            "cell_type": "markdown", 
            "metadata": {
                "button": false, 
                "new_sheet": false, 
                "run_control": {
                    "read_only": false
                }, 
                "deletable": true
            }
        }, 
        {
            "execution_count": null, 
            "cell_type": "code", 
            "metadata": {
                "button": false, 
                "new_sheet": false, 
                "collapsed": true, 
                "run_control": {
                    "read_only": false
                }, 
                "deletable": true
            }, 
            "outputs": [], 
            "source": "import pandas as pd # import library to read data into dataframe\npd.set_option('display.max_columns', None)\nimport numpy as np # import numpy library\nimport re # import library for regular expression"
        }, 
        {
            "source": "Download the data from the IBM server and read it into a *pandas* dataframe.", 
            "cell_type": "markdown", 
            "metadata": {
                "button": false, 
                "new_sheet": false, 
                "run_control": {
                    "read_only": false
                }, 
                "deletable": true
            }
        }, 
        {
            "execution_count": null, 
            "cell_type": "code", 
            "metadata": {
                "button": false, 
                "new_sheet": false, 
                "collapsed": true, 
                "run_control": {
                    "read_only": false
                }, 
                "deletable": true
            }, 
            "outputs": [], 
            "source": "recipes = pd.read_csv(\"https://ibm.box.com/shared/static/5wah9atr5o1akuuavl2z9tkjzdinr1lv.csv\")\n\nprint(\"Data read into dataframe!\") # takes about 30 seconds"
        }, 
        {
            "source": "Show the first few rows.", 
            "cell_type": "markdown", 
            "metadata": {
                "button": false, 
                "new_sheet": false, 
                "run_control": {
                    "read_only": false
                }, 
                "deletable": true
            }
        }, 
        {
            "execution_count": null, 
            "cell_type": "code", 
            "metadata": {
                "button": false, 
                "new_sheet": false, 
                "collapsed": true, 
                "run_control": {
                    "read_only": false
                }, 
                "deletable": true
            }, 
            "outputs": [], 
            "source": "recipes.head()"
        }, 
        {
            "source": "Get the dimensions of the dataframe.", 
            "cell_type": "markdown", 
            "metadata": {
                "button": false, 
                "new_sheet": false, 
                "run_control": {
                    "read_only": false
                }, 
                "deletable": true
            }
        }, 
        {
            "execution_count": null, 
            "cell_type": "code", 
            "metadata": {
                "button": false, 
                "new_sheet": false, 
                "collapsed": true, 
                "run_control": {
                    "read_only": false
                }, 
                "deletable": true
            }, 
            "outputs": [], 
            "source": "recipes.shape"
        }, 
        {
            "source": "So our dataset consists of 57,691 recipes. Each row represents a recipe, and for each recipe, the corresponding cuisine is documented as well as whether 384 ingredients exist in the recipe or not, beginning with almond and ending with zucchini.", 
            "cell_type": "markdown", 
            "metadata": {
                "button": false, 
                "new_sheet": false, 
                "run_control": {
                    "read_only": false
                }, 
                "deletable": true
            }
        }, 
        {
            "source": "We know that a basic sushi recipe includes the ingredients:\n* rice\n* soy sauce\n* wasabi\n* some fish/vegetables", 
            "cell_type": "markdown", 
            "metadata": {
                "button": false, 
                "new_sheet": false, 
                "run_control": {
                    "read_only": false
                }, 
                "deletable": true
            }
        }, 
        {
            "source": "Let's check that these ingredients exist in our dataframe:", 
            "cell_type": "markdown", 
            "metadata": {
                "button": false, 
                "new_sheet": false, 
                "run_control": {
                    "read_only": false
                }, 
                "deletable": true
            }
        }, 
        {
            "execution_count": null, 
            "cell_type": "code", 
            "metadata": {
                "button": false, 
                "new_sheet": false, 
                "collapsed": true, 
                "run_control": {
                    "read_only": false
                }, 
                "deletable": true
            }, 
            "outputs": [], 
            "source": "ingredients = list(recipes.columns.values)\n\nprint([match.group(0) for ingredient in ingredients for match in [(re.compile(\".*(rice).*\")).search(ingredient)] if match])\nprint([match.group(0) for ingredient in ingredients for match in [(re.compile(\".*(wasabi).*\")).search(ingredient)] if match])\nprint([match.group(0) for ingredient in ingredients for match in [(re.compile(\".*(soy).*\")).search(ingredient)] if match])"
        }, 
        {
            "source": "Yes, they do!\n\n* rice exists as rice.\n* wasabi exists as wasabi.\n* soy exists as soy_sauce.\n\nSo maybe if a recipe contains all three ingredients: rice, wasabi, and soy_sauce, then we can confidently say that the recipe is a **Japanese** cuisine! Let's keep this in mind!\n\n----------------", 
            "cell_type": "markdown", 
            "metadata": {
                "button": false, 
                "new_sheet": false, 
                "run_control": {
                    "read_only": false
                }, 
                "deletable": true
            }
        }, 
        {
            "source": "# Data Preparation <a id=\"4\"></a>", 
            "cell_type": "markdown", 
            "metadata": {
                "button": false, 
                "new_sheet": false, 
                "run_control": {
                    "read_only": false
                }, 
                "deletable": true
            }
        }, 
        {
            "source": "<img src=\"https://ibm.box.com/shared/static/lqc2j3r0ndhokh77mubohwjqybzf8dhk.png\" width=500>", 
            "cell_type": "markdown", 
            "metadata": {
                "button": false, 
                "new_sheet": false, 
                "run_control": {
                    "read_only": false
                }, 
                "deletable": true
            }
        }, 
        {
            "source": "In this section, we will prepare data for the next stage in the data science methodology, which is modeling. This stage involves exploring the data further and making sure that it is in the right format for the machine learning algorithm that we selected in the analytic approach stage, which is decision trees.", 
            "cell_type": "markdown", 
            "metadata": {
                "button": false, 
                "new_sheet": false, 
                "run_control": {
                    "read_only": false
                }, 
                "deletable": true
            }
        }, 
        {
            "source": "First, look at the data to see if it needs cleaning.", 
            "cell_type": "markdown", 
            "metadata": {
                "button": false, 
                "new_sheet": false, 
                "run_control": {
                    "read_only": false
                }, 
                "deletable": true
            }
        }, 
        {
            "execution_count": null, 
            "cell_type": "code", 
            "metadata": {
                "button": false, 
                "new_sheet": false, 
                "collapsed": true, 
                "run_control": {
                    "read_only": false
                }, 
                "deletable": true
            }, 
            "outputs": [], 
            "source": "recipes[\"country\"].value_counts() # frequency table"
        }, 
        {
            "source": "By looking at the above table, we can make the following observations:\n\n1. Cuisine column is labeled as Country, which is inaccurate.\n2. Cuisine names are not consistent as not all of them start with an uppercase first letter.\n3. Some cuisines are duplicated as variation of the country name, such as Vietnam and Vietnamese.\n4. Some cuisines have very few recipes.", 
            "cell_type": "markdown", 
            "metadata": {
                "button": false, 
                "new_sheet": false, 
                "run_control": {
                    "read_only": false
                }, 
                "deletable": true
            }
        }, 
        {
            "source": "#### Let's fixes these problems.", 
            "cell_type": "markdown", 
            "metadata": {
                "button": false, 
                "new_sheet": false, 
                "run_control": {
                    "read_only": false
                }, 
                "deletable": true
            }
        }, 
        {
            "source": "Fix the name of the column showing the cuisine.", 
            "cell_type": "markdown", 
            "metadata": {
                "button": false, 
                "new_sheet": false, 
                "run_control": {
                    "read_only": false
                }, 
                "deletable": true
            }
        }, 
        {
            "execution_count": null, 
            "cell_type": "code", 
            "metadata": {
                "button": false, 
                "new_sheet": false, 
                "collapsed": true, 
                "run_control": {
                    "read_only": false
                }, 
                "deletable": true
            }, 
            "outputs": [], 
            "source": "column_names = recipes.columns.values\ncolumn_names[0] = \"cuisine\"\nrecipes.columns = column_names\n\nrecipes"
        }, 
        {
            "source": "Make all the cuisine names lowercase.", 
            "cell_type": "markdown", 
            "metadata": {
                "button": false, 
                "new_sheet": false, 
                "run_control": {
                    "read_only": false
                }, 
                "deletable": true
            }
        }, 
        {
            "execution_count": null, 
            "cell_type": "code", 
            "metadata": {
                "button": false, 
                "new_sheet": false, 
                "collapsed": true, 
                "run_control": {
                    "read_only": false
                }, 
                "deletable": true
            }, 
            "outputs": [], 
            "source": "recipes[\"cuisine\"] = recipes[\"cuisine\"].str.lower()"
        }, 
        {
            "source": "Make the cuisine names consistent.", 
            "cell_type": "markdown", 
            "metadata": {
                "button": false, 
                "new_sheet": false, 
                "run_control": {
                    "read_only": false
                }, 
                "deletable": true
            }
        }, 
        {
            "execution_count": null, 
            "cell_type": "code", 
            "metadata": {
                "button": false, 
                "new_sheet": false, 
                "collapsed": true, 
                "run_control": {
                    "read_only": false
                }, 
                "deletable": true
            }, 
            "outputs": [], 
            "source": "recipes.loc[recipes[\"cuisine\"] == \"austria\", \"cuisine\"] = \"austrian\"\nrecipes.loc[recipes[\"cuisine\"] == \"belgium\", \"cuisine\"] = \"belgian\"\nrecipes.loc[recipes[\"cuisine\"] == \"china\", \"cuisine\"] = \"chinese\"\nrecipes.loc[recipes[\"cuisine\"] == \"canada\", \"cuisine\"] = \"canadian\"\nrecipes.loc[recipes[\"cuisine\"] == \"netherlands\", \"cuisine\"] = \"dutch\"\nrecipes.loc[recipes[\"cuisine\"] == \"france\", \"cuisine\"] = \"french\"\nrecipes.loc[recipes[\"cuisine\"] == \"germany\", \"cuisine\"] = \"german\"\nrecipes.loc[recipes[\"cuisine\"] == \"india\", \"cuisine\"] = \"indian\"\nrecipes.loc[recipes[\"cuisine\"] == \"indonesia\", \"cuisine\"] = \"indonesian\"\nrecipes.loc[recipes[\"cuisine\"] == \"iran\", \"cuisine\"] = \"iranian\"\nrecipes.loc[recipes[\"cuisine\"] == \"italy\", \"cuisine\"] = \"italian\"\nrecipes.loc[recipes[\"cuisine\"] == \"japan\", \"cuisine\"] = \"japanese\"\nrecipes.loc[recipes[\"cuisine\"] == \"israel\", \"cuisine\"] = \"jewish\"\nrecipes.loc[recipes[\"cuisine\"] == \"korea\", \"cuisine\"] = \"korean\"\nrecipes.loc[recipes[\"cuisine\"] == \"lebanon\", \"cuisine\"] = \"lebanese\"\nrecipes.loc[recipes[\"cuisine\"] == \"malaysia\", \"cuisine\"] = \"malaysian\"\nrecipes.loc[recipes[\"cuisine\"] == \"mexico\", \"cuisine\"] = \"mexican\"\nrecipes.loc[recipes[\"cuisine\"] == \"pakistan\", \"cuisine\"] = \"pakistani\"\nrecipes.loc[recipes[\"cuisine\"] == \"philippines\", \"cuisine\"] = \"philippine\"\nrecipes.loc[recipes[\"cuisine\"] == \"scandinavia\", \"cuisine\"] = \"scandinavian\"\nrecipes.loc[recipes[\"cuisine\"] == \"spain\", \"cuisine\"] = \"spanish_portuguese\"\nrecipes.loc[recipes[\"cuisine\"] == \"portugal\", \"cuisine\"] = \"spanish_portuguese\"\nrecipes.loc[recipes[\"cuisine\"] == \"switzerland\", \"cuisine\"] = \"swiss\"\nrecipes.loc[recipes[\"cuisine\"] == \"thailand\", \"cuisine\"] = \"thai\"\nrecipes.loc[recipes[\"cuisine\"] == \"turkey\", \"cuisine\"] = \"turkish\"\nrecipes.loc[recipes[\"cuisine\"] == \"vietnam\", \"cuisine\"] = \"vietnamese\"\nrecipes.loc[recipes[\"cuisine\"] == \"uk-and-ireland\", \"cuisine\"] = \"uk-and-irish\"\nrecipes.loc[recipes[\"cuisine\"] == \"irish\", \"cuisine\"] = \"uk-and-irish\"\n\nrecipes"
        }, 
        {
            "source": "Remove cuisines with < 50 recipes.", 
            "cell_type": "markdown", 
            "metadata": {
                "button": false, 
                "new_sheet": false, 
                "run_control": {
                    "read_only": false
                }, 
                "deletable": true
            }
        }, 
        {
            "execution_count": null, 
            "cell_type": "code", 
            "metadata": {
                "button": false, 
                "new_sheet": false, 
                "collapsed": true, 
                "run_control": {
                    "read_only": false
                }, 
                "deletable": true
            }, 
            "outputs": [], 
            "source": "# get list of cuisines to keep\nrecipes_counts = recipes[\"cuisine\"].value_counts()\ncuisines_indices = recipes_counts > 50\n\ncuisines_to_keep = list(np.array(recipes_counts.index.values)[np.array(cuisines_indices)])"
        }, 
        {
            "execution_count": null, 
            "cell_type": "code", 
            "metadata": {
                "button": false, 
                "new_sheet": false, 
                "collapsed": true, 
                "run_control": {
                    "read_only": false
                }, 
                "deletable": true
            }, 
            "outputs": [], 
            "source": "rows_before = recipes.shape[0] # number of rows of original dataframe\nprint(\"Number of rows of original dataframe is {}.\".format(rows_before))\n\nrecipes = recipes.loc[recipes['cuisine'].isin(cuisines_to_keep)]\n\nrows_after = recipes.shape[0] # number of rows of processed dataframe\nprint(\"Number of rows of processed dataframe is {}.\".format(rows_after))\n\nprint(\"{} rows removed!\".format(rows_before - rows_after))"
        }, 
        {
            "source": "Convert all Yes's to 1's and the No's to 0's", 
            "cell_type": "markdown", 
            "metadata": {
                "button": false, 
                "new_sheet": false, 
                "run_control": {
                    "read_only": false
                }, 
                "deletable": true
            }
        }, 
        {
            "execution_count": null, 
            "cell_type": "code", 
            "metadata": {
                "button": false, 
                "new_sheet": false, 
                "collapsed": true, 
                "run_control": {
                    "read_only": false
                }, 
                "deletable": true
            }, 
            "outputs": [], 
            "source": "recipes = recipes.replace(to_replace=\"Yes\", value=1)\nrecipes = recipes.replace(to_replace=\"No\", value=0)"
        }, 
        {
            "source": "#### Let's analyze the data a little more in order to learn the data better and note any interesting preliminary observations.", 
            "cell_type": "markdown", 
            "metadata": {
                "button": false, 
                "new_sheet": false, 
                "run_control": {
                    "read_only": false
                }, 
                "deletable": true
            }
        }, 
        {
            "source": "Run the following cell to get the recipes that contain **rice** *and* **soy** *and* **wasabi** *and* **seaweed**.", 
            "cell_type": "markdown", 
            "metadata": {
                "button": false, 
                "new_sheet": false, 
                "run_control": {
                    "read_only": false
                }, 
                "deletable": true
            }
        }, 
        {
            "execution_count": null, 
            "cell_type": "code", 
            "metadata": {
                "button": false, 
                "new_sheet": false, 
                "collapsed": true, 
                "run_control": {
                    "read_only": false
                }, 
                "deletable": true
            }, 
            "outputs": [], 
            "source": "recipes.head()"
        }, 
        {
            "execution_count": null, 
            "cell_type": "code", 
            "metadata": {
                "button": false, 
                "new_sheet": false, 
                "collapsed": true, 
                "run_control": {
                    "read_only": false
                }, 
                "deletable": true
            }, 
            "outputs": [], 
            "source": "check_recipes = recipes.loc[\n    (recipes[\"rice\"] == 1) &\n    (recipes[\"soy_sauce\"] == 1) &\n    (recipes[\"wasabi\"] == 1) &\n    (recipes[\"seaweed\"] == 1)\n]\n\ncheck_recipes"
        }, 
        {
            "source": "Based on the results of the above code, can we classify all recipes that contain **rice** *and* **soy** *and* **wasabi** *and* **seaweed** as **Japanese** recipes? Why?", 
            "cell_type": "markdown", 
            "metadata": {
                "button": false, 
                "new_sheet": false, 
                "run_control": {
                    "read_only": false
                }, 
                "deletable": true
            }
        }, 
        {
            "source": "Your Answer:", 
            "cell_type": "raw", 
            "metadata": {
                "button": false, 
                "new_sheet": false, 
                "run_control": {
                    "read_only": false
                }, 
                "deletable": true
            }
        }, 
        {
            "source": "Double-click __here__ for the solution.\n<!-- The correct answer is:\nNo, because other recipes such as Asian and East_Asian recipes also contain these ingredients.\n-->", 
            "cell_type": "markdown", 
            "metadata": {
                "button": false, 
                "new_sheet": false, 
                "run_control": {
                    "read_only": false
                }, 
                "deletable": true
            }
        }, 
        {
            "source": "Let's count the ingredients across all recipes.", 
            "cell_type": "markdown", 
            "metadata": {
                "button": false, 
                "new_sheet": false, 
                "run_control": {
                    "read_only": false
                }, 
                "deletable": true
            }
        }, 
        {
            "execution_count": null, 
            "cell_type": "code", 
            "metadata": {
                "scrolled": false, 
                "deletable": true, 
                "button": false, 
                "new_sheet": false, 
                "run_control": {
                    "read_only": false
                }, 
                "collapsed": true
            }, 
            "outputs": [], 
            "source": "# sum each column\ning = recipes.iloc[:, 1:].sum(axis=0)"
        }, 
        {
            "execution_count": null, 
            "cell_type": "code", 
            "metadata": {
                "button": false, 
                "new_sheet": false, 
                "collapsed": true, 
                "run_control": {
                    "read_only": false
                }, 
                "deletable": true
            }, 
            "outputs": [], 
            "source": "# define each column as a pandas series\ningredient = pd.Series(ing.index.values, index = np.arange(len(ing)))\ncount = pd.Series(list(ing), index = np.arange(len(ing)))\n\n# create the dataframe\ning_df = pd.DataFrame(dict(ingredient = ingredient, count = count))\ning_df = ing_df[[\"ingredient\", \"count\"]]\nprint(ing_df.to_string())"
        }, 
        {
            "source": "Now we have a dataframe of ingredients and their total counts across all recipes. Let's sort this dataframe in descending order.", 
            "cell_type": "markdown", 
            "metadata": {
                "button": false, 
                "new_sheet": false, 
                "run_control": {
                    "read_only": false
                }, 
                "deletable": true
            }
        }, 
        {
            "execution_count": null, 
            "cell_type": "code", 
            "metadata": {
                "button": false, 
                "new_sheet": false, 
                "collapsed": true, 
                "run_control": {
                    "read_only": false
                }, 
                "deletable": true
            }, 
            "outputs": [], 
            "source": "ing_df.sort_values([\"count\"], ascending=False, inplace=True)\ning_df.reset_index(inplace=True, drop=True)\n\nprint(ing_df)"
        }, 
        {
            "source": "#### What are the 3 most popular ingredients?", 
            "cell_type": "markdown", 
            "metadata": {
                "button": false, 
                "new_sheet": false, 
                "run_control": {
                    "read_only": false
                }, 
                "deletable": true
            }
        }, 
        {
            "source": "Your Answer:\n1.\n\n2.\n\n3.", 
            "cell_type": "raw", 
            "metadata": {
                "button": false, 
                "new_sheet": false, 
                "run_control": {
                    "read_only": false
                }, 
                "deletable": true
            }
        }, 
        {
            "source": "Double-click __here__ for the solution.\n<!-- The correct answer is:\n// 1. Egg with <strong>21,025</strong> occurrences. \n// 2. Wheat with <strong>20,781</strong> occurrences. \n// 3. Butter with <strong>20,719</strong> occurrences.\n-->", 
            "cell_type": "markdown", 
            "metadata": {
                "button": false, 
                "new_sheet": false, 
                "run_control": {
                    "read_only": false
                }, 
                "deletable": true
            }
        }, 
        {
            "source": "However, note that there is a problem with the above table. There are ~40,000 American recipes in our dataset, which means that the data is biased towards American ingredients.", 
            "cell_type": "markdown", 
            "metadata": {
                "button": false, 
                "new_sheet": false, 
                "run_control": {
                    "read_only": false
                }, 
                "deletable": true
            }
        }, 
        {
            "source": "**Therefore**, let's compute a more objective summary of the ingredients by looking at the ingredients per cuisine.", 
            "cell_type": "markdown", 
            "metadata": {
                "button": false, 
                "new_sheet": false, 
                "run_control": {
                    "read_only": false
                }, 
                "deletable": true
            }
        }, 
        {
            "source": "#### Let's create a *profile* for each cuisine.\n\nIn other words, let's try to find out what ingredients Chinese people typically use, and what is **Canadian** food for example.", 
            "cell_type": "markdown", 
            "metadata": {
                "button": false, 
                "new_sheet": false, 
                "run_control": {
                    "read_only": false
                }, 
                "deletable": true
            }
        }, 
        {
            "execution_count": null, 
            "cell_type": "code", 
            "metadata": {
                "button": false, 
                "new_sheet": false, 
                "collapsed": true, 
                "run_control": {
                    "read_only": false
                }, 
                "deletable": true
            }, 
            "outputs": [], 
            "source": "cuisines = recipes.groupby(\"cuisine\").mean()\ncuisines.head()"
        }, 
        {
            "source": "As shown above, we have just created a dataframe where each row is a cuisine and each column (except for the first column) is an ingredient, and the row values represent the percentage of each ingredient in the corresponding cuisine.\n\n**For example**:\n\n* *almond* is present across 15.65% of all of the **African** recipes.\n* *butter* is present across 38.11% of all of the **Canadian** recipes.", 
            "cell_type": "markdown", 
            "metadata": {
                "button": false, 
                "new_sheet": false, 
                "run_control": {
                    "read_only": false
                }, 
                "deletable": true
            }
        }, 
        {
            "source": "Let's print out the profile for each cuisine by displaying the top four ingredients in each cuisine.", 
            "cell_type": "markdown", 
            "metadata": {
                "button": false, 
                "new_sheet": false, 
                "run_control": {
                    "read_only": false
                }, 
                "deletable": true
            }
        }, 
        {
            "execution_count": null, 
            "cell_type": "code", 
            "metadata": {
                "button": false, 
                "new_sheet": false, 
                "collapsed": true, 
                "run_control": {
                    "read_only": false
                }, 
                "deletable": true
            }, 
            "outputs": [], 
            "source": "num_ingredients = 4 # define number of top ingredients to print\n\n# define a function that prints the top ingredients for each cuisine\ndef print_top_ingredients(row):\n    print(row.name.upper())\n    row_sorted = row.sort_values(ascending=False)*100\n    top_ingredients = list(row_sorted.index.values)[0:num_ingredients]\n    row_sorted = list(row_sorted)[0:num_ingredients]\n\n    for ind, ingredient in enumerate(top_ingredients):\n        print(\"%s (%d%%)\" % (ingredient, row_sorted[ind]), end=' ')\n    print(\"\\n\")\n\n# apply function to cuisines dataframe\ncreate_cuisines_profiles = cuisines.apply(print_top_ingredients, axis=1)"
        }, 
        {
            "source": "At this point, we feel that we have understood the data well and the data is ready and is in the right format for modeling!\n\n-----------", 
            "cell_type": "markdown", 
            "metadata": {
                "button": false, 
                "new_sheet": false, 
                "run_control": {
                    "read_only": false
                }, 
                "deletable": true
            }
        }, 
        {
            "source": "### Thank you for completing this lab!\n\nThis notebook was created by [Alex Aklson](https://www.linkedin.com/in/aklson/). We hope you found this lab session interesting. Feel free to contact us if you have any questions!", 
            "cell_type": "markdown", 
            "metadata": {
                "button": false, 
                "new_sheet": false, 
                "run_control": {
                    "read_only": false
                }, 
                "deletable": true
            }
        }, 
        {
            "source": "This notebook is part of the free course on **Cognitive Class** called *Data Science Methodology*. If you accessed this notebook outside the course, you can take this free self-paced course, online by clicking [here](https://cocl.us/DS0103EN_LAB3_PYTHON).", 
            "cell_type": "markdown", 
            "metadata": {
                "button": false, 
                "new_sheet": false, 
                "run_control": {
                    "read_only": false
                }, 
                "deletable": true
            }
        }, 
        {
            "source": "<hr>\nCopyright &copy; 2018 [Cognitive Class](https://cognitiveclass.ai/?utm_source=bducopyrightlink&utm_medium=dswb&utm_campaign=bdu). This notebook and its source code are released under the terms of the [MIT License](https://bigdatauniversity.com/mit-license/).", 
            "cell_type": "markdown", 
            "metadata": {
                "button": false, 
                "new_sheet": false, 
                "run_control": {
                    "read_only": false
                }, 
                "deletable": true
            }
        }
    ], 
    "metadata": {
        "kernelspec": {
            "display_name": "Python 3", 
            "name": "python3", 
            "language": "python"
        }, 
        "widgets": {
            "state": {}, 
            "version": "1.1.2"
        }, 
        "language_info": {
            "mimetype": "text/x-python", 
            "nbconvert_exporter": "python", 
            "version": "3.6.4", 
            "name": "python", 
            "file_extension": ".py", 
            "pygments_lexer": "ipython3", 
            "codemirror_mode": {
                "version": 3, 
                "name": "ipython"
            }
        }
    }, 
    "nbformat": 4
}